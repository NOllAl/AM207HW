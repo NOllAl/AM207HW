{
 "cells": [
  {
   "cell_type": "markdown",
   "metadata": {},
   "source": [
    "# Homework 4\n",
    "\n",
    "**Harvard University**<br>\n",
    "**Fall 2018**<br>\n",
    "**Instructors: Rahul Dave**<br>\n",
    "**Due Date: ** Saturday, October 6th, 2018 at 11:59pm\n",
    "\n",
    "**Instructions:**\n",
    "\n",
    "- Upload your final answers in the form of a Jupyter notebook containing all work to Canvas.\n",
    "\n",
    "- Structure your notebook and your work to maximize readability."
   ]
  },
  {
   "cell_type": "markdown",
   "metadata": {},
   "source": [
    "### Collaborators\n",
    "\n",
    "** Place the name of everyone who's submitting this assignment here**\n",
    "\n",
    "Karama Tarap\n",
    "\n",
    "Alexander Noll"
   ]
  },
  {
   "cell_type": "markdown",
   "metadata": {},
   "source": [
    "<div class=\"answer-separator\">\n",
    "------------------------\n",
    "</div>"
   ]
  },
  {
   "cell_type": "code",
   "execution_count": 1,
   "metadata": {
    "collapsed": true
   },
   "outputs": [],
   "source": [
    "import numpy as np\n",
    "import scipy.stats\n",
    "import scipy.special\n",
    "\n",
    "import matplotlib\n",
    "import matplotlib.pyplot as plt\n",
    "import matplotlib.mlab as mlab\n",
    "from matplotlib import cm\n",
    "import pandas as pd\n",
    "import seaborn as sns\n",
    "%matplotlib inline"
   ]
  },
  {
   "cell_type": "markdown",
   "metadata": {},
   "source": [
    "## Question 1: Rubber Chickens Bawk Bawk!\n",
    "\n",
    "In the competitive rubber chicken retail market, the success of a company is built on satisfying the exacting standards of a consumer base with refined and discriminating taste. In particular, customer product reviews are all important. But how should we judge the quality of a product based on customer reviews?\n",
    "\n",
    "On Amazon, the first customer review statistic displayed for a product is the ***average rating***. The following are the main product pages for two competing rubber chicken products, manufactured by Lotus World and Toysmith respectively:\n",
    "\n",
    "\n",
    "Lotus World |  Toysmith\n",
    "- |  - \n",
    "![alt](https://am207.github.io/2018fall/homeworks/lotus1.png) |  ![alt](https://am207.github.io/2018fall/homeworks/toysmith1.png)\n",
    "\n",
    "Clicking on the 'customer review' link on the product pages takes us to a detailed break-down of the reviews. In particular, we can now see the number of times a product is rated a given rating (between 1 and 5 stars).\n",
    "\n",
    "Lotus World |  Toysmith\n",
    "- |  - \n",
    "![alt](https://am207.github.io/2018fall/homeworks/lotus2.png) |  ![alt](https://am207.github.io/2018fall/homeworks/toysmith2.png)\n",
    "\n",
    "(The images above are also included on canvas in case you are offline, see below)\n",
    "\n",
    "In the following, we will ask you to compare these two products using the various rating statistics. **Larger versions of the images are available in the data set accompanying this notebook**.\n",
    "\n",
    "Suppose that for each product, we can model the probability of the value each new rating as the following vector:\n",
    "$$\n",
    "\\theta = [\\theta_1, \\theta_2, \\theta_3, \\theta_4, \\theta_5]\n",
    "$$\n",
    "where $\\theta_i$ is the probability that a given customer will give the product $i$ number of stars.\n",
    "\n",
    "\n",
    "1.1. Suppose you are told that customer opinions are very polarized in the retail world of rubber chickens, that is, most reviews will be 5 stars or 1 stars (with little middle ground). Choose an appropriate Dirichlet prior for $\\theta$. Recall that the Dirichlet pdf is given by:\n",
    "$$\n",
    "f_{\\Theta}(\\theta) = \\frac{1}{B(\\alpha)} \\prod_{i=1}^k \\theta_i^{\\alpha_i - 1}, \\quad B(\\alpha) = \\frac{\\prod_{i=1}^k\\Gamma(\\alpha_i)}{\\Gamma\\left(\\sum_{i=1}^k\\alpha_i\\right)},\n",
    "$$\n",
    "where $\\theta_i \\in (0, 1)$ and $\\sum_{i=1}^k \\theta_i = 1$, $\\alpha_i > 0 $ for $i = 1, \\ldots, k$.\n",
    "\n",
    "1.2. Write an expression for the posterior pdf, using a using a multinomial model for observed ratings. Recall that the multinomial pdf is given by:\n",
    "$$\n",
    "f_{\\mathbf{X}\\vert  \\Theta}(\\mathbf{x}) = \\frac{n!}{x_1! \\ldots x_k!} \\theta_1^{x_1} \\ldots \\theta_k^{x_k}\n",
    "$$\n",
    "where $n$ is the total number of trials, $\\theta_i$ is the probability of event $i$ and $\\sum_i \\theta_i = 1$, and $x_i$ is count of outcome $i$ and $\\sum_i x_i = n$. \n",
    "\n",
    "  **Note:** The data you will need in order to define the likelihood function should be read off the image files included in the dataset.\n",
    "  \n",
    "\n",
    "1.3. Sample 1,000 values of $\\theta$ from the *posterior distribution*.\n",
    " \n",
    "1.4. Sample 1,000 values of $x$ from the *posterior predictive distribution*.\n",
    "\n",
    "1.5. Name at least two major potential problems with using only the average customer ratings to compare products.\n",
    "\n",
    "  (**Hint:** if product 1 has a higher average rating than product 2, can we conclude that product 1 is better liked? If product 1 and product 2 have the same average rating, can we conclude that they are equally good?)\n",
    "  \n",
    "\n",
    "1.6. Using the samples from your *posterior distribution*, determine which rubber chicken product is superior. Justify your conclusion with sample statistics.\n",
    "\n",
    "1.7. Using the samples from your *posterior predictive distribution*, determine which rubber chicken product is superior. Justify your conclusion with sample statistics.\n",
    "\n",
    "1.8. Finally, which rubber chicken product is superior?\n",
    "\n",
    "  (**Note:** we're not looking for \"the correct answer\" here, any sound decision based on a statistically correct interpretation of your model will be fine)"
   ]
  },
  {
   "cell_type": "markdown",
   "metadata": {},
   "source": [
    "**1.1. Suppose you are told that customer opinions are very polarized in the retail world of rubber chickens, that is, most reviews will be 5 stars or 1 stars (with little middle ground). Choose an appropriate Dirichlet prior for $\\theta$. Recall that the Dirichlet pdf is given by:\n",
    "$$\n",
    "f_{\\Theta}(\\theta) = \\frac{1}{B(\\alpha)} \\prod_{i=1}^k \\theta_i^{\\alpha_i - 1}, \\quad B(\\alpha) = \\frac{\\prod_{i=1}^k\\Gamma(\\alpha_i)}{\\Gamma\\left(\\sum_{i=1}^k\\alpha_i\\right)},\n",
    "$$\n",
    "where $\\theta_i \\in (0, 1)$ and $\\sum_{i=1}^k \\theta_i = 1$, $\\alpha_i > 0 $ for $i = 1, \\ldots, k$.**"
   ]
  },
  {
   "cell_type": "code",
   "execution_count": 30,
   "metadata": {
    "collapsed": true
   },
   "outputs": [],
   "source": [
    "dirichlet = scipy.stats.dirichlet(alpha=[0.5, 0.1, 0.05, 0.1, 0.5])"
   ]
  },
  {
   "cell_type": "code",
   "execution_count": 29,
   "metadata": {},
   "outputs": [
    {
     "data": {
      "text/plain": [
       "717.9482457691046"
      ]
     },
     "execution_count": 29,
     "metadata": {},
     "output_type": "execute_result"
    }
   ],
   "source": [
    "dirichlet.pdf(x=[0.48, 0.01, 0.01, 0.01, 0.49])"
   ]
  },
  {
   "cell_type": "markdown",
   "metadata": {},
   "source": [
    "## Question 2: He Who is Not Courageous Enough to Take Risks Will Accomplish Nothing In Life\n",
    "\n",
    "**No Coding required**\n",
    "\n",
    "Consider a setting where the feature and label space are $\\mathcal{X} = \\mathcal{Y} = [0, 1]$.    In this exercise we will consider both the square loss and the absolute loss, namely:\n",
    "\n",
    "$$ \\mathbb{l}_{sq}(y_1, y_2) = (y_1 - y_2)^2 $$\n",
    "$$ \\mathbb{l}_{abs}(y_1, y_2) = \\left \\vert y_1 - y_2 \\right \\vert $$\n",
    "\n",
    "\n",
    "Let (X, Y) be random, with the following with joint probability density $p_{XY}(x, y) = 2y$, where $x, y \\ \\in \\  [0, 1]$.  We define **statistical risk** as follows:\n",
    "\n",
    "**Definition (Statistical Risk)** For a prediction rule $f$ and a joint distribution of features and labels $P_{XY}$ the statistical risk $\\mathcal{R}(f)$ of $f$ is defined as \n",
    "\n",
    "$$\\mathcal{R}(f) \\equiv \\mathbb{E}_{XY}\\left[\\mathbb{l}(f(X),Y)\\ \\vert \\ f \\right]$$,\n",
    "\n",
    "where $(X, Y) \\sim P_{XY}$.  The conditional statement ensures the definition is sensible even if $f$ is a random quantity.\n"
   ]
  },
  {
   "cell_type": "markdown",
   "metadata": {},
   "source": [
    "**2.1. Show that in this case $X$ and $Y$ are independent, meaning the feature $X$ carries no information about Y.**"
   ]
  },
  {
   "cell_type": "markdown",
   "metadata": {},
   "source": [
    "The definition of independence is that $P_{XY}(x, y) = P_X(x) P_Y(y)$. Here $P_X$ and $P_Y$ are the *marginal distribution*, respectively. This property is straightforward to prove (and actually \"clear by inspection\"):\n",
    "\n",
    "$$\n",
    "P_Y(y) = \\int_0^1 P_{XY}(x, y) dx = \\int_0^1 2y dx = 2y\n",
    "$$\n",
    "\n",
    "$$\n",
    "P_X(x) = \\int_0^1P_{XY}(x, y)dy = \\int_0^1 2y dy = 1 \\:.\n",
    "$$\n",
    "\n",
    "These two functions clearly satisfy the property of independence."
   ]
  },
  {
   "cell_type": "markdown",
   "metadata": {},
   "source": [
    "**2.2. What is the risk of prediction rule $f(x) = \\frac{1}{2}$ according to the two loss functions?**"
   ]
  },
  {
   "cell_type": "markdown",
   "metadata": {},
   "source": [
    "Let us start by calculating $\\mathbb l_{sq}$ for this prediction rule:\n",
    "\n",
    "$$ \n",
    "\\mathcal R_f^{l_2} = \\int_0^1 \\int_0^1 \\left(y - \\frac{1}{2}\\right) ^ 2 2 ydx dy = \\\\ \n",
    "= \\int_0^1 \\left(y - \\frac{1}{2}\\right) ^ 2 2 ydy = \\\\ \n",
    "= \\int_0^1 \\left( \\frac{1}{4} - y + y ^ 2 \\right) 2y dy = \\\\\n",
    "= \\int_0^1 \\left(\\frac{y}{2} - 2 y ^ 2 + 2 y ^ 3 \\right) dy = \\\\\n",
    "=\\left(\\frac{y^2}{4} - \\frac{2y^3}{3} + \\frac{2y^4}{4}\\right)\\biggr\\rvert_0^1 = \\\\\n",
    "= \\frac{1}{4} - \\frac{2}{3} + \\frac{1}{2} = \\frac{1}{12}\n",
    "$$"
   ]
  },
  {
   "cell_type": "markdown",
   "metadata": {},
   "source": [
    "Next, the absolute loss:\n",
    "\n",
    "$$ \n",
    "\\mathcal R_f^{abs} = \\int_0^1 \\lvert\\frac{1}{2} - y\\rvert 2y dx = \\\\\n",
    "= \\int_0^{1/2}\\left(\\frac{1}{2}-y\\right) 2y dy + \\int_{1/2}^1\\left(y - \\frac{1}{2}\\right)2y dy = \\\\\n",
    "= \\int_0^{1/2}\\left(y-2y^2\\right) dy + \\int_{1/2}^1\\left(2y^2-y\\right)dy = \\\\\n",
    "= \\left(\\frac{y^2}{2} - \\frac{2y^3}{3}\\right)\\biggr\\rvert_0^{1/2} + \\left(\\frac{2y^3}{3}-\\frac{y^2}{2}\\right)\\biggr\\rvert_{1/2}^1 = \\\\\n",
    "= \\frac{1}{4}\\frac{1}{2} - \\frac{2}{8\\times 3} - \\frac{2}{8\\times 3} + \\frac{1}{4}\\frac{1}{2} + \\frac{2}{3} - \\frac{1}{2} = \\\\\n",
    "= \\frac{1}{4}\n",
    "$$"
   ]
  },
  {
   "cell_type": "markdown",
   "metadata": {},
   "source": [
    "**2.3. What is the risk of the prediction rule $f^*(x) = \\frac{1}{\\sqrt{2}}$ according to the two loss functions?**"
   ]
  },
  {
   "cell_type": "markdown",
   "metadata": {},
   "source": [
    "$$ \n",
    "\\mathcal R_{f^*}^{l_2} = \\int_0^1 \\int_0^1 \\left(y - \\frac{1}{\\sqrt 2}\\right) ^ 2 2 ydx dy = \\\\ \n",
    "= \\int_0^1 \\left(y - \\frac{1}{\\sqrt 2}\\right) ^ 2 2 ydy = \\\\ \n",
    "= \\int_0^1 \\left( \\frac{1}{2} - \\sqrt 2 y + y ^ 2 \\right) 2y dy = \\\\\n",
    "= \\int_0^1 \\left(y - 2 \\sqrt 2 y ^ 2 + 2 y ^ 3 \\right) dy = \\\\\n",
    "=\\left(\\frac{y^2}{2} - \\frac{2 \\sqrt 2 y^3}{3} + \\frac{2y^4}{4}\\right)\\biggr\\rvert_0^1 = \\\\\n",
    "= \\frac{1}{2} - \\frac{2\\sqrt 2}{3} + \\frac{1}{2} = 1 - \\frac{2\\sqrt 2}{3}  \\approx 0.05719\n",
    "$$"
   ]
  },
  {
   "cell_type": "code",
   "execution_count": 73,
   "metadata": {},
   "outputs": [
    {
     "data": {
      "text/plain": [
       "0.05719095841793653"
      ]
     },
     "execution_count": 73,
     "metadata": {},
     "output_type": "execute_result"
    }
   ],
   "source": [
    "1-2*np.sqrt(2)/3"
   ]
  },
  {
   "cell_type": "markdown",
   "metadata": {},
   "source": [
    "Now, the absolute loss:\n",
    "\n",
    "$$ \n",
    "\\mathcal R_f^{abs} = \\int_0^1 \\lvert\\frac{1}{\\sqrt 2} - y\\rvert 2y dx = \\\\\n",
    "= \\int_0^{1/ \\sqrt 2}\\left(\\frac{1}{\\sqrt 2}-y\\right) 2y dy + \\int_{1/\\sqrt 2}^1\\left(y - \\frac{1}{\\sqrt 2}\\right)2y dy = \\\\\n",
    "= \\int_0^{1/\\sqrt 2}\\left(\\sqrt2 y-2y^2\\right) dy + \\int_{1/\\sqrt2}^1\\left(2y^2 - \\sqrt 2y\\right)dy = \\\\\n",
    "= \\left(\\frac{y^2 \\sqrt 2}{2} - \\frac{2y^3}{3}\\right)\\biggr\\rvert_0^{1/\\sqrt 2} + \\left(\\frac{2y^3}{3}-\\frac{y^2\\sqrt 2}{2}\\right)\\biggr\\rvert_{1/\\sqrt 2}^1 = \\\\\n",
    "= \\frac{\\sqrt 2}{2 \\times 2} - \\frac{2}{3}\\frac{1}{2^{3/2}} - \\frac{2}{3}\\frac{1}{2^{3/2}} + \\frac{\\sqrt 2}{2 \\times 2} + \\frac{2}{3} - \\frac{\\sqrt 2}{2} = \\\\\n",
    "= \\frac{2 - \\sqrt 2}{3} \\approx 0.195\n",
    "$$"
   ]
  },
  {
   "cell_type": "markdown",
   "metadata": {},
   "source": [
    "**2.4. Show that $f^*$ has actually the smallest absolute loss risk among all prediction rules.**"
   ]
  },
  {
   "cell_type": "markdown",
   "metadata": {},
   "source": [
    "**Hint (for 2.4):**\n",
    "\n",
    "    * In general the Bayes predictor according to the absolute value loss is the median of the conditional distribution of $Y$ given $X = x$."
   ]
  },
  {
   "cell_type": "markdown",
   "metadata": {},
   "source": [
    "Using the hint, it's easy to prove that $f^*$ has the smalles absolute loss risk amoung all prediction rules. We need to establish only that $f^*$ is the median. Note that the median is simply the value of $y$ at which the cumulative distribution function has a value of 0.5. So let's calculate the CDF:"
   ]
  },
  {
   "cell_type": "markdown",
   "metadata": {},
   "source": [
    "$$\n",
    "P_Y(y) = \\int_0^y p_Y(\\tilde y) d \\tilde y = \\\\\n",
    "= \\int_0^y 2\\tilde y d\\tilde y =\n",
    "y^2\n",
    "$$"
   ]
  },
  {
   "cell_type": "markdown",
   "metadata": {},
   "source": [
    "Now, we want that a $y$ such that $y^2 = \\frac{1}{2}$ or equivalently that $y=\\frac{1}{\\sqrt 2}$."
   ]
  },
  {
   "cell_type": "markdown",
   "metadata": {},
   "source": [
    "Let's actually prove the hint. We start by writing out the loss function:\n",
    "\n",
    "$$\n",
    "l(f^*) = \\int \\lvert x-f^*\\rvert p(x) dx = \\\\\n",
    "= \\int_{-\\infty}^{f^*} (f^* - x)p(x) dx + \\int_{f^*}^{\\infty}(x - f^*)p(x) dx = \\\\\n",
    "= \\int_{-\\infty}^{f^*}f^*p(x) dx - \\int_{-\\infty}^{f^*} xp(x) dx + \\int_{f^*}^{\\infty}x p(x)dx - \\int_{f^*}^{\\infty} f^* p(x) dx\n",
    "$$"
   ]
  },
  {
   "cell_type": "markdown",
   "metadata": {},
   "source": [
    "Now let's calculcate the derivative with respect to $f^*$:\n",
    "\n",
    "$$\n",
    "\\frac{d}{df^*} l(f^*) = \\frac{d}{df^*} f^* \\int_{-\\infty}^{f^*} p(x) dx - \\frac{d}{df^*} \\int_{-\\infty}^{f^*} xp(x) dx + \\frac{d}{df^*} \\int_{f^*}^{\\infty} xp(x) dx - \\frac{d}{df^*} f^* \\int_{f^*}^{\\infty} p(x) dx = \\\\\n",
    "= \\frac{d}{df^*} \\left[f^*\\left(2P(f^*) - 1 \\right) \\right] - 2 f^* p(f^*) = \\\\\n",
    "\\left(2 P(f^*) - 1\\right) + 2f^* p(f^*) - 2f^* p(f^*) = 2 P(f^*) - 1\n",
    "$$"
   ]
  },
  {
   "cell_type": "markdown",
   "metadata": {},
   "source": [
    "At the median, i.e. $P(f^*) = \\frac{1}{2}$, this expression is zero. Also, the second derivative is greater than or equal to zero, meaning that we have a minimum."
   ]
  },
  {
   "cell_type": "markdown",
   "metadata": {},
   "source": [
    "## Question 3: Maxwell's Demon Has a Wonderful Way of showing us What Really Matters\n",
    "\n",
    "**Some Coding required**"
   ]
  },
  {
   "cell_type": "markdown",
   "metadata": {},
   "source": [
    "**3.1. Find the entropy of the exponential probability density on support (0, $\\infty$) with mean $\\lambda$.**"
   ]
  },
  {
   "cell_type": "markdown",
   "metadata": {},
   "source": [
    "Recall that the pdf of the exponential distribution with mean $\\lambda$ is given by the following function $f(x)$:\n",
    "\n",
    "$$\n",
    "f(x) = \n",
    "\\begin{cases}\n",
    "\\frac{1}{\\lambda} e^{-x / \\lambda} \\quad \\text{if } x \\geq 0 \\\\\n",
    "0 \\quad \\quad\\:\\: \\text{if } x < 0\n",
    "\\end{cases}\n",
    "$$\n",
    "\n",
    "Also, recall the definition of entropy:\n",
    "\n",
    "$$\n",
    "S = \\int_x p(x) \\log p(x) dx\n",
    "$$"
   ]
  },
  {
   "cell_type": "markdown",
   "metadata": {},
   "source": [
    "In the case at hand, this gives:"
   ]
  },
  {
   "cell_type": "markdown",
   "metadata": {},
   "source": [
    "$$\n",
    "\\begin{multline}\n",
    "S = \\int_{-\\infty}^\\infty f(x) \\log f(x) dx =\n",
    "  \\int_0 ^ \\infty \\frac{1}{\\lambda} e^{- x / \\lambda} \\log\\left(\\frac{1}{\\lambda} e ^{- x/\\lambda}\\right)dx = \n",
    "  \\int_0 ^ \\infty \\frac{1}{\\lambda} e^{-x/\\lambda} \\left(\\log \\frac{1}{\\lambda} - x/\\lambda \\right) dx =\n",
    "  \\int_0 ^ \\infty \\frac{1}{\\lambda} e^{-x/\\lambda} \\log 1/\\lambda dx - \\int_0 ^ \\infty \\frac{1}{\\lambda} e^{-x/\\lambda} x/\\lambda dx \\\\\n",
    "  = \\log 1/\\lambda - 1\n",
    "\\end{multline}\n",
    "$$"
   ]
  },
  {
   "cell_type": "markdown",
   "metadata": {},
   "source": [
    "In the last equality, we used the $\\int f(x) dx = 1$ and that $\\int f(x) dx = \\lambda$."
   ]
  },
  {
   "cell_type": "markdown",
   "metadata": {},
   "source": [
    "**3.2. Show that the exponential distribution $p^*$ is the maximum entropy distribution on support (0, $\\infty$)  with specified mean $\\lambda$. That is to say prove that for any continuous probability density function $p(x)$ on (0, $\\infty$) with mean $\\lambda$ then the entropy h(p) <= h($p^*$) with equality if and only if p is also the exponential with mean $\\lambda$**"
   ]
  },
  {
   "cell_type": "markdown",
   "metadata": {},
   "source": [
    "Let $p(x)$ denote a pdf on $(0, \\infty)$ with mean $\\lambda$. As in the lecture, let us calculate the Kullback-Leibler divergence \n",
    "$$D_{KL}(p, p^*) = \\mathbb E_{p}\\log\\left(\\frac{p}{p^*}\\right) = H(p, p^*) - H(p) \\geq 0 \\:.$$"
   ]
  },
  {
   "cell_type": "markdown",
   "metadata": {},
   "source": [
    "We'll prove that $H(p, p^*) = H(p)$, which concludes the proof by the inequality above."
   ]
  },
  {
   "cell_type": "markdown",
   "metadata": {},
   "source": [
    "$$H(p, p^*) = \\mathbb E_p \\left[\\log p^*\\right] = \\mathbb E_p \\left[\\log 1/\\lambda - x/\\lambda\\right] = \\log 1/\\lambda - 1 = H(p^*)$$"
   ]
  },
  {
   "cell_type": "markdown",
   "metadata": {},
   "source": [
    "**We're familiar with the CLT as a way of approximating the sum of IID random variables with an appropriate Normal distribution.  Let's investigate this relationship by using the KL-Divergence.  Given n identically distributed Bernoulli variables $Y_i \\sim Bern(p)$, then their sum approaches a Normal distribution.**\n",
    "\n",
    "**3.3. Visualize this relationship by drawing n = 10,000 samples from a Bernoulli with p = 0.02.  These samples determine a random variable and thus a probability distribution (which in the last homework we called the empirical distribution of the data).  Visualize this probability distribution by plotting a normed histogram of the samples.  On your plot overlay the appropriately fitted Gaussian distribution.  Make sure to appropriately title and label your plot.**\n"
   ]
  },
  {
   "cell_type": "markdown",
   "metadata": {},
   "source": [
    "Instead of sampling 10'000 samples from a Bernoulli and taking the sum of those, we directly sample from a binomial distribution with 10'000 trials. Note that a binomial $\\text{Binom}(n, p)$ is the same as the sum of $n$ independent Bernoulli random variables $\\text{Bernoulli}_i$, $\\text{Binom}(n, p) = \\sum_{i=1}^n \\text{Bernoulli}_i(p)$. We use $m = 1000$ such binomial samples.\n",
    "\n",
    "Next, what's the distribution that the CLT tells us to use? Note that the mean sample statistics $\\mu = \\frac{1}{n} \\sum_{i=1}^n x_i$, where $x_i$ are the Bernoullis, follows a normal with variance $p(1-p)/n$ for large $n$. Thus, the sum of the Bernoullis, which is the random variabl that we are interested in, follows a normal with mean $np$ and variance $p(1-p) n$."
   ]
  },
  {
   "cell_type": "code",
   "execution_count": 149,
   "metadata": {},
   "outputs": [
    {
     "data": {
      "text/plain": [
       "<matplotlib.legend.Legend at 0x118157fd0>"
      ]
     },
     "execution_count": 149,
     "metadata": {},
     "output_type": "execute_result"
    },
    {
     "data": {
      "image/png": "[encoded data removed]",
      "text/plain": [
       "<matplotlib.figure.Figure at 0x11386b5f8>"
      ]
     },
     "metadata": {},
     "output_type": "display_data"
    }
   ],
   "source": [
    "#np.random.seed(1)\n",
    "n = 10000\n",
    "p = 0.02\n",
    "m = 100000\n",
    "\n",
    "binomial_samples = np.random.binomial(n=n, p=p, size=m)\n",
    "\n",
    "sns.distplot(binomial_samples, kde=True, bins=30, hist=True, label='Data & KDE')\n",
    "\n",
    "mu = p * n\n",
    "std =  np.sqrt(p * (1 - p) * n)\n",
    "\n",
    "x = np.linspace(xmin, xmax, 100)\n",
    "y = scipy.stats.norm.pdf(x, mu, std)\n",
    "plt.plot(x, y, 'k', linewidth=2, label='Fitted using CLT')\n",
    "plt.xlabel(\"Number of 'successful' trials\")\n",
    "plt.ylabel(\"density\")\n",
    "plt.legend()"
   ]
  },
  {
   "cell_type": "markdown",
   "metadata": {},
   "source": [
    "**3.4. From visual inspection are the two distributions close to each other?**\n",
    "\n",
    "Yes, from visual inspection the blue (kernel density estimate) and black (fitted according to Central Limit Theorem) are very close."
   ]
  },
  {
   "cell_type": "markdown",
   "metadata": {},
   "source": [
    "**3.5. Formalize your answer to 3.3 and 3.4 by writing a program to compute the K-L divergence between the two distributions (the sum of 10000 sampled Bernoullis and the appropriate Gaussian).  What is the value of the KL divergence.**"
   ]
  },
  {
   "cell_type": "markdown",
   "metadata": {},
   "source": [
    "We write a function to compute the KL divergence. It takes in the samples and two pdfs (as functions). It uses that the KL divergence $\\int p(x) \\log \\frac{p(x)}{q(x)}$ can be written as $\\mathbb E_p\\left[\\frac{p}{q}\\right] \\approx \\frac{1}{n} \\sum_i \\log\\frac{p(x_i)}{q(x_i)}$ where $x_i$ have been sampled from the distribution $p$."
   ]
  },
  {
   "cell_type": "code",
   "execution_count": 165,
   "metadata": {},
   "outputs": [
    {
     "name": "stdout",
     "output_type": "stream",
     "text": [
      "Estimated KL divergence: 0.0003\n"
     ]
    }
   ],
   "source": [
    "def compute_divergence(x, d1, d2):\n",
    "    \"\"\"\n",
    "    Compute the KL divergence between distribution d1 and d2 using on samples x\n",
    "    \n",
    "    :param x: samples\n",
    "    :param d1: pdf\n",
    "    :param d2: pdf\n",
    "    \"\"\"\n",
    "    ps = d1(x)\n",
    "    qs = d2(x)\n",
    "    return np.mean(np.log(ps / qs))\n",
    "\n",
    "d1 = lambda k: scipy.stats.binom.pmf(k, n=n, p=p)\n",
    "d2 = lambda x: scipy.stats.norm.pdf(x, loc=mu, scale=std)\n",
    "print(\"Estimated KL divergence: {:.4f}\".format(compute_divergence(binomial_samples, d1=d1, d2=d2)))"
   ]
  },
  {
   "cell_type": "markdown",
   "metadata": {},
   "source": [
    "We ca actually also calculate the KL divergence directly using the formula."
   ]
  },
  {
   "cell_type": "code",
   "execution_count": 167,
   "metadata": {},
   "outputs": [
    {
     "name": "stdout",
     "output_type": "stream",
     "text": [
      "Very accurately approximated KL divergence: 0.0004\n"
     ]
    }
   ],
   "source": [
    "ns = np.arange(1, 600)\n",
    "ps = scipy.stats.binom.pmf(ns, n=n, p=p)\n",
    "qs = scipy.stats.norm.logpdf(ns, loc=mu, scale=std)\n",
    "div_semi_analytical = np.sum(ps * (np.log(ps) - qs))\n",
    "print(\"Very accurately approximated KL divergence: {:.4f}\".format(div_semi_analytical))"
   ]
  },
  {
   "cell_type": "markdown",
   "metadata": {},
   "source": [
    "**3.6. Let's visualize the convergence of the sum of bernoulli RVs to a Gaussian as fortold by the CLT by repeating the process from 3.5 for various values of n.  We'll set our selection of sample sizes to the following: [100, 250, 500, 750, 1000, 2500, 5000, 7500, 10000, 50000, 100000].  Setting n to each of the specified sample sizes repeat the following procedure 10 times:**\n",
    "\n",
    "* Draw n bernoulli samples using the Bernoulli parameter from 3.3 (p=0.02).\n",
    "* Calculate the Kullback-Leibler divergence between the random variable defined by the sum of Bernoullis samples and the appropriately fitted gaussian. \n",
    "\n",
    "**For each sample size you should have 10 KL divergences. Construct a log scale (in both axes) plot of the Kullback-Leibler divergence and and the 3-$\\sigma$ envelope against the sample size.  What can you convergence of the distributions in question?  What does this mean for the CLT?**"
   ]
  },
  {
   "cell_type": "code",
   "execution_count": 235,
   "metadata": {
    "collapsed": true
   },
   "outputs": [],
   "source": [
    "np.random.seed(666)\n",
    "ns = [100, 250, 500, 750, 1000, 2500, 5000, 7500, 10000, 50000, 100000]\n",
    "\n",
    "p = 0.02\n",
    "m = 300000\n",
    "n_reps = 10\n",
    "\n",
    "result = pd.DataFrame()\n",
    "\n",
    "for n in ns:\n",
    "    mu = p * n\n",
    "    std =  np.sqrt(p * (1 - p) * n)\n",
    "    d1 = lambda k: scipy.stats.binom.pmf(k, n=n, p=p)\n",
    "    d2 = lambda x: scipy.stats.norm.pdf(x, loc=mu, scale=std)\n",
    "    \n",
    "    for i in range(n_reps):\n",
    "        binomial_samples = np.random.binomial(n=n, p=p, size=m)\n",
    "        df = pd.DataFrame({'n': [n], 'divergence': [compute_deviance(binomial_samples, d1, d2)]})\n",
    "        result = result.append(df)"
   ]
  },
  {
   "cell_type": "code",
   "execution_count": 243,
   "metadata": {},
   "outputs": [
    {
     "data": {
      "text/plain": [
       "Text(0.5,1,'KL divergence between Binomial distribution and its CLT approximation')"
      ]
     },
     "execution_count": 243,
     "metadata": {},
     "output_type": "execute_result"
    },
    {
     "data": {
      "image/png": "[encoded data removed]",
      "text/plain": [
       "<matplotlib.figure.Figure at 0x1222d60b8>"
      ]
     },
     "metadata": {},
     "output_type": "display_data"
    }
   ],
   "source": [
    "summary_df = result.groupby('n', as_index=False, group_keys=False).agg({'divergence': [np.mean, np.std]})\n",
    "summary_divergence = summary_df['divergence']\n",
    "\n",
    "f, ax = plt.subplots(figsize=(7, 7))\n",
    "ax.set(xscale=\"log\", yscale=\"log\")\n",
    "plt.plot(result['n'], result['divergence'], 'o', label='KL divergence samples')\n",
    "plt.plot(ns, summray_divergence['mean'], label='Mean KL divergance')\n",
    "plt.fill_between(ns, summary_divergence['mean'] + 3 * summray_divergence['std'], \n",
    "                 summary_divergence['mean'] - 3 * summray_divergence['std'], \n",
    "                 facecolor='green', interpolate=True, alpha=.2, label=r'3 $\\sigma$ interval')\n",
    "plt.legend()\n",
    "plt.xlabel('Number of Bernoulli RVs')\n",
    "plt.ylabel('KL divergence')\n",
    "plt.title('KL divergence between Binomial distribution and its CLT approximation')"
   ]
  },
  {
   "cell_type": "markdown",
   "metadata": {},
   "source": [
    "We see that the two distributions are converging at a scale that is linear on the log-log scale (which means that it is *polynomial* in original scales). This means that the central limit theorem applies better for larger $n$ (nothing new here). Also, increasing $n$ by a factor of ten, reduces the KL divergence by more than a factor of 10."
   ]
  },
  {
   "cell_type": "markdown",
   "metadata": {},
   "source": [
    "## Q4: Marvel at the DC Flash Light Speed experiment\n",
    "\n",
    "Simon Newcomb did an experiment in 1882 to measure the speed of light. These are the times required for light to travel 7442 metres. These are recorded as deviations from 24,800 nanoseconds."
   ]
  },
  {
   "cell_type": "markdown",
   "metadata": {},
   "source": [
    "This data is in the following dataset $D$."
   ]
  },
  {
   "cell_type": "code",
   "execution_count": 244,
   "metadata": {
    "collapsed": true
   },
   "outputs": [],
   "source": [
    "light_speed = np.array([28, 26, 33, 24, 34, -44, 27, 16, 40, -2, 29, 22, 24, 21, 25,\n",
    "                        30, 23, 29, 31, 19, 24, 20, 36, 32, 36, 28, 25, 21, 28, 29,\n",
    "                        37, 25, 28, 26, 30, 32, 36, 26, 30, 22, 36, 23, 27, 27, 28,\n",
    "                        27, 31, 27, 26, 33, 26, 32, 32, 24, 39, 28, 24, 25, 32, 25,\n",
    "                        29, 27, 28, 29, 16, 23])"
   ]
  },
  {
   "cell_type": "markdown",
   "metadata": {},
   "source": [
    "\n",
    "\n",
    "\n",
    "\n",
    "\n",
    "\n",
    "4.5. Experiment with reducing the grid size down to 100x100. How do the marginal posteriors now look? What does this look tell us about the dimensional scaling of this grid-sampling-in-proportion-to-posterior method of obtaining samples?\n",
    "\n",
    "4.6. Now draw from the data sampling normal distribution to obtain the posterior-predictive distribution. You will have as many samples as the size of the posterior. Plot the posterior predictive distribution against the data, and write down your observations.\n",
    "\n",
    "4.7. **Informally using a test-statistic**\n",
    "\n",
    "We might wish to compute a test statistic from the posterior predictive. Say for example, we wish to talk about the minimum value of the posterior predictive.\n",
    "\n",
    "The way to do this is to replicate the posterior predictive multiple times. We replicate the posterior-predictive (that is, do the sampling you did in 4.6) 66 times, which is the size of our dataset. In other words, we create as-many artificial datasets as there are samples in our posterior.\n",
    "\n",
    "This is called a **replicative posterior predictive**.\n",
    "\n",
    "Compute the replicative distribution of the minimum-value of the dataset and compare it to the actual value. What might you conclude about the quality of the specification of our model for the purposes of computing minimum values?"
   ]
  },
  {
   "cell_type": "markdown",
   "metadata": {},
   "source": [
    "**4.1. Plot a histogram of the data. Are there outliers in the data?  What data points might you consider to be outliers?**"
   ]
  },
  {
   "cell_type": "code",
   "execution_count": 245,
   "metadata": {},
   "outputs": [
    {
     "data": {
      "text/plain": [
       "Text(0.5,0,\"Deviation from 24'800 ns in ns\")"
      ]
     },
     "execution_count": 245,
     "metadata": {},
     "output_type": "execute_result"
    },
    {
     "data": {
      "image/png": "[encoded data removed]",
      "text/plain": [
       "<matplotlib.figure.Figure at 0x1246ca6d8>"
      ]
     },
     "metadata": {},
     "output_type": "display_data"
    }
   ],
   "source": [
    "sns.distplot(light_speed)\n",
    "plt.annotate('Outlier', xy=(-42, 0), xytext=(-20, 0.06),\n",
    "            arrowprops=dict(facecolor='black', shrink=0.05)) \n",
    "plt.annotate('Outlier', xy=(0, 0), xytext=(-20, 0.06),\n",
    "            arrowprops=dict(facecolor='black', shrink=0.05)) \n",
    "plt.title(\"Histogram of light speed data with outliers\")\n",
    "plt.ylabel(\"Density\")\n",
    "plt.xlabel(\"Deviation from 24'800 ns in ns\")"
   ]
  },
  {
   "cell_type": "markdown",
   "metadata": {},
   "source": [
    "The point $-44$ definitely looks like an outlier. $-2$ can be considered an outlier as well."
   ]
  },
  {
   "cell_type": "markdown",
   "metadata": {},
   "source": [
    "**4.2. We use a normal models with weakly informative priors to model this experiment. In particular assume uniform priors for both $\\mu$ and $\\sigma$:**\n",
    "\n",
    "$$\\mu \\sim Uniform(0, 60)$$\n",
    "\n",
    "$$\\sigma \\sim Uniform(0.1, 50)$$\n",
    "\n",
    "Write down an expression for the posterior (joint) pdf $p(\\mu, \\sigma \\vert D)$."
   ]
  },
  {
   "cell_type": "markdown",
   "metadata": {},
   "source": [
    "We use Bayes' theorem to write down an expression for the posterior distribution of $(\\mu, \\sigma)$.\n",
    "\n",
    "$$\n",
    "p(\\mu, \\sigma \\vert D) = \\frac{p(D\\vert \\mu, \\sigma) p(\\mu, \\sigma)}{p(D)} = \\frac{p(D\\vert \\mu, \\sigma) p(\\mu) p(\\sigma)}{p(D)} \\propto p(D\\vert \\mu, \\sigma) p(\\mu) p(\\sigma) \\propto \n",
    "\\begin{cases}\n",
    "\\prod_i \\exp\\left(\\frac{(x_i - \\mu)^2}{2\\sigma^2} \\right) \\text{ if } 0\\leq \\mu \\leq 60 \\text{ and } 0.1 \\leq \\sigma \\leq 50  \\\\\n",
    "0 \\quad \\text{else}\\:,\n",
    "\\end{cases}\n",
    "$$\n",
    "\n",
    "where we used that the priors are independent. "
   ]
  },
  {
   "cell_type": "markdown",
   "metadata": {},
   "source": [
    "**\n",
    "4.3. Set up a 500 point grid in both the $\\mu$ space and the $\\sigma$ space. Compute the normalized posterior on this grid and make a contour plot of it. **\n",
    "\n",
    "**Hint: `np.meshgrid` is your friend**"
   ]
  },
  {
   "cell_type": "markdown",
   "metadata": {},
   "source": [
    "Note that $p(\\mu\\vert D) = 0$ for $\\mu < 0$ or $\\mu > 60$. Similarly, $p(\\sigma \\vert D) = 0$ for $\\sigma < 0.1$ or $\\sigma > 50$. Thus, in defining the grid of points in $(\\mu, \\sigma)$, we can restrict the values to these ranges, respectively."
   ]
  },
  {
   "cell_type": "code",
   "execution_count": 319,
   "metadata": {
    "collapsed": true
   },
   "outputs": [],
   "source": [
    "n_grid = 500\n",
    "mus = np.linspace(0, 60, num=n_grid)\n",
    "sigmas = np.linspace(0.1, 50, num=n_grid)\n",
    "pdf_grid = np.zeros((mus.shape[0], sigmas.shape[0]))\n",
    "\n",
    "for i, mu in enumerate(mus):\n",
    "    for j, sigma in enumerate(sigmas):\n",
    "        pdf_grid[i, j] = np.exp(np.sum(scipy.stats.norm.logpdf(light_speed, loc=mu, scale=sigma)))\n",
    "\n",
    "pdf_grid = pdf_grid / np.sum(pdf_grid)"
   ]
  },
  {
   "cell_type": "code",
   "execution_count": 320,
   "metadata": {},
   "outputs": [
    {
     "data": {
      "text/plain": [
       "<matplotlib.colorbar.Colorbar at 0x124aad4e0>"
      ]
     },
     "execution_count": 320,
     "metadata": {},
     "output_type": "execute_result"
    },
    {
     "data": {
      "image/png": "[encoded data removed]",
      "text/plain": [
       "<matplotlib.figure.Figure at 0x11aae6400>"
      ]
     },
     "metadata": {},
     "output_type": "display_data"
    }
   ],
   "source": [
    "plt.contour(sigmas, mus, pdf_grid)\n",
    "#cax = plt.axes([0.85, 0.1, 0.075, 0.8])\n",
    "plt.colorbar()"
   ]
  },
  {
   "cell_type": "markdown",
   "metadata": {},
   "source": [
    "** 4.4. Use this normalized posterior to sample from the grid, posterior samples of size 500000. That is the posterior should be of shape `(500000, 2)`. (Hint: one way to do it is to first flatten the meshgrid into a grid of shape (250000, 2). Flatten the posterior probabilities as well into a size 250000 vector. Then sample 500000 indices and use them to index the grid). Plot the $\\mu$ and $\\sigma$ marginal posteriors.**"
   ]
  },
  {
   "cell_type": "markdown",
   "metadata": {},
   "source": [
    "We sample from the posterior as suggested, but without meshgrid. We simply recompute the indices after flattening (using integer division and modulo)."
   ]
  },
  {
   "cell_type": "code",
   "execution_count": 356,
   "metadata": {},
   "outputs": [],
   "source": [
    "n_samples = 500000\n",
    "sampled = np.random.choice(np.arange(n_grid * n_grid), replace=True, size=n_samples, p=pdf_grid.reshape(-1))\n",
    "sampled_posterior = np.zeros((n_samples, 2))\n",
    "\n",
    "for k in range(n_samples):\n",
    "    (i, j) = (sampled[k] // n_grid, sampled[k] % n_grid)\n",
    "    sampled_posterior[k, 0] = mus[i]\n",
    "    sampled_posterior[k, 1] =  sigmas[j]\n"
   ]
  },
  {
   "cell_type": "markdown",
   "metadata": {},
   "source": [
    "Now, we plot the marginal distributions. The results seem consistent with the density plot of the pdf."
   ]
  },
  {
   "cell_type": "code",
   "execution_count": 355,
   "metadata": {},
   "outputs": [
    {
     "data": {
      "text/plain": [
       "Text(0.5,1,'Posetrior standard deviation')"
      ]
     },
     "execution_count": 355,
     "metadata": {},
     "output_type": "execute_result"
    },
    {
     "data": {
      "image/png": "[encoded data removed]",
      "text/plain": [
       "<matplotlib.figure.Figure at 0x129e78fd0>"
      ]
     },
     "metadata": {},
     "output_type": "display_data"
    }
   ],
   "source": [
    "f, axarr = plt.subplots(ncols=2)\n",
    "f.suptitle('Marginal posterior distributions')\n",
    "sns.distplot(sampled_posterior[:, 0], ax=axarr[0], axlabel=r\"$\\mu$\")\n",
    "sns.distplot(sampled_posterior[:, 1], ax=axarr[1], axlabel=r\"$\\sigma$\")\n",
    "axarr[0].set_title(\"Posterior Mean\")\n",
    "axarr[1].set_title(\"Posetrior standard deviation\")"
   ]
  },
  {
   "cell_type": "markdown",
   "metadata": {},
   "source": [
    "As another check, we also make a scatter plot."
   ]
  },
  {
   "cell_type": "code",
   "execution_count": 360,
   "metadata": {},
   "outputs": [
    {
     "data": {
      "text/plain": [
       "Text(0,0.5,'$\\\\sigma$')"
      ]
     },
     "execution_count": 360,
     "metadata": {},
     "output_type": "execute_result"
    },
    {
     "data": {
      "image/png": "[encoded data removed]",
      "text/plain": [
       "<matplotlib.figure.Figure at 0x12aeb4a58>"
      ]
     },
     "metadata": {},
     "output_type": "display_data"
    }
   ],
   "source": [
    "plt.plot(sampled_posterior[:1000, 0], sampled_posterior[:1000, 1], 'o')\n",
    "plt.title('Posterior scatterplot')\n",
    "plt.xlabel(r'$\\mu$')\n",
    "plt.ylabel(r'$\\sigma$')"
   ]
  },
  {
   "cell_type": "code",
   "execution_count": null,
   "metadata": {
    "collapsed": true
   },
   "outputs": [],
   "source": []
  }
 ],
 "metadata": {
  "anaconda-cloud": {},
  "kernel_info": {
   "name": "python3"
  },
  "kernelspec": {
   "display_name": "Python 3",
   "language": "python",
   "name": "python3"
  },
  "language_info": {
   "codemirror_mode": {
    "name": "ipython",
    "version": 3
   },
   "file_extension": ".py",
   "mimetype": "text/x-python",
   "name": "python",
   "nbconvert_exporter": "python",
   "pygments_lexer": "ipython3",
   "version": "3.6.1"
  },
  "nteract": {
   "version": "0.11.7"
  }
 },
 "nbformat": 4,
 "nbformat_minor": 2
}
