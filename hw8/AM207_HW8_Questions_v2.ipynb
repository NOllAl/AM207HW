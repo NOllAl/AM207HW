{
 "cells": [
  {
   "cell_type": "markdown",
   "metadata": {},
   "source": [
    "# Homework 8\n",
    "\n",
    "**Harvard University**<br>\n",
    "**Fall 2018**<br>\n",
    "**Instructors: Rahul Dave**<br>\n",
    "**Due Date:** Saturday, November 3rd, 2018 at 11:59pm\n",
    "\n",
    "**Instructions:**\n",
    "\n",
    "- Upload your final answers in the form of a Jupyter notebook containing all work to Canvas.\n",
    "\n",
    "- Structure your notebook and your work to maximize readability."
   ]
  },
  {
   "cell_type": "markdown",
   "metadata": {},
   "source": [
    "### Collaborators\n",
    "\n",
    "** Place the name of everyone who's submitting this assignment here**"
   ]
  },
  {
   "cell_type": "markdown",
   "metadata": {},
   "source": [
    "<div class=\"answer-separator\">\n",
    "------------------------\n",
    "</div>"
   ]
  },
  {
   "cell_type": "code",
   "execution_count": 1,
   "metadata": {
    "collapsed": true
   },
   "outputs": [],
   "source": [
    "import numpy as np\n",
    "import scipy.stats\n",
    "import scipy.special\n",
    "\n",
    "import matplotlib\n",
    "import matplotlib.pyplot as plt\n",
    "import matplotlib.mlab as mlab\n",
    "from matplotlib import cm\n",
    "\n",
    "import pandas as pd\n",
    "import seaborn as sns\n",
    "\n",
    "%matplotlib inline"
   ]
  },
  {
   "cell_type": "markdown",
   "metadata": {},
   "source": [
    "## Question 1: In the AM207 Nursery We Help Canadians Smoke Trees with Purple Stuff"
   ]
  },
  {
   "cell_type": "markdown",
   "metadata": {},
   "source": [
    "**Some coding required**\n",
    "\n",
    "**This is part 1 of a 2 part problem.  You'll see the second part in a later problem set...**\n",
    "\n",
    "A plant nursery in Cambridge is exprimentally cross-breeding two types of hibiscus flowers: blue and pink. The goal is to create an exotic flower whose petals are pink with a ring of blue on each. \n",
    "\n",
    "There are four types of child plant that can result from this cross-breeding: \n",
    "\n",
    "  - Type 1: blue petals\n",
    "  - Type 2: pink petals \n",
    "  - Type 3: purple petals\n",
    "  - Type 4: pink petals with a blue ring on each (the desired effect). \n",
    "\n",
    "Out of 197 initial cross-breedings, the nursery obtained the following distribution over the four types of child plants: \n",
    "\n",
    "$$Y = (y_1, y_2, y_3, y_4) = (125, 18, 20, 34)$$\n",
    "\n",
    "where $y_i$ represents the number of child plants that are of type $i$.\n",
    "\n",
    "The nursery then consulted a famed Harvard plant geneticist, who informed them that the probability of obtaining each type of child plant in any single breeding experiment is as follows:\n",
    "\n",
    "$$ \\frac{\\theta+2}{4}, \\frac{1-\\theta}{4}, \\frac{1-\\theta}{4}, \\frac{\\theta}{4}.$$\n",
    "\n",
    "Unfortunately, the geneticist was unable to specify the quantity $\\theta$.\n",
    "\n",
    "Clearly, the nursery is interested in understanding how many cross-breeding they must perform, on average, in order to obtain a certain number of child plants with the exotic blue rings. To do this they must be able to compute $\\theta$. \n",
    "\n",
    "The owners of the nursery, being top students in AM207, decided to model the experiment in hopes of discovering $\\theta$ using the results from their 197 initial experiments. \n",
    "\n",
    "They chose to model the observed data using a multinomial model and thus calculated the likelihood to be:\n",
    "\n",
    "$$ p(y  \\vert  \\theta) \\propto (2+\\theta)^{y_1} (1-\\theta)^{y_2+y_3}  \\, \\theta^{y_4} $$\n",
    "\n",
    "\n",
    "The nursery owners decided to augment their model and hopefully obtain a friendlier looking distribution that allows for easy EM based maximum-likelihood finding and sampling (which you will do in next week's homework).\n",
    "\n",
    "They augment the data with a new variable $z$ such that:\n",
    "\n",
    "$$z + (y_1 - z) = y_1.$$\n",
    "\n",
    "That is, using the latent variable $z$, the number of type I child plants $y_1$ can be broken into two subtypes. Let the probability of obtaining the two subtype be $1/2$ and $\\theta/4$, respectively. $y_1$ can now be interpreted as to be the total number of trials in a binomial trial. Thus, the new likelihood can be written as\n",
    "\n",
    "$$ p(y, z  \\vert  \\theta) \\propto \\binom{y_{1}}{z} \\left (\\frac{1}{2} \\right )^{y_1-z} \\left(\\frac{\\theta}{4} \\right )^{z}  (1-\\theta)^{y_2+y_3}  \\, \\theta^{y_4}\n",
    "$$"
   ]
  },
  {
   "cell_type": "markdown",
   "metadata": {},
   "source": [
    "Treat the augmented model as a latent variable model.\n",
    "\n",
    "Write down an expression (up to unimportant constants - you must decide what unimportant means) for each of the following:\n",
    "\n",
    "1.1. The observed data log likelihood $\\mathcal{l}(y \\ \\vert \\ \\theta)$\n",
    "\n",
    "1.2. The complete data log likelihood $\\mathcal{L}(y, z\\ \\vert \\ \\theta)$\n",
    "\n",
    "1.3. The Auxilary function, $Q(\\theta, \\theta^{(t-1)})$, or the expected complete data log likelihood, defined by\n",
    "\n",
    "$$Q(\\theta, \\theta^{(t-1)}) = \\mathbb{E}_{Z  \\vert  Y=y, \\Theta = \\theta^{t-1}}[\\mathcal{L}(y, z\\ \\vert \\ \\theta)]$$\n",
    "\n",
    "1.4. Find an expression for $\\theta^{t} = \\text{argmax}_\\theta Q(\\theta, \\theta^{(t-1)})$ by maximizing the Auxilary function $Q(\\theta, \\theta^{(t-1)})$ given $\\theta, \\theta^{t-1}$ to find the optimal value for $\\theta^{t}$.  \n",
    "\n",
    "**Hint:** You don't actually need to do any difficult optimization for the M-step. After taking the expectation of the complete data log likelihood in the E-step, match your $Q(\\theta, \\theta^{(t-1)})$ to the log pdf of a familiar distribution, then use the known formula for the mode of this distribution to optimize $Q(\\theta, \\theta^{(t-1)})$.\n",
    "\n",
    "1.5. Use your forumulas from 1.3 and 1.4 for $Q(\\theta, \\theta^{t-1})$ and $\\theta^{t}$ to calculate the maximum likelihood through Expectation Maximization (EM). In order to perform EM, you must iterate through the following steps\n",
    "\n",
    "- (Expectation) Compute the Auxilary function, $Q(\\theta, \\theta^{t-1})$ (the expectation of the full data likelihood)\n",
    "- (Maximization) Compute $\\theta^{t} = \\text{argmax}_\\theta Q(\\theta, \\theta^{(t-1)})$\n",
    "\n",
    "Choose your own reasonable criterion for convergence to **estimate the MLE** of $\\theta$ using EM.\n",
    "\n",
    "\n",
    "\n",
    "\n",
    "**Gratuitous Titular Reference**:  Canada recently became the second country in the world to [legalize marijuana](https://www.cnn.com/2018/06/20/health/canada-legalizes-marijuana/index.html).  [Purple Stuff](https://www.amazon.com/Purple-Stuff-Soda-Relaxation-Beverage/dp/B00FF4AXTE) is a health beverage available on Amazon with a name and taste that's a tip of the hat to [Purple Drank](https://en.wikipedia.org/wiki/Purple_drank), the codeine infused beverage also popularly known as *lean* and is synonymous with the Houston hip hop scene (and in particular DJ Screw and his famous Chopped and Screwed style)."
   ]
  },
  {
   "cell_type": "markdown",
   "metadata": {},
   "source": [
    "First of all, note that the condition for applying the EM algorithm is satisfied:\n",
    "\n",
    "$$ \n",
    "\\sum_{z=0}^{y_1}{y_1\\choose z} \\left(\\frac{1}{2}\\right)^{y_1-z} \\left(\\frac{\\theta}{4}\\right)^z = \\left(\\frac{1}{2} + \\frac{\\theta}{4}\\right)^{y_1} = \\left(\\frac{\\theta + 2}{4}\\right)^{y_1}\n",
    "$$\n",
    "\n",
    "by the binomial theorem. Using this, it's clear that $\\sum_z p(y, z\\vert \\theta) = p(y\\vert \\theta)$."
   ]
  },
  {
   "cell_type": "markdown",
   "metadata": {},
   "source": [
    "> 1.1. The observed data log likelihood $\\mathcal{l}(y \\ \\vert \\ \\theta)$"
   ]
  },
  {
   "cell_type": "markdown",
   "metadata": {},
   "source": [
    "$$\n",
    "l(y \\vert \\theta) = y_1 \\log\\left(2 + \\theta \\right) + (y_2 + y_3) \\log\\left(1 - \\theta \\right) + y_4 \\log \\theta\n",
    "$$"
   ]
  },
  {
   "cell_type": "markdown",
   "metadata": {},
   "source": [
    "> 1.2. The complete data log likelihood $\\mathcal{L}(y, z\\ \\vert \\ \\theta)$"
   ]
  },
  {
   "cell_type": "markdown",
   "metadata": {},
   "source": [
    "$$\n",
    "\\mathcal{L}(y, z\\ \\vert \\ \\theta) = \\log y_1 ! - \\log z! - \\log(y_1-z)! + \\left(y_1 - z \\right) \\log\\left(\\frac{1}{2}\\right) + z \\log\\left(\\frac{\\theta}{4}\\right) + (y_2 + y_3) \\log\\left(1 - \\theta \\right) + y_4 \\log \\theta\n",
    "$$"
   ]
  },
  {
   "cell_type": "markdown",
   "metadata": {},
   "source": [
    "> 1.3. The Auxilary function, $Q(\\theta, \\theta^{(t-1)})$, or the expected complete data log likelihood, defined by\n",
    "\n",
    "$$Q(\\theta, \\theta^{(t-1)}) = \\mathbb{E}_{Z  \\vert  Y=y, \\Theta = \\theta^{t-1}}[\\mathcal{L}(y, z\\ \\vert \\ \\theta)]$$"
   ]
  },
  {
   "cell_type": "markdown",
   "metadata": {},
   "source": [
    "To calculate the auxiliary function, we first need to calculate the posterior $p(z\\vert y, \\theta)^{t-1}$. This is easy to do using the definition of conditional probability:\n",
    "\n",
    "$$\n",
    "p(z\\vert y, \\theta) = \\frac{p(z,y)\\vert \\theta}{p(y\\vert \\theta)} = \\frac{{y\\choose z} (\\frac{1}{2})^{y-z}(\\frac{\\theta}{4})^z(1-\\theta)^{y_2 + y_3} \\theta^{y_4}}{(\\frac{2 + \\theta}{4})^y(1-\\theta)^{y_2 + y_3} \\theta^{y_4}} = \\frac{{y\\choose z} (\\frac{1}{2})^{y-z}(\\frac{\\theta}{4})^z}{(\\frac{2 + \\theta}{4})^y}\n",
    "$$"
   ]
  },
  {
   "cell_type": "markdown",
   "metadata": {},
   "source": [
    "It's easy to show that this is a binomial distribuion again with $p=\\frac{\\frac{1}{2}}{\\frac{2 + \\theta}{4}} = \\frac{2}{2 + \\theta}$. This follows from the following calcuation:\n",
    "$$\n",
    "p(k\\vert n, a, b) = {n \\choose k}\\frac{a^{n-k}b^k}{(a+b)^n} = {n\\choose k}\\left(\\frac{a}{a+b}\\right)^{n-k}\\left(\\frac{b}{a+b}\\right)^k \\:.\n",
    "$$"
   ]
  },
  {
   "cell_type": "markdown",
   "metadata": {},
   "source": [
    "Now we can use this to calculate the auxilary function, but we only have to care about terms including $\\theta$ (also, it is important to distinguish $\\theta$ and $\\theta^{t-1}$ and that cost some time)."
   ]
  },
  {
   "cell_type": "markdown",
   "metadata": {},
   "source": [
    "$$\n",
    "\\mathbb{E}_{Z  \\vert  Y=y, \\Theta = \\theta^{t-1}}[\\mathcal{L}(y, z\\ \\vert \\ \\theta)] = \\\\\n",
    "= \\mathbb E_Z (z) \\log \\theta + (y_2 + y_3) \\log(1 - \\theta) + y_4 \\log \\theta + \\text{const} = \\\\\n",
    "= y_1 \\frac{\\theta^{t-1}}{\\theta^{t-1}+2} \\log \\theta+  (y_2 + y_3) \\log(1 - \\theta) + y_4 \\log \\theta + \\text{const} = \\\\\n",
    "= (y_1 \\frac{\\theta^{t-1}}{\\theta^{t-1}+2} + y_4) \\log \\theta + (y_2 + y_3) \\log(1 - \\theta) + \\text{const}\n",
    "$$\n"
   ]
  },
  {
   "cell_type": "markdown",
   "metadata": {},
   "source": [
    "> 1.4. Find an expression for $\\theta^{t} = \\text{argmax}_\\theta Q(\\theta, \\theta^{(t-1)})$ by maximizing the Auxilary function $Q(\\theta, \\theta^{(t-1)})$ given $\\theta, \\theta^{t-1}$ to find the optimal value for $\\theta^{t}$.  \n",
    "\n",
    "> **Hint:** You don't actually need to do any difficult optimization for the M-step. After taking the expectation of the complete data log likelihood in the E-step, match your $Q(\\theta, \\theta^{(t-1)})$ to the log pdf of a familiar distribution, then use the known formula for the mode of this distribution to optimize $Q(\\theta, \\theta^{(t-1)})$."
   ]
  },
  {
   "cell_type": "markdown",
   "metadata": {},
   "source": [
    "Now, this term looks similar to the log-likeihood of a binomial and we know how to optimize it:\n",
    "\n",
    "$$\n",
    "\\theta^t = \\arg\\max_\\theta \\mathbb{E}_{Z  \\vert  Y=y, \\Theta = \\theta^{t-1}}[\\mathcal{L}(y, z\\ \\vert \\ \\theta)]  =\\frac{y_1\\frac{\\theta^{t-1}}{\\theta^{t-1}+2} + y_4}{y_1\\frac{\\theta^{t-1}}{\\theta^{t-1}+2} + y_4 + y_2 + y_3}\n",
    "$$"
   ]
  },
  {
   "cell_type": "markdown",
   "metadata": {},
   "source": [
    "> 1.5. Use your forumulas from 1.3 and 1.4 for $Q(\\theta, \\theta^{t-1})$ and $\\theta^{t}$ to calculate the maximum likelihood through Expectation Maximization (EM). In order to perform EM, you must iterate through the following steps\n",
    "\n",
    "> - (Expectation) Compute the Auxilary function, $Q(\\theta, \\theta^{t-1})$ (the expectation of the full data likelihood)\n",
    "- (Maximization) Compute $\\theta^{t} = \\text{argmax}_\\theta Q(\\theta, \\theta^{(t-1)})$\n",
    "\n",
    "> Choose your own reasonable criterion for convergence to **estimate the MLE** of $\\theta$ using EM."
   ]
  },
  {
   "cell_type": "markdown",
   "metadata": {},
   "source": [
    "From the formula above, we can actually easily perform both the E-step and the M-step in one:"
   ]
  },
  {
   "cell_type": "code",
   "execution_count": 414,
   "metadata": {},
   "outputs": [
    {
     "name": "stdout",
     "output_type": "stream",
     "text": [
      "Theta sequence:\n",
      " [0.25, 0.5575679172056921, 0.6171318781565496, 0.6255256750047308, 0.6266492757889837, 0.6267986275401303, 0.626818461126261, 0.6268210946549618, 0.6268214443324539]\n",
      "Best theta: 0.627\n"
     ]
    }
   ],
   "source": [
    "y = np.array([125, 18, 20, 34])\n",
    "eps = 1e-6\n",
    "\n",
    "def check_convergence(thetas, epsilon=1e-6):\n",
    "    \"\"\"\n",
    "    Check convergence. Conergence is reached if the relative change in theta is less than epsilon.\n",
    "    \n",
    "    :param thetas: array of theta value\n",
    "    :param epsilon: relative change in theta necessary to define convergence\n",
    "    \"\"\"\n",
    "    if len(thetas) < 2:\n",
    "        return False\n",
    "    elif (thetas[-1] - thetas[-2]) / thetas[-2] > epsilon:\n",
    "        return False\n",
    "    elif (thetas[-1] - thetas[-2]) / thetas[-2] <= epsilon:\n",
    "        return True\n",
    "    else:\n",
    "        print(\"Something went wrong\")\n",
    "\n",
    "def em(y, theta_init=1.0/len(y), epsilon=eps):\n",
    "    \"\"\"\n",
    "    Perform EM algorithm\n",
    "    \n",
    "    :param y: data\n",
    "    :param theta_init: initial value of theta\n",
    "    :param epsilon: convergence threshold\n",
    "    \"\"\"\n",
    "    thetas = [theta_init]\n",
    "    \n",
    "    while not check_convergence(thetas, epsilon):\n",
    "        theta_old = thetas[-1]\n",
    "        theta_factor = theta_old / (theta_old + 2)\n",
    "        theta_new = (theta_factor * y[0] + y[3]) / (theta_factor * y[0] + y[3] + y[1] + y[2])\n",
    "        thetas.append(theta_new)\n",
    "    \n",
    "    return thetas\n",
    "\n",
    "theta_sequence = em(y)\n",
    "print(\"Theta sequence:\\n\", theta_sequence)\n",
    "print(\"Best theta: {:.3f}\".format(theta_sequence[-1]))"
   ]
  },
  {
   "cell_type": "markdown",
   "metadata": {},
   "source": [
    "<div class=\"answer-separator\">\n",
    "------------------------\n",
    "</div>"
   ]
  },
  {
   "cell_type": "markdown",
   "metadata": {},
   "source": [
    "## Question 2: Predicting the Prior Like a Punch to the Kidneys "
   ]
  },
  {
   "cell_type": "markdown",
   "metadata": {},
   "source": [
    "**Some coding required**\n",
    "\n",
    "In this problem we will work with the US Kidney Cancer Dataset (by county), a dataset of kidney cancer frequencies across the US over 5 years on a per county basis. \n",
    "\n",
    "The kidney cancer data can be found [here](./kcancer.csv).\n",
    "\n",
    "A casual inspection of the data might suggest that we independently model cancer rates for each of the provided counties.  Our experience in past homeworks/labs/lectures (in particular when we delved into the Rat Tumors problem) suggests potential drawbacks of conclusions based on raw cancer rates.  Addressing these drawbacks, let's look use a Bayesian model for our analysis of the data. In particular you will implement an Empircal Bayes model to examine the adjusted cancer rates per county.\n",
    "\n",
    "Let $N$ be the number of counties; let $y_j$ the number of kidney cancer case for the $j$-th county, $n_j$ the population of the $j$-th county and $\\theta_j$ the underlying kidney cancer rate for that county. We can construct a Bayesian model for our data as follows:\n",
    "\\begin{aligned}\n",
    "y_j &\\sim Poisson(5 \\cdot n_j \\cdot \\theta_j), \\quad j = 1, \\ldots, N\\\\\n",
    "\\theta_j &\\sim Gamma(\\alpha, \\beta), \\quad j = 1, \\ldots, N\n",
    "\\end{aligned}\n",
    "where $\\alpha, \\beta$ are hyper-parameters of the model.\n",
    "\n",
    "2.1. Consider the **prior-predictive** distribution (also called the evidence i.e. the denominator normalization in bayes theorem) of the model: $p(y) = \\int p(y \\vert \\theta) p(\\theta) d \\theta$. Why the prior-predictive? Because technically we \"haven't seen\" individual county data yet. And, our data are on the scale of $y$, not the rates $\\theta$. Write an expression for the negative binomial prior-predictive for this model.\n",
    "\n",
    "**Note:** Up until now we've had primarily thought about the posterior predictive: $\\int p( y \\vert \\theta) p(\\theta \\vert D) d\\theta$.  The posterior predictive and the prior predictive can be somewhat connected. In conjugate models such as ours, the two distributions have the same form.\n",
    "\n",
    "2.2. Implement Empirical Bayes via moment matching by matching the mean and the variance (central moments) of the negative binomial you calclated in 2.1 to the sample mean and variance from the data.  Find appropriate expressions/values for $\\alpha$ and $\\beta$. \n",
    "\n",
    "**Hint:** You need to be careful with the $5n_j$ multiplier.\n",
    "\n",
    "2.3. Use the values of $\\alpha$ and $\\beta$ you derived in 2.2 to generate 5000 posterior samples for the kidney cancer rates for each county.  Use these samples to generate a posterior mean rate for each county.\n",
    "\n",
    "2.4. Produce a scatter plot of the raw cancer rates (pct mortality) vs the county population size. Highlight the top 300 raw cancer rates in red. Highlight the bottom 300 raw cancer rates in blue. Finally, on the same plot add a scatter plot visualization of the posterior mean cancer rate estimates (pct mortality) vs the county population size, highlight these in green.\n",
    "\n",
    "2.5. Using the above scatter plot, explain why using the posterior means from our model to estimate cancer rates is preferable to studying the raw rates themselves.\n",
    "\n",
    "**Hint:** You might also find it helpful to follow the Rat Tumor example.\n",
    "\n",
    "\n",
    "**Gratuitous Pop Culture Bayesian Reference**: \n",
    "\n",
    "![](https://www.explainxkcd.com/wiki/images/b/bd/modified_bayes_theorem.png)"
   ]
  },
  {
   "cell_type": "markdown",
   "metadata": {},
   "source": [
    "> 2.1. Consider the **prior-predictive** distribution (also called the evidence i.e. the denominator normalization in bayes theorem) of the model: $p(y) = \\int p(y \\vert \\theta) p(\\theta) d \\theta$. Why the prior-predictive? Because technically we \"haven't seen\" individual county data yet. And, our data are on the scale of $y$, not the rates $\\theta$. Write an expression for the negative binomial prior-predictive for this model.\n",
    "\n",
    "> **Note:** Up until now we've had primarily thought about the posterior predictive: $\\int p( y \\vert \\theta) p(\\theta \\vert D) d\\theta$.  The posterior predictive and the prior predictive can be somewhat connected. In conjugate models such as ours, the two distributions have the same form."
   ]
  },
  {
   "cell_type": "markdown",
   "metadata": {},
   "source": [
    "The prior predictive distribution is a [negative binomial](https://en.wikipedia.org/wiki/Conjugate_prior). So we just have to find out its parameters. \n",
    "\n",
    "From Wikipedia, we know the relation $\\beta = \\frac{1-p}{p}$, $\\alpha = r$, where $(r, p)$ are the parameteres of the binomial and $(\\alpha, \\beta)$ the parameters of the Gamma.\n",
    "\n",
    "Furthermore, note that $5n_j \\theta$ follows a Gamma with rate parameter $\\frac{\\beta}{5n_j}$.\n",
    "\n",
    "Thus $p = \\frac{1}{1 + \\frac{\\beta}{5n_j}} = \\frac{5n_j}{5n_j + \\beta}$."
   ]
  },
  {
   "cell_type": "markdown",
   "metadata": {},
   "source": [
    "> 2.2. Implement Empirical Bayes via moment matching by matching the mean and the variance (central moments) of the negative binomial you calclated in 2.1 to the sample mean and variance from the data.  Find appropriate expressions/values for $\\alpha$ and $\\beta$. \n",
    "\n",
    "> **Hint:** You need to be careful with the $5n_j$ multiplier."
   ]
  },
  {
   "cell_type": "markdown",
   "metadata": {},
   "source": [
    "The prior predictive distribution is a [negative binomial](https://en.wikipedia.org/wiki/Conjugate_prior). So we just have to find out its parameters. \n",
    "\n",
    "From Wikipedia, we know the relation $\\beta = \\frac{1-p}{p}$, $\\alpha = r$, where $(r, p)$ are the parameteres of the binomial and $(\\alpha, \\beta)$ the parameters of the Gamma.\n",
    "\n",
    "Furthermore, note that $5n_j \\theta$ follows a Gamma with rate parameter $\\frac{\\beta}{5n_j}$.\n",
    "\n",
    "Thus $p = \\frac{1}{1 + \\frac{\\beta}{5n_j}} = \\frac{5n_j}{5n_j + \\beta}$.\n",
    "\n",
    "Using the mean value of the negative binomial, it is easy to calculate the expected number of deaths as\n",
    "\n",
    "$$\n",
    "5n_i \\frac{\\alpha}{\\beta}\n",
    "$$\n",
    "\n",
    "and thus the expected frequency as\n",
    "\n",
    "$$\n",
    "\\frac{\\alpha}{\\beta} \\:.\n",
    "$$\n",
    "\n",
    "Once we have the expected frequency, it is easy to calculate the variance for each county:\n",
    "\n",
    "$$\n",
    "\\text{Var}(y_i) = \\frac{\\mu_i}{1-\\frac{5n_i}{5n_i+\\beta}} = \\frac{\\mu_i(5n_i + \\beta)}{\\beta}\n",
    "$$\n",
    "\n",
    "and thus\n",
    "\n",
    "$$\n",
    "\\text{Var}\\left(\\frac{y_i}{n_i}\\right) = \\frac{\\alpha}{\\beta}\\left(\\frac{5}{\\beta} + \\frac{1}{n_i}\\right) \\:.\n",
    "$$\n",
    "\n",
    "Now, we assume a constant variance for the rates and use a [pooled variance](https://en.wikipedia.org/wiki/Pooled_variance) to estimate it:\n",
    "\n",
    "$$\n",
    "s_P = \\frac{\\sum_{i=1}^{n_{county}} (n_i - 1) (\\frac{5}{\\beta} + \\frac{1}{n_i})}{pop_{tot} - n_{county}} \\approx \\\\\n",
    "\\approx \\frac{(pop_{tot} - n_{county} )\\frac{5}{\\beta} + n_{county}}{pop_{tot} - n_{county}} \\approx \\frac{5}{\\beta}\n",
    "$$"
   ]
  },
  {
   "cell_type": "code",
   "execution_count": 2,
   "metadata": {},
   "outputs": [],
   "source": [
    "cancer = pd.read_csv(\"../data/kcancer.csv\")\n",
    "cancer['n_deaths'] = cancer['pop'] * cancer['pct_mortality']"
   ]
  },
  {
   "cell_type": "code",
   "execution_count": 3,
   "metadata": {},
   "outputs": [
    {
     "data": {
      "text/plain": [
       "(5.754035882663991, 99438.06830985718)"
      ]
     },
     "execution_count": 3,
     "metadata": {},
     "output_type": "execute_result"
    }
   ],
   "source": [
    "beta = 5 / cancer['pct_mortality'].std()\n",
    "alpha = cancer['pct_mortality'].mean() * beta\n",
    "alpha, beta"
   ]
  },
  {
   "cell_type": "code",
   "execution_count": 4,
   "metadata": {},
   "outputs": [
    {
     "data": {
      "text/html": [
       "<div>\n",
       "<style scoped>\n",
       "    .dataframe tbody tr th:only-of-type {\n",
       "        vertical-align: middle;\n",
       "    }\n",
       "\n",
       "    .dataframe tbody tr th {\n",
       "        vertical-align: top;\n",
       "    }\n",
       "\n",
       "    .dataframe thead th {\n",
       "        text-align: right;\n",
       "    }\n",
       "</style>\n",
       "<table border=\"1\" class=\"dataframe\">\n",
       "  <thead>\n",
       "    <tr style=\"text-align: right;\">\n",
       "      <th></th>\n",
       "      <th>state</th>\n",
       "      <th>fips</th>\n",
       "      <th>county</th>\n",
       "      <th>countyfips</th>\n",
       "      <th>dc</th>\n",
       "      <th>pop</th>\n",
       "      <th>pct_mortality</th>\n",
       "      <th>n_deaths</th>\n",
       "      <th>alpha_posterior</th>\n",
       "      <th>beta_posterior</th>\n",
       "      <th>posterior_mean_exact</th>\n",
       "    </tr>\n",
       "  </thead>\n",
       "  <tbody>\n",
       "    <tr>\n",
       "      <th>0</th>\n",
       "      <td>ALABAMA</td>\n",
       "      <td>1</td>\n",
       "      <td>AUTAUGA</td>\n",
       "      <td>1001</td>\n",
       "      <td>1.0</td>\n",
       "      <td>64915.0</td>\n",
       "      <td>0.000015</td>\n",
       "      <td>1.0</td>\n",
       "      <td>6.754036</td>\n",
       "      <td>164353.06831</td>\n",
       "      <td>0.000041</td>\n",
       "    </tr>\n",
       "    <tr>\n",
       "      <th>1</th>\n",
       "      <td>ALABAMA</td>\n",
       "      <td>1</td>\n",
       "      <td>BALDWIN</td>\n",
       "      <td>1003</td>\n",
       "      <td>15.0</td>\n",
       "      <td>195253.0</td>\n",
       "      <td>0.000077</td>\n",
       "      <td>15.0</td>\n",
       "      <td>20.754036</td>\n",
       "      <td>294691.06831</td>\n",
       "      <td>0.000070</td>\n",
       "    </tr>\n",
       "    <tr>\n",
       "      <th>2</th>\n",
       "      <td>ALABAMA</td>\n",
       "      <td>1</td>\n",
       "      <td>BARBOUR</td>\n",
       "      <td>1005</td>\n",
       "      <td>1.0</td>\n",
       "      <td>33987.0</td>\n",
       "      <td>0.000029</td>\n",
       "      <td>1.0</td>\n",
       "      <td>6.754036</td>\n",
       "      <td>133425.06831</td>\n",
       "      <td>0.000051</td>\n",
       "    </tr>\n",
       "    <tr>\n",
       "      <th>3</th>\n",
       "      <td>ALABAMA</td>\n",
       "      <td>1</td>\n",
       "      <td>BIBB</td>\n",
       "      <td>1007</td>\n",
       "      <td>1.0</td>\n",
       "      <td>31175.0</td>\n",
       "      <td>0.000032</td>\n",
       "      <td>1.0</td>\n",
       "      <td>6.754036</td>\n",
       "      <td>130613.06831</td>\n",
       "      <td>0.000052</td>\n",
       "    </tr>\n",
       "    <tr>\n",
       "      <th>4</th>\n",
       "      <td>ALABAMA</td>\n",
       "      <td>1</td>\n",
       "      <td>BLOUNT</td>\n",
       "      <td>1009</td>\n",
       "      <td>5.0</td>\n",
       "      <td>91547.0</td>\n",
       "      <td>0.000055</td>\n",
       "      <td>5.0</td>\n",
       "      <td>10.754036</td>\n",
       "      <td>190985.06831</td>\n",
       "      <td>0.000056</td>\n",
       "    </tr>\n",
       "  </tbody>\n",
       "</table>\n",
       "</div>"
      ],
      "text/plain": [
       "     state  fips   county  countyfips    dc       pop  pct_mortality  \\\n",
       "0  ALABAMA     1  AUTAUGA        1001   1.0   64915.0       0.000015   \n",
       "1  ALABAMA     1  BALDWIN        1003  15.0  195253.0       0.000077   \n",
       "2  ALABAMA     1  BARBOUR        1005   1.0   33987.0       0.000029   \n",
       "3  ALABAMA     1     BIBB        1007   1.0   31175.0       0.000032   \n",
       "4  ALABAMA     1   BLOUNT        1009   5.0   91547.0       0.000055   \n",
       "\n",
       "   n_deaths  alpha_posterior  beta_posterior  posterior_mean_exact  \n",
       "0       1.0         6.754036    164353.06831              0.000041  \n",
       "1      15.0        20.754036    294691.06831              0.000070  \n",
       "2       1.0         6.754036    133425.06831              0.000051  \n",
       "3       1.0         6.754036    130613.06831              0.000052  \n",
       "4       5.0        10.754036    190985.06831              0.000056  "
      ]
     },
     "execution_count": 4,
     "metadata": {},
     "output_type": "execute_result"
    }
   ],
   "source": [
    "cancer['alpha_posterior'] = cancer['n_deaths'] + alpha\n",
    "cancer['beta_posterior'] = cancer['pop'] + beta\n",
    "cancer['posterior_mean_exact'] = cancer['alpha_posterior'] / cancer['beta_posterior']\n",
    "cancer.head()"
   ]
  },
  {
   "cell_type": "markdown",
   "metadata": {},
   "source": [
    "> 2.3. Use the values of $\\alpha$ and $\\beta$ you derived in 2.2 to generate 5000 posterior samples for the kidney cancer rates for each county.  Use these samples to generate a posterior mean rate for each county."
   ]
  },
  {
   "cell_type": "code",
   "execution_count": 5,
   "metadata": {},
   "outputs": [
    {
     "data": {
      "text/html": [
       "<div>\n",
       "<style scoped>\n",
       "    .dataframe tbody tr th:only-of-type {\n",
       "        vertical-align: middle;\n",
       "    }\n",
       "\n",
       "    .dataframe tbody tr th {\n",
       "        vertical-align: top;\n",
       "    }\n",
       "\n",
       "    .dataframe thead th {\n",
       "        text-align: right;\n",
       "    }\n",
       "</style>\n",
       "<table border=\"1\" class=\"dataframe\">\n",
       "  <thead>\n",
       "    <tr style=\"text-align: right;\">\n",
       "      <th></th>\n",
       "      <th>state</th>\n",
       "      <th>fips</th>\n",
       "      <th>county</th>\n",
       "      <th>countyfips</th>\n",
       "      <th>dc</th>\n",
       "      <th>pop</th>\n",
       "      <th>pct_mortality</th>\n",
       "      <th>n_deaths</th>\n",
       "      <th>alpha_posterior</th>\n",
       "      <th>beta_posterior</th>\n",
       "      <th>posterior_mean_exact</th>\n",
       "      <th>posterior_mean_pp</th>\n",
       "    </tr>\n",
       "  </thead>\n",
       "  <tbody>\n",
       "    <tr>\n",
       "      <th>0</th>\n",
       "      <td>ALABAMA</td>\n",
       "      <td>1</td>\n",
       "      <td>AUTAUGA</td>\n",
       "      <td>1001</td>\n",
       "      <td>1.0</td>\n",
       "      <td>64915.0</td>\n",
       "      <td>0.000015</td>\n",
       "      <td>1.0</td>\n",
       "      <td>6.754036</td>\n",
       "      <td>164353.06831</td>\n",
       "      <td>0.000041</td>\n",
       "      <td>0.000041</td>\n",
       "    </tr>\n",
       "    <tr>\n",
       "      <th>1</th>\n",
       "      <td>ALABAMA</td>\n",
       "      <td>1</td>\n",
       "      <td>BALDWIN</td>\n",
       "      <td>1003</td>\n",
       "      <td>15.0</td>\n",
       "      <td>195253.0</td>\n",
       "      <td>0.000077</td>\n",
       "      <td>15.0</td>\n",
       "      <td>20.754036</td>\n",
       "      <td>294691.06831</td>\n",
       "      <td>0.000070</td>\n",
       "      <td>0.000071</td>\n",
       "    </tr>\n",
       "    <tr>\n",
       "      <th>2</th>\n",
       "      <td>ALABAMA</td>\n",
       "      <td>1</td>\n",
       "      <td>BARBOUR</td>\n",
       "      <td>1005</td>\n",
       "      <td>1.0</td>\n",
       "      <td>33987.0</td>\n",
       "      <td>0.000029</td>\n",
       "      <td>1.0</td>\n",
       "      <td>6.754036</td>\n",
       "      <td>133425.06831</td>\n",
       "      <td>0.000051</td>\n",
       "      <td>0.000051</td>\n",
       "    </tr>\n",
       "    <tr>\n",
       "      <th>3</th>\n",
       "      <td>ALABAMA</td>\n",
       "      <td>1</td>\n",
       "      <td>BIBB</td>\n",
       "      <td>1007</td>\n",
       "      <td>1.0</td>\n",
       "      <td>31175.0</td>\n",
       "      <td>0.000032</td>\n",
       "      <td>1.0</td>\n",
       "      <td>6.754036</td>\n",
       "      <td>130613.06831</td>\n",
       "      <td>0.000052</td>\n",
       "      <td>0.000052</td>\n",
       "    </tr>\n",
       "    <tr>\n",
       "      <th>4</th>\n",
       "      <td>ALABAMA</td>\n",
       "      <td>1</td>\n",
       "      <td>BLOUNT</td>\n",
       "      <td>1009</td>\n",
       "      <td>5.0</td>\n",
       "      <td>91547.0</td>\n",
       "      <td>0.000055</td>\n",
       "      <td>5.0</td>\n",
       "      <td>10.754036</td>\n",
       "      <td>190985.06831</td>\n",
       "      <td>0.000056</td>\n",
       "      <td>0.000056</td>\n",
       "    </tr>\n",
       "  </tbody>\n",
       "</table>\n",
       "</div>"
      ],
      "text/plain": [
       "     state  fips   county  countyfips    dc       pop  pct_mortality  \\\n",
       "0  ALABAMA     1  AUTAUGA        1001   1.0   64915.0       0.000015   \n",
       "1  ALABAMA     1  BALDWIN        1003  15.0  195253.0       0.000077   \n",
       "2  ALABAMA     1  BARBOUR        1005   1.0   33987.0       0.000029   \n",
       "3  ALABAMA     1     BIBB        1007   1.0   31175.0       0.000032   \n",
       "4  ALABAMA     1   BLOUNT        1009   5.0   91547.0       0.000055   \n",
       "\n",
       "   n_deaths  alpha_posterior  beta_posterior  posterior_mean_exact  \\\n",
       "0       1.0         6.754036    164353.06831              0.000041   \n",
       "1      15.0        20.754036    294691.06831              0.000070   \n",
       "2       1.0         6.754036    133425.06831              0.000051   \n",
       "3       1.0         6.754036    130613.06831              0.000052   \n",
       "4       5.0        10.754036    190985.06831              0.000056   \n",
       "\n",
       "   posterior_mean_pp  \n",
       "0           0.000041  \n",
       "1           0.000071  \n",
       "2           0.000051  \n",
       "3           0.000052  \n",
       "4           0.000056  "
      ]
     },
     "execution_count": 5,
     "metadata": {},
     "output_type": "execute_result"
    }
   ],
   "source": [
    "posterior_rates_unscaled = scipy.stats.gamma.rvs(a=cancer['alpha_posterior'], scale=1/cancer['beta_posterior'], size=((5000, cancer.shape[0])))\n",
    "poisson_rates = posterior_rates_unscaled * cancer['pop'].values.reshape(1, cancer.shape[0]) * 5\n",
    "deaths = scipy.stats.poisson.rvs(poisson_rates)\n",
    "death_rates = deaths / (cancer['pop'].values.reshape(1, cancer.shape[0]) * 5)\n",
    "cancer['posterior_mean_pp'] = death_rates.mean(axis=0)\n",
    "cancer.head()"
   ]
  },
  {
   "cell_type": "markdown",
   "metadata": {},
   "source": [
    "> 2.4. Produce a scatter plot of the raw cancer rates (pct mortality) vs the county population size. Highlight the top 300 raw cancer rates in red. Highlight the bottom 300 raw cancer rates in blue. Finally, on the same plot add a scatter plot visualization of the posterior mean cancer rate estimates (pct mortality) vs the county population size, highlight these in green."
   ]
  },
  {
   "cell_type": "code",
   "execution_count": 29,
   "metadata": {},
   "outputs": [
    {
     "data": {
      "text/plain": [
       "<matplotlib.axes._subplots.AxesSubplot at 0x1a3b62c710>"
      ]
     },
     "execution_count": 29,
     "metadata": {},
     "output_type": "execute_result"
    },
    {
     "data": {
      "image/png": "[encoded data removed]",
      "text/plain": [
       "<matplotlib.figure.Figure at 0x1a3b04b7b8>"
      ]
     },
     "metadata": {},
     "output_type": "display_data"
    }
   ],
   "source": [
    "g = sns.scatterplot(x=\"pop\", y=\"pct_mortality\", data=cancer, color='black', alpha=.4, label='Raw rate')\n",
    "g.set(ylim=(-0.0001, 0.001))\n",
    "sns.scatterplot(data=cancer.nlargest(300, 'pct_mortality'), x='pop', y='pct_mortality', color='red', label='Highest raw rate')\n",
    "sns.scatterplot(data=cancer.nsmallest(300, 'pct_mortality'), x='pop', y='pct_mortality', color='blue', label='Lowest raw rate')\n",
    "sns.scatterplot(data=cancer, x='pop', y='posterior_mean_exact', color='green', label='Bayesian rate', alpha=.2)\n",
    "\n"
   ]
  },
  {
   "cell_type": "markdown",
   "metadata": {},
   "source": [
    "> 2.5. Using the above scatter plot, explain why using the posterior means from our model to estimate cancer rates is preferable to studying the raw rates themselves.\n",
    "\n",
    "> **Hint:** You might also find it helpful to follow the Rat Tumor example."
   ]
  },
  {
   "cell_type": "markdown",
   "metadata": {},
   "source": [
    "The Bayesian rates are preferable to study the rates for a few reasons:\n",
    "\n",
    "1. Inference on the lowest and highest rates actually makes sense. We saw in the plot above that these values are only driven by small counties using the maximum likelihood rates.\n",
    "2. When we want to use the rates as input to further analysis (e.g. determine what causes high cancer rates), this is hard with raw rates. Once we apply regularization, the rates make more sense (especially if the subsequent analysis also uses Bayesian methods and can handle samples from the posterior rates).\n",
    "3. The Bayesian analysis captures our intuitive understanding that small counties do not provide much evidence and should be ignored (see plot below)"
   ]
  },
  {
   "cell_type": "code",
   "execution_count": 57,
   "metadata": {},
   "outputs": [
    {
     "name": "stderr",
     "output_type": "stream",
     "text": [
      "/anaconda/lib/python3.6/site-packages/matplotlib/axes/_axes.py:545: UserWarning: No labelled objects found. Use label='...' kwarg on individual plots.\n",
      "  warnings.warn(\"No labelled objects found. \"\n"
     ]
    },
    {
     "data": {
      "image/png": "[encoded data removed]",
      "text/plain": [
       "<matplotlib.figure.Figure at 0x1a3cb4a550>"
      ]
     },
     "metadata": {},
     "output_type": "display_data"
    }
   ],
   "source": [
    "cancer['regularization'] = cancer['posterior_mean_exact'] - cancer['pct_mortality']\n",
    "g = sns.scatterplot('pop', 'regularization', data=cancer)\n",
    "g.set(ylim=(-0.001, 0.0002))\n",
    "g.set(xlabel=\"Population\", ylabel=\"Regularization\")\n",
    "g.set_title(\"Regularization of raw rates\")\n",
    "plt.legend()"
   ]
  },
  {
   "cell_type": "markdown",
   "metadata": {},
   "source": [
    "<div class=\"answer-separator\">\n",
    "------------------------\n",
    "</div>"
   ]
  },
  {
   "cell_type": "markdown",
   "metadata": {},
   "source": [
    "## Q2: Martin Garrix, Tiesto, Marshmello on the 1s and 2s.  Is that a Mixture of Experts?"
   ]
  },
  {
   "cell_type": "markdown",
   "metadata": {},
   "source": [
    "**Some coding required**\n",
    "\n",
    "What if you had to predict a one-to-many function? The data provided below comes from a dataset generated by Chris Bishop (yes that Bishop) to explain the models mentioned in the title above. We have included a pdf from his book which describe these models in some detail. This problem will continure in future homework where we shall learn to sample from this model and also how to solve it using mixture density networks.\n",
    "\n",
    "We read this data in..."
   ]
  },
  {
   "cell_type": "code",
   "execution_count": 2,
   "metadata": {},
   "outputs": [
    {
     "data": {
      "text/html": [
       "<div>\n",
       "<style scoped>\n",
       "    .dataframe tbody tr th:only-of-type {\n",
       "        vertical-align: middle;\n",
       "    }\n",
       "\n",
       "    .dataframe tbody tr th {\n",
       "        vertical-align: top;\n",
       "    }\n",
       "\n",
       "    .dataframe thead th {\n",
       "        text-align: right;\n",
       "    }\n",
       "</style>\n",
       "<table border=\"1\" class=\"dataframe\">\n",
       "  <thead>\n",
       "    <tr style=\"text-align: right;\">\n",
       "      <th></th>\n",
       "      <th>target</th>\n",
       "      <th>x</th>\n",
       "    </tr>\n",
       "  </thead>\n",
       "  <tbody>\n",
       "    <tr>\n",
       "      <th>0</th>\n",
       "      <td>0.000000</td>\n",
       "      <td>0.018727</td>\n",
       "    </tr>\n",
       "    <tr>\n",
       "      <th>1</th>\n",
       "      <td>0.001001</td>\n",
       "      <td>0.050424</td>\n",
       "    </tr>\n",
       "    <tr>\n",
       "      <th>2</th>\n",
       "      <td>0.002002</td>\n",
       "      <td>0.042375</td>\n",
       "    </tr>\n",
       "    <tr>\n",
       "      <th>3</th>\n",
       "      <td>0.003003</td>\n",
       "      <td>0.038596</td>\n",
       "    </tr>\n",
       "    <tr>\n",
       "      <th>4</th>\n",
       "      <td>0.004004</td>\n",
       "      <td>0.019352</td>\n",
       "    </tr>\n",
       "  </tbody>\n",
       "</table>\n",
       "</div>"
      ],
      "text/plain": [
       "     target         x\n",
       "0  0.000000  0.018727\n",
       "1  0.001001  0.050424\n",
       "2  0.002002  0.042375\n",
       "3  0.003003  0.038596\n",
       "4  0.004004  0.019352"
      ]
     },
     "execution_count": 2,
     "metadata": {},
     "output_type": "execute_result"
    }
   ],
   "source": [
    "df = pd.read_csv(\"../data/one-to-many.csv\")\n",
    "df.head()"
   ]
  },
  {
   "cell_type": "markdown",
   "metadata": {},
   "source": [
    "...and then plot it. Notice both the uneven sampling (more towards the center), and the \"more than one y\" for a given x."
   ]
  },
  {
   "cell_type": "code",
   "execution_count": 3,
   "metadata": {},
   "outputs": [
    {
     "data": {
      "image/png": "[encoded data removed]",
      "text/plain": [
       "<matplotlib.figure.Figure at 0x1195897b8>"
      ]
     },
     "metadata": {},
     "output_type": "display_data"
    }
   ],
   "source": [
    "plt.plot(df.x, df.target, '.');"
   ]
  },
  {
   "cell_type": "markdown",
   "metadata": {},
   "source": [
    "Normal regression approaches to modeling such a function wont work, as they expect the function to be a proper mathematical function, that is, single valued.\n",
    "\n",
    "These kind of problems are called **inverse problems**, where more than one input state leads to an output state, and we have to try and model these multiple input states."
   ]
  },
  {
   "cell_type": "markdown",
   "metadata": {},
   "source": [
    "A mixture of gaussians (or other distributions) might is a sensible way to do this.\n",
    "\n",
    "You choose one of the gaussians with some probability. The nean of the gaussian is then given by some regression function, say for example a straight line. We could additionally fix the standard deviation or model it as well. \n",
    "\n",
    "Thus, for each component Gaussian, we choose a functional form for the mean and standard deviation. So our model looks something like this:"
   ]
  },
  {
   "cell_type": "markdown",
   "metadata": {},
   "source": [
    "$$f(x)  = \\sum_i \\lambda_i g_i (x) $$\n",
    "\n",
    "Say we fit a model with 3 gaussians to this data. Such a model cannot fit the function above. Notice for example that at $x=0.2$ only one of the gaussians will dominate, different from the situation at $x=0.5$. This means that the probabilities of \"belonging\" to one or the other gaussians is also changing with $x$.\n",
    "\n",
    "If we allow the mixing probabilities to depend on $x$, we can model this situation.\n",
    "\n",
    "$$f(x)  = \\sum_i \\lambda_i (x) g_i (x) $$\n",
    "\n",
    "Such a model is called a \"mixture of experts\" model. The idea is that one \"expert\" gaussian is responsible in one sector of the feature space, while another expert is responsible in another sector.\n",
    "\n",
    "You can think of this model as implementing a \"standard\" gaussian mixture at each \"point\" x, with the added complexity that all of the means, standard deviations, and mixture probabilities change from one x to another.\n",
    "\n",
    "See https://www.cs.toronto.edu/~hinton/absps/hme.pdf and http://www.ee.hacettepe.edu.tr/~eyuksel/Publications/2012_TwentyYearsofMixtureofExperts.pdf for more details. I found the latter clearer and easier to understand.\n",
    "\n",
    "For this entire question you might find diagram code from [here](https://github.com/hardmaru/pytorch_notebooks/blob/master/mixture_density_networks.ipynb) useful. Take with attribution.\n",
    "\n",
    "We will assume we have **3 gaussians**."
   ]
  },
  {
   "cell_type": "markdown",
   "metadata": {},
   "source": [
    "### Iterative Linear Regression Mixture of Experts Model\n",
    "\n",
    "The basic idea, illustrated below, is to fit piecewise linear regressions iteratively in a EM style algorithm.\n",
    "\n",
    "![](https://piazza.com/redirect/s3?bucket=uploads&prefix=attach%2Fjlo4e4ari3r4wd%2Fj9vjyzv62x149%2Fjnsuyq59tar%2Fmixreg0.png)"
   ]
  },
  {
   "cell_type": "markdown",
   "metadata": {},
   "source": [
    "The algorithm looks like this: \n",
    "\n",
    "- Initialize the 1000 points in this dataset as randomly belonging to one of 3 \"classes\" or \"clusters\" or \"experts\". This takes a x-data problem and augments it with a fake z data point that tells us whether the point belongs in cluster 0, 1, or 2. (It helps convergence to say that points in the leftmost 0.2 belong to cluster 0 and righmost 0.2 to cluster 2).\n",
    "\n",
    "- With the fake z's in hand the 1000 points can be separated (based on cluster assignment) into 3 sets of points and used to fit 3 linear regression models. \n",
    "\n",
    "- Predictions can be made for all 1000 points on the data for each of the 3 regression lines. Reassign each data point to a cluster by choosing the cluster that minimizes the prediction error based on the squared distances between its actual y value and the 3 cluster predictions.\n",
    "\n",
    "- Rinse and repeat.\n",
    "\n",
    "3.1. We stated that \"*It helps convergence to say that points in the leftmost 0.2 belong to cluster 0 and righmost 0.2 to cluster 2*\".  Why might it help convergence to define an initial cluster assignment as opposed to random assignment?\n",
    "\n",
    "3.2. Specify a potential convergence criterion to use.  Why might you choose it?\n",
    "\n",
    "3.3. Implement the algorithm we described along with the convergence criterion you chose in 3.2.  You can use a linear regression fitter of your choice (statsmodels, sklearn, your own...).\n",
    "\n",
    "3.4. Apply your algorithm in the data in the `df` dataframe to produce a diagram like the one above which illustrates the straight line fits as well as the cluster belonging. \n"
   ]
  },
  {
   "cell_type": "markdown",
   "metadata": {},
   "source": [
    "**Note for those who want to read more** The mixture of experts can be implemented using Expectation Maximization using iteratively-reweighted least squares. Our method in A was merely an approximation to this process. You can find update equations [here](https://people.eecs.berkeley.edu/~jordan/papers/jordan-xu.ps)\n",
    "\n",
    "**Gratuitous Titular Reference**:  [DJs](https://martingarrix.com/), [DJs](https://www.tiesto.com/), [DJs](https://marshmellomusic.com/)."
   ]
  },
  {
   "cell_type": "markdown",
   "metadata": {},
   "source": [
    "> 3.1. We stated that \"*It helps convergence to say that points in the leftmost 0.2 belong to cluster 0 and righmost 0.2 to cluster 2*\".  Why might it help convergence to define an initial cluster assignment as opposed to random assignment?"
   ]
  },
  {
   "cell_type": "markdown",
   "metadata": {},
   "source": [
    "The EM algorithm generally finds a **local maximum** of the likelihood only. Now, in the problem at hand, we have a fairly good intuition about how the desired solution should look like: points on the left should be in one cluster, points on the right in another and points in the middle can belong to either of the three.\n",
    "\n",
    "By putting this structure in the initilization we nudge the algorithm towards this desired outcome."
   ]
  },
  {
   "cell_type": "markdown",
   "metadata": {},
   "source": [
    "> 3.2. Specify a potential convergence criterion to use.  Why might you choose it?"
   ]
  },
  {
   "cell_type": "markdown",
   "metadata": {},
   "source": [
    "The convergence criterion we use is that the residual sum of squares between two iteration does not improve more than $\\epsilon$ percent. \n",
    "\n",
    "One reason to choose it, is that the residual sum of squares is a standard performance measure for regression problem.\n",
    "\n",
    "We actually suspect that the algorithm can be put in the context of the EM algorithm, in which case the residual sum of squares would correspond to the negative log likelihood (up to unimportant constants). Writing it as an EM algorithm would follow along the lines of writing K-means as EM algorithm (see e.g. [here](https://www.coursera.org/learn/bayesian-methods-in-machine-learning))."
   ]
  },
  {
   "cell_type": "markdown",
   "metadata": {},
   "source": [
    "> 3.3. Implement the algorithm we described along with the convergence criterion you chose in 3.2.  You can use a linear regression fitter of your choice (statsmodels, sklearn, your own...)."
   ]
  },
  {
   "cell_type": "code",
   "execution_count": 283,
   "metadata": {},
   "outputs": [],
   "source": [
    "from sklearn.linear_model import LinearRegression\n",
    "\n",
    "class expertMixutre():\n",
    "    \"\"\"\n",
    "    Implements a mixture of experts model\n",
    "    \"\"\"\n",
    "    def __init__(self, df, target, predictor, n_cluster, eps=0.001):\n",
    "        self.data = df\n",
    "        self.n_data = df.shape[0]\n",
    "        self.target = target\n",
    "        self.predictor = predictor\n",
    "        self.n_cluster = n_cluster\n",
    "        self.rss = []\n",
    "        self.eps = eps\n",
    "    \n",
    "    def initialize_cluster_(self, cluster=np.empty(0)):\n",
    "        if len(cluster) > 0:\n",
    "            self.cluster = cluster\n",
    "        else:\n",
    "            cluster = np.random.randint(high=self.n_cluster, size=self.n_data)\n",
    "    \n",
    "    def E_step(self):\n",
    "        \"\"\"\n",
    "        Fit best linear model to cluster assignment.\n",
    "        \"\"\"\n",
    "        self.experts = {}\n",
    "        data_grouped = self.data.groupby(self.cluster)\n",
    "        for cluster, data_cluster in data_grouped:\n",
    "            self.experts[cluster] = LinearRegression().fit(data_cluster[['x']], data_cluster['target'])\n",
    "    \n",
    "    def M_step(self):\n",
    "        preds = np.empty((self.n_data, self.n_cluster))\n",
    "        for i, expert in self.experts.items():\n",
    "            preds[:, i] = expert.predict(self.data[[self.predictor]])\n",
    "            \n",
    "        resids = preds - self.data.target.reshape((self.n_data, 1))\n",
    "        resids_sq = resids ** 2\n",
    "        best_cluster = np.argmin(resids_sq, 1)\n",
    "        self.cluster = best_cluster\n",
    "    \n",
    "    def calc_rss(self):\n",
    "        preds = np.empty(self.n_data)\n",
    "        data_grouped = self.data.groupby(self.cluster)\n",
    "        for cluster, data_cluster in data_grouped:\n",
    "            preds[self.cluster == cluster] = self.experts[cluster].predict(data_cluster[[self.predictor]])\n",
    "        resid_sq = np.sum((self.data.target - preds)**2)\n",
    "        self.rss.append(resid_sq)\n",
    "    \n",
    "    def check_convergence(self):\n",
    "        if len(self.rss) < 2:\n",
    "            return False\n",
    "        else:\n",
    "            return (self.rss[-2] - self.rss[-1]) / (self.rss[-2]) < self.eps\n",
    "    \n",
    "    def train(self):\n",
    "        while not self.check_convergence():\n",
    "            self.E_step()\n",
    "            self.M_step()\n",
    "            self.calc_rss()"
   ]
  },
  {
   "cell_type": "markdown",
   "metadata": {},
   "source": [
    "> 3.4. Apply your algorithm in the data in the `df` dataframe to produce a diagram like the one above which illustrates the straight line fits as well as the cluster belonging. "
   ]
  },
  {
   "cell_type": "code",
   "execution_count": 300,
   "metadata": {},
   "outputs": [
    {
     "name": "stderr",
     "output_type": "stream",
     "text": [
      "/anaconda/lib/python3.6/site-packages/scipy/stats/stats.py:1706: FutureWarning: Using a non-tuple sequence for multidimensional indexing is deprecated; use `arr[tuple(seq)]` instead of `arr[seq]`. In the future this will be interpreted as an array index, `arr[np.array(seq)]`, which will result either in an error or a different result.\n",
      "  return np.add.reduce(sorted[indexer] * weights, axis=axis) / sumval\n",
      "/anaconda/lib/python3.6/site-packages/ipykernel_launcher.py:36: FutureWarning: reshape is deprecated and will raise in a subsequent release. Please use .values.reshape(...) instead\n"
     ]
    },
    {
     "data": {
      "text/plain": [
       "Text(0,0.5,'Residual sum of squares')"
      ]
     },
     "execution_count": 300,
     "metadata": {},
     "output_type": "execute_result"
    },
    {
     "data": {
      "image/png": "[encoded data removed]",
      "text/plain": [
       "<matplotlib.figure.Figure at 0x11da1a4a8>"
      ]
     },
     "metadata": {},
     "output_type": "display_data"
    },
    {
     "data": {
      "image/png": "[encoded data removed]",
      "text/plain": [
       "<matplotlib.figure.Figure at 0x11c114b38>"
      ]
     },
     "metadata": {},
     "output_type": "display_data"
    },
    {
     "data": {
      "image/png": "[encoded data removed]",
      "text/plain": [
       "<matplotlib.figure.Figure at 0x106f369b0>"
      ]
     },
     "metadata": {},
     "output_type": "display_data"
    }
   ],
   "source": [
    "np.random.seed(0)\n",
    "df['cluster'] = np.random.choice([0, 1, 2], replace=True, size=df.shape[0])\n",
    "df.loc[df.x <= 0.2, 'cluster'] = 0\n",
    "df.loc[df.x >= 0.8, 'cluster'] = 2\n",
    "\n",
    "cluster = df['cluster']\n",
    "\n",
    "foo = expertMixutre(df, 'target', 'x', n_cluster=3, eps=0.0000001)\n",
    "foo.initialize_cluster_(df.cluster)\n",
    "df['cluster'] = foo.cluster\n",
    "sns.lmplot('x', 'target', data=df, hue='cluster')\n",
    "plt.title('Experts before training')\n",
    "\n",
    "foo.train()\n",
    "df['cluster'] = foo.cluster\n",
    "sns.lmplot('x', 'target', data=df, hue='cluster')\n",
    "plt.title(\"Experts after training\")\n",
    "\n",
    "plt.figure()\n",
    "plt.plot(foo.rss)\n",
    "plt.title(\"Convergence\")\n",
    "plt.xlabel(\"EM Iteration\")\n",
    "plt.ylabel(\"Residual sum of squares\")"
   ]
  },
  {
   "cell_type": "markdown",
   "metadata": {},
   "source": [
    "<div class=\"answer-separator\">\n",
    "------------------------\n",
    "</div>"
   ]
  }
 ],
 "metadata": {
  "anaconda-cloud": {},
  "kernelspec": {
   "display_name": "Python 3",
   "language": "python",
   "name": "python3"
  },
  "language_info": {
   "codemirror_mode": {
    "name": "ipython",
    "version": 3
   },
   "file_extension": ".py",
   "mimetype": "text/x-python",
   "name": "python",
   "nbconvert_exporter": "python",
   "pygments_lexer": "ipython3",
   "version": "3.6.1"
  }
 },
 "nbformat": 4,
 "nbformat_minor": 2
}
