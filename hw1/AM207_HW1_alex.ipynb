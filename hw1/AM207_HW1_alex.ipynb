{
 "cells": [
  {
   "cell_type": "markdown",
   "metadata": {},
   "source": [
    "# AM207 Homework 1\n",
    "\n",
    "##### Data: wine_quality_missing.csv\n",
    "\n",
    "**Harvard University**<br>\n",
    "**Fall 2018**<br>\n",
    "**Instructors: Rahul Dave**<br>\n",
    "**Due Date: ** Saturday, September 15th, 2018 at 11:59pm\n",
    "\n",
    "\n",
    "\n",
    "**Instructions:**\n",
    "\n",
    "- Upload your final answers as well as your iPython notebook containing all work to Canvas.\n",
    "\n",
    "- Structure your notebook and your work to maximize readability.\n"
   ]
  },
  {
   "cell_type": "code",
   "execution_count": 1,
   "metadata": {
    "collapsed": true
   },
   "outputs": [],
   "source": [
    "import numpy as np\n",
    "import scipy.stats\n",
    "import matplotlib\n",
    "import matplotlib.pyplot as plt\n",
    "import matplotlib.mlab as mlab\n",
    "from matplotlib import cm\n",
    "import pandas as pd\n",
    "import seaborn as sns\n",
    "%matplotlib inline"
   ]
  },
  {
   "cell_type": "markdown",
   "metadata": {},
   "source": [
    "## Question 1: Don't Be Sensitive, We're Looking For False Positivity\n",
    "\n",
    "**Coding not required**\n",
    "\n",
    "As the U.S. aims to increase early identification and treatment of people with HIV, a greater focus has been placed on determining the accuracy of HIV tests in real-world settings in order to better identify individuals during the early (acute) stages of infection when transmission risk is especially high.  In order to quantify this, researchers from the University of California, San Francisco conducted a review of over 21,234 HIV tests given between the years 2003 and 2008 in some of the city's highest prevalence populations.  Two of the tests included in the study -- the OraQuick Advance Blood Rapid Antibody Test (a 3rd generation fingerstick blood test we'll henceforth call the **BRT**) and the OraQuick Advance Saliva Rapid Antibody Test (a 3rd generation saliva test we'll henceforth call the **SRT**) -- can be considered Rapidly Administered tests.  According to Wikipedia, the overall prevalence of adult HIV in the United States is 0.3%\n",
    "\n",
    "You and your partner decide to undergo tests for HIV and the two of you are administered the SRT at an HIV screening clinic.  You're aware that the test you've been administered (one of the tests featured in the study) has a sensitivity (true positive rate) of 86.6% and a specificity (true negative rate) of 98.6%.\n",
    "\n",
    "1.1. In the unfortunate event that your partner tests positive what is the probability that he/she has HIV?\n",
    "\n",
    "1.2. Should you be concerned enough to ask for further testing or treatment for your partner?  Justify your answer quantitatively.\n",
    "\n",
    "1.3. The medical staff at the screening clinic decides to independently administer the BRT as it is the only other test they can administer on site.  Based on the UCSF study above, you're aware that this test has a sensitivity (true positive rate) of 91.9% and a specificity of 99.6%.  What is the probability that your partner has the HIV if both tests come up positive (Make the assumption that the independent administration means that the tests are independent of each other)?\n",
    "\n",
    "It turns out the screening clinic didn't have the second test and you and your partner were only able to be administered the SRT. However, on your way home you're reminded that your partner has spent almost all his/her life in the Bahamas where the prevalence of adult HIV is 3.3%.\n",
    "\n",
    "1.4. What is the probability that your Bahamian partner has HIV given that he/she received a positive test result on the SRT?\n",
    "\n",
    "1.5. How does the new information quantifiably affect your decision of whether you should  be concerned enough to ask for treatment or testing for your partner?\n",
    "\n",
    "*Make sure to justify your decisions using your calculations.*"
   ]
  },
  {
   "cell_type": "markdown",
   "metadata": {},
   "source": [
    "**Solution**:"
   ]
  },
  {
   "cell_type": "markdown",
   "metadata": {},
   "source": [
    "<div class=\"answer-separator\">\n",
    "------------------------\n",
    "</div>"
   ]
  },
  {
   "cell_type": "markdown",
   "metadata": {},
   "source": [
    "<h4>1.1. In the unfortunate event that your partner tests positive what is the probability that he/she has HIV?</h4>"
   ]
  },
  {
   "cell_type": "markdown",
   "metadata": {},
   "source": [
    "Denote by $\\pm$ the event that a test is positive/negative, by $\\text{HIV}$ the event that a person has HIV and by $\\overline{\\text{HIV}}$ the event that a person does not have HIV. We are interested in $P\\left(\\text{HIV} \\vert +\\right)$ (and we are considering the **BRT** test). We can use Bayes' theorem:\n",
    "\n",
    "$$P\\left(\\text{HIV} \\vert +\\right) = \\frac{P\\left(+ \\vert \\text{HIV} \\right) P (\\text{HIV})}{P(+)} \\:.$$\n",
    "\n",
    "We can calculate $P(+) = P(+ \\vert \\text{HIV}) P(\\text{HIV}) + P(+ \\vert \\overline{\\text{HIV}}) P(\\overline{\\text{HIV}}) \\:.$ Now we have all quantities:\n",
    "\n",
    "\n",
    "+ $P(+ \\vert \\text{HIV}) = 0.866$\n",
    "+ $P(+ \\vert \\overline{\\text{HIV}}) = 1 - P(- \\vert \\overline{\\text{HIV}}) = 1 - 0.986 = 0.014$\n",
    "+ $P(\\text{HIV}) = 0.003$\n",
    "+ $P(\\overline{\\text{HIV}} = 1 - 0.003 = 0.997$\n",
    "\n",
    "We can now plug in all numbers into the equation above:\n",
    "\n",
    "$$P\\left(\\text{HIV} \\vert +\\right) = \\frac{0.866 \\times 0.003}{0.866 \\times 0.003 + 0.014 \\times 0.997} \\:.$$"
   ]
  },
  {
   "cell_type": "code",
   "execution_count": 2,
   "metadata": {},
   "outputs": [
    {
     "data": {
      "text/plain": [
       "'Probability of having HIV: 0.157'"
      ]
     },
     "execution_count": 2,
     "metadata": {},
     "output_type": "execute_result"
    }
   ],
   "source": [
    "\"Probability of having HIV: {:.3f}\".format(0.866 * 0.003 / (0.866 * 0.003 + 0.014 * 0.997))"
   ]
  },
  {
   "cell_type": "markdown",
   "metadata": {},
   "source": [
    "<h4>1.2. Should you be concerned enough to ask for further testing or treatment for your partner?  Justify your answer quantitatively.</h4>"
   ]
  },
  {
   "cell_type": "markdown",
   "metadata": {},
   "source": [
    "<div class=\"answer\">\n",
    "\n",
    "<br>\n",
    "It's hard to justify the answer quantitatively, but for my risk appetite, a 15.7% probability of my partner having HIV is reason enough to ask for further testing. For treatment, definitely not.\n",
    "<br>\n",
    "\n",
    "</div>"
   ]
  },
  {
   "cell_type": "markdown",
   "metadata": {},
   "source": [
    "<div class=\"answer-separator\">\n",
    "------------------------\n",
    "</div>"
   ]
  },
  {
   "cell_type": "markdown",
   "metadata": {},
   "source": [
    "<h4>1.3. The medical staff at the screening clinic decides to independently administer the BRT as it is the only other test they can administer on site.  Based on the UCSF study above, you're aware that this test has a sensitivity (true positive rate) of 91.9% and a specificity of 99.6%.  What is the probability that your partner has the HIV if both tests come up positive (Make the assumption that the independent administration means that the tests are independent of each other)?</h4>"
   ]
  },
  {
   "cell_type": "markdown",
   "metadata": {},
   "source": [
    "The calculation is pretty much the same as before, but now we have a different prior probability, namely $P(\\text{HIV}) = 0.157$. The numbers required to do the calculation are:\n",
    "\n",
    "+ $P(+ \\vert \\text{HIV}) = 0.919$\n",
    "+ $P(+ \\vert \\overline{\\text{HIV}}) = 1 - P(- \\vert \\overline{\\text{HIV}}) = 1 - 0.996 = 0.004$\n",
    "+ $P(\\text{HIV}) = 0.157$\n",
    "+ $P(\\overline{\\text{HIV}} = 1 - 0.157 = 0.843$\n",
    "\n",
    "With these numbers we can now calculate\n",
    "\n",
    "$$P\\left(\\text{HIV} \\vert +\\right) = \\frac{0.919 \\times 0.157}{0.919 \\times 0.157 + 0.004 \\times 0.843} \\:.$$"
   ]
  },
  {
   "cell_type": "code",
   "execution_count": 3,
   "metadata": {},
   "outputs": [
    {
     "name": "stdout",
     "output_type": "stream",
     "text": [
      "Probability of having HIV with two positive tests: 0.98\n"
     ]
    }
   ],
   "source": [
    "print(\"Probability of having HIV with two positive tests: {:.2f}\".format(0.919 * 0.157 / (0.919 * 0.157 + 0.004 * 0.843)))"
   ]
  },
  {
   "cell_type": "markdown",
   "metadata": {},
   "source": [
    "<div class=\"answer-separator\">\n",
    "------------------------\n",
    "</div>"
   ]
  },
  {
   "cell_type": "markdown",
   "metadata": {},
   "source": [
    "<h4>1.4. What is the probability that your Bahamian partner has HIV given that he/she received a positive test result on the SRT?</h4>"
   ]
  },
  {
   "cell_type": "markdown",
   "metadata": {},
   "source": [
    "<div class=\"answer\">\n",
    "\n",
    "<br>\n",
    "$$P\\left(\\text{HIV}\\vert \\text{Bahamian}, +\\right) = \\frac{0.866 \\times 0.033}{0.866 \\times 0.033 + 0.014 \\times 0.967} \\:.$$\n",
    "<br>\n",
    "\n",
    "</div>"
   ]
  },
  {
   "cell_type": "code",
   "execution_count": 4,
   "metadata": {},
   "outputs": [
    {
     "data": {
      "text/plain": [
       "'Probability of having HIV given the partner is Bahamian: 0.679'"
      ]
     },
     "execution_count": 4,
     "metadata": {},
     "output_type": "execute_result"
    }
   ],
   "source": [
    "\"Probability of having HIV given the partner is Bahamian: {:.3f}\".format(0.866 * 0.033 / (0.866 * 0.033 + 0.014 * 0.967))"
   ]
  },
  {
   "cell_type": "markdown",
   "metadata": {},
   "source": [
    "<div class=\"answer-separator\">\n",
    "------------------------\n",
    "</div>"
   ]
  },
  {
   "cell_type": "markdown",
   "metadata": {},
   "source": [
    "<h4>1.5. How does the new information quantifiably affect your decision of whether you should  be concerned enough to ask for treatment or testing for your partner?</h4>"
   ]
  },
  {
   "cell_type": "markdown",
   "metadata": {},
   "source": [
    "<div class=\"answer\">\n",
    "\n",
    "<br>\n",
    "With a probability of 0.68, further testing would be highly recommended. Assuming that side effects of HIV drugs are quite heavy, I would not recommend to start treatment yet, but insist on quick testing.\n",
    "<br>\n",
    "\n",
    "</div>"
   ]
  },
  {
   "cell_type": "markdown",
   "metadata": {},
   "source": [
    "<div class=\"answer-separator\">\n",
    "------------------------\n",
    "</div>"
   ]
  },
  {
   "cell_type": "markdown",
   "metadata": {},
   "source": [
    "## Question 2: Visualize Yourself Missing Your Data\n",
    "\n",
    "**Some Coding required**\n",
    "\n",
    "Missing data is a very important topic in statistics and machine learning and we may touch upon it a few times throughout the course. Let us begin to explore how to handle missing data in our analysis.  We'll be working with a dataset from the UCI Machine Learning Repository that uses a variety of wine chemical predictors to classify wines grown in the same region in Italy.  Each line represents 13 (mostly chemical) predictors of the response variable wine class, including things like alcohol content, hue, and phenols.  Unfortunately some of the predictor values were lost in measurement.  You'll find the dataset in a file called `wine_quality_missing.csv`."
   ]
  },
  {
   "cell_type": "markdown",
   "metadata": {},
   "source": [
    "**2.1. Read the data in the `wine_quality_missing.csv` into a pandas dataframe and store the dataframe in the variable `wine_df`.  How many observations are in the dataset? **"
   ]
  },
  {
   "cell_type": "code",
   "execution_count": 5,
   "metadata": {},
   "outputs": [
    {
     "data": {
      "text/html": [
       "<div>\n",
       "<style scoped>\n",
       "    .dataframe tbody tr th:only-of-type {\n",
       "        vertical-align: middle;\n",
       "    }\n",
       "\n",
       "    .dataframe tbody tr th {\n",
       "        vertical-align: top;\n",
       "    }\n",
       "\n",
       "    .dataframe thead th {\n",
       "        text-align: right;\n",
       "    }\n",
       "</style>\n",
       "<table border=\"1\" class=\"dataframe\">\n",
       "  <thead>\n",
       "    <tr style=\"text-align: right;\">\n",
       "      <th></th>\n",
       "      <th>Alcohol</th>\n",
       "      <th>Malic acid</th>\n",
       "      <th>Ash</th>\n",
       "      <th>Alcalinity of ash</th>\n",
       "      <th>Magnesium</th>\n",
       "      <th>Total phenols</th>\n",
       "      <th>Flavanoids</th>\n",
       "      <th>Nonflavanoid phenols</th>\n",
       "      <th>Proanthocyanins</th>\n",
       "      <th>Color intensity</th>\n",
       "      <th>Hue</th>\n",
       "      <th>OD280/OD315 of diluted wines</th>\n",
       "      <th>Proline</th>\n",
       "      <th>Class</th>\n",
       "    </tr>\n",
       "  </thead>\n",
       "  <tbody>\n",
       "    <tr>\n",
       "      <th>0</th>\n",
       "      <td>14.23</td>\n",
       "      <td>1.71</td>\n",
       "      <td>2.43</td>\n",
       "      <td>15.6</td>\n",
       "      <td>127.0</td>\n",
       "      <td>2.80</td>\n",
       "      <td>3.06</td>\n",
       "      <td>0.28</td>\n",
       "      <td>2.29</td>\n",
       "      <td>5.64</td>\n",
       "      <td>1.04</td>\n",
       "      <td>3.92</td>\n",
       "      <td>1065.0</td>\n",
       "      <td>1</td>\n",
       "    </tr>\n",
       "    <tr>\n",
       "      <th>1</th>\n",
       "      <td>13.20</td>\n",
       "      <td>1.78</td>\n",
       "      <td>2.14</td>\n",
       "      <td>NaN</td>\n",
       "      <td>100.0</td>\n",
       "      <td>2.65</td>\n",
       "      <td>2.76</td>\n",
       "      <td>0.26</td>\n",
       "      <td>1.28</td>\n",
       "      <td>4.38</td>\n",
       "      <td>1.05</td>\n",
       "      <td>3.40</td>\n",
       "      <td>1050.0</td>\n",
       "      <td>1</td>\n",
       "    </tr>\n",
       "    <tr>\n",
       "      <th>2</th>\n",
       "      <td>13.16</td>\n",
       "      <td>2.36</td>\n",
       "      <td>2.67</td>\n",
       "      <td>18.6</td>\n",
       "      <td>101.0</td>\n",
       "      <td>2.80</td>\n",
       "      <td>3.24</td>\n",
       "      <td>0.30</td>\n",
       "      <td>2.81</td>\n",
       "      <td>5.68</td>\n",
       "      <td>1.03</td>\n",
       "      <td>3.17</td>\n",
       "      <td>1185.0</td>\n",
       "      <td>1</td>\n",
       "    </tr>\n",
       "    <tr>\n",
       "      <th>3</th>\n",
       "      <td>14.37</td>\n",
       "      <td>1.95</td>\n",
       "      <td>2.50</td>\n",
       "      <td>NaN</td>\n",
       "      <td>113.0</td>\n",
       "      <td>3.85</td>\n",
       "      <td>3.49</td>\n",
       "      <td>0.24</td>\n",
       "      <td>2.18</td>\n",
       "      <td>7.80</td>\n",
       "      <td>0.86</td>\n",
       "      <td>3.45</td>\n",
       "      <td>1480.0</td>\n",
       "      <td>1</td>\n",
       "    </tr>\n",
       "    <tr>\n",
       "      <th>4</th>\n",
       "      <td>13.24</td>\n",
       "      <td>2.59</td>\n",
       "      <td>2.87</td>\n",
       "      <td>21.0</td>\n",
       "      <td>118.0</td>\n",
       "      <td>2.80</td>\n",
       "      <td>2.69</td>\n",
       "      <td>0.39</td>\n",
       "      <td>NaN</td>\n",
       "      <td>4.32</td>\n",
       "      <td>1.04</td>\n",
       "      <td>2.93</td>\n",
       "      <td>735.0</td>\n",
       "      <td>1</td>\n",
       "    </tr>\n",
       "  </tbody>\n",
       "</table>\n",
       "</div>"
      ],
      "text/plain": [
       "   Alcohol  Malic acid   Ash  Alcalinity of ash  Magnesium  Total phenols  \\\n",
       "0    14.23        1.71  2.43               15.6      127.0           2.80   \n",
       "1    13.20        1.78  2.14                NaN      100.0           2.65   \n",
       "2    13.16        2.36  2.67               18.6      101.0           2.80   \n",
       "3    14.37        1.95  2.50                NaN      113.0           3.85   \n",
       "4    13.24        2.59  2.87               21.0      118.0           2.80   \n",
       "\n",
       "   Flavanoids  Nonflavanoid phenols  Proanthocyanins  Color intensity   Hue  \\\n",
       "0        3.06                  0.28             2.29             5.64  1.04   \n",
       "1        2.76                  0.26             1.28             4.38  1.05   \n",
       "2        3.24                  0.30             2.81             5.68  1.03   \n",
       "3        3.49                  0.24             2.18             7.80  0.86   \n",
       "4        2.69                  0.39              NaN             4.32  1.04   \n",
       "\n",
       "   OD280/OD315 of diluted wines  Proline  Class  \n",
       "0                          3.92   1065.0      1  \n",
       "1                          3.40   1050.0      1  \n",
       "2                          3.17   1185.0      1  \n",
       "3                          3.45   1480.0      1  \n",
       "4                          2.93    735.0      1  "
      ]
     },
     "execution_count": 5,
     "metadata": {},
     "output_type": "execute_result"
    }
   ],
   "source": [
    "# Read in dataset with pandas.read_csv\n",
    "wine_df = pd.read_csv(\"wine_quality_missing.csv\")\n",
    "wine_df.head(n=5)"
   ]
  },
  {
   "cell_type": "code",
   "execution_count": 6,
   "metadata": {},
   "outputs": [
    {
     "name": "stdout",
     "output_type": "stream",
     "text": [
      "Number of observations: 178\n"
     ]
    }
   ],
   "source": [
    "# Calculate the number of rows\n",
    "print(\"Number of observations: {}\".format(wine_df.shape[0]))"
   ]
  },
  {
   "cell_type": "markdown",
   "metadata": {},
   "source": [
    "**2.2. One way to handle missing data is to just totally ignore it by removing any rows that have any missing values.  This is called *drop imputation*.  Use drop imputation on our wine quality dataframe and store the resulting dataframe in the variable `wine_drop`.  How many observations does the drop imputed dataset have?**"
   ]
  },
  {
   "cell_type": "code",
   "execution_count": 7,
   "metadata": {},
   "outputs": [
    {
     "name": "stdout",
     "output_type": "stream",
     "text": [
      "Number of observations left: 43\n"
     ]
    }
   ],
   "source": [
    "# Drop all rows with missing values\n",
    "drop_imputed = wine_df.dropna()\n",
    "assert pd.isna(drop_imputed).sum().sum() == 0, \"Missing data still there\"\n",
    "print(\"Number of observations left: {}\".format(drop_imputed.shape[0]))"
   ]
  },
  {
   "cell_type": "markdown",
   "metadata": {},
   "source": [
    "** 2.3. Visualize using a normed histogram the values of Ash predictor in the drop imputed dataframe.  Overlay a fitted normal distribution on your plot.  Make sure to title the plot, include a legend and label axes. **"
   ]
  },
  {
   "cell_type": "code",
   "execution_count": 8,
   "metadata": {},
   "outputs": [
    {
     "data": {
      "image/png": "[encoded data removed]",
      "text/plain": [
       "<matplotlib.figure.Figure at 0x10e723898>"
      ]
     },
     "metadata": {},
     "output_type": "display_data"
    }
   ],
   "source": [
    "def plot_hist_normal(x):\n",
    "\n",
    "    mu = x.mean()\n",
    "    sd = x.std()\n",
    "\n",
    "    x_ = np.linspace(x.min(), x.max(), 100)\n",
    "    y_ = scipy.stats.norm.pdf(x_, loc=mu, scale=sd)\n",
    "\n",
    "\n",
    "    sns.distplot(x, norm_hist=True, kde=False, label='Histogram', bins=20)\n",
    "    plt.plot(x_, y_, label='Fitted normal')\n",
    "    plt.title('Normalized histogram and fitted normal distribution')\n",
    "    plt.ylabel('Density')\n",
    "    plt.legend()\n",
    "    \n",
    "plot_hist_normal(drop_imputed['Ash'])"
   ]
  },
  {
   "cell_type": "markdown",
   "metadata": {},
   "source": [
    "** 2.4. What are the mean and standard deviation of the values of the Ash feature in your drop imputed dataset? **"
   ]
  },
  {
   "cell_type": "code",
   "execution_count": 16,
   "metadata": {},
   "outputs": [
    {
     "name": "stdout",
     "output_type": "stream",
     "text": [
      "Mean of drop imputed Ash column: 2.37\n",
      "Standard deviation of drop imputed Ash column: 0.30\n"
     ]
    }
   ],
   "source": [
    "print(\"Mean of drop imputed Ash column: {:.2f}\".format(drop_imputed['Ash'].mean()))\n",
    "print(\"Standard deviation of drop imputed Ash column: {:.2f}\".format(drop_imputed['Ash'].std()))"
   ]
  },
  {
   "cell_type": "markdown",
   "metadata": {},
   "source": [
    "** 2.5. Another way to handle missing data is to replace any missing value with the mean of the non-missing values in that *column*.  This is called *mean imputation*.  How many rows does our mean imputed dataset have? **"
   ]
  },
  {
   "cell_type": "markdown",
   "metadata": {},
   "source": [
    "It has the same number of rows as the original dataset:"
   ]
  },
  {
   "cell_type": "code",
   "execution_count": 17,
   "metadata": {},
   "outputs": [
    {
     "name": "stdout",
     "output_type": "stream",
     "text": [
      "Number of rows in mean imputed dataset: 178\n"
     ]
    }
   ],
   "source": [
    "print(\"Number of rows in mean imputed dataset: {}\".format(wine_df.shape[0]))"
   ]
  },
  {
   "cell_type": "markdown",
   "metadata": {},
   "source": [
    "** 2.6. Visualize using a normed histogram the values of Ash predictor in the mean imputed dataframe.  Overlay a fitted normal distribution on your plot.  Make sure to title the plot, include a legend and label axes. **"
   ]
  },
  {
   "cell_type": "code",
   "execution_count": 18,
   "metadata": {
    "collapsed": true
   },
   "outputs": [],
   "source": [
    "def mean_impute(df):\n",
    "    \"\"\"\n",
    "    Perform mean imputation on dataframe `df`.\n",
    "    \n",
    "    @param df pandas DataFrame\n",
    "    \"\"\"\n",
    "    means = {col: df[col].mean() for col in df.columns}\n",
    "    return df.fillna(means)\n",
    "    \n",
    "mean_imputed = mean_impute(wine_df)"
   ]
  },
  {
   "cell_type": "code",
   "execution_count": 19,
   "metadata": {},
   "outputs": [
    {
     "data": {
      "image/png": "[encoded data removed]",
      "text/plain": [
       "<matplotlib.figure.Figure at 0x1116f5828>"
      ]
     },
     "metadata": {},
     "output_type": "display_data"
    }
   ],
   "source": [
    "plot_hist_normal(mean_imputed['Ash'])"
   ]
  },
  {
   "cell_type": "markdown",
   "metadata": {},
   "source": [
    "** 2.7. What are the mean and standard deviation of the Ash predictor values in your mean imputed dataset?  How do they compare to the mean and standard deviation of the drop imputed dataset? **"
   ]
  },
  {
   "cell_type": "code",
   "execution_count": 20,
   "metadata": {},
   "outputs": [
    {
     "name": "stdout",
     "output_type": "stream",
     "text": [
      "Mean of drop imputed Ash column: 2.37\n",
      "Standard deviation of drop imputed Ash column: 0.27\n"
     ]
    }
   ],
   "source": [
    "print(\"Mean of drop imputed Ash column: {:.2f}\".format(mean_imputed['Ash'].mean()))\n",
    "print(\"Standard deviation of drop imputed Ash column: {:.2f}\".format(mean_imputed['Ash'].std()))"
   ]
  },
  {
   "cell_type": "markdown",
   "metadata": {},
   "source": [
    "The mean is the same, the standard deviation is a smaller. The former is clear and the latter statement as well, since we add points that have zero contribution to the empirical standard deviation."
   ]
  },
  {
   "cell_type": "markdown",
   "metadata": {},
   "source": [
    "## Part 3: Walk Softly and Carry a Broken Stick  \n",
    "\n",
    "**Some Coding required**\n",
    "\n",
    "3.1  A well-known probability problem, the **Broken Stick Problem** can be formulated as follows. *A stick is broken up at two points, chosen at random along its\n",
    "length. Show that the probability that the pieces obtained form a triangle is 1/4.*  Write a function `simulate_broken_stick` that runs takes an integer parameter `n_sims`, runs that many simulations of the broken stick problem and returns a floating point number representing an estimate of the probability that the pieces of a stick randomly broken in two places form a triangle.  \n",
    "\n",
    "**Hints**:\n",
    "\n",
    "1. Use either np.random.rand or scipy.stats.uniform.rvs to simulate stick-breaking\n",
    "2. Think about the triangle inequality\n",
    "\n",
    "3.2 Run your function `simulate_broken_stick` with `n_sims` set to be equal to 50 and 1000.  What are your two estimates of the solution to the broken stick problem?\n",
    "\n",
    "3.3 (Optional) Provide an analytic proof of the **Broken Stick Problem**.\n",
    "\n",
    "**Hints**:\n",
    "\n",
    "1. There's a very nice geometric proof taking advantage of [Viviani's Theorem][1].  Argue that every point in the equilateral triangle with height equal to the length of the stick maps to a particular breaking of the stick.  Divide the equilateral triangle into subtriangles by joining the midpoints.  What does it mean for a point to be outside the central equilateral subtriangle?\n",
    "2. There's a more straightforward proof treating the breaking of the stick as joint uniform random variables.  What conditions does the triangle inequality impose on the joint random variable? How do you calculate the probability that the joint uniform meets those conditions? \n",
    "\n",
    "[1]: https://en.wikipedia.org/wiki/Viviani%27s_theorem"
   ]
  },
  {
   "cell_type": "markdown",
   "metadata": {},
   "source": [
    "**Solution**:"
   ]
  },
  {
   "cell_type": "markdown",
   "metadata": {},
   "source": [
    "<h4> 3.1  A well-known probability problem, the **Broken Stick Problem** can be formulated as follows. *A stick is broken up at two points, chosen at random along its\n",
    "length. Show that the probability that the pieces obtained form a triangle is 1/4.*  Write a function `simulate_broken_stick` that runs takes an integer parameter `n_sims`, runs that many simulations of the broken stick problem and returns a floating point number representing an estimate of the probability that the pieces of a stick randomly broken in two places form a triangle.</h4>"
   ]
  },
  {
   "cell_type": "markdown",
   "metadata": {},
   "source": [
    "Let the lengths of the three stcks be denoted by $x, y, z$ with $x \\leq y \\leq z$. Then, a necessary condition we need to have, is that \n",
    "\n",
    "$$x + y \\geq z \\:. $$"
   ]
  },
  {
   "cell_type": "code",
   "execution_count": 153,
   "metadata": {
    "collapsed": true
   },
   "outputs": [],
   "source": [
    "def simulate_broken_stick(n_sims=500):\n",
    "    \"\"\"\n",
    "    Vectorized simulation of broken stick problem.\n",
    "    \n",
    "    @param n_sims integer number of simulations\n",
    "    \n",
    "    @returns float\n",
    "    \"\"\"\n",
    "    # Simulate two break points and put smaller point in zeroth column\n",
    "    break_points = np.random.rand(n_sims, 2)\n",
    "    break_points.sort(axis=1)\n",
    "    \n",
    "    # Calculate three corresponding lengths\n",
    "    length = np.zeros((n_sims, 3))\n",
    "    length[:, 0] = break_points[:, 0]\n",
    "    length[:, 1] = break_points[:, 1] - break_points[:, 0]\n",
    "    length[:, 2] = 1 - break_points[:, 1]\n",
    "    length.sort(axis=1)\n",
    "    \n",
    "    # Triangle inequality\n",
    "    satisfies_ti = length[:, 0] + length[:, 1] < length[:, 2]\n",
    "    \n",
    "    return satisfies_ti.mean()"
   ]
  },
  {
   "cell_type": "markdown",
   "metadata": {},
   "source": [
    "<h4>3.2 Run your function `simulate_broken_stick` with `n_sims` set to be equal to 50 and 1000.  What are your two estimates of the solution to the broken stick problem?</h4>"
   ]
  },
  {
   "cell_type": "code",
   "execution_count": 154,
   "metadata": {
    "collapsed": true
   },
   "outputs": [],
   "source": [
    "estimate_50 = simulate_broken_stick(n_sims=50)  # calculate estimate for 50 simulations\n",
    "estimate_1000 = simulate_broken_stick(n_sims=1000)  # calculate estimate for 1000 simulations"
   ]
  },
  {
   "cell_type": "code",
   "execution_count": 155,
   "metadata": {},
   "outputs": [
    {
     "name": "stdout",
     "output_type": "stream",
     "text": [
      "Estimate of probability for 50 simulations 0.72\n",
      "Estimate of probability for 1000 simulations 0.735\n"
     ]
    }
   ],
   "source": [
    "## Make sure you present your answers somewhere here\n",
    "print(\"Estimate of probability for 50 simulations {}\".format(estimate_50))\n",
    "print(\"Estimate of probability for 1000 simulations {}\".format(estimate_1000))"
   ]
  },
  {
   "cell_type": "markdown",
   "metadata": {},
   "source": [
    "<h4>3.3 (Optional) Provide an analytic proof of the **Broken Stick Problem**.</h4>"
   ]
  },
  {
   "cell_type": "markdown",
   "metadata": {},
   "source": [
    "Note that the \"space of broken sticks\" can be described as the triangle\n",
    "\n",
    "$$\\Delta = \\{(x, y, z) \\in \\mathbb R ^ 3 \\vert x, y, z \\geq 0, x + y + z = 1\\} $$\n",
    "\n",
    "This triangle has an obvious $S_3$ permutation symmetry coming from permuting the coordinates. We can define a fundamental domain of $\\Delta$ as\n",
    "\n",
    "$$\\Delta^f = \\{(x, y, x) \\in \\mathbb R ^ 3 \\vert x \\leq y \\leq z, x + y + z = 1 \\} \\:.$$\n",
    "\n",
    "The projection $\\pi: \\mathbb R ^ 3 \\rightarrow \\mathbb R ^ 2, (x, y, z) \\mapsto (x, y)$ induces a bijection of $\\Delta$, and thus $\\Delta^f$ and $\\pi(\\Delta^f)$. "
   ]
  },
  {
   "cell_type": "markdown",
   "metadata": {
    "collapsed": true
   },
   "source": [
    "The fundamental domain $\\Delta ^ f \\subset \\mathbb R^2$ (induced via $\\pi$) can be described as\n",
    "\n",
    "$$\\Delta ^ f = \\{(x, y) \\in \\mathbb R ^ 2 \\vert x, y \\geq 0, x \\leq y \\leq 1 - x - y \\} \\:.$$"
   ]
  },
  {
   "cell_type": "markdown",
   "metadata": {},
   "source": [
    "Thus,\n",
    "\n",
    "$$ \\Delta ^ f = \\{(x, y) \\in \\mathbb R ^2 \\vert x \\geq 0, y \\geq 0, y \\geq x, y \\leq \\frac{1-x}{2} \\}$$"
   ]
  },
  {
   "cell_type": "markdown",
   "metadata": {},
   "source": [
    "The triangle inequality can be described as $x + y \\geq z \\Leftrightarrow x + y \\geq 1 - x - y \\Leftrightarrow 2x + 2y \\geq 1$."
   ]
  },
  {
   "cell_type": "markdown",
   "metadata": {},
   "source": [
    "All of these relations are visualized in the subsequent figure:\n",
    "\n",
    "+ The blue triangle denotes $\\Delta \\subset \\mathbb R ^ 2$\n",
    "+ The red line dentoes the curve $x = y$, thus we know that $\\Delta ^ f$ lies in the intersection of the blue triangle and points \"above\" the red line ($y \\geq x$)\n",
    "+ Next, the green line corresponds to the equation $y = \\frac{1 - x}{2}$ and we know that $y \\leq \\frac{1 - x}{2}$\n",
    "\n",
    "Thus, $\\Delta^f$ is spanned by the red line the green line and part of the blue line. More specifically, by the points $(0, 0), (0, 0.5), (1/3, 1/3)$. It is now straightforward to calculate the area of this triangle as $1/12$, either by the explicit formula \n",
    "\n",
    "$$A = \\sqrt{p (p-a)(p-b)(p-c)}$$ \n",
    "\n",
    "with $p = \\frac{a+b+c}{2}$. We can also derive this area from the fact that the blue triangle has an area of $1/2$ and we have an injective action of the symmetric group $S_3$ induced by permuting the coordinates in $\\mathbb R^3$ before applying the projection $\\pi$."
   ]
  },
  {
   "cell_type": "markdown",
   "metadata": {},
   "source": [
    "To get the possible triangles, we have to caluclate the area of the triangle spanned by the dark-red line, the green line and the red line. It is spanned by the points $(0, 0.5), (1/3, 1/3), (0.25, 0.25)$. This area is $0.02083333$."
   ]
  },
  {
   "cell_type": "code",
   "execution_count": 37,
   "metadata": {},
   "outputs": [
    {
     "name": "stdout",
     "output_type": "stream",
     "text": [
      "Area of triangles: 0.020833333333333343\n",
      "Probability of triangle: 0.2500000000000001\n"
     ]
    }
   ],
   "source": [
    "l1 = np.sqrt(1 / 3 ** 2 + (0.5 - 1 / 3) ** 2)\n",
    "l2 = np.sqrt((1 / 3 - 0.25) ** 2 + (0.25 - 1/3) ** 2)\n",
    "l3 = np.sqrt(0.25 ** 2 + 0.25 ** 2)\n",
    "p = (l1 + l2 + l3) / 2\n",
    "A = np.sqrt(p * (p - l1) * (p - l2) * (p - l3))\n",
    "print(\"Area of triangles: {}\".format(A))\n",
    "print(\"Probability of triangle: {}\".format(A * 12))"
   ]
  },
  {
   "cell_type": "code",
   "execution_count": 38,
   "metadata": {},
   "outputs": [
    {
     "data": {
      "text/plain": [
       "[<matplotlib.lines.Line2D at 0x1122c0b38>]"
      ]
     },
     "execution_count": 38,
     "metadata": {},
     "output_type": "execute_result"
    },
    {
     "data": {
      "image/png": "[encoded data removed]",
      "text/plain": [
       "<matplotlib.figure.Figure at 0x1116c02b0>"
      ]
     },
     "metadata": {},
     "output_type": "display_data"
    }
   ],
   "source": [
    "fig = plt.figure()\n",
    "ax = fig.add_subplot(111)\n",
    "\n",
    "plt.plot([0, 1, 0, 0], [0, 0, 1, 0])\n",
    "plt.plot([0, 1], [0, 1], 'r')\n",
    "plt.plot([0, 1], [0.5, 0])\n",
    "plt.plot([0, 0.5], [0.5, 0])"
   ]
  },
  {
   "cell_type": "code",
   "execution_count": null,
   "metadata": {
    "collapsed": true
   },
   "outputs": [],
   "source": []
  }
 ],
 "metadata": {
  "anaconda-cloud": {},
  "kernel_info": {
   "name": "python3"
  },
  "kernelspec": {
   "display_name": "Python 3",
   "language": "python",
   "name": "python3"
  },
  "language_info": {
   "codemirror_mode": {
    "name": "ipython",
    "version": 3
   },
   "file_extension": ".py",
   "mimetype": "text/x-python",
   "name": "python",
   "nbconvert_exporter": "python",
   "pygments_lexer": "ipython3",
   "version": "3.6.1"
  },
  "nteract": {
   "version": "0.10.0"
  }
 },
 "nbformat": 4,
 "nbformat_minor": 2
}
