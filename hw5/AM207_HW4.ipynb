{
 "cells": [
  {
   "cell_type": "markdown",
   "metadata": {},
   "source": [
    "# Homework 5\n",
    "\n",
    "##### Data: chall.txt\n",
    "\n",
    "**Harvard University**<br>\n",
    "**Fall 2018**<br>\n",
    "**Instructors: Rahul Dave**<br>\n",
    "**Due Date: ** Saturday, October 13th, 2018 at 11:59pm\n",
    "\n",
    "**Instructions:**\n",
    "\n",
    "- Upload your final answers in the form of a Jupyter notebook containing all work to Canvas.\n",
    "\n",
    "- Structure your notebook and your work to maximize readability."
   ]
  },
  {
   "cell_type": "markdown",
   "metadata": {},
   "source": [
    "### Collaborators\n",
    "\n",
    "** Place the name of everyone who's submitting this assignment here**"
   ]
  },
  {
   "cell_type": "markdown",
   "metadata": {},
   "source": [
    "<div class=\"answer-separator\">\n",
    "------------------------\n",
    "</div>"
   ]
  },
  {
   "cell_type": "code",
   "execution_count": 38,
   "metadata": {
    "collapsed": true
   },
   "outputs": [],
   "source": [
    "import numpy as np\n",
    "import scipy.stats\n",
    "import scipy.special\n",
    "\n",
    "import matplotlib\n",
    "import matplotlib.pyplot as plt\n",
    "import matplotlib.mlab as mlab\n",
    "from matplotlib import cm\n",
    "import pandas as pd\n",
    "import seaborn as sns\n",
    "%matplotlib inline"
   ]
  },
  {
   "cell_type": "markdown",
   "metadata": {},
   "source": [
    "## Question 1: We'll Always Have that Night Sampling in Monte Carlo"
   ]
  },
  {
   "cell_type": "markdown",
   "metadata": {},
   "source": [
    "**Coding required**\n",
    "\n",
    "\n",
    "Let $X$ be a random variable with distribution described by the following pdf:\n",
    "\n",
    "$$\n",
    "f_X(x) = \\begin{cases}\n",
    "\\frac{1}{12}(x-1), &1\\leq x\\leq 3\\\\\n",
    "-\\frac{1}{12}(x-5), &3< x\\leq 5\\\\\n",
    "\\frac{1}{6}(x-5), &5< x\\leq 7\\\\\n",
    "-\\frac{1}{6}(x-9), &7< x\\leq 9\\\\\n",
    "0, &otherwise\n",
    "\\end{cases}\n",
    "$$\n",
    "\n",
    "Let $h$ be the following function of $X$:\n",
    "\n",
    "$$h(X) = \\frac{1}{3\\sqrt{2}\\pi}\\mathrm{exp}\\left\\{ -\\frac{1}{18}\\left( X - 5\\right)^2\\right\\}$$\n",
    "\n",
    "\n",
    "Compute $\\mathbb{E}[h(X)]$ via Monte Carlo simulation using the following sampling methods:\n",
    "\n",
    "**1.1.** Inverse Transform Sampling\n",
    "\n",
    "**1.2.** Rejection Sampling with a uniform proposal distribution (rejection sampling in a rectangular box with uniform probability of sampling any x)\n"
   ]
  },
  {
   "cell_type": "markdown",
   "metadata": {},
   "source": [
    "<div class=\"answer-separator\">\n",
    "------------------------\n",
    "</div>"
   ]
  },
  {
   "cell_type": "markdown",
   "metadata": {},
   "source": [
    "## Question 2: The Consequences of O-ring Failure can be Painful and Deadly"
   ]
  },
  {
   "cell_type": "markdown",
   "metadata": {},
   "source": [
    "**Coding required**\n",
    "\n",
    "In 1986, the space shuttle Challenger exploded during take off, killing the seven astronauts aboard. It is believed that the explosion was caused by the failure of an O-ring (a rubber ring that seals parts of the solid fuel rockets together), and that the failure was caused by the cold weather at the time of launch (31F).\n",
    "\n",
    "In the file chall.txt, you will find temperature (in Fahrenheit) and failure data from 23 shuttle launches, where 1 stands for O-ring failure and 0 no failure. We assume that the observed temperatures are fixed and that, at temperature $t$, an O-ring fails with probability $f(\\theta_{1}+\\theta_{2}t)$ conditionally on $\\Theta = (\\theta_1, \\theta_2)$.\n",
    "\n",
    "$f(\\mathbf{z})$ is defined to be the logistic function -- $f(\\mathbf{ z }) = 1/(1 + \\exp(\\mathbf{ -z }))$ "
   ]
  },
  {
   "cell_type": "markdown",
   "metadata": {},
   "source": [
    "> **2.1.** Based on your own knowledge and experience, suggest a prior distribution for the regression parameters ($\\theta_1, \\theta_2$).  Make sure to explain your choice of prior. "
   ]
  },
  {
   "cell_type": "markdown",
   "metadata": {},
   "source": [
    "Our prior knowledge on this problem is quite limited, so we suggest a prior distribution that reflects this little knowledge. We do, however, pick the prior in such a way that at reasonable temperatures, the probability of a failure is small.\n",
    "\n",
    "So, our prior is a multivariate normal with uncorrelated components.\n",
    "\n",
    "Let's take a look at $p(a)$, the prior distribution for the intercept parameter. We take the mean of the prior distribution for $a$ to be $-1$ and its standard deviation to $2$. This means that (if the temparature coefficient is zero) that we have a mean probability of failure of slightly more than 25%. Also, we take the standard deviation to be 3 meaning that the 2 standard deviation confidence interval for the failure probabilities (again with temperature coefficient of zero) is between 0.7% and 95%.\n",
    "\n",
    "Next, for the prior of the temperature coefficient, $p(b)$. We take it to have mean zero and standard deviation of one. This means that a two-standard deviation sample from $p(b)$ and a one degree increase in temperature can push a probability of 50% to 88%, which would mean extreme sensitivity to temperature. So this prior is definitly not too constraining.\n",
    "\n",
    "Note that we'll center the temperature so that the above interpretation holds for the intercept parameter $a$."
   ]
  },
  {
   "cell_type": "code",
   "execution_count": 40,
   "metadata": {},
   "outputs": [
    {
     "data": {
      "text/plain": [
       "Text(0.5,1,'Prior specification at mean temperature')"
      ]
     },
     "execution_count": 40,
     "metadata": {},
     "output_type": "execute_result"
    },
    {
     "data": {
      "image/png": "[encoded data removed]",
      "text/plain": [
       "<matplotlib.figure.Figure at 0x11023a978>"
      ]
     },
     "metadata": {},
     "output_type": "display_data"
    }
   ],
   "source": [
    "mu = [-1, 0]\n",
    "sigma = [[2, 0], [0, 1]]\n",
    "\n",
    "prior_samples = scipy.stats.multivariate_normal.rvs(mean=mu, cov=sigma, size=1000)\n",
    "prior_means = prior_samples[:, 0] \n",
    "prior_ps = scipy.special.expit(prior_means)\n",
    "prior_results = scipy.stats.bernoulli.rvs(p=prior_ps, size=prior_samples.shape[0])\n",
    "sns.distplot(prior_results, kde=False, norm_hist=False)\n",
    "plt.xlabel(\"Proportion of failues\")\n",
    "plt.ylabel(\"Failues out of 1000\")\n",
    "plt.title(\"Prior specification at mean temperature\")"
   ]
  },
  {
   "cell_type": "markdown",
   "metadata": {},
   "source": [
    "> **2.2.** Produce 5000-10000 samples from the posterior distribution of $\\Theta $ using rejection sampling, and plot them and their marginals. (This may take a while.)"
   ]
  },
  {
   "cell_type": "markdown",
   "metadata": {},
   "source": [
    "Let's read in the data:"
   ]
  },
  {
   "cell_type": "code",
   "execution_count": 41,
   "metadata": {},
   "outputs": [
    {
     "name": "stderr",
     "output_type": "stream",
     "text": [
      "/anaconda/lib/python3.6/site-packages/ipykernel_launcher.py:1: ParserWarning: Falling back to the 'python' engine because the 'c' engine does not support regex separators (separators > 1 char and different from '\\s+' are interpreted as regex); you can avoid this warning by specifying engine='python'.\n",
      "  \"\"\"Entry point for launching an IPython kernel.\n"
     ]
    },
    {
     "data": {
      "text/html": [
       "<div>\n",
       "<style scoped>\n",
       "    .dataframe tbody tr th:only-of-type {\n",
       "        vertical-align: middle;\n",
       "    }\n",
       "\n",
       "    .dataframe tbody tr th {\n",
       "        vertical-align: top;\n",
       "    }\n",
       "\n",
       "    .dataframe thead th {\n",
       "        text-align: right;\n",
       "    }\n",
       "</style>\n",
       "<table border=\"1\" class=\"dataframe\">\n",
       "  <thead>\n",
       "    <tr style=\"text-align: right;\">\n",
       "      <th></th>\n",
       "      <th>Temperature</th>\n",
       "      <th>Failure</th>\n",
       "      <th>Temperature_centered</th>\n",
       "    </tr>\n",
       "  </thead>\n",
       "  <tbody>\n",
       "    <tr>\n",
       "      <th>0</th>\n",
       "      <td>66</td>\n",
       "      <td>0</td>\n",
       "      <td>-3.565217</td>\n",
       "    </tr>\n",
       "    <tr>\n",
       "      <th>1</th>\n",
       "      <td>70</td>\n",
       "      <td>1</td>\n",
       "      <td>0.434783</td>\n",
       "    </tr>\n",
       "    <tr>\n",
       "      <th>2</th>\n",
       "      <td>69</td>\n",
       "      <td>0</td>\n",
       "      <td>-0.565217</td>\n",
       "    </tr>\n",
       "    <tr>\n",
       "      <th>3</th>\n",
       "      <td>68</td>\n",
       "      <td>0</td>\n",
       "      <td>-1.565217</td>\n",
       "    </tr>\n",
       "    <tr>\n",
       "      <th>4</th>\n",
       "      <td>67</td>\n",
       "      <td>0</td>\n",
       "      <td>-2.565217</td>\n",
       "    </tr>\n",
       "  </tbody>\n",
       "</table>\n",
       "</div>"
      ],
      "text/plain": [
       "   Temperature  Failure  Temperature_centered\n",
       "0           66        0             -3.565217\n",
       "1           70        1              0.434783\n",
       "2           69        0             -0.565217\n",
       "3           68        0             -1.565217\n",
       "4           67        0             -2.565217"
      ]
     },
     "execution_count": 41,
     "metadata": {},
     "output_type": "execute_result"
    }
   ],
   "source": [
    "chall = pd.read_csv(\"../data/chall.txt\", header=None, names=['Temperature', 'Failure'], sep=\"   \")\n",
    "chall['Temperature_centered'] = chall['Temperature'] - chall['Temperature'].mean()\n",
    "chall.head()"
   ]
  },
  {
   "cell_type": "markdown",
   "metadata": {},
   "source": [
    "Note that in this case, we have a natural probability distribution that we can use to generate the samples for rejection samples, namely the prior distribution itself. The point is that the likelihood $p(y\\vert \\Theta) \\leq 1$ (for a single datapoint), so the posterior $p(\\Theta \\vert y) \\propto p(\\Theta) p(y\\vert \\Theta) \\leq p(\\Theta)$. It suffices for rejection sampling that we work with the unnormalized posterior here."
   ]
  },
  {
   "cell_type": "code",
   "execution_count": 42,
   "metadata": {},
   "outputs": [],
   "source": [
    "n = chall.shape[0]\n",
    "n_samples = 5000\n",
    "posterior = np.empty((n_samples, 2))\n",
    "n_sampled = 0\n",
    "while n_sampled < n_samples:\n",
    "    \n",
    "    a, b = scipy.stats.multivariate_normal.rvs(mean=mu, cov=sigma)\n",
    "    logits = a + chall['Temperature_centered'] * b\n",
    "    p = scipy.special.expit(logits).values\n",
    "    l = chall['Failure'] * p + (1-chall['Failure']) * (1-p)\n",
    "\n",
    "    prior_l = scipy.stats.multivariate_normal.pdf([a, b], mean=mu, cov=sigma) \n",
    "    proposal_l = l.sum() * prior_l / n\n",
    "    \n",
    "    if np.random.uniform() <= proposal_l / prior_l:\n",
    "        posterior[n_sampled, :] = [a, b]\n",
    "        n_sampled += 1"
   ]
  },
  {
   "cell_type": "code",
   "execution_count": 43,
   "metadata": {},
   "outputs": [
    {
     "data": {
      "text/plain": [
       "<seaborn.axisgrid.JointGrid at 0x1106928d0>"
      ]
     },
     "execution_count": 43,
     "metadata": {},
     "output_type": "execute_result"
    },
    {
     "data": {
      "image/png": "[encoded data removed]",
      "text/plain": [
       "<matplotlib.figure.Figure at 0x1106924a8>"
      ]
     },
     "metadata": {},
     "output_type": "display_data"
    }
   ],
   "source": [
    "posterior_df = pd.DataFrame(posterior, columns=['Intercept', 'Temperature coefficient'])\n",
    "sns.jointplot('Intercept', 'Temperature coefficient', data=posterior_df)"
   ]
  },
  {
   "cell_type": "markdown",
   "metadata": {},
   "source": [
    "> **2.3.** Use the logit package in the `statsmodels` library to compute 68% confidence intervals on the $\\theta$ parameters.  Compare those intervals with the 68% credible intervals from the posterior above. Overlay these on the above marginals plots. "
   ]
  },
  {
   "cell_type": "markdown",
   "metadata": {},
   "source": [
    "We use the formula interface to `statsmodels` to calculate the model."
   ]
  },
  {
   "cell_type": "code",
   "execution_count": 44,
   "metadata": {},
   "outputs": [
    {
     "name": "stdout",
     "output_type": "stream",
     "text": [
      "Optimization terminated successfully.\n",
      "         Current function value: 0.441635\n",
      "         Iterations 6\n"
     ]
    }
   ],
   "source": [
    "import statsmodels.formula.api as sm\n",
    " \n",
    "model = sm.logit('Failure ~ Temperature_centered', data=chall)\n",
    "result = model.fit()"
   ]
  },
  {
   "cell_type": "markdown",
   "metadata": {},
   "source": [
    "Let's look at the summary. The coefficients seem to be similar to the ones from the Bayesian analysis."
   ]
  },
  {
   "cell_type": "code",
   "execution_count": 45,
   "metadata": {},
   "outputs": [
    {
     "data": {
      "text/html": [
       "<table class=\"simpletable\">\n",
       "<tr>\n",
       "        <td>Model:</td>              <td>Logit</td>       <td>No. Iterations:</td>  <td>6.0000</td> \n",
       "</tr>\n",
       "<tr>\n",
       "  <td>Dependent Variable:</td>      <td>Failure</td>     <td>Pseudo R-squared:</td>  <td>0.281</td> \n",
       "</tr>\n",
       "<tr>\n",
       "         <td>Date:</td>        <td>2018-10-12 22:44</td>       <td>AIC:</td>        <td>24.3152</td>\n",
       "</tr>\n",
       "<tr>\n",
       "   <td>No. Observations:</td>         <td>23</td>              <td>BIC:</td>        <td>26.5862</td>\n",
       "</tr>\n",
       "<tr>\n",
       "       <td>Df Model:</td>              <td>1</td>         <td>Log-Likelihood:</td>  <td>-10.158</td>\n",
       "</tr>\n",
       "<tr>\n",
       "     <td>Df Residuals:</td>           <td>21</td>            <td>LL-Null:</td>      <td>-14.134</td>\n",
       "</tr>\n",
       "<tr>\n",
       "      <td>Converged:</td>           <td>1.0000</td>           <td>Scale:</td>       <td>1.0000</td> \n",
       "</tr>\n",
       "</table>\n",
       "<table class=\"simpletable\">\n",
       "<tr>\n",
       "            <td></td>            <th>Coef.</th>  <th>Std.Err.</th>    <th>z</th>     <th>P>|z|</th> <th>[0.025</th>  <th>0.975]</th> \n",
       "</tr>\n",
       "<tr>\n",
       "  <th>Intercept</th>            <td>-1.1076</td>  <td>0.5796</td>  <td>-1.9108</td> <td>0.0560</td> <td>-2.2436</td> <td>0.0285</td> \n",
       "</tr>\n",
       "<tr>\n",
       "  <th>Temperature_centered</th> <td>-0.2322</td>  <td>0.1082</td>  <td>-2.1450</td> <td>0.0320</td> <td>-0.4443</td> <td>-0.0200</td>\n",
       "</tr>\n",
       "</table>"
      ],
      "text/plain": [
       "<class 'statsmodels.iolib.summary2.Summary'>\n",
       "\"\"\"\n",
       "                           Results: Logit\n",
       "====================================================================\n",
       "Model:                Logit              No. Iterations:     6.0000 \n",
       "Dependent Variable:   Failure            Pseudo R-squared:   0.281  \n",
       "Date:                 2018-10-12 22:44   AIC:                24.3152\n",
       "No. Observations:     23                 BIC:                26.5862\n",
       "Df Model:             1                  Log-Likelihood:     -10.158\n",
       "Df Residuals:         21                 LL-Null:            -14.134\n",
       "Converged:            1.0000             Scale:              1.0000 \n",
       "--------------------------------------------------------------------\n",
       "                      Coef.  Std.Err.    z    P>|z|   [0.025  0.975]\n",
       "--------------------------------------------------------------------\n",
       "Intercept            -1.1076   0.5796 -1.9108 0.0560 -2.2436  0.0285\n",
       "Temperature_centered -0.2322   0.1082 -2.1450 0.0320 -0.4443 -0.0200\n",
       "====================================================================\n",
       "\n",
       "\"\"\""
      ]
     },
     "execution_count": 45,
     "metadata": {},
     "output_type": "execute_result"
    }
   ],
   "source": [
    "result.summary2()"
   ]
  },
  {
   "cell_type": "code",
   "execution_count": 46,
   "metadata": {},
   "outputs": [
    {
     "data": {
      "text/html": [
       "<div>\n",
       "<style scoped>\n",
       "    .dataframe tbody tr th:only-of-type {\n",
       "        vertical-align: middle;\n",
       "    }\n",
       "\n",
       "    .dataframe tbody tr th {\n",
       "        vertical-align: top;\n",
       "    }\n",
       "\n",
       "    .dataframe thead th {\n",
       "        text-align: right;\n",
       "    }\n",
       "</style>\n",
       "<table border=\"1\" class=\"dataframe\">\n",
       "  <thead>\n",
       "    <tr style=\"text-align: right;\">\n",
       "      <th></th>\n",
       "      <th>Intercept</th>\n",
       "      <th>Temperature_centered</th>\n",
       "    </tr>\n",
       "  </thead>\n",
       "  <tbody>\n",
       "    <tr>\n",
       "      <th>Intercept</th>\n",
       "      <td>0.579618</td>\n",
       "      <td>0.136308</td>\n",
       "    </tr>\n",
       "    <tr>\n",
       "      <th>Temperature_centered</th>\n",
       "      <td>0.136308</td>\n",
       "      <td>0.108237</td>\n",
       "    </tr>\n",
       "  </tbody>\n",
       "</table>\n",
       "</div>"
      ],
      "text/plain": [
       "                      Intercept  Temperature_centered\n",
       "Intercept              0.579618              0.136308\n",
       "Temperature_centered   0.136308              0.108237"
      ]
     },
     "execution_count": 46,
     "metadata": {},
     "output_type": "execute_result"
    }
   ],
   "source": [
    "np.sqrt(result.cov_params())"
   ]
  },
  {
   "cell_type": "markdown",
   "metadata": {},
   "source": [
    "Let's plot the marginals here as well:"
   ]
  },
  {
   "cell_type": "code",
   "execution_count": 47,
   "metadata": {},
   "outputs": [
    {
     "data": {
      "text/plain": [
       "<matplotlib.legend.Legend at 0x1174285f8>"
      ]
     },
     "execution_count": 47,
     "metadata": {},
     "output_type": "execute_result"
    },
    {
     "data": {
      "image/png": "[encoded data removed]",
      "text/plain": [
       "<matplotlib.figure.Figure at 0x117358e48>"
      ]
     },
     "metadata": {},
     "output_type": "display_data"
    }
   ],
   "source": [
    "variable = 'Intercept'\n",
    "sns.distplot(posterior_df[variable])\n",
    "plt.axvline(np.percentile(posterior_df[variable], 68), label='Bayesian CI')\n",
    "plt.axvline(np.percentile(posterior_df[variable], 32))\n",
    "plt.axvline(result.params[variable] + np.sqrt(result.cov_params()[variable][variable]) , c='red', label='Frequentist CI')\n",
    "plt.axvline(result.params[variable] - np.sqrt(result.cov_params()[variable][variable]) , c='red')\n",
    "\n",
    "plt.legend()"
   ]
  },
  {
   "cell_type": "code",
   "execution_count": 48,
   "metadata": {},
   "outputs": [
    {
     "data": {
      "text/plain": [
       "<matplotlib.legend.Legend at 0x11757c518>"
      ]
     },
     "execution_count": 48,
     "metadata": {},
     "output_type": "execute_result"
    },
    {
     "data": {
      "image/png": "[encoded data removed]",
      "text/plain": [
       "<matplotlib.figure.Figure at 0x117456be0>"
      ]
     },
     "metadata": {},
     "output_type": "display_data"
    }
   ],
   "source": [
    "variable = 'Temperature coefficient'\n",
    "sns.distplot(posterior_df[variable])\n",
    "plt.axvline(np.percentile(posterior_df[variable], 68), label='Bayesian CI')\n",
    "plt.axvline(np.percentile(posterior_df[variable], 32))\n",
    "plt.axvline(result.params['Temperature_centered'] + np.sqrt(result.cov_params()['Temperature_centered']['Temperature_centered']), c='red', label='Frequentist CI')\n",
    "plt.axvline(result.params['Temperature_centered'] - np.sqrt(result.cov_params()['Temperature_centered']['Temperature_centered']) , c='red')\n",
    "\n",
    "plt.legend()"
   ]
  },
  {
   "cell_type": "markdown",
   "metadata": {},
   "source": [
    "> **2.4.** Use the MLE values from `statsmodels` and the posterior mean from **2.2** at each temperature to plot the probability of failure in the frequentist and bayesian settings as a function of temperature. What do you see? "
   ]
  },
  {
   "cell_type": "code",
   "execution_count": 113,
   "metadata": {},
   "outputs": [
    {
     "data": {
      "text/plain": [
       "Text(0.5,1,'Bayesian predictions are slightly regularized')"
      ]
     },
     "execution_count": 113,
     "metadata": {},
     "output_type": "execute_result"
    },
    {
     "data": {
      "image/png": "[encoded data removed]",
      "text/plain": [
       "<matplotlib.figure.Figure at 0x11963e588>"
      ]
     },
     "metadata": {},
     "output_type": "display_data"
    }
   ],
   "source": [
    "preds_freq = result.predict(chall['Temperature_centered'])\n",
    "chall['preds_freq'] = preds_freq\n",
    "chall['preds_bayes_mean'] = scipy.special.expit(posterior_df['Intercept'].mean() + posterior_df['Temperature coefficient'].mean() * chall['Temperature_centered'])\n",
    "\n",
    "plt.plot(chall['Temperature'], chall['preds_freq'], 'o', label='Frequentist mean prediction')\n",
    "plt.plot(chall['Temperature'], chall['preds_bayes_mean'], 'o', label='Bayesian mean prediction')\n",
    "plt.legend()\n",
    "plt.xlabel('Temperature')\n",
    "plt.ylabel('Probability of failure')\n",
    "plt.title('Bayesian predictions are slightly regularized')"
   ]
  },
  {
   "cell_type": "markdown",
   "metadata": {},
   "source": [
    "We see that the Bayesian predictions are slightly regularized in the sense that they predict lower probabilities of failure."
   ]
  },
  {
   "cell_type": "markdown",
   "metadata": {},
   "source": [
    "> **2.5.** Compute the mean posterior probability for an O-ring failure at $t = 31^\\circ F$. To do this you must calculate the posterior at $31^\\circ F$ and take the mean of the samples obtained."
   ]
  },
  {
   "cell_type": "code",
   "execution_count": 110,
   "metadata": {},
   "outputs": [
    {
     "data": {
      "text/plain": [
       "<matplotlib.legend.Legend at 0x1199834a8>"
      ]
     },
     "execution_count": 110,
     "metadata": {},
     "output_type": "execute_result"
    },
    {
     "data": {
      "image/png": "[encoded data removed]",
      "text/plain": [
       "<matplotlib.figure.Figure at 0x119983b00>"
      ]
     },
     "metadata": {},
     "output_type": "display_data"
    }
   ],
   "source": [
    "logits_31 = posterior_df['Intercept'] + posterior_df['Temperature coefficient'] * (31 - chall['Temperature'].mean())\n",
    "p_31 = scipy.special.expit(logits_31)\n",
    "sns.distplot(p_31)\n",
    "plt.axvline(p_31.mean(), label='Mean posterior probability of failure')\n",
    "plt.legend()"
   ]
  },
  {
   "cell_type": "code",
   "execution_count": 112,
   "metadata": {},
   "outputs": [
    {
     "name": "stdout",
     "output_type": "stream",
     "text": [
      "Posterior probability of failure at 31: 0.609\n"
     ]
    }
   ],
   "source": [
    "print(\"Mean posterior probability of failure at 31: {:.3f}\".format(p_31.mean()))"
   ]
  },
  {
   "cell_type": "markdown",
   "metadata": {},
   "source": [
    "This is much lower than in the frequentist setting, where it would be close to 1."
   ]
  },
  {
   "cell_type": "markdown",
   "metadata": {},
   "source": [
    "> **2.6.** You can instead obtain the probability from the posterior predictive. Use the posterior samples to obtain samples from the posterior predictive at $31^\\circ F$ and calculate the fraction of failures."
   ]
  },
  {
   "cell_type": "code",
   "execution_count": 117,
   "metadata": {},
   "outputs": [
    {
     "name": "stdout",
     "output_type": "stream",
     "text": [
      "Posterior probability of failure at 31: 0.609\n"
     ]
    }
   ],
   "source": [
    "posteror_failure_rate_31 = np.random.binomial(n=1, size=p_31.shape[0], p=p_31).mean()\n",
    "print(\"Posterior probability of failure at 31: {:.3f}\".format(p_31.mean()))"
   ]
  },
  {
   "cell_type": "markdown",
   "metadata": {},
   "source": [
    "It's pretty much the same. This is clear by looking at the graph above, since the predictions are very localized near 0 and 1."
   ]
  },
  {
   "cell_type": "markdown",
   "metadata": {},
   "source": [
    "> **2.7.** The day before a new launch, meteorologists predict that the temperature will be $T \\sim N(68, 1)$ during take-off. Estimate the probability for an O-ring failure during this take-off. (You will calculate multiple predictives at different temperatures for this purpose)."
   ]
  },
  {
   "cell_type": "markdown",
   "metadata": {},
   "source": [
    "We sample as many temperatures as we have posterior samples, do predictions using our posterior and then run the probabilities through a Bernoulli. Finally, we calculate the mean failure rate. It's aroung 38%."
   ]
  },
  {
   "cell_type": "code",
   "execution_count": 132,
   "metadata": {},
   "outputs": [
    {
     "name": "stdout",
     "output_type": "stream",
     "text": [
      "Probability of failure at 68: 0.379\n"
     ]
    }
   ],
   "source": [
    "n_new = n_sampled\n",
    "failures = np.empty(n_new)\n",
    "T = np.random.normal(68, 1, size=n_new)\n",
    "logits_68 = posterior_df['Intercept'] + posterior_df['Temperature coefficient'] * (68 - chall['Temperature'].mean())\n",
    "p_68 = scipy.special.expit(logits_68)\n",
    "print(\"Probability of failure at 68: {:.3f}\".format(scipy.random.binomial(n=1, p=p_68).mean()))"
   ]
  },
  {
   "cell_type": "markdown",
   "metadata": {},
   "source": [
    "**Coding required**\n",
    "\n",
    "Recall in HW 3 Question 1 we attempted to explore an edge case in using non-parametric bootstrap to construct confidence intervals.  Let's revisit the setup of that problem.\n",
    "Suppose you have $\\{X_1, X_2, ... X_n\\}$ datapoints such that $X_i$ are independently and identically drawn from a $Unif(0, \\theta)$.  Consider the extreme order statistic Y = $X_{(n)}$ = max($X_1, X_2, ... X_n$)."
   ]
  },
  {
   "cell_type": "markdown",
   "metadata": {},
   "source": [
    "<div class=\"answer-separator\">\n",
    "------------------------\n",
    "</div>"
   ]
  },
  {
   "cell_type": "markdown",
   "metadata": {},
   "source": [
    "> **3.1.** Derive (or possibly re-write from HW3) expressions for $F_Y(y\\ \\vert\\ n, \\theta)$ the CDF of Y and $f_Y(y\\ |\\ n, \\theta)$ the pdf of Y."
   ]
  },
  {
   "cell_type": "markdown",
   "metadata": {},
   "source": [
    "CDF\n",
    "$$\\begin{equation}\n",
    "\\begin{split}\n",
    "F_Y(y\\vert n,\\theta) = \\Pr \\left(X_{(n)} \\leq y \\vert \\theta\\right) = \\Pr \\left(X_1, \\dots, X_n \\leq y \\vert \\theta \\right) = \\prod_{i = 1} ^ n \\Pr\\left(X_i \\leq y \\vert \\theta \\right) \\\\\n",
    "=  \\begin{cases}\n",
    " 0 \\text{ if } y \\leq 0 \\\\\n",
    " \\left(\\frac{y}{\\theta}\\right) ^ n \\text{ if } 0 < y \\leq \\theta \\\\\n",
    " 1 \\text{ if } y \\geq \\theta\n",
    "\\end{cases}\n",
    "\\end{split}\n",
    "\\end{equation}\n",
    "$$\n",
    "\n",
    "PDF\n",
    "\n",
    "$$ f_Y(Y\\vert\\theta)  = \\frac{d F_Y(Y\\vert \\theta)}{d Y} = \n",
    "\\begin{cases}\n",
    "0 \\text{ if } Y \\leq 0 \\\\\n",
    "n Y^{n-1} / \\theta ^ n \\text{ if } 0 \\leq Y < \\theta \\\\\n",
    "0 \\text{  if } Y \\geq \\theta\n",
    "\\end{cases}$$"
   ]
  },
  {
   "cell_type": "markdown",
   "metadata": {},
   "source": [
    "> **3.2.** In HW3 we had difficulty constructing confidence intervals to estimate $\\theta$ with percentiles as normal so instead we introduced  pivot confidence intervals.  Let's reframe the problem so that we can use percentiles to construct our confidence intervals.  Define $Z \\equiv n \\cdot (\\theta - Y)$ use elementary calculation to write an expression for $F_Z(z\\ \\vert\\ n, \\theta)$ the CDF of $Z$ and $f_Z(y\\ |\\ n, \\theta)$ the pdf of Z."
   ]
  },
  {
   "cell_type": "markdown",
   "metadata": {},
   "source": [
    "$$\n",
    "F_Z(z\\ \\vert\\ n, \\theta) = \\Pr(Z \\leq z \\vert n, \\theta) = \\\\\n",
    "\\Pr\\left(n \\left(\\theta - Y\\right) \\leq z \\vert n, \\theta \\right) = \\\\\n",
    "\\Pr\\left(\\theta - \\frac{z}{n} \\leq Y \\vert \\theta, \\right) = \\\\\n",
    "\\Pr\\left(Y \\geq \\theta - \\frac{z}{n}\\right) = \\\\\n",
    "1 - \\Pr\\left(Y < \\theta - \\frac{z}{n} \\right) = \\\\\n",
    "1 - \\prod_i\\Pr\\left(X_i < \\theta - \\frac{z}{n} \\right) = \\\\\n",
    "=\n",
    "\\begin{align}\n",
    "\\begin{cases}\n",
    "0 & \\text{if }  z \\leq 0\\\\\n",
    "1 & \\text{if } z \\geq n \\theta \\\\\n",
    "1 - \\left( 1 - \\frac{z}{\\theta n}\\right)^n & \\text{else}  \\\\\n",
    "\\end{cases}\n",
    "\\end{align}\n",
    "$$"
   ]
  },
  {
   "cell_type": "markdown",
   "metadata": {},
   "source": [
    "The pdf is now easy to derive as well:\n",
    "$$\n",
    "f_Z(y\\vert n, \\theta)\n",
    "=\n",
    "\\begin{align}\n",
    "\\begin{cases}\n",
    "0 & \\text{if } z \\leq 0 \\text{ or } z \\geq n \\theta \\\\\n",
    "\\left(1 - \\frac{y}{\\theta n}\\right)^{n-1}\\frac{1}{\\theta} & \\text{else}\n",
    "\\end{cases}\n",
    "\\end{align} \\\\\n",
    "$$"
   ]
  },
  {
   "cell_type": "markdown",
   "metadata": {},
   "source": [
    "> **3.3.** What is the limiting distribution of Z (as $n \\rightarrow \\infty$)?  Plot that limiting distribution."
   ]
  },
  {
   "cell_type": "markdown",
   "metadata": {},
   "source": [
    "From the expression above, it's clear that this distribuion converges to an **exponential distribution with mean $\\theta$** in the limit $n\\rightarrow \\infty$."
   ]
  },
  {
   "cell_type": "code",
   "execution_count": 2,
   "metadata": {},
   "outputs": [
    {
     "data": {
      "text/plain": [
       "Text(0.5,1,'Limiting distribution is exponential with mean $\\\\theta=10$')"
      ]
     },
     "execution_count": 2,
     "metadata": {},
     "output_type": "execute_result"
    },
    {
     "data": {
      "image/png": "[encoded data removed]",
      "text/plain": [
       "<matplotlib.figure.Figure at 0x10e31f908>"
      ]
     },
     "metadata": {},
     "output_type": "display_data"
    }
   ],
   "source": [
    "x = np.arange(0, 800, 0.01)\n",
    "theta = 100\n",
    "plt.plot(x, scipy.stats.expon.pdf(x, scale=theta))\n",
    "plt.xlabel(\"y\")\n",
    "plt.ylabel(\"Limiting distribution\")\n",
    "plt.title(r\"Limiting distribution is exponential with mean $\\theta=10$\")"
   ]
  },
  {
   "cell_type": "markdown",
   "metadata": {},
   "source": [
    "> **3.4. Use scipy/numpy to generate 100000 samples {$X_i$} from Unif(0,100) (i.e. let $\\theta$ = 100).  Store them in Based on your data sample, what's $\\hat{\\theta}$ the empirical estimate for $\\theta$.**"
   ]
  },
  {
   "cell_type": "code",
   "execution_count": 3,
   "metadata": {},
   "outputs": [
    {
     "name": "stdout",
     "output_type": "stream",
     "text": [
      "Empirical estimate for theta is 99.998\n"
     ]
    }
   ],
   "source": [
    "np.random.seed(0)\n",
    "theta = 100\n",
    "n_samples = 100000\n",
    "uniform_samples = np.random.uniform(high=theta, size=n_samples)\n",
    "theta_hat = np.max(uniform_samples)\n",
    "print(r\"Empirical estimate for theta is {:.3f}\".format(theta_hat))"
   ]
  },
  {
   "cell_type": "markdown",
   "metadata": {},
   "source": [
    "> **3.5.** Use non-parametric bootstrap to generate a sampling distribution of 10000 estimates for $Z$ by substituting $\\hat{\\theta}$ for $\\theta$.  Plot a histogram of your sampling distribution.  Make sure to title and label the plot.  Use percentiles to construct the 10% and 68% bootstrap confidence intervals.  Plot them in your graph. **Hint:  Should the confidence intervals be symmetric around the estimate $\\hat{\\theta}$**?\n"
   ]
  },
  {
   "cell_type": "code",
   "execution_count": 4,
   "metadata": {
    "collapsed": true
   },
   "outputs": [],
   "source": [
    "n_bootstraps = 1000\n",
    "Z_bootstrapped = np.empty(n_bootstraps)\n",
    "for i in range(n_bootstraps):\n",
    "    resampled = np.random.choice(uniform_samples, replace=True, size=n_samples)\n",
    "    theta_hat_resampled = np.max(resampled)\n",
    "    Z_bootstrapped[i] = n_samples * (theta_hat - theta_hat_resampled)"
   ]
  },
  {
   "cell_type": "code",
   "execution_count": 5,
   "metadata": {},
   "outputs": [
    {
     "data": {
      "text/plain": [
       "<matplotlib.legend.Legend at 0x10fe4efd0>"
      ]
     },
     "execution_count": 5,
     "metadata": {},
     "output_type": "execute_result"
    },
    {
     "data": {
      "image/png": "[encoded data removed]",
      "text/plain": [
       "<matplotlib.figure.Figure at 0x10eb20400>"
      ]
     },
     "metadata": {},
     "output_type": "display_data"
    }
   ],
   "source": [
    "sns.distplot(Z_bootstrapped, label='Bootstrapped distribution')\n",
    "plt.axvline(np.percentile(Z_bootstrapped, q=45), c='green', label='10% Confidence interval')\n",
    "plt.axvline(np.percentile(Z_bootstrapped, q=55), c='green')\n",
    "plt.axvline(np.percentile(Z_bootstrapped, q=16) + 3, c='red', label='68% Confidence interval')\n",
    "plt.axvline(np.percentile(Z_bootstrapped, q=84) + 3, c='red')\n",
    "plt.title(r\"Bootstrapped distribution of $Z$\")\n",
    "plt.xlabel(r\"$Z$\")\n",
    "plt.ylabel(\"Density\")\n",
    "plt.legend()"
   ]
  },
  {
   "cell_type": "markdown",
   "metadata": {},
   "source": [
    "We see that the bootstrap 10% confidence interval is localized at zero. The 68% confidence interval, on the other hand, stretches between 0 and the next biggest number (roughly 100)."
   ]
  },
  {
   "cell_type": "markdown",
   "metadata": {},
   "source": [
    "Actually, the bootstrapped distribution is quite interesting to look at. We see that the distribution is discrete. Thinking about the bootstrap for a moment actually reveals why: what's the probability that a sampled point $x$ is not in the resampled set (in the limit of $n \\rightarrow \\infty$, where $n$ is the sample size)? It's the probability that $x$ is not taken in any of the $n$ choices, i.e. $(1 - \\frac{1}{n})^n \\approx e^{-1}$. Thus, in most cases the bootstrapped estaimate of $Z$ is 0. \n",
    "\n",
    "For the next bump in the graph, we need the largest and second largest element not be included in the bootstrapped dataset. "
   ]
  },
  {
   "cell_type": "markdown",
   "metadata": {},
   "source": [
    "> **3.6.** Make an argument that we can construct a bootstrap confidence interval that always mismatches the limiting distribution."
   ]
  },
  {
   "cell_type": "markdown",
   "metadata": {},
   "source": [
    "The argument above actually suffices: once we draw enough random samples, we can be sure that in $1 - e^{-1} \\approx 63$% percent of cases, the largest element is included. Thus, we expect, that confidence intervals up to roughly 46% are localized at a point and thus can't correspond to the corresponding intervals of the limiting distribution. This is because the limiting distribution is continuous and nonzero on $\\mathbb R_+$. Thus, the $\\alpha$ confidence interval is always bigger than the $\\beta$ confidence interval if $\\alpha > \\beta$."
   ]
  },
  {
   "cell_type": "code",
   "execution_count": 6,
   "metadata": {},
   "outputs": [
    {
     "data": {
      "text/plain": [
       "0.6321205588285577"
      ]
     },
     "execution_count": 6,
     "metadata": {},
     "output_type": "execute_result"
    }
   ],
   "source": [
    "1 - np.exp(-1)"
   ]
  },
  {
   "cell_type": "markdown",
   "metadata": {},
   "source": [
    "> **1.8.** Let's switch to being Bayesian.  In 1.1 we came up with an expression for the likelihood $f_Y(y\\ |\\ n, \\theta)$.  Use the [Pareto distribution](https://en.wikipedia.org/wiki/Pareto_distribution) to construct a prior for $\\theta$.  What are some reasonable values to use for the scale and shape?"
   ]
  },
  {
   "cell_type": "markdown",
   "metadata": {},
   "source": [
    "From the linked Wikipedia article above, the CDF of the Pareto distribution is\n",
    "\n",
    "$$\n",
    "F_X(x\\vert \\alpha, x_m) =\n",
    "\\begin{align}\n",
    "\\begin{cases}\n",
    "1 - \\left(\\frac{x_m}{x}\\right)^\\alpha & x \\geq x_m\\\\\n",
    "0 & x < x_m\n",
    "\\end{cases}\n",
    "\\end{align}\n",
    "$$\n",
    "\n",
    "Correspondingly, the likelihood is\n",
    "\n",
    "$$\n",
    "f_X(x\\vert \\alpha, x_m) =\n",
    "\\begin{align}\n",
    "\\begin{cases}\n",
    "\\frac{\\alpha x_m^{\\alpha}}{x^{\\alpha + 1}} & x \\geq x_m\\\\\n",
    "0 & x < x_m\n",
    "\\end{cases}\n",
    "\\end{align}\n",
    "$$"
   ]
  },
  {
   "cell_type": "code",
   "execution_count": 7,
   "metadata": {},
   "outputs": [
    {
     "data": {
      "text/plain": [
       "[<matplotlib.lines.Line2D at 0x11012ebe0>]"
      ]
     },
     "execution_count": 7,
     "metadata": {},
     "output_type": "execute_result"
    },
    {
     "data": {
      "image/png": "[encoded data removed]",
      "text/plain": [
       "<matplotlib.figure.Figure at 0x11011b0f0>"
      ]
     },
     "metadata": {},
     "output_type": "display_data"
    }
   ],
   "source": [
    "x = np.arange(0, 100, 0.1)\n",
    "plt.plot(x, scipy.stats.pareto.pdf(x, loc=-10, b=1, scale=10))\n"
   ]
  },
  {
   "cell_type": "code",
   "execution_count": 8,
   "metadata": {},
   "outputs": [
    {
     "data": {
      "text/plain": [
       "[<matplotlib.lines.Line2D at 0x1101901d0>]"
      ]
     },
     "execution_count": 8,
     "metadata": {},
     "output_type": "execute_result"
    },
    {
     "data": {
      "image/png": "[encoded data removed]",
      "text/plain": [
       "<matplotlib.figure.Figure at 0x10ead4a58>"
      ]
     },
     "metadata": {},
     "output_type": "display_data"
    }
   ],
   "source": [
    "plt.plot(x, scipy.stats.pareto.cdf(x, loc=-1, b=.2))"
   ]
  },
  {
   "cell_type": "markdown",
   "metadata": {},
   "source": [
    "> **1.9.** Write down an expression for the posterior distribution $f_Y(\\theta\\ |\\ n, y)$ "
   ]
  },
  {
   "cell_type": "markdown",
   "metadata": {},
   "source": []
  },
  {
   "cell_type": "markdown",
   "metadata": {},
   "source": [
    "> **1.10.** Draw 10000 posterior samples and plot a histogram of the posterior distribution.  Use percentiles to construct the 68% HPD.  Plot the posterior distribution and mark the HPD on your plot."
   ]
  },
  {
   "cell_type": "code",
   "execution_count": 9,
   "metadata": {},
   "outputs": [
    {
     "data": {
      "text/plain": [
       "Text(0.5,1,'Posterior density of $\\\\theta$')"
      ]
     },
     "execution_count": 9,
     "metadata": {},
     "output_type": "execute_result"
    },
    {
     "data": {
      "image/png": "[encoded data removed]",
      "text/plain": [
       "<matplotlib.figure.Figure at 0x11017d438>"
      ]
     },
     "metadata": {},
     "output_type": "display_data"
    }
   ],
   "source": [
    "posterior = scipy.stats.pareto.rvs(b=1, loc=10, scale=(theta_hat-10), size=10000)\n",
    "sns.distplot(posterior[posterior < 1000], hist=True)\n",
    "x = np.arange(0, 600, 1)\n",
    "y = scipy.stats.expon.pdf(x, scale=theta)\n",
    "plt.axvline(np.percentile(posterior, 16))\n",
    "plt.axvline(np.percentile(posterior, 84))\n",
    "plt.xlabel(r\"$\\theta$\")\n",
    "plt.ylabel(\"Density\")\n",
    "plt.title(r\"Posterior density of $\\theta$\")"
   ]
  },
  {
   "cell_type": "markdown",
   "metadata": {},
   "source": [
    "Let's also construct the posterior density of $Z = n(\\theta - Y)$."
   ]
  },
  {
   "cell_type": "code",
   "execution_count": 30,
   "metadata": {},
   "outputs": [],
   "source": [
    "n_Zs = 1000\n",
    "n = 100000\n",
    "Z_bayes = np.empty(n_Zs)\n",
    "for i in range(n_Zs):\n",
    "    uniforms = np.random.uniform(high=posterior[i], size=n)\n",
    "    Z = n * (posterior[i] - uniforms.max())\n",
    "    Z_bayes[i] = Z"
   ]
  },
  {
   "cell_type": "code",
   "execution_count": 36,
   "metadata": {},
   "outputs": [
    {
     "data": {
      "text/plain": [
       "<matplotlib.legend.Legend at 0x11117fc50>"
      ]
     },
     "execution_count": 36,
     "metadata": {},
     "output_type": "execute_result"
    },
    {
     "data": {
      "image/png": "[encoded data removed]",
      "text/plain": [
       "<matplotlib.figure.Figure at 0x11097fef0>"
      ]
     },
     "metadata": {},
     "output_type": "display_data"
    }
   ],
   "source": [
    "sns.distplot(Z_bayes[Z_bayes < 1000], bins=50)\n",
    "plt.axvline(np.percentile(Z_bayes, 16), label=\"Bayes 68% CI\")\n",
    "plt.axvline(np.percentile(Z_bayes, 84))\n",
    "x = np.arange(0, 600, 1)\n",
    "y = scipy.stats.expon.pdf(x, scale=theta)\n",
    "plt.plot(x, y, label='Limiting distribution')\n",
    "plt.xlabel(r\"$Z$\")\n",
    "plt.ylabel(\"Density\")\n",
    "plt.legend()"
   ]
  },
  {
   "cell_type": "markdown",
   "metadata": {},
   "source": []
  },
  {
   "cell_type": "markdown",
   "metadata": {},
   "source": [
    "> **1.11.** How does th 68% HPD compare with the confidence interval generated from bootstrapping?  Why doesn't the bayesian interval construction suffer the same concerns you noted in 1.6"
   ]
  },
  {
   "cell_type": "markdown",
   "metadata": {
    "collapsed": true
   },
   "source": [
    "Let's compare the Bayesian confidence interval to the bootstrapped one. The first thing to note is that it is continuous. This is certainly a desirable feature. That this happens is pretty clear: we get different samples for each draw (`i` in the code chunk above), so the danger that the very same points are used to estimate $Z$ is not given.\n",
    "\n",
    "Also note that the distribution of $Z$ does not follow the limiting distribution. This is because the posterior predictive samples are drawn from a (continuous) mixture of the limiting distribution. If we kept one parameter $\\theta$ fixed and sampled from $\\text{Unif}(0, \\theta)$ and then calculate $Z$, we would get the limiting distribution."
   ]
  },
  {
   "cell_type": "code",
   "execution_count": null,
   "metadata": {
    "collapsed": true
   },
   "outputs": [],
   "source": []
  }
 ],
 "metadata": {
  "anaconda-cloud": {},
  "kernelspec": {
   "display_name": "Python 3",
   "language": "python",
   "name": "python3"
  },
  "language_info": {
   "codemirror_mode": {
    "name": "ipython",
    "version": 3
   },
   "file_extension": ".py",
   "mimetype": "text/x-python",
   "name": "python",
   "nbconvert_exporter": "python",
   "pygments_lexer": "ipython3",
   "version": "3.6.1"
  }
 },
 "nbformat": 4,
 "nbformat_minor": 2
}
