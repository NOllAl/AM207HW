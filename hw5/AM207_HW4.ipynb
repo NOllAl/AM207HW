{
 "cells": [
  {
   "cell_type": "markdown",
   "metadata": {},
   "source": [
    "# Homework 5\n",
    "\n",
    "##### Data: chall.txt\n",
    "\n",
    "**Harvard University**<br>\n",
    "**Fall 2018**<br>\n",
    "**Instructors: Rahul Dave**<br>\n",
    "**Due Date: ** Saturday, October 13th, 2018 at 11:59pm\n",
    "\n",
    "**Instructions:**\n",
    "\n",
    "- Upload your final answers in the form of a Jupyter notebook containing all work to Canvas.\n",
    "\n",
    "- Structure your notebook and your work to maximize readability."
   ]
  },
  {
   "cell_type": "markdown",
   "metadata": {},
   "source": [
    "### Collaborators\n",
    "\n",
    "** Place the name of everyone who's submitting this assignment here**"
   ]
  },
  {
   "cell_type": "markdown",
   "metadata": {},
   "source": [
    "<div class=\"answer-separator\">\n",
    "------------------------\n",
    "</div>"
   ]
  },
  {
   "cell_type": "code",
   "execution_count": 56,
   "metadata": {
    "collapsed": true
   },
   "outputs": [],
   "source": [
    "import numpy as np\n",
    "import scipy.stats\n",
    "import scipy.special\n",
    "\n",
    "import matplotlib\n",
    "import matplotlib.pyplot as plt\n",
    "import matplotlib.mlab as mlab\n",
    "from matplotlib import cm\n",
    "import pandas as pd\n",
    "import seaborn as sns\n",
    "%matplotlib inline"
   ]
  },
  {
   "cell_type": "markdown",
   "metadata": {},
   "source": [
    "## Question 1: We'll Always Have that Night Sampling in Monte Carlo"
   ]
  },
  {
   "cell_type": "markdown",
   "metadata": {},
   "source": [
    "**Coding required**\n",
    "\n",
    "\n",
    "Let $X$ be a random variable with distribution described by the following pdf:\n",
    "\n",
    "$$\n",
    "f_X(x) = \\begin{cases}\n",
    "\\frac{1}{12}(x-1), &1\\leq x\\leq 3\\\\\n",
    "-\\frac{1}{12}(x-5), &3< x\\leq 5\\\\\n",
    "\\frac{1}{6}(x-5), &5< x\\leq 7\\\\\n",
    "-\\frac{1}{6}(x-9), &7< x\\leq 9\\\\\n",
    "0, &otherwise\n",
    "\\end{cases}\n",
    "$$\n",
    "\n",
    "Let $h$ be the following function of $X$:\n",
    "\n",
    "$$h(X) = \\frac{1}{3\\sqrt{2}\\pi}\\mathrm{exp}\\left\\{ -\\frac{1}{18}\\left( X - 5\\right)^2\\right\\}$$\n",
    "\n",
    "\n",
    "Compute $\\mathbb{E}[h(X)]$ via Monte Carlo simulation using the following sampling methods:\n",
    "\n",
    "**1.1.** Inverse Transform Sampling\n",
    "\n",
    "**1.2.** Rejection Sampling with a uniform proposal distribution (rejection sampling in a rectangular box with uniform probability of sampling any x)\n"
   ]
  },
  {
   "cell_type": "markdown",
   "metadata": {},
   "source": [
    "<div class=\"answer-separator\">\n",
    "------------------------\n",
    "</div>"
   ]
  },
  {
   "cell_type": "markdown",
   "metadata": {},
   "source": [
    "## Question 2: The Consequences of O-ring Failure can be Painful and Deadly"
   ]
  },
  {
   "cell_type": "markdown",
   "metadata": {},
   "source": [
    "**Coding required**\n",
    "\n",
    "In 1986, the space shuttle Challenger exploded during take off, killing the seven astronauts aboard. It is believed that the explosion was caused by the failure of an O-ring (a rubber ring that seals parts of the solid fuel rockets together), and that the failure was caused by the cold weather at the time of launch (31F).\n",
    "\n",
    "In the file chall.txt, you will find temperature (in Fahrenheit) and failure data from 23 shuttle launches, where 1 stands for O-ring failure and 0 no failure. We assume that the observed temperatures are fixed and that, at temperature $t$, an O-ring fails with probability $f(\\theta_{1}+\\theta_{2}t)$ conditionally on $\\Theta = (\\theta_1, \\theta_2)$.\n",
    "\n",
    "$f(\\mathbf{z})$ is defined to be the logistic function -- $f(\\mathbf{ z }) = 1/(1 + \\exp(\\mathbf{ -z }))$ \n",
    "\n",
    "**2.2.** Produce 5000-10000 samples from the posterior distribution of $\\Theta $ using rejection sampling, and plot them and their marginals. (This may take a while.)\n",
    "\n",
    "**2.3.** Use the logit package in the `statsmodels` library to compute 68% confidence intervals on the $\\theta$ parameters.  Compare those intervals with the 68% credible intervals from the posterior above. Overlay these on the above marginals plots. \n",
    "\n",
    "**2.4.** Use the MLE values from `statsmodels` and the posterior mean from **2.2** at each temperature to plot the probability of failure in the frequentist and bayesian settings as a function of temperature. What do you see? \n",
    "\n",
    "**2.5.** Compute the mean posterior probability for an O-ring failure at $t = 31^\\circ F$. To do this you must calculate the posterior at $31^\\circ F$ and take the mean of the samples obtained.\n",
    "\n",
    "**2.6.** You can instead obtain the probability from the posterior predictive. Use the posterior samples to obtain samples from the posterior predictive at $31^\\circ F$ and calculate the fraction of failures.\n",
    "\n",
    "**2.7.** The day before a new launch, meteorologists predict that the temperature will be $T \\sim N(68, 1)$ during take-off. Estimate the probability for an O-ring failure during this take-off. (You will calculate multiple predictives at different temperatures for this purpose)."
   ]
  },
  {
   "cell_type": "markdown",
   "metadata": {},
   "source": [
    "> **2.1.** Based on your own knowledge and experience, suggest a prior distribution for the regression parameters ($\\theta_1, \\theta_2$).  Make sure to explain your choice of prior. "
   ]
  },
  {
   "cell_type": "markdown",
   "metadata": {},
   "source": [
    "Our prior knowledge on this problem is quite limited, so we suggest a prior distribution that reflects this little knowledge. We do, however, pick the prior in such a way that at reasonable temperatures, the probability of a failure is small.\n",
    "\n",
    "So, our prior is a multivariate normal"
   ]
  },
  {
   "cell_type": "code",
   "execution_count": 149,
   "metadata": {},
   "outputs": [
    {
     "data": {
      "text/plain": [
       "Text(0.5,1,'Prior specification at 32°')"
      ]
     },
     "execution_count": 149,
     "metadata": {},
     "output_type": "execute_result"
    },
    {
     "data": {
      "image/png": "[encoded data removed]",
      "text/plain": [
       "<matplotlib.figure.Figure at 0x111f507b8>"
      ]
     },
     "metadata": {},
     "output_type": "display_data"
    }
   ],
   "source": [
    "mu = [-10, 0]\n",
    "Sigma = [[2, 0], [0, 2]]\n",
    "\n",
    "prior_samples = scipy.stats.multivariate_normal.rvs(mean=mu, cov=Sigma, size=1000)\n",
    "prior_means = prior_samples[:, 0] + prior_samples[:, 1] * (32 - 48)\n",
    "prior_ps = scipy.special.expit(prior_means)\n",
    "prior_results = scipy.stats.bernoulli.rvs(p=prior_ps, size=prior_samples.shape[0])\n",
    "sns.distplot(prior_results, kde=False, norm_hist=False)\n",
    "plt.xlabel(\"Proportion of failues\")\n",
    "plt.ylabel(\"Failues out of 1000\")\n",
    "plt.title(\"Prior specification at 32°\")"
   ]
  },
  {
   "cell_type": "markdown",
   "metadata": {},
   "source": [
    "<div class=\"answer-separator\">\n",
    "------------------------\n",
    "</div>"
   ]
  },
  {
   "cell_type": "markdown",
   "metadata": {},
   "source": [
    "## Question 3: Maximum Uniformity -- Frequentist Bootstraps and the Bayesian Posterior"
   ]
  },
  {
   "cell_type": "markdown",
   "metadata": {},
   "source": [
    "**Coding required**\n",
    "\n",
    "Recall in HW 3 Question 1 we attempted to explore an edge case in using non-parametric bootstrap to construct confidence intervals.  Let's revisit the setup of that problem.\n",
    "Suppose you have $\\{X_1, X_2, ... X_n\\}$ datapoints such that $X_i$ are independently and identically drawn from a $Unif(0, \\theta)$.  Consider the extreme order statistic Y = $X_{(n)}$ = max($X_1, X_2, ... X_n$)."
   ]
  },
  {
   "cell_type": "markdown",
   "metadata": {},
   "source": [
    "<div class=\"answer-separator\">\n",
    "------------------------\n",
    "</div>"
   ]
  },
  {
   "cell_type": "markdown",
   "metadata": {},
   "source": [
    "> **3.1.** Derive (or possibly re-write from HW3) expressions for $F_Y(y\\ \\vert\\ n, \\theta)$ the CDF of Y and $f_Y(y\\ |\\ n, \\theta)$ the pdf of Y."
   ]
  },
  {
   "cell_type": "markdown",
   "metadata": {},
   "source": [
    "CDF\n",
    "$$\\begin{equation}\n",
    "\\begin{split}\n",
    "F_Y(y\\vert n,\\theta) = \\Pr \\left(X_{(n)} \\leq y \\vert \\theta\\right) = \\Pr \\left(X_1, \\dots, X_n \\leq y \\vert \\theta \\right) = \\prod_{i = 1} ^ n \\Pr\\left(X_i \\leq y \\vert \\theta \\right) \\\\\n",
    "=  \\begin{cases}\n",
    " 0 \\text{ if } y \\leq 0 \\\\\n",
    " \\left(\\frac{y}{\\theta}\\right) ^ n \\text{ if } 0 < y \\leq \\theta \\\\\n",
    " 1 \\text{ if } y \\geq \\theta\n",
    "\\end{cases}\n",
    "\\end{split}\n",
    "\\end{equation}\n",
    "$$\n",
    "\n",
    "PDF\n",
    "\n",
    "$$ f_Y(Y\\vert\\theta)  = \\frac{d F_Y(Y\\vert \\theta)}{d Y} = \n",
    "\\begin{cases}\n",
    "0 \\text{ if } Y \\leq 0 \\\\\n",
    "n Y^{n-1} / \\theta ^ n \\text{ if } 0 \\leq Y < \\theta \\\\\n",
    "0 \\text{  if } Y \\geq \\theta\n",
    "\\end{cases}$$"
   ]
  },
  {
   "cell_type": "markdown",
   "metadata": {},
   "source": [
    "> **3.2.** In HW3 we had difficulty constructing confidence intervals to estimate $\\theta$ with percentiles as normal so instead we introduced  pivot confidence intervals.  Let's reframe the problem so that we can use percentiles to construct our confidence intervals.  Define $Z \\equiv n \\cdot (\\theta - Y)$ use elementary calculation to write an expression for $F_Z(z\\ \\vert\\ n, \\theta)$ the CDF of $Z$ and $f_Z(y\\ |\\ n, \\theta)$ the pdf of Z."
   ]
  },
  {
   "cell_type": "markdown",
   "metadata": {},
   "source": [
    "$$\n",
    "F_Z(z\\ \\vert\\ n, \\theta) = \\Pr(Z \\leq z \\vert n, \\theta) = \\\\\n",
    "\\Pr\\left(n \\left(\\theta - Y\\right) \\leq z \\vert n, \\theta \\right) = \\\\\n",
    "\\Pr\\left(\\theta - \\frac{z}{n} \\leq Y \\vert \\theta, \\right) = \\\\\n",
    "\\Pr\\left(Y \\geq \\theta - \\frac{z}{n}\\right) = \\\\\n",
    "1 - \\Pr\\left(Y < \\theta - \\frac{z}{n} \\right) = \\\\\n",
    "1 - \\prod_i\\Pr\\left(X_i < \\theta - \\frac{z}{n} \\right) = \\\\\n",
    "=\n",
    "\\begin{align}\n",
    "\\begin{cases}\n",
    "0 & \\text{if }  z \\leq 0\\\\\n",
    "1 & \\text{if } z \\geq n \\theta \\\\\n",
    "1 - \\left( 1 - \\frac{z}{\\theta n}\\right)^n & \\text{else}  \\\\\n",
    "\\end{cases}\n",
    "\\end{align}\n",
    "$$"
   ]
  },
  {
   "cell_type": "markdown",
   "metadata": {},
   "source": [
    "The pdf is now easy to derive as well:\n",
    "$$\n",
    "f_Z(y\\vert n, \\theta)\n",
    "=\n",
    "\\begin{align}\n",
    "\\begin{cases}\n",
    "0 & \\text{if } z \\leq 0 \\text{ or } z \\geq n \\theta \\\\\n",
    "\\left(1 - \\frac{y}{\\theta n}\\right)^{n-1}\\frac{1}{\\theta} & \\text{else}\n",
    "\\end{cases}\n",
    "\\end{align} \\\\\n",
    "$$"
   ]
  },
  {
   "cell_type": "markdown",
   "metadata": {},
   "source": [
    "> **3.3.** What is the limiting distribution of Z (as $n \\rightarrow \\infty$)?  Plot that limiting distribution."
   ]
  },
  {
   "cell_type": "markdown",
   "metadata": {},
   "source": [
    "From the expression above, it's clear that this distribuion converges to an **exponential distribution with mean $\\theta$** in the limit $n\\rightarrow \\infty$."
   ]
  },
  {
   "cell_type": "code",
   "execution_count": 82,
   "metadata": {},
   "outputs": [
    {
     "data": {
      "text/plain": [
       "Text(0.5,1,'Limiting distribution is exponential with mean $\\\\theta=10$')"
      ]
     },
     "execution_count": 82,
     "metadata": {},
     "output_type": "execute_result"
    },
    {
     "data": {
      "image/png": "[encoded data removed]",
      "text/plain": [
       "<matplotlib.figure.Figure at 0x11009a2b0>"
      ]
     },
     "metadata": {},
     "output_type": "display_data"
    }
   ],
   "source": [
    "x = np.arange(0, 800, 0.01)\n",
    "theta = 100\n",
    "plt.plot(x, scipy.stats.expon.pdf(x, scale=theta))\n",
    "plt.xlabel(\"y\")\n",
    "plt.ylabel(\"Limiting distribution\")\n",
    "plt.title(r\"Limiting distribution is exponential with mean $\\theta=10$\")"
   ]
  },
  {
   "cell_type": "markdown",
   "metadata": {},
   "source": [
    "> **3.4. Use scipy/numpy to generate 100000 samples {$X_i$} from Unif(0,100) (i.e. let $\\theta$ = 100).  Store them in Based on your data sample, what's $\\hat{\\theta}$ the empirical estimate for $\\theta$.**"
   ]
  },
  {
   "cell_type": "code",
   "execution_count": 84,
   "metadata": {},
   "outputs": [
    {
     "name": "stdout",
     "output_type": "stream",
     "text": [
      "Empirical estimate for $\\theta$ is 99.999\n"
     ]
    }
   ],
   "source": [
    "np.random.seed(1)\n",
    "theta = 100\n",
    "n_samples = 100000\n",
    "uniform_samples = np.random.uniform(high=theta, size=n_samples)\n",
    "theta_hat = np.max(uniform_samples)\n",
    "print(r\"Empirical estimate for $\\theta$ is {:.3f}\".format(theta_hat))"
   ]
  },
  {
   "cell_type": "markdown",
   "metadata": {},
   "source": [
    "> **3.5.** Use non-parametric bootstrap to generate a sampling distribution of 10000 estimates for $Z$ by substituting $\\hat{\\theta}$ for $\\theta$.  Plot a histogram of your sampling distribution.  Make sure to title and label the plot.  Use percentiles to construct the 10% and 68% bootstrap confidence intervals.  Plot them in your graph. **Hint:  Should the confidence intervals be symmetric around the estimate $\\hat{\\theta}$**?\n"
   ]
  },
  {
   "cell_type": "code",
   "execution_count": 150,
   "metadata": {},
   "outputs": [],
   "source": [
    "n_bootstraps = 10000\n",
    "Z_bootstrapped = np.empty(n_bootstraps)\n",
    "for i in range(n_bootstraps):\n",
    "    resampled = np.random.choice(uniform_samples, replace=True, size=n_samples)\n",
    "    theta_hat_resampled = np.max(resampled)\n",
    "    Z_bootstrapped[i] = n_samples * (theta_hat - theta_hat_resampled)"
   ]
  },
  {
   "cell_type": "code",
   "execution_count": 151,
   "metadata": {},
   "outputs": [
    {
     "data": {
      "text/plain": [
       "array([  0.        , 259.12185668])"
      ]
     },
     "execution_count": 151,
     "metadata": {},
     "output_type": "execute_result"
    }
   ],
   "source": [
    "np.percentile(Z_bootstrapped, q=[10, 68])"
   ]
  },
  {
   "cell_type": "code",
   "execution_count": 152,
   "metadata": {},
   "outputs": [
    {
     "data": {
      "text/plain": [
       "<matplotlib.legend.Legend at 0x113026828>"
      ]
     },
     "execution_count": 152,
     "metadata": {},
     "output_type": "execute_result"
    },
    {
     "data": {
      "image/png": "[encoded data removed]",
      "text/plain": [
       "<matplotlib.figure.Figure at 0x1125a0780>"
      ]
     },
     "metadata": {},
     "output_type": "display_data"
    }
   ],
   "source": [
    "sns.distplot(Z_bootstrapped, label='Bootstrapped distribution')\n",
    "plt.axvline(np.percentile(Z_bootstrapped, q=10), c='green', label='10%-68% Confidence interval')\n",
    "plt.axvline(np.percentile(Z_bootstrapped, q=68), c='green')\n",
    "plt.title(r\"Bootstrapped distribution of $Z$\")\n",
    "plt.xlabel(r\"$Z$\")\n",
    "plt.ylabel(\"Density\")\n",
    "plt.legend()"
   ]
  },
  {
   "cell_type": "markdown",
   "metadata": {},
   "source": [
    "We see that the bootstrap 10%-68% confidence interval ranges from 0 to roughly 259."
   ]
  },
  {
   "cell_type": "markdown",
   "metadata": {},
   "source": [
    "Actually, the bootstrapped distribution is quite interesting to look at. We see that the distribution is discrete. Thinking about the bootstrap for a moment actually reveals why: what's the probability that a sampled point $x$ is not in the resampled set (in the limit of $n \\rightarrow \\infty$, where $n$ is the sample size)? It's the probability that $x$ is not taken in any of the $n$ choices, i.e. $(1 - \\frac{1}{n})^n \\approx e^{-1}$. Thus, in most cases the bootstrapped estaimate of $Z$ is 0. \n",
    "\n",
    "For the next bump in the graph, we need the largest and second largest element not be included in the bootstrapped dataset. "
   ]
  },
  {
   "cell_type": "markdown",
   "metadata": {},
   "source": [
    "> **3.6.** Make an argument that we can construct a bootstrap confidence interval that always mismatches the limiting distribution."
   ]
  },
  {
   "cell_type": "markdown",
   "metadata": {},
   "source": [
    "> **1.8.** Let's switch to being Bayesian.  In 1.1 we came up with an expression for the likelihood $f_Y(y\\ |\\ n, \\theta)$.  Use the [Pareto distribution](https://en.wikipedia.org/wiki/Pareto_distribution) to construct a prior for $\\theta$.  What are some reasonable values to use for the scale and shape?"
   ]
  },
  {
   "cell_type": "markdown",
   "metadata": {},
   "source": [
    "From the linked Wikipedia article above, the CDF of the Pareto distribution is\n",
    "\n",
    "$$\n",
    "F_X(x\\vert \\alpha, x_m) =\n",
    "\\begin{align}\n",
    "\\begin{cases}\n",
    "1 - \\left(\\frac{x_m}{x}\\right)^\\alpha & x \\geq x_m\\\\\n",
    "0 & x < x_m\n",
    "\\end{cases}\n",
    "\\end{align}\n",
    "$$\n",
    "\n",
    "Correspondingly, the likelihood is\n",
    "\n",
    "$$\n",
    "f_X(x\\vert \\alpha, x_m) =\n",
    "\\begin{align}\n",
    "\\begin{cases}\n",
    "\\frac{\\alpha x_m^{\\alpha}}{x^{\\alpha + 1}} & x \\geq x_m\\\\\n",
    "0 & x < x_m\n",
    "\\end{cases}\n",
    "\\end{align}\n",
    "$$"
   ]
  },
  {
   "cell_type": "code",
   "execution_count": 65,
   "metadata": {},
   "outputs": [
    {
     "data": {
      "text/plain": [
       "[<matplotlib.lines.Line2D at 0x10dc00da0>]"
      ]
     },
     "execution_count": 65,
     "metadata": {},
     "output_type": "execute_result"
    },
    {
     "data": {
      "image/png": "[encoded data removed]",
      "text/plain": [
       "<matplotlib.figure.Figure at 0x10cd6fcc0>"
      ]
     },
     "metadata": {},
     "output_type": "display_data"
    }
   ],
   "source": [
    "x = np.arange(0, 1000,0.1)\n",
    "plt.plot(x, scipy.stats.pareto.pdf(x, loc=-1, b=1, scale=100))\n",
    "plt.plot(x, scipy.stats.pareto.pdf(x, loc=-1, b=2, scale=100))\n",
    "plt.plot(x, scipy.stats.pareto.pdf(x, loc=-98, b=2, scale=200))"
   ]
  },
  {
   "cell_type": "code",
   "execution_count": 38,
   "metadata": {},
   "outputs": [
    {
     "data": {
      "text/plain": [
       "[<matplotlib.lines.Line2D at 0x10a0a80b8>]"
      ]
     },
     "execution_count": 38,
     "metadata": {},
     "output_type": "execute_result"
    },
    {
     "data": {
      "image/png": "[encoded data removed]",
      "text/plain": [
       "<matplotlib.figure.Figure at 0x109716588>"
      ]
     },
     "metadata": {},
     "output_type": "display_data"
    }
   ],
   "source": [
    "plt.plot(x, scipy.stats.pareto.cdf(x, loc=-1, b=.2))"
   ]
  },
  {
   "cell_type": "markdown",
   "metadata": {},
   "source": [
    "> **1.9.** Write down an expression for the posterior distribution $f_Y(\\theta\\ |\\ n, y)$ "
   ]
  },
  {
   "cell_type": "markdown",
   "metadata": {},
   "source": [
    "> **1.10.** Draw 10000 posterior samples and plot a histogram of the posterior distribution.  Use percentiles to construct the 68% HPD.  Plot the posterior distribution and mark the HPD on your plot."
   ]
  },
  {
   "cell_type": "markdown",
   "metadata": {},
   "source": [
    "> **1.11.** How does th 68% HPD compare with the confidence interval generated from bootstrapping?  Why doesn't the bayesian interval construction suffer the same concerns you noted in 1.6"
   ]
  },
  {
   "cell_type": "code",
   "execution_count": null,
   "metadata": {
    "collapsed": true
   },
   "outputs": [],
   "source": []
  }
 ],
 "metadata": {
  "anaconda-cloud": {},
  "kernelspec": {
   "display_name": "Python 3",
   "language": "python",
   "name": "python3"
  },
  "language_info": {
   "codemirror_mode": {
    "name": "ipython",
    "version": 3
   },
   "file_extension": ".py",
   "mimetype": "text/x-python",
   "name": "python",
   "nbconvert_exporter": "python",
   "pygments_lexer": "ipython3",
   "version": "3.6.1"
  }
 },
 "nbformat": 4,
 "nbformat_minor": 2
}
