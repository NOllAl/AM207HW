{
 "cells": [
  {
   "cell_type": "markdown",
   "metadata": {},
   "source": [
    "# Homework 3\n",
    "\n",
    "##### Data: Homework_3_Data.txt, housedata.zip\n",
    "\n",
    "**Harvard University**<br>\n",
    "**Fall 2018**<br>\n",
    "**Instructors: Rahul Dave**<br>\n",
    "**Due Date: ** Saturday, September 29th, 2018 at 11:59pm\n",
    "\n",
    "**Instructions:**\n",
    "\n",
    "- Upload your final answers in the form of a Jupyter notebook containing all work to Canvas.\n",
    "\n",
    "- Structure your notebook and your work to maximize readability."
   ]
  },
  {
   "cell_type": "code",
   "execution_count": 1,
   "metadata": {
    "collapsed": true
   },
   "outputs": [],
   "source": [
    "import numpy as np\n",
    "import scipy.stats\n",
    "import scipy.special\n",
    "\n",
    "import matplotlib\n",
    "import matplotlib.pyplot as plt\n",
    "import matplotlib.mlab as mlab\n",
    "from matplotlib import cm\n",
    "import pandas as pd\n",
    "import seaborn as sns\n",
    "%matplotlib inline"
   ]
  },
  {
   "cell_type": "markdown",
   "metadata": {},
   "source": [
    "## Question 1: When have no confidence that you can lift yourself by the Bootstrap?\n",
    "\n",
    "**Coding required**\n",
    "\n",
    "The idea behind non-parametric bootstrapping is that sampling distributions constructed via the true data generating process should be very close to sampling distributions constructed by resampling.  We mentioned in lab that one edge cases for bootstrapping is calculating order statistics.  Let's explore this edgecase."
   ]
  },
  {
   "cell_type": "markdown",
   "metadata": {},
   "source": [
    "** 1.1. Suppose you have $\\{X_1, X_2, ... X_n\\}$ datapoints such that $X_i$ are independently and identically drawn from a $Unif(0, \\theta)$.  Consider the extreme order statistic Y = $X_{(n)}$ = max($X_1, X_2, ... X_n$). Write an expression for the distribution $f_Y(Y|\\theta)$. **"
   ]
  },
  {
   "cell_type": "markdown",
   "metadata": {},
   "source": [
    "We first find the cumulative distribution $F_Y(Y \\vert \\theta) = \\Pr(\\max(X_1, \\dots, X_n) \\leq Y \\vert \\theta)$ and then derive the pdf $f_Y(Y\\vert \\theta)$ from it.\n",
    "\n",
    "The cumulative distribution $F_Y(Y\\vert \\theta) = \\Pr \\left(X_{(n)} \\leq Y \\vert \\theta\\right)$ with $X_{(n)} = \\max\\{X_1, \\dots, X_n\\}$ is easy to compute:\n",
    "\n",
    "$$\\begin{equation}\n",
    "\\begin{split}\n",
    "F_Y(Y\\vert \\theta) = \\Pr \\left(X_{(n)} \\leq Y \\vert \\theta\\right) = \\Pr \\left(X_1, \\dots, X_n \\leq Y \\vert \\theta \\right) = \\prod_{i = 1} ^ n \\Pr\\left(X_i \\leq Y \\vert \\theta \\right) \\\\\n",
    "=  \\begin{cases}\n",
    " 0 \\text{ if } Y \\leq 0 \\\\\n",
    " \\left(\\frac{Y}{\\theta}\\right) ^ n \\text{ if } 0 < Y \\leq \\theta \\\\\n",
    " 1 \\text{ if } Y \\geq \\theta\n",
    "\\end{cases}\n",
    "\\end{split}\n",
    "\\end{equation}\n",
    "$$\n",
    "\n",
    "The second equality simply comes from the fact that $\\max(X_1, \\dots, X_n) \\leq Y \\Leftrightarrow X_i \\leq Y, \\: \\forall i=1,\\dots,n$.\n",
    "\n",
    "Deriving the probability density function is now easy:\n",
    "\n",
    "$$ f_Y(Y\\vert\\theta)  = \\frac{d F_Y(Y\\vert \\theta)}{d Y} = \n",
    "\\begin{cases}\n",
    "0 \\text{ if } Y \\leq 0 \\\\\n",
    "n Y^{n-1} / \\theta ^ n \\text{ if } 0 \\leq Y < \\theta \\\\\n",
    "0 \\text{  if } Y \\geq \\theta\n",
    "\\end{cases}$$"
   ]
  },
  {
   "cell_type": "markdown",
   "metadata": {},
   "source": [
    "** 1.2. Derive $\\hat{\\theta}$ the maximum likelihood estimate for $\\theta$ given datapoints $\\{X_1, X_2, ... X_n\\}$. **"
   ]
  },
  {
   "cell_type": "markdown",
   "metadata": {},
   "source": [
    "To obtain the maximum likelihood, we don't even need to take a derivative of $f_Y(Y\\vert \\theta)$. Inspecting the likelihood above suffices (we plug in the observed maximum $X_{(n)}$ now):\n",
    "\n",
    "Note that the expression $n X_{(n)} ^{n-1} / \\theta^n$ is non-negative (and actually positive with a probability of one). Thus, we need to make $\\theta$ as small as possible while not becoming smaller than $X_{(n)}$. But this means that it has to be equal to $X_{(n)}$.\n",
    "\n",
    "**Thus, the maximum likelihood estiamte is the observed maximum**.\n",
    "\n",
    "We plot the situation below with $n=10$ and $\\theta=3.5$."
   ]
  },
  {
   "cell_type": "code",
   "execution_count": 2,
   "metadata": {},
   "outputs": [
    {
     "data": {
      "text/plain": [
       "Text(0.5,0.98,'The maximum likelihood estimate is the observed maximum')"
      ]
     },
     "execution_count": 2,
     "metadata": {},
     "output_type": "execute_result"
    },
    {
     "data": {
      "image/png": "[encoded data removed]",
      "text/plain": [
       "<matplotlib.figure.Figure at 0x108ffbb70>"
      ]
     },
     "metadata": {},
     "output_type": "display_data"
    }
   ],
   "source": [
    "def f(y, theta, n):\n",
    "    result = np.zeros(theta.shape)\n",
    "    x_n = np.max(y)\n",
    "    mid_ind = np.logical_not(x_n >= theta)\n",
    "    result[mid_ind] = n * x_n ** (n-1) / theta[mid_ind] **n\n",
    "    return result, x_n\n",
    "\n",
    "\n",
    "np.random.seed(1)\n",
    "theta_true = 3.5\n",
    "n = 10\n",
    "y = np.random.uniform(low=0.0, high=theta_true, size=n)\n",
    "\n",
    "theta = np.arange(-1, 6, 0.1)\n",
    "l, x_n = f(y, theta, n)\n",
    "\n",
    "plt.plot(theta, l, label=r\"Likelihood\")\n",
    "plt.vlines(x_n, 0, 2, color='red', label=r\"Observed maximum\")\n",
    "plt.vlines(theta_true, 0, 2, color=\"green\", label=r\"True $\\theta$\")\n",
    "plt.legend()\n",
    "plt.xlabel(\"Theta\")\n",
    "plt.ylabel(\"Likelihood\")\n",
    "plt.title(r\"$n=10$, $\\theta=3.5$\")\n",
    "plt.suptitle(\"The maximum likelihood estimate is the observed maximum\")"
   ]
  },
  {
   "cell_type": "markdown",
   "metadata": {},
   "source": [
    "**1.3. To see an alternate potential estimator use the distribution you derived in 1.1. to find an expression for the unbiased estimate of  theta.**"
   ]
  },
  {
   "cell_type": "markdown",
   "metadata": {},
   "source": [
    "Let us calculate the expectation value of $Y$ for a fixed parameter $\\theta$.\n",
    "\n",
    "$$\\mathbb E(Y \\vert \\theta) = \\int f_Y(Y\\vert \\theta)Y dY = \\int_0^\\theta \\frac{Y^{n-1}}{\\theta^n} Y dy = \\frac{n}{n+1}\\theta \\:.$$\n",
    "\n",
    "Let us replace the left hand side of the equation with our empirical estimate $X_{(n)}$ to obtain\n",
    "\n",
    "$$\\hat \\theta = \\frac{n+1}{n} X_{(n)} \\:.$$"
   ]
  },
  {
   "cell_type": "markdown",
   "metadata": {},
   "source": [
    "It's easy to see that this is unbiased:\n",
    "\n",
    "$$\\mathbb E(\\hat \\theta) = \\frac{n+1}{n} \\mathbb E(X_{(n)} \\vert \\theta) = \\frac{n}{n+1}\\frac{n+1}{n}\\theta = \\theta $$"
   ]
  },
  {
   "cell_type": "markdown",
   "metadata": {},
   "source": [
    "**1.4. Use scipy/numpy to generate 100 samples {$X_i$} from Unif(0,1) (i.e. let $\\theta$ = 1) and store them in the variable `original_xi_samples`.  Based on your data sample, what's the empirical estimate for $\\theta$.**"
   ]
  },
  {
   "cell_type": "code",
   "execution_count": 3,
   "metadata": {},
   "outputs": [
    {
     "data": {
      "text/plain": [
       "Text(0.5,1,'Empirical distribution of 100 samples from Unif(0,1)')"
      ]
     },
     "execution_count": 3,
     "metadata": {},
     "output_type": "execute_result"
    },
    {
     "data": {
      "image/png": "[encoded data removed]",
      "text/plain": [
       "<matplotlib.figure.Figure at 0x109587438>"
      ]
     },
     "metadata": {},
     "output_type": "display_data"
    }
   ],
   "source": [
    "np.random.seed(1)\n",
    "n = 100\n",
    "original_xi_samples = np.random.uniform(0, 1, size=n)\n",
    "sns.distplot(original_xi_samples)\n",
    "plt.title(\"Empirical distribution of 100 samples from Unif(0,1)\")"
   ]
  },
  {
   "cell_type": "markdown",
   "metadata": {},
   "source": [
    "We obtain the empirical estimate by calculating the sample maximum and multiplying it by $\\frac{101}{100} = 1.01$:"
   ]
  },
  {
   "cell_type": "code",
   "execution_count": 4,
   "metadata": {},
   "outputs": [
    {
     "name": "stdout",
     "output_type": "stream",
     "text": [
      "Estimate for theta: 0.999\n",
      "Maximum likelihood estimate for theta: 0.989\n"
     ]
    }
   ],
   "source": [
    "sample_max = original_xi_samples.max()\n",
    "theta_hat = sample_max * (n+1) / n\n",
    "print(\"Estimate for theta: {:.3f}\".format(theta_hat))\n",
    "print(\"Maximum likelihood estimate for theta: {:.3f}\".format(sample_max))"
   ]
  },
  {
   "cell_type": "markdown",
   "metadata": {},
   "source": [
    "We see that the unbiased estimate comes close to the true population parameter."
   ]
  },
  {
   "cell_type": "markdown",
   "metadata": {},
   "source": [
    "**1.6. Use non-parametric bootstrap to generate a sampling distribution of 1000 estimates for theta.  Plot a histogram of your sampling distribution.  Make sure to title and label the plot.**"
   ]
  },
  {
   "cell_type": "code",
   "execution_count": 40,
   "metadata": {},
   "outputs": [
    {
     "data": {
      "text/plain": [
       "Text(0.5,0,'$\\\\hat \\\\theta_{MLE}$')"
      ]
     },
     "execution_count": 40,
     "metadata": {},
     "output_type": "execute_result"
    },
    {
     "data": {
      "image/png": "[encoded data removed]",
      "text/plain": [
       "<matplotlib.figure.Figure at 0x10c4a7748>"
      ]
     },
     "metadata": {},
     "output_type": "display_data"
    }
   ],
   "source": [
    "m = 1000 # Number of resamples\n",
    "bootstrapped_thetas = np.zeros((m, 2))\n",
    "for i in range(m):\n",
    "    bootstrap_sample = np.random.choice(original_xi_samples, replace=True, size=n)\n",
    "    bootstrap_max = bootstrap_sample.max()\n",
    "    bootstrapped_thetas[i, 0] = bootstrap_max * (n+1) / n\n",
    "    bootstrapped_thetas[i, 1] = bootstrap_max\n",
    "\n",
    "fig, ax = plt.subplots(1, 2)\n",
    "fig.suptitle(r\"Histogram of bootstrapped $\\theta$ estimates using unbiased and ml estimate\")\n",
    "sns.distplot(bootstrapped_thetas[:, 0], ax=ax[0])\n",
    "ax[0].set_xlabel(r\"$\\hat \\theta_{unbiased}$\")\n",
    "ax[0].set_ylabel(\"Count\")\n",
    "\n",
    "sns.distplot(bootstrapped_thetas[:, 1], ax=ax[1])\n",
    "ax[1].set_xlabel(r\"$\\hat \\theta_{MLE}$\")"
   ]
  },
  {
   "cell_type": "markdown",
   "metadata": {},
   "source": [
    "We see that the two estimators look almost identical, as expected. The only difference is that the maximum likelihood estimate is upscaled by a factor of $1.01$."
   ]
  },
  {
   "cell_type": "markdown",
   "metadata": {},
   "source": [
    "**1.7. Is your histogram smooth?  From visual inspection does it seem like a good representation of a sampling distribution?**"
   ]
  },
  {
   "cell_type": "markdown",
   "metadata": {},
   "source": [
    "The histogram is **not \"smooth\"** (for both estimator). It seems to be clustered around a few discrete spots. From that point of view it **does not seem like a good representation of a sampling distribution**.\n",
    "\n",
    "Let us elaborate on both points:\n",
    "\n",
    "1. It is actually clear that the resulting histogram cannot be \"smooth\": we only have 100 sample values out of which roughly 90% are smaller than 0.9. So, the estimator is (most of the time) constructed from one of the remaining 10 points that are larger than 0.9 (the probability that none of these 10 points occurs in a single resampling is $0.9^{100}$).\n",
    "2. On the second point, let us actually plot the sampling distribution of the maximum likelihood estimator $\\hat \\theta$:"
   ]
  },
  {
   "cell_type": "code",
   "execution_count": 45,
   "metadata": {},
   "outputs": [
    {
     "data": {
      "text/plain": [
       "Text(0,0.5,'Count')"
      ]
     },
     "execution_count": 45,
     "metadata": {},
     "output_type": "execute_result"
    },
    {
     "data": {
      "image/png": "[encoded data removed]",
      "text/plain": [
       "<matplotlib.figure.Figure at 0x10d12b828>"
      ]
     },
     "metadata": {},
     "output_type": "display_data"
    }
   ],
   "source": [
    "n_sim = 1000\n",
    "unbiased_estimator = np.zeros(n_sim)\n",
    "for i in range(n_sim):\n",
    "    samples = np.random.uniform(0, 1, size=n)\n",
    "    theta_hat = samples.max()\n",
    "    unbiased_estimator[i] = theta_hat\n",
    "    \n",
    "sns.distplot(unbiased_estimator)\n",
    "plt.title(r\"True distribution of $\\hat\\theta$ for $n=100$\")\n",
    "plt.xlabel(r\"$\\hat \\theta$\")\n",
    "plt.ylabel(\"Count\")"
   ]
  },
  {
   "cell_type": "markdown",
   "metadata": {},
   "source": [
    "We see that the true distribution of $\\hat\\theta$ is smooth."
   ]
  },
  {
   "cell_type": "markdown",
   "metadata": {},
   "source": [
    "**1.8. So far we've used a \"natural\" version of calculating bootstrap confidence intervals -- the percentile method.  In this situation is it possible for the \"true\" value of $\\theta$ to be in the confidence interval?  In order to remedy this we'll use a alternate confidence interval version called the pivot confidence interval.  The pivot confidence interval is defined as [$2\\hat{\\theta} -\\hat{\\theta}^*_{(0.975)},2\\hat{\\theta} -\\hat{\\theta}^*_{(0.025)}$].  Is the true value contained in this interval?**"
   ]
  },
  {
   "cell_type": "markdown",
   "metadata": {},
   "source": [
    "If we use the unbiased estimator for $\\theta$, is is actually possible that the true value of $\\theta$ is in the confidence interval:"
   ]
  },
  {
   "cell_type": "code",
   "execution_count": 128,
   "metadata": {},
   "outputs": [
    {
     "name": "stdout",
     "output_type": "stream",
     "text": [
      "95% confidence interval [0.98028612 1.00379053]\n"
     ]
    }
   ],
   "source": [
    "np.random.seed(2)\n",
    "n = 100\n",
    "x = np.random.uniform(0, 1, size=n)\n",
    "\n",
    "m = 1000 # Number of resamples\n",
    "bootstrapped_thetas_ = np.zeros(m)\n",
    "for i in range(m):\n",
    "    bootstrap_sample = np.random.choice(x, replace=True, size=n)\n",
    "    bootstrap_max = bootstrap_sample.max()\n",
    "    bootstrapped_thetas_[i] = bootstrap_max * (n+1) / n\n",
    "    \n",
    "print(\"95% confidence interval\", np.percentile(bootstrapped_thetas_, [2.5, 97.5]))"
   ]
  },
  {
   "cell_type": "markdown",
   "metadata": {},
   "source": [
    "If we use the maximum likelihood estimate, this is clearly not possible, since the probability of obtaining the true value $\\theta = 1$ as sample maximum is zero."
   ]
  },
  {
   "cell_type": "markdown",
   "metadata": {},
   "source": [
    "Let us construct the pivot confidence interval:"
   ]
  },
  {
   "cell_type": "code",
   "execution_count": 48,
   "metadata": {},
   "outputs": [
    {
     "data": {
      "text/plain": [
       "array([0.98886109, 1.01983265])"
      ]
     },
     "execution_count": 48,
     "metadata": {},
     "output_type": "execute_result"
    }
   ],
   "source": [
    "2 * original_xi_samples.max() - np.percentile(bootstrapped_thetas[:, 1], [97.5, 2.5])"
   ]
  },
  {
   "cell_type": "markdown",
   "metadata": {},
   "source": [
    "The percentile interval for the maximum likelihood estimate does contain the true parameter $\\theta = 1$."
   ]
  },
  {
   "cell_type": "markdown",
   "metadata": {},
   "source": [
    "<div class=\"answer-separator\">\n",
    "------------------------\n",
    "</div>"
   ]
  },
  {
   "cell_type": "markdown",
   "metadata": {},
   "source": [
    "## Question 2: Visualize Your Poor Marginlized Conditional Love\n",
    "\n",
    "**Coding required**\n",
    "\n",
    "Read the data set contained in [Homework_3_Data.txt](Homework_3_Data.txt). Each data point is a two-dimensional vector, $\\mathbf{x} = (x_1, x_2)$.\n",
    "\n",
    "In obtaining estimates for this problem we want you to \n",
    "\n",
    "- define a function called *get_bootstrap_sample(dataset)* to generate each bootstrap sample\n",
    "- and then another function *perform_bootstrap(dataset)* to generate all the samples. \n",
    "\n",
    "They should both take as parameters the dataset from which you'll be drawing samples. *perform_bootstrap* should call *get_bootstrap_sample* and return a sequence of bootstrap samples.  *get_bootstrap_sample* should return an individual bootstrap sample.\n"
   ]
  },
  {
   "cell_type": "markdown",
   "metadata": {},
   "source": [
    "** 2.1. Make a 2-D visualization of the empirical distribution of the data. **"
   ]
  },
  {
   "cell_type": "code",
   "execution_count": 4,
   "metadata": {},
   "outputs": [
    {
     "data": {
      "text/html": [
       "<div>\n",
       "<style scoped>\n",
       "    .dataframe tbody tr th:only-of-type {\n",
       "        vertical-align: middle;\n",
       "    }\n",
       "\n",
       "    .dataframe tbody tr th {\n",
       "        vertical-align: top;\n",
       "    }\n",
       "\n",
       "    .dataframe thead th {\n",
       "        text-align: right;\n",
       "    }\n",
       "</style>\n",
       "<table border=\"1\" class=\"dataframe\">\n",
       "  <thead>\n",
       "    <tr style=\"text-align: right;\">\n",
       "      <th></th>\n",
       "      <th>x</th>\n",
       "      <th>y</th>\n",
       "    </tr>\n",
       "  </thead>\n",
       "  <tbody>\n",
       "    <tr>\n",
       "      <th>0</th>\n",
       "      <td>3.008992</td>\n",
       "      <td>6.205285</td>\n",
       "    </tr>\n",
       "    <tr>\n",
       "      <th>1</th>\n",
       "      <td>4.845897</td>\n",
       "      <td>4.864804</td>\n",
       "    </tr>\n",
       "    <tr>\n",
       "      <th>2</th>\n",
       "      <td>5.137567</td>\n",
       "      <td>4.536671</td>\n",
       "    </tr>\n",
       "    <tr>\n",
       "      <th>3</th>\n",
       "      <td>4.766038</td>\n",
       "      <td>4.158884</td>\n",
       "    </tr>\n",
       "    <tr>\n",
       "      <th>4</th>\n",
       "      <td>4.242169</td>\n",
       "      <td>4.070555</td>\n",
       "    </tr>\n",
       "  </tbody>\n",
       "</table>\n",
       "</div>"
      ],
      "text/plain": [
       "          x         y\n",
       "0  3.008992  6.205285\n",
       "1  4.845897  4.864804\n",
       "2  5.137567  4.536671\n",
       "3  4.766038  4.158884\n",
       "4  4.242169  4.070555"
      ]
     },
     "execution_count": 4,
     "metadata": {},
     "output_type": "execute_result"
    }
   ],
   "source": [
    "data = pd.read_csv(\"../data/Homework_3_Data.txt\", header=None, names=['x', 'y'])\n",
    "data.head()"
   ]
  },
  {
   "cell_type": "code",
   "execution_count": 19,
   "metadata": {},
   "outputs": [
    {
     "data": {
      "image/png": "[encoded data removed]",
      "text/plain": [
       "<matplotlib.figure.Figure at 0x111f2d5f8>"
      ]
     },
     "metadata": {},
     "output_type": "display_data"
    }
   ],
   "source": [
    "with sns.axes_style(\"white\"):\n",
    "    sns.jointplot(x=data['x'], y=data['y'], kind=\"hex\", color=\"k\");"
   ]
  },
  {
   "cell_type": "markdown",
   "metadata": {},
   "source": [
    "**2.2. We assume that the data was generated by some probability distribution (pdf).  Visualize that pdf, $f_X$.**"
   ]
  },
  {
   "cell_type": "code",
   "execution_count": 28,
   "metadata": {},
   "outputs": [
    {
     "data": {
      "text/plain": [
       "<seaborn.axisgrid.JointGrid at 0x1168e87b8>"
      ]
     },
     "execution_count": 28,
     "metadata": {},
     "output_type": "execute_result"
    },
    {
     "data": {
      "image/png": "[encoded data removed]",
      "text/plain": [
       "<matplotlib.figure.Figure at 0x1167abba8>"
      ]
     },
     "metadata": {},
     "output_type": "display_data"
    }
   ],
   "source": [
    "sns.jointplot(x=\"x\", y=\"y\", data=data, kind=\"kde\", color=\"g\")"
   ]
  },
  {
   "cell_type": "markdown",
   "metadata": {},
   "source": [
    "It looks as if the data were generated from a two-dimensional Gaussian whose components are uncorrelated."
   ]
  },
  {
   "cell_type": "markdown",
   "metadata": {},
   "source": [
    "**2.3. Visualize the conditional distribution defined by $f_{x_2 \\mid x_1}$ for $x_1 \\in [3.99, 4.01]$.**"
   ]
  },
  {
   "cell_type": "code",
   "execution_count": 35,
   "metadata": {},
   "outputs": [
    {
     "data": {
      "text/plain": [
       "<matplotlib.axes._subplots.AxesSubplot at 0x1163ce390>"
      ]
     },
     "execution_count": 35,
     "metadata": {},
     "output_type": "execute_result"
    },
    {
     "data": {
      "image/png": "[encoded data removed]",
      "text/plain": [
       "<matplotlib.figure.Figure at 0x11800bc50>"
      ]
     },
     "metadata": {},
     "output_type": "display_data"
    }
   ],
   "source": [
    "d_x = data.loc[np.logical_and(data['x'] <= 4.01, data['x'] >= 3.99)]\n",
    "sns.distplot(d_x['y'], bins=30)"
   ]
  },
  {
   "cell_type": "markdown",
   "metadata": {},
   "source": [
    "**2.4. Visualize the mariginal distribution defined by $f_{x_1}$.**\n",
    "\n",
    "This has actually already been done implicitly in 2.1 (graph on top), but let's plot the marginal anyway again:"
   ]
  },
  {
   "cell_type": "code",
   "execution_count": 37,
   "metadata": {},
   "outputs": [
    {
     "data": {
      "text/plain": [
       "<matplotlib.axes._subplots.AxesSubplot at 0x118508dd8>"
      ]
     },
     "execution_count": 37,
     "metadata": {},
     "output_type": "execute_result"
    },
    {
     "data": {
      "image/png": "[encoded data removed]",
      "text/plain": [
       "<matplotlib.figure.Figure at 0x1161b7940>"
      ]
     },
     "metadata": {},
     "output_type": "display_data"
    }
   ],
   "source": [
    "sns.distplot(data['x'])"
   ]
  },
  {
   "cell_type": "markdown",
   "metadata": {},
   "source": [
    "**2.5. Empirically estimate the mean of the distribution $f_{x_1}$. Estimate, also the SE (standard error) of the estimate.**\n",
    "\n",
    "The mean of the marginal is easy to estimate: we just calculate the sample average."
   ]
  },
  {
   "cell_type": "code",
   "execution_count": 42,
   "metadata": {},
   "outputs": [
    {
     "name": "stdout",
     "output_type": "stream",
     "text": [
      "Mean of marginal along x: 3.993\n"
     ]
    }
   ],
   "source": [
    "print(\"Mean of marginal along x: {:.3f}\".format(data['x'].mean()))"
   ]
  },
  {
   "cell_type": "markdown",
   "metadata": {},
   "source": [
    "We calculate the standard error using the bootstrap. It's easily possible to implement the functions as suggested in the problem statement:"
   ]
  },
  {
   "cell_type": "code",
   "execution_count": 56,
   "metadata": {
    "collapsed": true
   },
   "outputs": [],
   "source": [
    "def get_bootstrap_sample(df):\n",
    "    \"\"\"\n",
    "    Generates boostrap sample from dataframe df.\n",
    "    \n",
    "    :param df: pandas dataframe\n",
    "    \"\"\"\n",
    "    return df.sample(frac=1.0, replace=True)\n",
    "\n",
    "def perform_bootstrap(df, N=1000):\n",
    "    \"\"\"\n",
    "    Geneate list of N bootstrap samples from dataframe df.\n",
    "    \n",
    "    :param df: pandas dataframe to bootstrap\n",
    "    :param N: integer, number of bootstrap sample\n",
    "    \"\"\"\n",
    "    return [get_bootstrap_sample(df) for _ in range(N)]"
   ]
  },
  {
   "cell_type": "markdown",
   "metadata": {},
   "source": [
    "This, however, is not very memory efficient once we have a bigger dataframe df. In that situation, it is better to calculate one bootstrap sample, then perform the action we want to (like calculating a mean) on this dataset and storing just the result in a list. Then, the two functions would look as follows:"
   ]
  },
  {
   "cell_type": "code",
   "execution_count": 57,
   "metadata": {
    "collapsed": true
   },
   "outputs": [],
   "source": [
    "def perform_bootstrap(df, f, N=1000):\n",
    "    \"\"\"\n",
    "    Geneate list of N bootstrap samples from dataframe df.\n",
    "    \n",
    "    :param df: pandas dataframe to bootstrap\n",
    "    :param f: function to apply to dataframe df\n",
    "    :param N: integer, number of bootstrap sample\n",
    "    \"\"\"\n",
    "    \n",
    "    return [f(get_bootstrap_sample(df)) for _ in range(N)]"
   ]
  },
  {
   "cell_type": "code",
   "execution_count": 63,
   "metadata": {},
   "outputs": [
    {
     "name": "stdout",
     "output_type": "stream",
     "text": [
      "Standard error from bootstrap: 0.007\n"
     ]
    }
   ],
   "source": [
    "bootstrapped_means = perform_bootstrap(data, f=lambda df: df.mean()[0])\n",
    "print(\"Standard error from bootstrap: {:.3f}\".format(np.std(bootstrapped_means)))"
   ]
  },
  {
   "cell_type": "markdown",
   "metadata": {},
   "source": [
    "**2.6. Empirically estimate the standard deviation of the distribution $f_{x_2 \\mid x_1}$, for $x_1 \\in [3.99, 4.01]$. Estimate, also the SE (standard error) of the estimate.**\n"
   ]
  },
  {
   "cell_type": "code",
   "execution_count": 66,
   "metadata": {},
   "outputs": [
    {
     "name": "stdout",
     "output_type": "stream",
     "text": [
      "Point estimate of standard deviation: 0.738\n"
     ]
    }
   ],
   "source": [
    "print(\"Point estimate of standard deviation: {:.3f}\".format(np.std(d_x.y)))"
   ]
  },
  {
   "cell_type": "code",
   "execution_count": 68,
   "metadata": {},
   "outputs": [
    {
     "name": "stdout",
     "output_type": "stream",
     "text": [
      "Standard error from bootstrap: 0.039\n"
     ]
    }
   ],
   "source": [
    "bootstrapped_std = perform_bootstrap(d_x, f=lambda df: df.std()[1])\n",
    "print(\"Standard error from bootstrap: {:.3f}\".format(np.std(bootstrapped_std)))"
   ]
  },
  {
   "cell_type": "markdown",
   "metadata": {},
   "source": [
    "**2.7. Given the SE, How many digits in your standard deviation estimate are significant? Explain why.**\n",
    "\n",
    "We would write the standard deviation as $0.74$. Although the second digit varies a lot, it conveys some information, namely it allows us to write that we are 95% sure that the standard devation is between 0.66 and 0.81.\n",
    "\n",
    "One could also argue that we should only use one digit, since the second digit is only variation. We are, however, not sure about the first digit either, as the plot below shows:"
   ]
  },
  {
   "cell_type": "code",
   "execution_count": 71,
   "metadata": {},
   "outputs": [
    {
     "data": {
      "text/plain": [
       "<matplotlib.axes._subplots.AxesSubplot at 0x1159aeeb8>"
      ]
     },
     "execution_count": 71,
     "metadata": {},
     "output_type": "execute_result"
    },
    {
     "data": {
      "image/png": "[encoded data removed]",
      "text/plain": [
       "<matplotlib.figure.Figure at 0x1159c70b8>"
      ]
     },
     "metadata": {},
     "output_type": "display_data"
    }
   ],
   "source": [
    "sns.distplot(bootstrapped_std)"
   ]
  },
  {
   "cell_type": "markdown",
   "metadata": {},
   "source": [
    "<div class=\"answer-separator\">\n",
    "------------------------\n",
    "</div>"
   ]
  },
  {
   "cell_type": "markdown",
   "metadata": {},
   "source": [
    "## Problem 3: Linear Regression\n",
    "\n",
    "Consider the following base Regression class, which roughly follows the API in the python package `scikit-learn`.\n",
    "\n",
    "Our model is the the multivariate linear model whose MLE solution or equivalent cost minimization was talked about in lecture:\n",
    "\n",
    "$$y = X\\beta + \\epsilon$$\n",
    "where $y$ is a length $n$ vector, $X$ is an $m \\times p$ matrix created by stacking the features for each data point, and $\\beta$ is a $p$ length vector of coefficients.\n",
    "\n",
    "The class showcases the API:\n",
    "\n",
    "$fit(X, y)$: Fits linear model to $X$ and $y$.\n",
    "\n",
    "$get\\_params()$: Returns $\\hat{\\beta}$ for the fitted model. The parameters should be stored in a dictionary with keys \"intercept\" and \"coef\" that give us $\\hat{\\beta_0}$ and $\\hat{\\beta_{1:}}$. (The second value here is thus a numpy array of coefficient values)\n",
    "\n",
    "$predict(X)$: Predict new values with the fitted model given $X$.\n",
    "\n",
    "$score(X, y)$: Returns $R^2$ value of the fitted model.\n",
    "\n",
    "$set\\_params()$: Manually set the parameters of the linear model.\n",
    "\n"
   ]
  },
  {
   "cell_type": "code",
   "execution_count": 24,
   "metadata": {
    "collapsed": true
   },
   "outputs": [],
   "source": [
    "class Regression(object):\n",
    "    \n",
    "    def __init__(self):\n",
    "        self.params = dict()\n",
    "    \n",
    "    def get_params(self, k):\n",
    "        return self.params[k]\n",
    "    \n",
    "    def set_params(self, **kwargs):\n",
    "        for k,v in kwargs.items():\n",
    "            self.params[k] = v\n",
    "        \n",
    "    def fit(self, X, y):\n",
    "        raise NotImplementedError()\n",
    "        \n",
    "    def predict(self, X):\n",
    "        raise NotImplementedError()\n",
    "        \n",
    "    def score(self, X, y):\n",
    "        raise NotImplementedError()"
   ]
  },
  {
   "cell_type": "markdown",
   "metadata": {},
   "source": [
    "**3.1. In a jupyter notebook code cell below we've defined and implemented the class `Regression`.  Inherit from this class to create an ordinary least squares Linear Regression class called AM207OLS.  Your class will implement an sklearn-like api.  It's signature will look like this:**\n",
    "\n",
    "`class OLS(Regression):`\n",
    "\n",
    "Implement `fit`, `predict` and `score`. This will involve some linear algebra. (You might want to read up on pseudo-inverses before you directly implement the linear algebra on the lecure slides).\n",
    "\n",
    "The $R^2$ score is defined as: $${R^{2} = {1-{SS_E \\over SS_T}}}$$\n",
    "\n",
    "Where:\n",
    "\n",
    "$$SS_T=\\sum_i (y_i-\\bar{y})^2, SS_R=\\sum_i (\\hat{y_i}-\\bar{y})^2, SS_E=\\sum_i (y_i - \\hat{y_i})^2$$\n",
    "where  ${y_i}$ are the original data values, $\\hat{y_i}$ are the predicted values, and $\\bar{y_i}$ is the mean of the original data values.\n",
    "\n"
   ]
  },
  {
   "cell_type": "code",
   "execution_count": 25,
   "metadata": {
    "collapsed": true
   },
   "outputs": [],
   "source": [
    "class OLS(Regression):\n",
    "    \"\"\"\n",
    "    Implements ordinary least squares\n",
    "    \"\"\"\n",
    "    def fit(self, X, y):\n",
    "        # Add constant feature for bias\n",
    "        X_ext = np.hstack([np.ones((X.shape[0], 1)), X])\n",
    "        # Solve OLS\n",
    "        coefs = pinv(X_ext.T.dot(X_ext)).dot(X_ext.T).dot(y)\n",
    "        self.params['intercept'] = coefs[0]\n",
    "        self.params['coef'] = coefs[1:]\n",
    "    \n",
    "    def score(self, X, y):\n",
    "        preds = self.predict(X)\n",
    "        residuals = preds - y\n",
    "        RSS = np.sum(residuals ** 2)\n",
    "        \n",
    "        mean = np.mean(y)\n",
    "        SS = np.sum((mean - y) ** 2)\n",
    "        \n",
    "        R2 = 1 - RSS / SS\n",
    "        return R2\n",
    "        \n",
    "    \n",
    "    def predict(self, X):\n",
    "        return self.params['intercept'] + X.dot(self.params['coef'])"
   ]
  },
  {
   "cell_type": "markdown",
   "metadata": {},
   "source": [
    "**3.2.  We'll create a synthetic data set using the code below. (Read the documentation for `make_regression` to see what is going on).  **\n",
    "\n",
    "Verify that your code recovers these coefficients approximately on doing the fit. Plot the predicted `y` against the actual `y`. Also calculate the score using the same sets `X` and `y`. The usage will look something like:\n",
    "\n",
    "```python\n",
    "lr = OLS()\n",
    "lr.fit(X,y)\n",
    "lr.get_params['coef']\n",
    "lr.predict(X,y)\n",
    "lr.score(X,y)```"
   ]
  },
  {
   "cell_type": "code",
   "execution_count": 34,
   "metadata": {},
   "outputs": [
    {
     "data": {
      "text/plain": [
       "array([76.6568183 , 77.67682678, 63.78807738, 19.3299907 , 59.01638708,\n",
       "       53.13633737, 28.77629958, 10.01888939,  9.25346811, 59.55220395])"
      ]
     },
     "execution_count": 34,
     "metadata": {},
     "output_type": "execute_result"
    }
   ],
   "source": [
    "from sklearn.datasets import make_regression\n",
    "import numpy as np\n",
    "np.random.seed(99)\n",
    "X, y, coef = make_regression(30,10, 10, bias=1, noise=2, coef=True)\n",
    "coef"
   ]
  },
  {
   "cell_type": "code",
   "execution_count": 30,
   "metadata": {},
   "outputs": [
    {
     "name": "stdout",
     "output_type": "stream",
     "text": [
      "Fitted coefficients: \n",
      " [77.20719705 76.51004831 62.97865316 18.4436452  58.50019885 53.25126559\n",
      " 28.29088241  9.33333359 10.29584457 59.1606719 ]\n",
      "R^2 Score: 0.9999155832062194\n"
     ]
    }
   ],
   "source": [
    "from numpy.linalg import pinv\n",
    "lr = OLS()\n",
    "lr.fit(X, y)\n",
    "coefs = lr.get_params('coef')\n",
    "print(\"Fitted coefficients: \\n\", coefs)\n",
    "preds = lr.predict(X)\n",
    "print(\"R^2 Score: {}\".format(lr.score(X, y)))"
   ]
  },
  {
   "cell_type": "code",
   "execution_count": 47,
   "metadata": {},
   "outputs": [
    {
     "data": {
      "text/plain": [
       "<matplotlib.legend.Legend at 0x10bc55278>"
      ]
     },
     "execution_count": 47,
     "metadata": {},
     "output_type": "execute_result"
    },
    {
     "data": {
      "image/png": "[encoded data removed]",
      "text/plain": [
       "<matplotlib.figure.Figure at 0x10bb52a20>"
      ]
     },
     "metadata": {},
     "output_type": "display_data"
    }
   ],
   "source": [
    "plt.plot(preds, y, '-')\n",
    "plt.plot(preds, y, 'r.', label='data')\n",
    "plt.xlabel(\"Predicted\")\n",
    "plt.ylabel(\"Actual\")\n",
    "plt.title(\"Predictions versus actual\")\n",
    "plt.legend()"
   ]
  },
  {
   "cell_type": "markdown",
   "metadata": {},
   "source": [
    "<div class=\"answer-separator\">\n",
    "------------------------\n",
    "</div>"
   ]
  },
  {
   "cell_type": "markdown",
   "metadata": {},
   "source": [
    "## Question 4: Is the Incumbent of the House in?"
   ]
  },
  {
   "cell_type": "markdown",
   "metadata": {},
   "source": [
    "We shall consider US House data from 1896 to 1990. This dataset was compiled for [Gelman, Andrew, and Gary King. \"Estimating incumbency advantage without bias.\" American Journal of Political Science (1990): 1142-1164.](http://gking.harvard.edu/files/gking/files/inc.pdf). Why incumbency and why the house? The house gives us lots of races in any given year to validate our model, and in elections which happen every two years, where demography hasn't changed much, incumbency is a large effect, as might be the presence of a national swing (which we would capture in an intercept in a regression).\n",
    "\n",
    "Let us, then, imagine a very simplified model in which the democratic party's fraction of the vote in this election, for seat(county) $i$, at time $t$ years, $d_{i,t}$, is a linear combination of the democratic party's fraction of the vote in the previous election, at time $t-2$, $d_{i, t-2}$, and a categorical variable $I_{i,t}$, which characterizes the nature of the candidate running in this election:\n",
    "\n",
    "$$\n",
    "I =\n",
    "\\begin{cases} \n",
    "      -1 & \\texttt{Republican Incumbent Running} \\\\\n",
    "       0 & \\texttt{New Candidate Running} \\\\\n",
    "       1 & \\texttt{Democratic Incumbent Running}\n",
    "\\end{cases}\n",
    "$$\n",
    "\n",
    "We use the statsmodels formula notation: \n",
    "\n",
    "`DP1 ~ DP + I`.\n",
    "\n",
    "This means linear regress DP, the democratic fraction of the vote this time around for a given house seat on DP1 which is the democratic fraction the previous time around and I, a \"factor\" or categorical(nominal) variable with 3 levels.\n",
    "\n",
    "In mathematical notation this regression is:\n",
    "\n",
    "$$d_{t,i} = \\beta_1 d_{i, t-2} + \\beta_2 I_{i,t} + \\beta_0,$$\n",
    "\n",
    "where $d_{i, t-2}$ is the democratic fraction in county $i$ at the previous election, and $I_{i,t}$ is the factor above which tells us if (and from which party: 1 for dems, -1 for reps) an incumbent is running. We want to find $\\beta_0,\\beta_1,\\beta_2$.\n",
    "\n",
    "Notice that we are regressing on a discrete variable `I`. This incumbency factor takes values 1, -1, or 0. As such it only changes the *intercept* of the regression. You can think of it as 3 regression lines, one for each subpopulation of incumbency, with their *slope constrained to be the same*. An intercept of $\\beta_0$ for open seats, $\\beta_2+\\beta_0$ for Democratic incumbents and $-\\beta_2+\\beta_0$ for Republican incumbents.\n",
    "\n",
    "You then think a little bit more and realize that, for example, in many conservative districts you will have a republican elected whether he/she is an incumbent or not. And you now realize that our analysis does not consider the party of the incumbent. So you decide to fix this\n",
    "\n",
    "Lets define $P_{t,i}$ as the party in power right now before the election at time $t$, i.e. the party that won the election at time $t-2$ in county $i$. It takes on values:\n",
    "\n",
    "$$\n",
    "P =\n",
    "\\begin{cases} \n",
    "      -1 & \\texttt{Republican Seat holder} \\\\\n",
    "       1 & \\texttt{Democratic Seat holder}\n",
    "\\end{cases}\n",
    "$$\n",
    "We can do this regression instead:\n",
    "\n",
    "`DP1 ~ DP + I + P`, where\n",
    "\n",
    "$P$ represents the incumbent party, i.e. the party which won the election in year t−2.\n",
    "\n",
    "In mathematical notation we have:\n",
    "\n",
    "$$d_{t,i} = \\beta_1 d_{t-2,i} + \\beta_2 I_{t,i} + \\beta_3 P_{t,i} + \\beta_0 ,$$\n",
    "where $P_{t,i}$ is the party in power right now before the election at time $t$, i.e. the party that won the election at time $t-2$ in county $i$. The value of $P$ is 1 for democrats, and -1 for republicans.\n",
    "\n",
    "### Interpretable Regressions\n",
    "\n",
    "One can say that the coefficient of $I$ now more properly captures the ￼effect of incumbency, after controlling for party.\n",
    "\n",
    "Regression coefficients become harder to interpret with multiple features. The meaning of any given coefficient depends on the other features in the model. Gelman and Hill advise: Typical advice is to interpret each coefficient “with all the other predictors held constant.”[Gelman, Andrew; Hill, Jennifer (2006-12-25). Data Analysis Using Regression and Multilevel/Hierarchical Models] Economists like to use the phrase \"ceteris paribus\" to describe this.\n",
    "\n",
    "The way to do this is interpretation to look at the various cases and explain what the co-efficients of $P$ and $I$ mean. Let us at first set $I$ to 0 meaning no incumbents and explain what the coefficients of $P$ mean. We are then fitting:\n",
    "\n",
    "$$d_{t,i} = \\beta_1 d_{t-2,i} + \\beta_3 P_{t,i} + \\beta_0 ,$$\n",
    "which for the $P=1$ (Democrat party winning the past election) case, gives us:\n",
    "\n",
    "$$d_{t,i} = \\beta_1 d_{t-2,i} + \\beta_3 + \\beta_0 ,$$\n",
    "and, for the $P=-1$ (Republican party winning the past election) case, gives us:\n",
    "\n",
    "$$d_{t,i} = \\beta_1 d_{t-2,i} - \\beta_3 + \\beta_0 .$$\n",
    "You can see that $\\beta_3$ then captures half the difference in the effect between democrats and republicans that comes from just having the party incumbent. It tells us that, with respect to the national swing measure $\\beta_0$, whats the party effect for republicans and democrats. It does it very poorly by splitting the difference between the democratic and republican party effects and being constant across seats, but its a start.\n",
    "\n",
    "\n"
   ]
  },
  {
   "cell_type": "code",
   "execution_count": 2,
   "metadata": {
    "collapsed": true
   },
   "outputs": [],
   "source": [
    "pairs=[\n",
    "    (1898,1896),\n",
    "    (1900,1898),\n",
    "    (1904,1902),\n",
    "    (1906,1904),\n",
    "    (1908, 1906),\n",
    "    (1910, 1908),\n",
    "    (1914, 1912),\n",
    "    (1916, 1914),\n",
    "    (1918, 1916),\n",
    "    (1920, 1918),\n",
    "    (1924, 1922),\n",
    "    (1926, 1924),\n",
    "    (1928, 1926),\n",
    "    (1930, 1928),\n",
    "    (1934, 1932),\n",
    "    (1936, 1934),\n",
    "    (1938, 1936),\n",
    "    (1940, 1938),\n",
    "    (1944, 1942),\n",
    "    (1946, 1944),\n",
    "    (1948, 1946),\n",
    "    (1950, 1948),\n",
    "    (1954, 1952),\n",
    "    (1956, 1954),\n",
    "    (1958, 1956),\n",
    "    (1960, 1958),\n",
    "    (1964, 1962),\n",
    "    (1966, 1964),\n",
    "    (1968, 1966),\n",
    "    (1970, 1968),\n",
    "    (1974, 1972),\n",
    "    (1976, 1974),\n",
    "    (1978, 1976),\n",
    "    (1980, 1978),\n",
    "    (1984, 1982),\n",
    "    (1986, 1984),\n",
    "    (1988, 1986),\n",
    "    (1990, 1988)\n",
    "]"
   ]
  },
  {
   "cell_type": "markdown",
   "metadata": {},
   "source": [
    "Each CSV file has the following information:\n",
    "\n",
    "- a number for the state\n",
    "- a number for the district\n",
    "- D1 and R1, the dem and repub percentages in the past election, and I1 the incumency back then\n",
    "- D and R, the dem and repub percentages in the present election, and I the incumbency now\n",
    "- P, the incumbent party from the past election in that seat, 1 for democrats, -1 for republicans\n",
    "- PNOW, the party which won the current election, 1 for democrats, -1 for republicans\n",
    "- A variable we'll call $T$ (for treatment),where we want to decide if we should replace an incumbent for a new candidate, or not. \n",
    "$$\n",
    "T =\n",
    "\\begin{cases} \n",
    "      0 & \\texttt{Incumbent Running} \\\\\n",
    "      1 & \\texttt{New Candidate Running}\n",
    "\\end{cases}\n",
    "$$\n",
    "\n",
    "(This column is not used in this homework)"
   ]
  },
  {
   "cell_type": "code",
   "execution_count": 6,
   "metadata": {},
   "outputs": [],
   "source": [
    "pairframes={}\n",
    "for p in pairs:\n",
    "    key = str(p[0])+\"-\"+str(p[1])\n",
    "    pairframes[key] = pd.read_csv(\"../data/housedata/{}.csv\".format(key))"
   ]
  },
  {
   "cell_type": "markdown",
   "metadata": {},
   "source": [
    "To get warmed up, let us consider the 1988-1990 election pair."
   ]
  },
  {
   "cell_type": "code",
   "execution_count": 7,
   "metadata": {},
   "outputs": [
    {
     "data": {
      "text/html": [
       "<div>\n",
       "<style scoped>\n",
       "    .dataframe tbody tr th:only-of-type {\n",
       "        vertical-align: middle;\n",
       "    }\n",
       "\n",
       "    .dataframe tbody tr th {\n",
       "        vertical-align: top;\n",
       "    }\n",
       "\n",
       "    .dataframe thead th {\n",
       "        text-align: right;\n",
       "    }\n",
       "</style>\n",
       "<table border=\"1\" class=\"dataframe\">\n",
       "  <thead>\n",
       "    <tr style=\"text-align: right;\">\n",
       "      <th></th>\n",
       "      <th>state</th>\n",
       "      <th>district</th>\n",
       "      <th>I</th>\n",
       "      <th>D</th>\n",
       "      <th>R</th>\n",
       "      <th>D1</th>\n",
       "      <th>R1</th>\n",
       "      <th>DP</th>\n",
       "      <th>DP1</th>\n",
       "      <th>P</th>\n",
       "      <th>PNOW</th>\n",
       "      <th>T</th>\n",
       "    </tr>\n",
       "  </thead>\n",
       "  <tbody>\n",
       "    <tr>\n",
       "      <th>0</th>\n",
       "      <td>1</td>\n",
       "      <td>1</td>\n",
       "      <td>1</td>\n",
       "      <td>126566</td>\n",
       "      <td>50690</td>\n",
       "      <td>176463</td>\n",
       "      <td>51985</td>\n",
       "      <td>0.714029</td>\n",
       "      <td>0.772443</td>\n",
       "      <td>1</td>\n",
       "      <td>1</td>\n",
       "      <td>0.0</td>\n",
       "    </tr>\n",
       "    <tr>\n",
       "      <th>1</th>\n",
       "      <td>1</td>\n",
       "      <td>2</td>\n",
       "      <td>1</td>\n",
       "      <td>105085</td>\n",
       "      <td>70922</td>\n",
       "      <td>143326</td>\n",
       "      <td>81965</td>\n",
       "      <td>0.597050</td>\n",
       "      <td>0.636182</td>\n",
       "      <td>1</td>\n",
       "      <td>1</td>\n",
       "      <td>0.0</td>\n",
       "    </tr>\n",
       "    <tr>\n",
       "      <th>2</th>\n",
       "      <td>1</td>\n",
       "      <td>3</td>\n",
       "      <td>0</td>\n",
       "      <td>90772</td>\n",
       "      <td>83440</td>\n",
       "      <td>147394</td>\n",
       "      <td>74275</td>\n",
       "      <td>0.521043</td>\n",
       "      <td>0.664928</td>\n",
       "      <td>1</td>\n",
       "      <td>1</td>\n",
       "      <td>1.0</td>\n",
       "    </tr>\n",
       "    <tr>\n",
       "      <th>3</th>\n",
       "      <td>1</td>\n",
       "      <td>4</td>\n",
       "      <td>-1</td>\n",
       "      <td>32352</td>\n",
       "      <td>105682</td>\n",
       "      <td>55751</td>\n",
       "      <td>147843</td>\n",
       "      <td>0.234377</td>\n",
       "      <td>0.273834</td>\n",
       "      <td>-1</td>\n",
       "      <td>-1</td>\n",
       "      <td>0.0</td>\n",
       "    </tr>\n",
       "    <tr>\n",
       "      <th>4</th>\n",
       "      <td>1</td>\n",
       "      <td>5</td>\n",
       "      <td>0</td>\n",
       "      <td>85803</td>\n",
       "      <td>93912</td>\n",
       "      <td>58612</td>\n",
       "      <td>163729</td>\n",
       "      <td>0.477439</td>\n",
       "      <td>0.263613</td>\n",
       "      <td>-1</td>\n",
       "      <td>-1</td>\n",
       "      <td>1.0</td>\n",
       "    </tr>\n",
       "  </tbody>\n",
       "</table>\n",
       "</div>"
      ],
      "text/plain": [
       "   state  district  I       D       R      D1      R1        DP       DP1  P  \\\n",
       "0      1         1  1  126566   50690  176463   51985  0.714029  0.772443  1   \n",
       "1      1         2  1  105085   70922  143326   81965  0.597050  0.636182  1   \n",
       "2      1         3  0   90772   83440  147394   74275  0.521043  0.664928  1   \n",
       "3      1         4 -1   32352  105682   55751  147843  0.234377  0.273834 -1   \n",
       "4      1         5  0   85803   93912   58612  163729  0.477439  0.263613 -1   \n",
       "\n",
       "   PNOW    T  \n",
       "0     1  0.0  \n",
       "1     1  0.0  \n",
       "2     1  1.0  \n",
       "3    -1  0.0  \n",
       "4    -1  1.0  "
      ]
     },
     "execution_count": 7,
     "metadata": {},
     "output_type": "execute_result"
    }
   ],
   "source": [
    "pairframes['1990-1988'].head()"
   ]
  },
  {
   "cell_type": "markdown",
   "metadata": {},
   "source": [
    "To carry out the linear regression we'll use `statsmodels` from python, using the `ols`, or Ordinary Least Squares method defined there.\n",
    "\n",
    "We use the `statsmodels` formula notation. `DP ~ DP1 + I` means linear regress `DP`, the democratic fraction of the vote this time around for a given house seat on `DP1` which is the democratic fraction the previous time around and `I`, a \"factor\" or categorical(nominal) variable with 3 levels: "
   ]
  },
  {
   "cell_type": "code",
   "execution_count": 8,
   "metadata": {},
   "outputs": [
    {
     "name": "stderr",
     "output_type": "stream",
     "text": [
      "/anaconda/lib/python3.6/site-packages/statsmodels/compat/pandas.py:56: FutureWarning: The pandas.core.datetools module is deprecated and will be removed in a future version. Please use the pandas.tseries module instead.\n",
      "  from pandas.core import datetools\n"
     ]
    }
   ],
   "source": [
    "import statsmodels.api as sm\n",
    "from statsmodels.formula.api import glm, ols"
   ]
  },
  {
   "cell_type": "code",
   "execution_count": 9,
   "metadata": {},
   "outputs": [
    {
     "data": {
      "text/plain": [
       "<statsmodels.regression.linear_model.RegressionResultsWrapper at 0x10d3ab208>"
      ]
     },
     "execution_count": 9,
     "metadata": {},
     "output_type": "execute_result"
    }
   ],
   "source": [
    "ols_model = ols('DP ~ DP1 + I', pairframes['1990-1988']).fit()\n",
    "ols_model"
   ]
  },
  {
   "cell_type": "code",
   "execution_count": 10,
   "metadata": {},
   "outputs": [
    {
     "data": {
      "text/html": [
       "<table class=\"simpletable\">\n",
       "<caption>OLS Regression Results</caption>\n",
       "<tr>\n",
       "  <th>Dep. Variable:</th>           <td>DP</td>        <th>  R-squared:         </th> <td>   0.806</td> \n",
       "</tr>\n",
       "<tr>\n",
       "  <th>Model:</th>                   <td>OLS</td>       <th>  Adj. R-squared:    </th> <td>   0.804</td> \n",
       "</tr>\n",
       "<tr>\n",
       "  <th>Method:</th>             <td>Least Squares</td>  <th>  F-statistic:       </th> <td>   612.0</td> \n",
       "</tr>\n",
       "<tr>\n",
       "  <th>Date:</th>             <td>Wed, 26 Sep 2018</td> <th>  Prob (F-statistic):</th> <td>1.04e-105</td>\n",
       "</tr>\n",
       "<tr>\n",
       "  <th>Time:</th>                 <td>07:52:11</td>     <th>  Log-Likelihood:    </th> <td>  368.81</td> \n",
       "</tr>\n",
       "<tr>\n",
       "  <th>No. Observations:</th>      <td>   298</td>      <th>  AIC:               </th> <td>  -731.6</td> \n",
       "</tr>\n",
       "<tr>\n",
       "  <th>Df Residuals:</th>          <td>   295</td>      <th>  BIC:               </th> <td>  -720.5</td> \n",
       "</tr>\n",
       "<tr>\n",
       "  <th>Df Model:</th>              <td>     2</td>      <th>                     </th>     <td> </td>    \n",
       "</tr>\n",
       "<tr>\n",
       "  <th>Covariance Type:</th>      <td>nonrobust</td>    <th>                     </th>     <td> </td>    \n",
       "</tr>\n",
       "</table>\n",
       "<table class=\"simpletable\">\n",
       "<tr>\n",
       "      <td></td>         <th>coef</th>     <th>std err</th>      <th>t</th>      <th>P>|t|</th>  <th>[0.025</th>    <th>0.975]</th>  \n",
       "</tr>\n",
       "<tr>\n",
       "  <th>Intercept</th> <td>    0.2326</td> <td>    0.020</td> <td>   11.503</td> <td> 0.000</td> <td>    0.193</td> <td>    0.272</td>\n",
       "</tr>\n",
       "<tr>\n",
       "  <th>DP1</th>       <td>    0.5622</td> <td>    0.040</td> <td>   14.220</td> <td> 0.000</td> <td>    0.484</td> <td>    0.640</td>\n",
       "</tr>\n",
       "<tr>\n",
       "  <th>I</th>         <td>    0.0429</td> <td>    0.008</td> <td>    5.333</td> <td> 0.000</td> <td>    0.027</td> <td>    0.059</td>\n",
       "</tr>\n",
       "</table>\n",
       "<table class=\"simpletable\">\n",
       "<tr>\n",
       "  <th>Omnibus:</th>       <td> 7.465</td> <th>  Durbin-Watson:     </th> <td>   1.728</td>\n",
       "</tr>\n",
       "<tr>\n",
       "  <th>Prob(Omnibus):</th> <td> 0.024</td> <th>  Jarque-Bera (JB):  </th> <td>   7.316</td>\n",
       "</tr>\n",
       "<tr>\n",
       "  <th>Skew:</th>          <td> 0.374</td> <th>  Prob(JB):          </th> <td>  0.0258</td>\n",
       "</tr>\n",
       "<tr>\n",
       "  <th>Kurtosis:</th>      <td> 3.174</td> <th>  Cond. No.          </th> <td>    13.1</td>\n",
       "</tr>\n",
       "</table>"
      ],
      "text/plain": [
       "<class 'statsmodels.iolib.summary.Summary'>\n",
       "\"\"\"\n",
       "                            OLS Regression Results                            \n",
       "==============================================================================\n",
       "Dep. Variable:                     DP   R-squared:                       0.806\n",
       "Model:                            OLS   Adj. R-squared:                  0.804\n",
       "Method:                 Least Squares   F-statistic:                     612.0\n",
       "Date:                Wed, 26 Sep 2018   Prob (F-statistic):          1.04e-105\n",
       "Time:                        07:52:11   Log-Likelihood:                 368.81\n",
       "No. Observations:                 298   AIC:                            -731.6\n",
       "Df Residuals:                     295   BIC:                            -720.5\n",
       "Df Model:                           2                                         \n",
       "Covariance Type:            nonrobust                                         \n",
       "==============================================================================\n",
       "                 coef    std err          t      P>|t|      [0.025      0.975]\n",
       "------------------------------------------------------------------------------\n",
       "Intercept      0.2326      0.020     11.503      0.000       0.193       0.272\n",
       "DP1            0.5622      0.040     14.220      0.000       0.484       0.640\n",
       "I              0.0429      0.008      5.333      0.000       0.027       0.059\n",
       "==============================================================================\n",
       "Omnibus:                        7.465   Durbin-Watson:                   1.728\n",
       "Prob(Omnibus):                  0.024   Jarque-Bera (JB):                7.316\n",
       "Skew:                           0.374   Prob(JB):                       0.0258\n",
       "Kurtosis:                       3.174   Cond. No.                         13.1\n",
       "==============================================================================\n",
       "\n",
       "Warnings:\n",
       "[1] Standard Errors assume that the covariance matrix of the errors is correctly specified.\n",
       "\"\"\""
      ]
     },
     "execution_count": 10,
     "metadata": {},
     "output_type": "execute_result"
    }
   ],
   "source": [
    "ols_model.summary()"
   ]
  },
  {
   "cell_type": "markdown",
   "metadata": {},
   "source": [
    "### Interpretable Regressions"
   ]
  },
  {
   "cell_type": "markdown",
   "metadata": {},
   "source": [
    "One can say that **The coefficient of `I` now more properly captures the ￼effect of incumbency, after controlling for party.**\n",
    "\n",
    "Regression coefficients become harder to interpret with multiple features. The meaning of any given coefficient depends on the other features in the model. Gelman and Hill advise: **Typical advice is to interpret each coefficient “with all the other predictors held constant.”**[Gelman, Andrew; Hill, Jennifer (2006-12-25). Data Analysis Using Regression and Multilevel/Hierarchical Models] Economists like to use the phrase \"ceteris paribus\" to describe this."
   ]
  },
  {
   "cell_type": "markdown",
   "metadata": {},
   "source": [
    "The way to do this is interpretation to look at the various cases and explain what the co-efficients of `P` and `I` mean. Let us at first set `I` to 0 meaning no incumbents and explain what the coefficients of `P` mean. \n",
    "We are then fitting:\n",
    "\n",
    "$$d_{t,i} = \\beta_1 d_{t-2,i} + \\beta_3 P_{t,i} + \\beta_0 ,$$\n",
    "\n",
    "which for the $P=1$ (Democrat party winning the past election) case, gives us:\n",
    "\n",
    "$$d_{t,i} = \\beta_1 d_{t-2,i} + \\beta_3 + \\beta_0 ,$$\n",
    "\n",
    "and, for the $P=-1$ (Republican party winning the past election) case, gives us:\n",
    "\n",
    "$$d_{t,i} = \\beta_1 d_{t-2,i} - \\beta_3 + \\beta_0 .$$\n",
    "\n",
    "You can see that $\\beta_3$ then captures half the difference in the effect between democrats and republicans that comes from just having the party incumbent. It tells us that, with respect to the national swing measure $\\beta_0$, whats the party effect for republicans and democrats. It does it very poorly by splitting the difference between the democratic and republican party effects and being constant across seats, but its a start.\n",
    "\n"
   ]
  },
  {
   "cell_type": "markdown",
   "metadata": {},
   "source": [
    "### 4.1 Explain the coefficient of Incumbency"
   ]
  },
  {
   "cell_type": "markdown",
   "metadata": {},
   "source": [
    "**Use a similar argument to the one above**. \n",
    "\n",
    "(Note that setting $I$ to 1 also constrains $P$ to 1, but the reverse is not true as we saw above)."
   ]
  },
  {
   "cell_type": "markdown",
   "metadata": {},
   "source": [
    "Let's consider the case $P = 1$, i.e. we have a democratic seatholder. We claim that in this case, $\\beta_2$, the coefficient of $I$ corresponds to the **expected difference in proportion of democratic votes between a Democratic incumbent and a new candidate running**.\n",
    "\n",
    "This is easy to see: note that setting $P$ to 1 constrains $I$ to be one or zero. Then, let us hold all other variables (i.e. $d_{t-2, i}$, since we have already fixed $P=1$) constant and calculate the difference in $d_{t,i}$ once having $I=1$ and once having $I=0$.\n",
    "\n",
    "$$d_{t,i}  = \\beta_1 d_{t-2, i} + \\beta_2 \\times 1 + \\beta_0 + \\beta_3 \\times 1 \\text{ if } I = 1$$\n",
    "$$d_{t,i}  = \\beta_1 d_{t-2, i} + \\beta_2 \\times 0 + \\beta_0 + \\beta_3 \\times 0 \\text{ if } I = 0$$\n",
    "\n",
    "Note that $d_{t,i}$ corresponds to the expected proportion of democratic votes. The difference between these equations is $\\beta_2$, the coefficient "
   ]
  },
  {
   "cell_type": "markdown",
   "metadata": {},
   "source": [
    "Now, let us assume that $P=1$, i.e. we have a Republican seatholder. Then\n",
    "\n",
    "$$d_{t,i}  = \\beta_1 d_{t-2, i} + \\beta_2 \\times (-1) + \\beta_0 + \\beta_3 \\times (-1) \\text{ if } I = -1$$\n",
    "$$d_{t,i}  = \\beta_1 d_{t-2, i} + \\beta_2 \\times 0 + \\beta_0 + \\beta_3 \\times 0 \\text{ if } I = 0$$"
   ]
  },
  {
   "cell_type": "markdown",
   "metadata": {},
   "source": [
    "Thus, $\\beta_2$ corresponds to how much smaller the expected proportion of democratic votes is. Note that this is (at least in a two-party system) the same as the proportion of Republican votes increasing due to incumbency."
   ]
  },
  {
   "cell_type": "markdown",
   "metadata": {},
   "source": [
    "So, in both cases, we see that $\\beta_2$ corresponds to the expected proportion of votes that the seat holding party can expect if the incumbent runs."
   ]
  },
  {
   "cell_type": "markdown",
   "metadata": {},
   "source": [
    "### 4.2 Carry out the linear regression `DP ~ DP1 + I + P` for all the year pairs\n",
    "\n",
    "**Present the results in a dataframe `ols_frame`. Comment on the trend in the incumbency coefficients after 1960.**\n",
    "\n",
    "(FORMAT: This dataframe has columns `yp`, the year-pair string (the keys of the dictionary of frames), the year for which we do the regression `year` (the higher year in the pair), the `formula`, which is just repeated, and the R-squared in `R2` for each regression, as well as the parameters of the regression and the p-values for the regression (for the name of the column here prefix the parameter with `p_` to denote the p-value).)"
   ]
  },
  {
   "cell_type": "code",
   "execution_count": 327,
   "metadata": {},
   "outputs": [
    {
     "data": {
      "text/html": [
       "<div>\n",
       "<style scoped>\n",
       "    .dataframe tbody tr th:only-of-type {\n",
       "        vertical-align: middle;\n",
       "    }\n",
       "\n",
       "    .dataframe tbody tr th {\n",
       "        vertical-align: top;\n",
       "    }\n",
       "\n",
       "    .dataframe thead th {\n",
       "        text-align: right;\n",
       "    }\n",
       "</style>\n",
       "<table border=\"1\" class=\"dataframe\">\n",
       "  <thead>\n",
       "    <tr style=\"text-align: right;\">\n",
       "      <th></th>\n",
       "      <th>Intercept</th>\n",
       "      <th>DP1</th>\n",
       "      <th>I</th>\n",
       "      <th>P</th>\n",
       "      <th>p_Intercept</th>\n",
       "      <th>p_DP1</th>\n",
       "      <th>p_I</th>\n",
       "      <th>p_P</th>\n",
       "      <th>yp</th>\n",
       "      <th>formula</th>\n",
       "      <th>year</th>\n",
       "      <th>r_squared</th>\n",
       "      <th>aic</th>\n",
       "    </tr>\n",
       "  </thead>\n",
       "  <tbody>\n",
       "    <tr>\n",
       "      <th>0</th>\n",
       "      <td>0.091247</td>\n",
       "      <td>0.901581</td>\n",
       "      <td>0.021063</td>\n",
       "      <td>-0.006020</td>\n",
       "      <td>3.412383e-03</td>\n",
       "      <td>1.286508e-33</td>\n",
       "      <td>0.035734</td>\n",
       "      <td>0.558655</td>\n",
       "      <td>1898-1896</td>\n",
       "      <td>DP ~ DP1 + I + P</td>\n",
       "      <td>1898</td>\n",
       "      <td>0.714405</td>\n",
       "      <td>-537.635546</td>\n",
       "    </tr>\n",
       "    <tr>\n",
       "      <th>0</th>\n",
       "      <td>0.098974</td>\n",
       "      <td>0.768643</td>\n",
       "      <td>0.011889</td>\n",
       "      <td>0.002537</td>\n",
       "      <td>3.999435e-07</td>\n",
       "      <td>9.145154e-58</td>\n",
       "      <td>0.154437</td>\n",
       "      <td>0.747252</td>\n",
       "      <td>1900-1898</td>\n",
       "      <td>DP ~ DP1 + I + P</td>\n",
       "      <td>1900</td>\n",
       "      <td>0.819429</td>\n",
       "      <td>-744.757778</td>\n",
       "    </tr>\n",
       "    <tr>\n",
       "      <th>0</th>\n",
       "      <td>-0.005676</td>\n",
       "      <td>0.924338</td>\n",
       "      <td>0.011397</td>\n",
       "      <td>0.001106</td>\n",
       "      <td>7.656457e-01</td>\n",
       "      <td>7.903248e-78</td>\n",
       "      <td>0.082649</td>\n",
       "      <td>0.871755</td>\n",
       "      <td>1904-1902</td>\n",
       "      <td>DP ~ DP1 + I + P</td>\n",
       "      <td>1904</td>\n",
       "      <td>0.867082</td>\n",
       "      <td>-865.326522</td>\n",
       "    </tr>\n",
       "    <tr>\n",
       "      <th>0</th>\n",
       "      <td>0.098251</td>\n",
       "      <td>0.882225</td>\n",
       "      <td>-0.002075</td>\n",
       "      <td>0.017502</td>\n",
       "      <td>3.586958e-07</td>\n",
       "      <td>1.928989e-72</td>\n",
       "      <td>0.782880</td>\n",
       "      <td>0.029587</td>\n",
       "      <td>1906-1904</td>\n",
       "      <td>DP ~ DP1 + I + P</td>\n",
       "      <td>1906</td>\n",
       "      <td>0.856573</td>\n",
       "      <td>-828.007612</td>\n",
       "    </tr>\n",
       "    <tr>\n",
       "      <th>0</th>\n",
       "      <td>0.103591</td>\n",
       "      <td>0.778613</td>\n",
       "      <td>0.009547</td>\n",
       "      <td>-0.003617</td>\n",
       "      <td>2.381739e-11</td>\n",
       "      <td>3.310047e-85</td>\n",
       "      <td>0.229116</td>\n",
       "      <td>0.665677</td>\n",
       "      <td>1908-1906</td>\n",
       "      <td>DP ~ DP1 + I + P</td>\n",
       "      <td>1908</td>\n",
       "      <td>0.863811</td>\n",
       "      <td>-969.851122</td>\n",
       "    </tr>\n",
       "  </tbody>\n",
       "</table>\n",
       "</div>"
      ],
      "text/plain": [
       "   Intercept       DP1         I         P   p_Intercept         p_DP1  \\\n",
       "0   0.091247  0.901581  0.021063 -0.006020  3.412383e-03  1.286508e-33   \n",
       "0   0.098974  0.768643  0.011889  0.002537  3.999435e-07  9.145154e-58   \n",
       "0  -0.005676  0.924338  0.011397  0.001106  7.656457e-01  7.903248e-78   \n",
       "0   0.098251  0.882225 -0.002075  0.017502  3.586958e-07  1.928989e-72   \n",
       "0   0.103591  0.778613  0.009547 -0.003617  2.381739e-11  3.310047e-85   \n",
       "\n",
       "        p_I       p_P         yp           formula  year  r_squared  \\\n",
       "0  0.035734  0.558655  1898-1896  DP ~ DP1 + I + P  1898   0.714405   \n",
       "0  0.154437  0.747252  1900-1898  DP ~ DP1 + I + P  1900   0.819429   \n",
       "0  0.082649  0.871755  1904-1902  DP ~ DP1 + I + P  1904   0.867082   \n",
       "0  0.782880  0.029587  1906-1904  DP ~ DP1 + I + P  1906   0.856573   \n",
       "0  0.229116  0.665677  1908-1906  DP ~ DP1 + I + P  1908   0.863811   \n",
       "\n",
       "          aic  \n",
       "0 -537.635546  \n",
       "0 -744.757778  \n",
       "0 -865.326522  \n",
       "0 -828.007612  \n",
       "0 -969.851122  "
      ]
     },
     "execution_count": 327,
     "metadata": {},
     "output_type": "execute_result"
    }
   ],
   "source": [
    "result = pd.DataFrame()\n",
    "for p in pairs:\n",
    "    key = str(p[0])+\"-\"+str(p[1])\n",
    "    df = pairframes[key]\n",
    "\n",
    "    formula = 'DP ~ DP1 + I + P'\n",
    "    ols_model = ols(formula, pairframes[key]).fit()\n",
    "    \n",
    "    params = pd.DataFrame(ols_model.params).transpose()\n",
    "    p_vals = pd.DataFrame(ols_model.pvalues).transpose()\n",
    "    p_vals.columns = \"p_\" + p_vals.columns\n",
    "    foo = pd.concat([params, p_vals], axis=1)\n",
    "    foo['yp'] = key\n",
    "    foo['formula'] = formula\n",
    "    foo['year'] = p[0]\n",
    "    foo['r_squared'] = ols_model.rsquared\n",
    "    foo['aic'] = ols_model.aic\n",
    "    \n",
    "    \n",
    "    result = result.append(foo)\n",
    "\n",
    "\n",
    "result.head()"
   ]
  },
  {
   "cell_type": "code",
   "execution_count": 328,
   "metadata": {},
   "outputs": [
    {
     "data": {
      "text/plain": [
       "Text(0,0.5,'Coefficient of incumbency')"
      ]
     },
     "execution_count": 328,
     "metadata": {},
     "output_type": "execute_result"
    },
    {
     "data": {
      "image/png": "[encoded data removed]",
      "text/plain": [
       "<matplotlib.figure.Figure at 0x11b375b70>"
      ]
     },
     "metadata": {},
     "output_type": "display_data"
    }
   ],
   "source": [
    "sns.regplot('year',  'I', data=result.loc[lambda x: x.year >= 1960])\n",
    "plt.title(\"Importance of incumbency increases\")\n",
    "plt.xlabel(\"Year\")\n",
    "plt.ylabel(\"Coefficient of incumbency\")"
   ]
  },
  {
   "cell_type": "markdown",
   "metadata": {
    "collapsed": true
   },
   "source": [
    "There is an **increasing trend** of the coefficient of incumbency. This means that the incumbency seems to become **more important**."
   ]
  },
  {
   "cell_type": "markdown",
   "metadata": {},
   "source": [
    "*your answer here*\n"
   ]
  },
  {
   "cell_type": "markdown",
   "metadata": {},
   "source": [
    "### 4.3 Bootstrap a distribution for the coefficient of I for 1990-1988"
   ]
  },
  {
   "cell_type": "markdown",
   "metadata": {},
   "source": [
    "**Plot a histogram of the distribution* of the co-efficient. Also print the the 2.5th and 97.5th quantile of the distribution to give a non-parametric confidence interval, plotting these on the histogram. What conclusions can you draw?**\n",
    "\n",
    "(Hint: Bootstrap involves sampling with replacement from the data and recalculating the quantity of interest, in our case the regression. This will give you a new coefficient for each regression. If you're interested in using the method for more complex applications it if imperative to familiarize with the assumptions, [this](http://stats.stackexchange.com/questions/26088/explaining-to-laypeople-why-bootstrapping-works) is a good start, but [this article](https://goo.gl/2T6k8j) is also helpful.)"
   ]
  },
  {
   "cell_type": "code",
   "execution_count": 329,
   "metadata": {},
   "outputs": [],
   "source": [
    "#your code here\n",
    "m = 1000\n",
    "key = str(pairs[-1][0]) + \"-\" + str(pairs[-1][1])\n",
    "data_1990 = pairframes[key]\n",
    "formula = 'DP ~ DP1 + I + P'\n",
    "\n",
    "bootstrapped_I = np.zeros(m)\n",
    "for i in range(m):\n",
    "    data_resampled = data_1990.sample(frac=1.0, replace=True)\n",
    "    ols_model = ols(formula, data_resampled).fit()\n",
    "    bootstrapped_I[i] = ols_model.params['I']"
   ]
  },
  {
   "cell_type": "code",
   "execution_count": 330,
   "metadata": {},
   "outputs": [
    {
     "data": {
      "text/plain": [
       "Text(0.5,1,'$I$ coefficient is significant in 1990')"
      ]
     },
     "execution_count": 330,
     "metadata": {},
     "output_type": "execute_result"
    },
    {
     "data": {
      "image/png": "[encoded data removed]",
      "text/plain": [
       "<matplotlib.figure.Figure at 0x11c0e1f28>"
      ]
     },
     "metadata": {},
     "output_type": "display_data"
    }
   ],
   "source": [
    "sns.distplot(bootstrapped_I)\n",
    "plt.xlabel('Resampled I for 1990')\n",
    "plt.ylabel('Density')\n",
    "plt.title(r'$I$ coefficient is significant in 1990')"
   ]
  },
  {
   "cell_type": "code",
   "execution_count": 331,
   "metadata": {},
   "outputs": [
    {
     "name": "stdout",
     "output_type": "stream",
     "text": [
      "Non-parametric 95% confidence interval:  [0.04889721 0.11569013]\n"
     ]
    }
   ],
   "source": [
    "print(\"Non-parametric 95% confidence interval: \", np.percentile(bootstrapped_I, [2.5, 97.5]))"
   ]
  },
  {
   "cell_type": "markdown",
   "metadata": {},
   "source": [
    "From this, we can conclude that the coefficient for incumbency is significant. This implies that in 1990 the incumbent candidates received a higher proportion of votes than new candidates (of the same party and with the same result two years ago)."
   ]
  },
  {
   "cell_type": "markdown",
   "metadata": {},
   "source": [
    "### 4.4 Inference using p-values over time"
   ]
  },
  {
   "cell_type": "markdown",
   "metadata": {},
   "source": [
    "Of-course, another more classic way of doing this same inference is though the regression itself -- it give us p-values. These are values from a t-test that asks if the coefficient is different from 0. The regression machinery assumes Normality of errors for this purpose. Lets assume the Normality and do an inference on all the years in our regression. The assumption used to calculate these p-values are: for each model (in our case `year`), the errors at each point of the regression are uncorrelated and follow a Normal distribution. We shall assume these to be true for now (in real life you ought to be checking a plot of residuals as well).\n",
    "\n",
    "Generally we'd like the p-values to be vanishingly small as they *represent the probability that we observed such an extreme incumbency effect purely by chance*. Have a look at the Wikipedia page on [p-values](https://en.wikipedia.org/wiki/P-value) for a quick reminder.\n",
    "\n",
    "Furthermore, when constructing results like this (where there are many tests considered at once) there are other concerns to take into account. One such concern is the issue of [multiple testing](https://en.wikipedia.org/wiki/Multiple_comparisons_problem). This is important because when we start dealing with a **large number** of hypotheses jointly the probability of making mistakes gets larger, hence we should be **more stringent** about what it means for a result to be significant. One such correction is the [**Bonferroni Correction**](https://en.wikipedia.org/wiki/Bonferroni_correction) which provides a new bound for deciding significance. Instead of asking the classic question: **is the p-value < $0.05$**?, this considers instead a stricter bound, we ask: **is p-value < $0.05/H$**. Where $H$ is the number of hypotheses being considered, in our case $H = 38$ (the number of years) -- this is a much higher bar for significance."
   ]
  },
  {
   "cell_type": "markdown",
   "metadata": {},
   "source": [
    "**Plot a graph of incumbency (`I`) coefficient p-vales for every year. Use this plot to study if the coefficients after 1960 are significantly different from 0.** (Plot them in log scale for easier viewing of small numbers. Also draw lines at $\\log(0.05)$ and $\\log(0.05/38)$ for reference). **Interpret your results**."
   ]
  },
  {
   "cell_type": "code",
   "execution_count": 333,
   "metadata": {},
   "outputs": [
    {
     "data": {
      "text/plain": [
       "<matplotlib.legend.Legend at 0x11e111f28>"
      ]
     },
     "execution_count": 333,
     "metadata": {},
     "output_type": "execute_result"
    },
    {
     "data": {
      "image/png": "[encoded data removed]",
      "text/plain": [
       "<matplotlib.figure.Figure at 0x124700f28>"
      ]
     },
     "metadata": {},
     "output_type": "display_data"
    }
   ],
   "source": [
    "\n",
    "f, ax = plt.subplots(figsize=(7, 7))\n",
    "ax.set(yscale=\"log\")\n",
    "sns.regplot(\"year\", \"p_I\", result.loc[lambda x: x.year >= 1960], ax=ax, scatter_kws={\"s\": 100})\n",
    "plt.xlabel(\"Year\")\n",
    "plt.ylabel(\"p-value for I coefficient\")\n",
    "plt.title(\"Incumbent regression coefficient became more significant after 1982\")\n",
    "plt.hlines(y=0.05, xmin=1950, xmax=2000, label='p=0.05 Line')\n",
    "plt.hlines(y=0.05/38, xmin=1950, xmax=2000, label='0.05/38 Line', color='red')\n",
    "plt.legend()"
   ]
  },
  {
   "cell_type": "markdown",
   "metadata": {},
   "source": [
    "The coefficient of $I$ was significant for every year since 1960, whether the Bonferroni correction is applied or not. From the plot of the trend of the $I$ coefficient above, the fact that the p-values become very small after 1982 is also clear."
   ]
  },
  {
   "cell_type": "markdown",
   "metadata": {},
   "source": [
    "*your answer here*\n"
   ]
  },
  {
   "cell_type": "markdown",
   "metadata": {},
   "source": [
    "### 4.5 Carry out the linear regression with an interaction between the previous elections democratic fraction and this elections incumbency, for all the year pairs"
   ]
  },
  {
   "cell_type": "markdown",
   "metadata": {},
   "source": [
    "**Is the regression complete? Or do we need more features?**"
   ]
  },
  {
   "cell_type": "markdown",
   "metadata": {},
   "source": [
    "Recall that our model is fairly restrictive, the different incumbency groups are allowed to have different intercepts but the new candidate group, $I = 0$ is equally between the two incumbency groups. Furthermore, the incumbency groups are not allowed different slopes, meaning the effect of the previous elections Democratic fraction (`DP1`) is assumed the same for all incumbency groups. This may not be the case. \n",
    "\n",
    "In the figure below we can see that in fact the different groups seem to have not only different intercepts, but also possibly different slopes. "
   ]
  },
  {
   "cell_type": "code",
   "execution_count": 334,
   "metadata": {},
   "outputs": [
    {
     "data": {
      "text/plain": [
       "<seaborn.axisgrid.FacetGrid at 0x124774198>"
      ]
     },
     "execution_count": 334,
     "metadata": {},
     "output_type": "execute_result"
    },
    {
     "data": {
      "image/png": "[encoded data removed]",
      "text/plain": [
       "<matplotlib.figure.Figure at 0x124774390>"
      ]
     },
     "metadata": {},
     "output_type": "display_data"
    }
   ],
   "source": [
    "sns.lmplot(x=\"DP1\", y=\"DP\", hue = \"I\", data=pairframes['1990-1988'], size = 7, aspect=1.2)"
   ]
  },
  {
   "cell_type": "markdown",
   "metadata": {},
   "source": [
    "**Carry out the regression with an between the previous elections democratic fraction and this elections incumbency, for each year pair. Is there evidence for interaction? How can you know for sure? **\n",
    "\n",
    "(HINT: In mathematical notation this regression is:\n",
    "\n",
    "$$d_{t,i} = \\beta_4 d_{i, t-2} I_{i,t} + \\beta_3 I_{i,t} + \\beta_2 P_{i,t} + \\beta_4 I_{i,t} d_{i, t-2} + \\beta_0,$$\n",
    "\n",
    "In `statsmodels` notation, we wish to carry out the regression:\n",
    "\n",
    "`DP ~ DP1 + I + P + DP1:I` )\n"
   ]
  },
  {
   "cell_type": "code",
   "execution_count": 336,
   "metadata": {
    "scrolled": false
   },
   "outputs": [],
   "source": [
    "#your code here\n",
    "for p in pairs:\n",
    "    key = str(p[0])+\"-\"+str(p[1])\n",
    "    df = pairframes[key]\n",
    "\n",
    "    formula = 'DP ~ DP1 + I + P + DP1:I'\n",
    "    ols_model = ols(formula, pairframes[key]).fit()\n",
    "    \n",
    "    params = pd.DataFrame(ols_model.params).transpose()\n",
    "    p_vals = pd.DataFrame(ols_model.pvalues).transpose()\n",
    "    p_vals.columns = \"p_\" + p_vals.columns\n",
    "    foo = pd.concat([params, p_vals], axis=1)\n",
    "    foo['yp'] = key\n",
    "    foo['formula'] = formula\n",
    "    foo['year'] = p[0]\n",
    "    foo['r_squared'] = ols_model.rsquared\n",
    "    foo['aic'] = ols_model.aic\n",
    "    \n",
    "    \n",
    "    result = result.append(foo)\n"
   ]
  },
  {
   "cell_type": "markdown",
   "metadata": {},
   "source": [
    "Let us start by plotting the difference in $R^2$:"
   ]
  },
  {
   "cell_type": "code",
   "execution_count": 349,
   "metadata": {},
   "outputs": [
    {
     "data": {
      "text/plain": [
       "Text(0,0.5,'Density')"
      ]
     },
     "execution_count": 349,
     "metadata": {},
     "output_type": "execute_result"
    },
    {
     "data": {
      "image/png": "[encoded data removed]",
      "text/plain": [
       "<matplotlib.figure.Figure at 0x12518e240>"
      ]
     },
     "metadata": {},
     "output_type": "display_data"
    }
   ],
   "source": [
    "foo = result[['year', 'formula', 'r_squared']].pivot(index='year', columns='formula', values='r_squared')\n",
    "foo['diff'] = foo['DP ~ DP1 + I + P + DP1:I'] - foo['DP ~ DP1 + I + P']\n",
    "sns.distplot(foo['diff'])\n",
    "plt.xlabel(r\"$R^2$ difference between interaction model and non-interaction model\")\n",
    "plt.ylabel(\"Density\")"
   ]
  },
  {
   "cell_type": "markdown",
   "metadata": {},
   "source": [
    "We see that there is a difference, but for most years, it is relatively small (below 0.005). We also know that $R^2$ has to be smaller (or equal) if we add another term to a linear regression model.\n",
    "\n",
    "Let us plot the p-values of the interaction coefficient as well:"
   ]
  },
  {
   "cell_type": "code",
   "execution_count": 353,
   "metadata": {},
   "outputs": [
    {
     "data": {
      "text/plain": [
       "Text(0,0.5,'Density')"
      ]
     },
     "execution_count": 353,
     "metadata": {},
     "output_type": "execute_result"
    },
    {
     "data": {
      "image/png": "[encoded data removed]",
      "text/plain": [
       "<matplotlib.figure.Figure at 0x12542b860>"
      ]
     },
     "metadata": {},
     "output_type": "display_data"
    }
   ],
   "source": [
    "sns.distplot(result['p_DP1:I'].loc[lambda x:np.logical_not(pd.isna(x))], bins=20)\n",
    "plt.xlabel(\"p-value for interaction coefficient\")\n",
    "plt.ylabel(\"Density\")"
   ]
  },
  {
   "cell_type": "markdown",
   "metadata": {},
   "source": [
    "We see that the coefficients are more peaked near zero, but for many years, the coefficient is insignificant. We can use the Bonferroni correction to calculate the number of \"significant\" coefficients:"
   ]
  },
  {
   "cell_type": "code",
   "execution_count": 357,
   "metadata": {},
   "outputs": [
    {
     "name": "stdout",
     "output_type": "stream",
     "text": [
      "Number of significant coefficients:  3\n"
     ]
    }
   ],
   "source": [
    "print(\"Number of significant coefficients: \",(result['p_DP1:I'].loc[lambda x:np.logical_not(pd.isna(x))] < 0.05/38).sum())"
   ]
  },
  {
   "cell_type": "markdown",
   "metadata": {},
   "source": [
    "To get a definite answer, we could perform cross-validation for each year, fit models with and without interaction term and then average the resulting cross-validated $R^2$ values. Alternatively, we can also look at the average difference in AIC:"
   ]
  },
  {
   "cell_type": "code",
   "execution_count": 369,
   "metadata": {},
   "outputs": [
    {
     "data": {
      "text/plain": [
       "formula\n",
       "DP ~ DP1 + I + P           -833.583466\n",
       "DP ~ DP1 + I + P + DP1:I   -835.548982\n",
       "Name: aic, dtype: float64"
      ]
     },
     "execution_count": 369,
     "metadata": {},
     "output_type": "execute_result"
    }
   ],
   "source": [
    "result.groupby('formula').mean().loc[:,'aic']"
   ]
  },
  {
   "cell_type": "markdown",
   "metadata": {},
   "source": [
    "We see that the AIC is slightly lower when adding an interaction term, which tells us that the out-of-sample predictive performance can be expected to be better with an interaction term."
   ]
  },
  {
   "cell_type": "code",
   "execution_count": null,
   "metadata": {
    "collapsed": true
   },
   "outputs": [],
   "source": []
  }
 ],
 "metadata": {
  "anaconda-cloud": {},
  "kernel_info": {
   "name": "python3"
  },
  "kernelspec": {
   "display_name": "Python 3",
   "language": "python",
   "name": "python3"
  },
  "language_info": {
   "codemirror_mode": {
    "name": "ipython",
    "version": 3
   },
   "file_extension": ".py",
   "mimetype": "text/x-python",
   "name": "python",
   "nbconvert_exporter": "python",
   "pygments_lexer": "ipython3",
   "version": "3.6.1"
  },
  "nteract": {
   "version": "0.11.7"
  }
 },
 "nbformat": 4,
 "nbformat_minor": 2
}
