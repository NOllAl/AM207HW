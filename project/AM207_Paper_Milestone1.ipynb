{
 "cells": [
  {
   "cell_type": "markdown",
   "metadata": {},
   "source": [
    "# APMTH 207: Advanced Scientific Computing: \n",
    "## Stochastic Methods for Data Analysis, Inference and Optimization\n",
    "## Group Project -- Milestone 1\n",
    "**Harvard University**<br>\n",
    "**Fall 2018**<br>\n",
    "**Instructors: Rahul Dave**<br>\n",
    "**Due Date: ** Tuesday, November 13th, 2018 at 11:59pm\n",
    "\n",
    "**Instructions:**\n",
    "\n",
    "- Upload your iPython notebook containing all work to Canvas.\n",
    "\n",
    "- Structure your notebook and your work to maximize readability."
   ]
  },
  {
   "cell_type": "markdown",
   "metadata": {},
   "source": [
    "## Tutorial on a Recent Research Development\n",
    "\n",
    "As part of the requirements for this course we've stated the following(quoting the website): \"There will be one paper, towards the end of this course. It will require reading and presenting a recent research development in the field.\"\n",
    "\n",
    "We've compiled a list of papers that contain interesting treatments of topics related to AM207:\n",
    "\n",
    "https://docs.google.com/document/d/1N0FjmMHfpX8P__TAzWLQYXqtj_Hbgo839Gu3B0oKOaM/edit?usp=sharing\n",
    "\n",
    "If you find a paper not on this list that you would like to delve into for your project, please let us know (and we can add it).\n",
    "\n",
    "We want you to create a tutorial style jupyter notebook summarizing the relevant math, methods and procedure in a paper of your choice.  Your tutorial should show the relevant methods in action by implementing them on appropriately chosen data.\n",
    "\n",
    "At this point you should have organized yourself into a group and have chosen (and been assigned a paper topic).  In this milestone, please give us  the name of your group(s) in Canvas, the name and url of your paper, and suggested assigned teaching staff member(s)."
   ]
  },
  {
   "cell_type": "markdown",
   "metadata": {},
   "source": [
    "---"
   ]
  },
  {
   "cell_type": "markdown",
   "metadata": {},
   "source": [
    "**My/Our Paper(s) (give us the title and url):**\n",
    "\n",
    "\n",
    "-- **Paper Title:** Weight Uncertainty in Neural Networks\n",
    "\n",
    "-- **Paper Url:** https://arxiv.org/abs/1505.05424\n",
    "\n",
    "-- **Brief Description:** The paper introduces a new algorithm for learning a probability distribution on the weights of a neural network, called Bayes by Backprop, which regularises the weights by minimising a compression cost.\n",
    "\n",
    "\n",
    "\n"
   ]
  },
  {
   "cell_type": "markdown",
   "metadata": {},
   "source": [
    "---"
   ]
  },
  {
   "cell_type": "markdown",
   "metadata": {},
   "source": [
    "**Members of the Group (give us the names and emails of all collaborators):**\n",
    "\n",
    "-- Collaborator 1: Alexander Noll (alexander.noll.a@gmail.com)\n",
    "\n",
    "-- Collaborator 2: Karma Tarap (dorjetarap@googlemail.com)\n",
    "\n",
    "-- Collaborator 3: Christian Kaas (christiankaas@gmail.com)\n",
    "\n",
    "-- Collaborator 4: Thomas Kulalert (kulalert@gmail.com)\n"
   ]
  },
  {
   "cell_type": "markdown",
   "metadata": {},
   "source": [
    "---"
   ]
  },
  {
   "cell_type": "markdown",
   "metadata": {},
   "source": [
    "**Project Group(Name of Project Group in Canvas):**\n",
    "\n",
    "-- Project Group Name (FAS):\n",
    "\n",
    "-- Project Group Name (DCE): PaperTutorial 42\n"
   ]
  },
  {
   "cell_type": "markdown",
   "metadata": {},
   "source": [
    "---"
   ]
  },
  {
   "cell_type": "markdown",
   "metadata": {},
   "source": [
    "**Teaching Staff Member(s) we'd like to discuss our project with:**\n",
    "\n",
    "-- Teaching Staff Member 1: Patrick Ohiomoba\n",
    "\n",
    "-- Teaching Staff Member 2: Zongren Zou\n"
   ]
  },
  {
   "cell_type": "markdown",
   "metadata": {},
   "source": [
    "---"
   ]
  }
 ],
 "metadata": {
  "anaconda-cloud": {},
  "kernelspec": {
   "display_name": "Python 3",
   "language": "python",
   "name": "python3"
  },
  "language_info": {
   "codemirror_mode": {
    "name": "ipython",
    "version": 3
   },
   "file_extension": ".py",
   "mimetype": "text/x-python",
   "name": "python",
   "nbconvert_exporter": "python",
   "pygments_lexer": "ipython3",
   "version": "3.6.1"
  }
 },
 "nbformat": 4,
 "nbformat_minor": 2
}
