{
 "cells": [
  {
   "cell_type": "markdown",
   "metadata": {},
   "source": [
    "# Bayes By Backprop - A comparative study\n",
    "\n",
    "\n",
    "**Harvard University**<br>\n",
    "**Fall 2018**<br>\n",
    "\n",
    "### Collaborators\n",
    "\n",
    "** Christian Kaas, Thomas Kulalert, Alexander Noll, Karma Tarap**  "
   ]
  },
  {
   "cell_type": "markdown",
   "metadata": {},
   "source": [
    "# Abstract\n",
    "\n",
    "In this tutorial we introduce the \"Bayes by Backprop\" algorithm. It is an algorithm to make the calculation of the posterior weight distribution of neural networks tractable. The main idea of this method is to combine two standard methods, one from the Bayesian real and one often employed in frequentist machine learning, but not specific to it:\n",
    "\n",
    "1. Variational inference: this is a standard technique to approximate the posterior distribution in situations that are otherwise intractable. The fundamental idea is very simple: we can't do the posterior calculations (or sampling, for that matter) exactly, so we approximate the posterior with distributions we know.\n",
    "2. Backpropagation (a.k.a. gradient descent): this is the default technique to optimize the weights in neural networks.\n",
    "\n",
    "It is shown that we can use backpropagation to perform variational inference.\n",
    "\n",
    "We use \"Bayes by Backprop\" on two different datasets:\n",
    "\n",
    "1. A simulated dataset from the scikit learn datasets.\n",
    "2. MNIST\n",
    "\n",
    "We compare Bayes By Backprop to the more general Automatic Differentiation Variational Inference (ADVI) [2, 3] algorithm and show that Bayes By Backprop is a special case of it. Finally, we compare the performance of this approach to *Concrete Dropout* [4].\n"
   ]
  },
  {
   "cell_type": "code",
   "execution_count": 1,
   "metadata": {},
   "outputs": [
    {
     "name": "stdout",
     "output_type": "stream",
     "text": [
      "Populating the interactive namespace from numpy and matplotlib\n"
     ]
    },
    {
     "name": "stderr",
     "output_type": "stream",
     "text": [
      "/Users/alex/anaconda3/lib/python3.6/site-packages/h5py/__init__.py:36: FutureWarning: Conversion of the second argument of issubdtype from `float` to `np.floating` is deprecated. In future, it will be treated as `np.float64 == np.dtype(float).type`.\n",
      "  from ._conv import register_converters as _register_converters\n",
      "/Users/alex/anaconda3/lib/python3.6/site-packages/IPython/core/magics/pylab.py:160: UserWarning: pylab import has clobbered these variables: ['time']\n",
      "`%matplotlib` prevents importing * from pylab and numpy\n",
      "  \"\\n`%matplotlib` prevents importing * from pylab and numpy\"\n"
     ]
    }
   ],
   "source": [
    "import numpy as np\n",
    "\n",
    "from matplotlib import cm\n",
    "import matplotlib.pyplot as plt\n",
    "\n",
    "import scipy.stats\n",
    "import seaborn as sns\n",
    "import pandas as pd\n",
    "import pymc3 as pm\n",
    "\n",
    "from sklearn.datasets import make_classification\n",
    "\n",
    "import theano\n",
    "from theano import shared\n",
    "import theano.tensor as T\n",
    "\n",
    "from time import time\n",
    "\n",
    "%matplotlib inline\n",
    "%pylab inline\n",
    "pylab.rcParams['figure.figsize'] = (10, 6)"
   ]
  },
  {
   "cell_type": "markdown",
   "metadata": {},
   "source": [
    "# Introduction\n",
    "\n",
    "## What are Bayesian neural networks\n",
    "\n",
    "We'll be very brief here as a lot of the material has alredy been covered in class. The fundamental idea in **Bayesian neural networks** is that the weights ${\\bf w}$ connecting the different layers have their own **posterior distribution** $p({\\bf w} \\vert \\mathcal D) \\propto p(D\\vert {\\bf w}) p({\\bf w})$, given a dataset $\\mathcal D$ and a prior $p({\\bf w})$. This idea is very natural from a Bayesian point of view. The weights can be considered **latent variables** and thus should have their own distribution.\n",
    "\n",
    "## Why Bayesian neural nets\n",
    "\n",
    "The above might motivate why putting a distribution on the weight parameteres is natural, the question remains, though, why we would want to do that. After all, maximum-likelihood neural networks fitted with variations of gradient descent are very successful in numerous applications.\n",
    "\n",
    "1. The first reason is very practical: putting a prior on the weights, that might constrain them to be relatively close to zero, has a natural **regularising** effect. \n",
    "2. The predictions made by the neural network will be less affected by overfitting: predictions are made as $p(y^* \\vert \\mathcal D) = \\int_{\\bf w}p(y^*\\vert {\\bf w}) p({\\bf w} \\vert \\mathcal D)$ and thus can be considered an **ensemble** of neural networks. We expect such an ensemble of neural networks to be less sensitive to small changes in the data $\\mathcal D$ and small changes $y^* \\rightarrow y^* + \\epsilon$.\n",
    "3. One of the key points about Bayesian neural nets is that they allow to get **uncertainties on the predictions**. Note that by the equation above, we get a posterior predictive **distribution $p(y^*)$**. Uncertainty estimations are crucial in many applications, especially in cases where the costs of being wrong are high, and therefore we are only interested in the predictions if they have a high level of certainty (for example, self-driving cars). \n",
    "4. Lastly, a theoretical motiviation related to the second point above. We learned that in high dimensional spaces, most of the **typical set** of the posterior distribution **is not at the maximum**, but rather around the maximum (basically, we have to strike a balance between having **volume** and having **high density**). So even though the posterior density might be high near the maximum, the maximum is not in the typical set. (This is a highly suggestive comment that is easy to attack. After all, recent research indicates that optimization algorithms usually don't converge to local maxima, but rather move along \"critical directions\". The intuition is that in a high-dimensional space the probability of the Hessian matrix having only positive or negative eigenvalues is very small)."
   ]
  },
  {
   "cell_type": "markdown",
   "metadata": {},
   "source": [
    "## Problems with naive approach (sampling)\n",
    "\n",
    "In this short section, we'll show that naive MCMC for the weights of a Bayesian Neural Network is doomed to fail. We try applying Bayesian nets to a relatively simple dataset shown below. What's interesting about this dataset is that it's easier in some regions than other."
   ]
  },
  {
   "cell_type": "code",
   "execution_count": 2,
   "metadata": {},
   "outputs": [
    {
     "data": {
      "text/plain": [
       "Text(0.5, 1.0, 'Artifical dataset')"
      ]
     },
     "execution_count": 2,
     "metadata": {},
     "output_type": "execute_result"
    },
    {
     "data": {
      "image/png": "[encoded data removed]",
      "text/plain": [
       "<Figure size 432x288 with 1 Axes>"
      ]
     },
     "metadata": {},
     "output_type": "display_data"
    }
   ],
   "source": [
    "X, y = make_classification(n_samples=1000, n_features=2, n_informative=2, n_redundant=0,\n",
    "                           class_sep=0.5, random_state=0)\n",
    "\n",
    "plt.scatter(X[y==0, 0], X[y==0, 1], s=1, c='red', label='Class 0')\n",
    "plt.scatter(X[y==1, 0], X[y==1, 1], s=1, c='blue', label='Class 1')\n",
    "plt.legend()\n",
    "plt.title(\"Artifical dataset\")"
   ]
  },
  {
   "cell_type": "markdown",
   "metadata": {},
   "source": [
    "### A small neural network that works"
   ]
  },
  {
   "cell_type": "markdown",
   "metadata": {},
   "source": [
    "After defining this dataset, let's try to do the classification with Bayesian neural nets. We write the model in PyMC3."
   ]
  },
  {
   "cell_type": "code",
   "execution_count": 3,
   "metadata": {},
   "outputs": [
    {
     "name": "stderr",
     "output_type": "stream",
     "text": [
      "Auto-assigning NUTS sampler...\n",
      "Initializing NUTS using jitter+adapt_diag...\n",
      "Multiprocess sampling (4 chains in 4 jobs)\n",
      "NUTS: [w_h_out, w_in_h]\n",
      "Sampling 4 chains: 100%|██████████| 6000/6000 [02:35<00:00, 22.05draws/s]\n",
      "The number of effective samples is smaller than 25% for some parameters.\n"
     ]
    }
   ],
   "source": [
    "n_hidden = 10\n",
    "\n",
    "with pm.Model() as nn_simple:\n",
    "    # Weights from input to hidden layer\n",
    "    x = shared(X)\n",
    "    w_in_h = pm.Normal('w_in_h', mu=0, sd=1, shape=(2, n_hidden))\n",
    "    \n",
    "    # Activations in hidden layer\n",
    "    activation = pm.math.tanh(pm.math.dot(x, w_in_h))\n",
    "    \n",
    "    # Weights from hidden layer to output\n",
    "    w_h_out = pm.Normal('w_h_out', mu=0, sd=1, shape=(n_hidden))\n",
    "    logits = pm.math.dot(activation, w_h_out)\n",
    "    \n",
    "    # Likelihood\n",
    "    obs = pm.Bernoulli('obs', logit_p=logits, observed=y)\n",
    "    \n",
    "    # Sampling\n",
    "    trace = pm.sample(1000)\n",
    "    \n",
    "    "
   ]
  },
  {
   "cell_type": "markdown",
   "metadata": {},
   "source": [
    "We see that even this very small problem (1000 data points, 2 dimensions, 10 hidden units) already takes considerable time. Let's see whether it worked. In a real world example, we'd have to split the dataset before, but in this case we can simply generate new data!"
   ]
  },
  {
   "cell_type": "code",
   "execution_count": 4,
   "metadata": {},
   "outputs": [
    {
     "name": "stderr",
     "output_type": "stream",
     "text": [
      "100%|██████████| 1000/1000 [00:01<00:00, 994.01it/s]\n"
     ]
    },
    {
     "data": {
      "text/plain": [
       "Text(0.5, 1.0, 'Posterior predictive ')"
      ]
     },
     "execution_count": 4,
     "metadata": {},
     "output_type": "execute_result"
    },
    {
     "data": {
      "image/png": "[encoded data removed]",
      "text/plain": [
       "<Figure size 432x288 with 1 Axes>"
      ]
     },
     "metadata": {},
     "output_type": "display_data"
    }
   ],
   "source": [
    "X, y = make_classification(n_samples=1000, n_features=2, n_informative=2, n_redundant=0,\n",
    "                           class_sep=0.5, random_state=1)\n",
    "\n",
    "x.set_value(X)\n",
    "\n",
    "with nn_simple:\n",
    "    ppc_samples = pm.sample_ppc(trace)\n",
    "    \n",
    "pred = ppc_samples['obs'].mean(axis=0)\n",
    "cmap = cm.get_cmap('RdBu')\n",
    "colors = [cmap(z) for z in pred]\n",
    "plt.scatter(X[:, 0], X[:, 1], s=1.5, c=colors)\n",
    "plt.title(\"Posterior predictive \")"
   ]
  },
  {
   "cell_type": "markdown",
   "metadata": {},
   "source": [
    "The result makes sense. Also note that the neural network is rather uncertain in the boundary regions. Let's extend this plot and do predictions not at test points, but rather at a grid of points:"
   ]
  },
  {
   "cell_type": "code",
   "execution_count": 6,
   "metadata": {},
   "outputs": [
    {
     "name": "stderr",
     "output_type": "stream",
     "text": [
      "100%|██████████| 1000/1000 [00:03<00:00, 304.21it/s]\n"
     ]
    },
    {
     "data": {
      "text/plain": [
       "Text(0.5, 1.0, 'Predicted class probabilities')"
      ]
     },
     "execution_count": 6,
     "metadata": {},
     "output_type": "execute_result"
    },
    {
     "data": {
      "image/png": "[encoded data removed]",
      "text/plain": [
       "<Figure size 432x288 with 1 Axes>"
      ]
     },
     "metadata": {},
     "output_type": "display_data"
    }
   ],
   "source": [
    "xy = np.mgrid[-3:3:0.1, -3:3:0.1]\n",
    "X = xy.reshape(2, -1).T\n",
    "x.set_value(X)\n",
    "\n",
    "with nn_simple:\n",
    "    ppc_samples = pm.sample_ppc(trace)\n",
    "\n",
    "y = ppc_samples['obs'].mean(axis=0)\n",
    "y = y.reshape(xy.shape[1], xy.shape[2])\n",
    "cmap = cm.get_cmap('RdBu')\n",
    "plt.contourf(xy[0], xy[1], y, cmap=cmap)\n",
    "plt.title(\"Predicted class probabilities\")"
   ]
  },
  {
   "cell_type": "code",
   "execution_count": 7,
   "metadata": {},
   "outputs": [
    {
     "name": "stderr",
     "output_type": "stream",
     "text": [
      "100%|██████████| 1000/1000 [00:03<00:00, 306.05it/s]\n"
     ]
    },
    {
     "data": {
      "text/plain": [
       "Text(0.5, 1.0, 'Predicted uncertainties')"
      ]
     },
     "execution_count": 7,
     "metadata": {},
     "output_type": "execute_result"
    },
    {
     "data": {
      "image/png": "[encoded data removed]",
      "text/plain": [
       "<Figure size 432x288 with 1 Axes>"
      ]
     },
     "metadata": {},
     "output_type": "display_data"
    }
   ],
   "source": [
    "xy = np.mgrid[-3:3:0.1, -3:3:0.1]\n",
    "X = xy.reshape(2, -1).T\n",
    "x.set_value(X)\n",
    "\n",
    "with nn_simple:\n",
    "    ppc_samples = pm.sample_ppc(trace)\n",
    "\n",
    "y = ppc_samples['obs'].std(axis=0)\n",
    "y = y.reshape(xy.shape[1], xy.shape[2])\n",
    "cmap = cm.get_cmap('RdBu')\n",
    "plt.contourf(xy[0], xy[1], y, cmap=cmap)\n",
    "plt.title(\"Predicted uncertainties\")"
   ]
  },
  {
   "cell_type": "markdown",
   "metadata": {},
   "source": [
    "Note that the uncertainty is captured pretty well by the Bayesian neural network."
   ]
  },
  {
   "cell_type": "markdown",
   "metadata": {},
   "source": [
    "### Scalability of MCMC\n",
    "\n",
    "Having verified the method with sample data, we turn our attention to scalability. To keep it simple, we’ll consider cases where we scale only in one dimension: size of data set. If one wants to extend it further, one could consider scaling in other dimensions as well:\n",
    "\n",
    "1. Bigger dataset\n",
    "2. More hidden units\n",
    "3. More hidden layers\n",
    "\n",
    "We see that, even when scaling in only one dimension,  Markov Chain Monte Carlo fails relatively quickly and we won't be able to reach data sizes customary in today's state-of-the-art applications."
   ]
  },
  {
   "cell_type": "markdown",
   "metadata": {},
   "source": [
    "#### Dataset size"
   ]
  },
  {
   "cell_type": "code",
   "execution_count": 8,
   "metadata": {},
   "outputs": [
    {
     "name": "stderr",
     "output_type": "stream",
     "text": [
      "Auto-assigning NUTS sampler...\n",
      "Initializing NUTS using jitter+adapt_diag...\n",
      "Multiprocess sampling (4 chains in 4 jobs)\n",
      "NUTS: [w_h_out, w_in_h]\n",
      "Sampling 4 chains: 100%|██████████| 8000/8000 [00:06<00:00, 1233.11draws/s]\n",
      "Auto-assigning NUTS sampler...\n",
      "Initializing NUTS using jitter+adapt_diag...\n",
      "Multiprocess sampling (4 chains in 4 jobs)\n",
      "NUTS: [w_h_out, w_in_h]\n",
      "Sampling 4 chains: 100%|██████████| 8000/8000 [00:13<00:00, 595.12draws/s]\n",
      "Auto-assigning NUTS sampler...\n",
      "Initializing NUTS using jitter+adapt_diag...\n",
      "Multiprocess sampling (4 chains in 4 jobs)\n",
      "NUTS: [w_h_out, w_in_h]\n",
      "Sampling 4 chains: 100%|██████████| 8000/8000 [03:38<00:00, 19.68draws/s]\n",
      "The number of effective samples is smaller than 25% for some parameters.\n",
      "Only 100 samples in chain.\n",
      "Auto-assigning NUTS sampler...\n",
      "Initializing NUTS using jitter+adapt_diag...\n",
      "Multiprocess sampling (4 chains in 4 jobs)\n",
      "NUTS: [w_h_out, w_in_h]\n",
      "Sampling 4 chains: 100%|██████████| 800/800 [05:58<00:00,  1.56s/draws]\n",
      "The acceptance probability does not match the target. It is 0.9023550408009221, but should be close to 0.8. Try to increase the number of tuning steps.\n",
      "The acceptance probability does not match the target. It is 0.9101216095979804, but should be close to 0.8. Try to increase the number of tuning steps.\n",
      "The acceptance probability does not match the target. It is 0.9425041115095089, but should be close to 0.8. Try to increase the number of tuning steps.\n",
      "The gelman-rubin statistic is larger than 1.4 for some parameters. The sampler did not converge.\n",
      "The number of effective samples is smaller than 10% for some parameters.\n",
      "Only 10 samples in chain.\n",
      "Auto-assigning NUTS sampler...\n",
      "Initializing NUTS using jitter+adapt_diag...\n",
      "Multiprocess sampling (4 chains in 4 jobs)\n",
      "NUTS: [w_h_out, w_in_h]\n",
      "Sampling 4 chains: 100%|██████████| 80/80 [03:49<00:00, 13.91s/draws]\n",
      "/Users/alex/anaconda3/lib/python3.6/site-packages/pymc3/sampling.py:476: UserWarning: The number of samples is too small to check convergence reliably.\n",
      "  warnings.warn(\"The number of samples is too small to check convergence reliably.\")\n",
      "There were 3 divergences after tuning. Increase `target_accept` or reparameterize.\n",
      "The chain reached the maximum tree depth. Increase max_treedepth, increase target_accept or reparameterize.\n",
      "There were 4 divergences after tuning. Increase `target_accept` or reparameterize.\n",
      "The acceptance probability does not match the target. It is 0.4610832113070106, but should be close to 0.8. Try to increase the number of tuning steps.\n",
      "There was 1 divergence after tuning. Increase `target_accept` or reparameterize.\n",
      "The chain reached the maximum tree depth. Increase max_treedepth, increase target_accept or reparameterize.\n",
      "The chain reached the maximum tree depth. Increase max_treedepth, increase target_accept or reparameterize.\n"
     ]
    }
   ],
   "source": [
    "n_data = [10, 100, 1000, 10000, 100000]\n",
    "n_samples = [1000, 1000, 1000, 100, 10]\n",
    "\n",
    "results = pd.DataFrame()\n",
    "for n, m in zip(n_data, n_samples):\n",
    "    X, y = make_classification(n_samples=n, n_features=2, n_informative=2, n_redundant=0,\n",
    "                               class_sep=0.5, random_state=0)\n",
    "    \n",
    "    n_hidden = 10\n",
    "    \n",
    "    start_time = time.time()\n",
    "\n",
    "    with pm.Model() as nn_simple:\n",
    "        # Weights from input to hidden layer\n",
    "        x = shared(X)\n",
    "        w_in_h = pm.Normal('w_in_h', mu=0, sd=1, shape=(2, n_hidden))\n",
    "\n",
    "        # Activations in hidden layer\n",
    "        activation = pm.math.tanh(pm.math.dot(x, w_in_h))\n",
    "\n",
    "        # Weights from hidden layer to output\n",
    "        w_h_out = pm.Normal('w_h_out', mu=0, sd=1, shape=(n_hidden))\n",
    "        logits = pm.math.dot(activation, w_h_out)\n",
    "\n",
    "        # Likelihood\n",
    "        obs = pm.Bernoulli('obs', logit_p=logits, observed=y)\n",
    "\n",
    "        # Sampling\n",
    "        trace = pm.sample(m, tune=m)\n",
    "\n",
    "    end_time = time.time()\n",
    "    \n",
    "    results = results.append([{'n_data': n, 'time': end_time - start_time, 'n_samples': m}])\n",
    "\n",
    "results['time_per_sample'] = results['time'] / results['n_samples']"
   ]
  },
  {
   "cell_type": "code",
   "execution_count": 9,
   "metadata": {},
   "outputs": [
    {
     "data": {
      "text/plain": [
       "Text(0, 0.5, 'Time to generate posterior sample')"
      ]
     },
     "execution_count": 9,
     "metadata": {},
     "output_type": "execute_result"
    },
    {
     "data": {
      "image/png": "[encoded data removed]",
      "text/plain": [
       "<Figure size 432x288 with 1 Axes>"
      ]
     },
     "metadata": {},
     "output_type": "display_data"
    }
   ],
   "source": [
    "sns.scatterplot('n_data', 'time_per_sample', data=results)\n",
    "plt.xscale('log')\n",
    "plt.yscale('log')\n",
    "plt.title(\"MCMC is not scalable\")\n",
    "plt.xlabel(\"Number of data points\")\n",
    "plt.ylabel(\"Time to generate posterior sample\")"
   ]
  },
  {
   "cell_type": "markdown",
   "metadata": {},
   "source": [
    "This small experiment makes it clear that it's not possible, or at least very hard, to scale up MCMC to realistic dataset sizes (and parameter space sizes).\n",
    "\n",
    "Experimenting with the number of hidden units shows that the problem is even more severe. We won't show the graphs here, though."
   ]
  },
  {
   "cell_type": "markdown",
   "metadata": {},
   "source": [
    "## Solution with variational inference\n",
    "\n",
    "We'll show that variational inference solves this problem. The concept of variational inference is explained in the next chapter.\n",
    "\n",
    "Note that pymc3 is able to perform **automatic differentiation variational inference (ADVI)**. This is the key technological development that allows us to do large scale Bayesian inference. We'll show how to use it here. We just run this one code cell that takes\n",
    "\n",
    "+ 10'000 input data\n",
    "+ two hidden layers\n",
    "+ with 100 hidden units each\n",
    "\n",
    "This would've been impossible to solve with MCMC. It also runs for a while (35 min on a 2016 MacBook Pro), but that's not too bad.\n",
    "\n",
    "Here, we leave the number of hidden units at 10 in each of the 2 layers."
   ]
  },
  {
   "cell_type": "code",
   "execution_count": 11,
   "metadata": {},
   "outputs": [
    {
     "name": "stderr",
     "output_type": "stream",
     "text": [
      "Average Loss = 491.44: 100%|██████████| 100000/100000 [02:06<00:00, 791.21it/s]\n",
      "Finished [100%]: Average Loss = 491.59\n"
     ]
    }
   ],
   "source": [
    "X, y = make_classification(n_samples=1000, n_features=2, n_informative=2, n_redundant=0,\n",
    "                           class_sep=0.5, random_state=0)\n",
    "    \n",
    "n_hidden = 10\n",
    "    \n",
    "with pm.Model() as nn_simple:\n",
    "    # Weights from input to hidden layer\n",
    "    x = shared(X)\n",
    "    w_in_h = pm.Normal('w_in_h', mu=0, sd=1, shape=(2, n_hidden))\n",
    "\n",
    "    # Activations in hidden layer\n",
    "    activation = pm.math.tanh(pm.math.dot(x, w_in_h))\n",
    "    \n",
    "    # Weights from hidden to hidden\n",
    "    w_h_h = pm.Normal('w_h_h', mu=0, sd=1, shape=(n_hidden, n_hidden))\n",
    "    activation = pm.math.tanh(pm.math.dot(activation, w_h_h))\n",
    "\n",
    "    # Weights from hidden layer to output\n",
    "    w_h_out = pm.Normal('w_h_out', mu=0, sd=1, shape=(n_hidden))\n",
    "    act_out = pm.math.dot(activation, w_h_out)\n",
    "\n",
    "    # Likelihood\n",
    "    obs = pm.Bernoulli('obs', logit_p=act_out, observed=y)\n",
    "\n",
    "    # Sampling\n",
    "    inference = pm.ADVI()\n",
    "    approx = pm.fit(n=100000, method=inference)"
   ]
  },
  {
   "cell_type": "markdown",
   "metadata": {},
   "source": [
    "We plot the posterior predictive."
   ]
  },
  {
   "cell_type": "code",
   "execution_count": 12,
   "metadata": {},
   "outputs": [
    {
     "data": {
      "text/plain": [
       "Text(0.5, 1.0, 'Posterior predictive ')"
      ]
     },
     "execution_count": 12,
     "metadata": {},
     "output_type": "execute_result"
    },
    {
     "data": {
      "image/png": "[encoded data removed]",
      "text/plain": [
       "<Figure size 432x288 with 1 Axes>"
      ]
     },
     "metadata": {},
     "output_type": "display_data"
    }
   ],
   "source": [
    "trace = approx.sample(draws=5000)\n",
    "with nn_simple:\n",
    "    ppc = pm.sample_ppc(trace, samples=500, progressbar=False)\n",
    "    \n",
    "pred = ppc['obs'].mean(axis=0)\n",
    "cmap = cm.get_cmap('RdBu')\n",
    "colors = [cmap(z) for z in pred]\n",
    "\n",
    "plt.scatter(X[:, 0], X[:, 1], s=1.5, c=colors)\n",
    "plt.title(\"Posterior predictive \")"
   ]
  },
  {
   "cell_type": "markdown",
   "metadata": {},
   "source": [
    "Another interesting plot is how **how certain the model is about its prediction**: we show this by plotting the standard deviation of the predictions. We see that the model is uncertain near the decision boundary, which makes a lot of sense."
   ]
  },
  {
   "cell_type": "code",
   "execution_count": 14,
   "metadata": {},
   "outputs": [
    {
     "name": "stderr",
     "output_type": "stream",
     "text": [
      "100%|██████████| 5000/5000 [00:27<00:00, 180.25it/s]\n"
     ]
    },
    {
     "data": {
      "text/plain": [
       "<matplotlib.colorbar.Colorbar at 0x1c18e5c320>"
      ]
     },
     "execution_count": 14,
     "metadata": {},
     "output_type": "execute_result"
    },
    {
     "data": {
      "image/png": "[encoded data removed]",
      "text/plain": [
       "<Figure size 432x288 with 2 Axes>"
      ]
     },
     "metadata": {},
     "output_type": "display_data"
    }
   ],
   "source": [
    "xy = np.mgrid[-3:3:0.1, -3:3:0.1]\n",
    "X = xy.reshape(2, -1).T\n",
    "x.set_value(X)\n",
    "\n",
    "with nn_simple:\n",
    "    ppc_samples = pm.sample_ppc(trace)\n",
    "\n",
    "y = ppc_samples['obs'].std(axis=0)\n",
    "y = y.reshape(xy.shape[1], xy.shape[2])\n",
    "cmap = cm.get_cmap('RdBu')\n",
    "plt.contourf(xy[0], xy[1], y, cmap=cmap)\n",
    "plt.title(\"Standard deviation of probability\")\n",
    "plt.colorbar()"
   ]
  },
  {
   "cell_type": "markdown",
   "metadata": {},
   "source": [
    "# Variational inference\n",
    "\n",
    "In Bayesian statistics we are interested in computing the posterior probability distribution $p(\\theta\\vert \\mathcal D)$ given some dataset $\\mathcal D$. Here $\\theta$ are *latent variables* like weights in a linear regression, hyperprior parameters in hierarchical models or probabilities of a datapoint belonging to a certain cluster in Gaussian Mixture models.\n",
    "\n",
    "Computing this posterior probability is in general a **hard problem** and may or may not be tractable. There's various procedures we can use to calculate the posterior \"distribution\".\n",
    "\n",
    "1. **Exact inference**: in some models, for example conjugate prior-likelihood pairs, we can calculate an exact posterior probability $p(\\theta\\vert \\mathcal D)$. While this is the \"best way\" of doing inference, the challenge is that there are only a restricted number of exactly solvable models and thus our ability to model data accurately is quite restricted. Also, it usually requires detailed mathematical analysis to come up with the analytical formula.\n",
    "2. **Markov Chain Monte Carlo**: this is usually the preferred way to do Bayesian inference as it allows us to draw samples and compute any quantity we are interested in arbitrarily accurately. The problem with  MCMC is that, at least [until recently](https://arxiv.org/abs/1811.02091), for high-dimensional parameter problems it has been too slow to compute samples. We'll see MCMC for neural networks failing in this tutorial.\n",
    "3. **Variational inference**: this is the main technique used in this tutorial. The main idea of variational inference is to use known distribution to approximate the posterior distribution.\n",
    "4. **Expectation maximization**: EM gives a point estimate using alternating an expectation and maximization step. It is the least desired of the four methods above, as it does not give uncertainties in the latent variables.\n",
    "\n",
    "## What is variational inference?\n",
    "\n",
    "As described above, variational inference is a technique to use a known distribution such as a multivariate normal, to approximate the unknown posterior. What do we mean by \"approximating the posterior distribution\"? Denote by $p({\\bf w} \\vert \\mathcal D) \\propto p({\\bf w}) p(\\mathcal D \\vert {\\bf w})$ the posterior distribution, which is a function of the latent variables $\\theta$. We write\n",
    "\n",
    "$$\n",
    "p({\\bf w} \\vert \\mathcal D) \\approx q({\\bf w} \\vert \\theta)\n",
    "$$\n",
    "\n",
    "Usually, we assume a factorization $q({\\bf w} \\vert \\theta) = \\prod_i q_i(w_i\\vert \\theta_i)$ to make the problem more tractable.\n",
    "\n",
    "So, how do we define the approximation? We approximate the posterior distribution $p({\\bf w} \\vert \\mathcal D)$ by minimizing the KL divergence between $q({\\bf w} \\vert \\theta)$ and $p({\\bf w} \\vert \\mathcal D)$\n",
    "\n",
    "$$\n",
    "\\theta_{opt} = \\arg \\min_\\theta \\text{KL}(q({\\bf w} \\vert \\theta) \\Vert p({\\bf w} \\vert \\mathcal D)) \\:.\n",
    "$$"
   ]
  },
  {
   "cell_type": "markdown",
   "metadata": {},
   "source": [
    "# Bayes by backprop\n",
    "\n",
    "In this section, we'll see how variational inference applied to neural networks lead to the \"Bayes by Backprop\" algorithm if we assume a certain distribution for the weights of the neural network. This section follows very closely the [original paper](https://arxiv.org/pdf/1505.05424.pdf).\n",
    "\n",
    "## Derivation\n",
    "\n",
    "As we saw in the chapter on variational inference, the fundamental idea is to choose a family of distributions $q(\\bf w\\vert \\theta)$ over the weights $\\bf w$ of the neural network, parametrized by $\\theta$. Then we find the parameters $\\theta$ within the given family $q$ that best approximates the posterior $p(\\bf w\\vert \\mathcal D)$, i.e. we choose the best parameters $\\theta$.\n",
    "\n",
    "It's important to note that we do not have to worry about \"overfitting\" when we choose the family $q$. After all, it's just approximating the posterior, so even if it has many parameters, it can't overfit.\n",
    "\n",
    "What do we mean by \"best approximation\"? It's the parameter values that minimize the Kullback-Leibler divergence between $q(\\bf w \\vert \\theta)$ and $p(\\bf w\\vert \\mathcal D)$:\n",
    "\n",
    "$$\n",
    "\\theta^* = \\arg \\min_{\\theta} \\text{KL}(q({\\bf w}\\vert \\theta) \\Vert p( {\\mathbf w}\\vert \\mathcal D))= \n",
    "\\\\\n",
    "= \\arg \\min_{\\theta} \\int q({\\bf w} \\vert \\theta) \\ln \\frac{q( {\\bf w} \\vert \\theta)}{p({\\bf w}\\vert \\mathcal D)} d {\\bf w} =  \\\\\n",
    "= \\arg \\min_{\\theta} \\text{KL}(q({\\bf w}\\vert \\theta) \\Vert p({\\bf w})) - \\mathbb E_{q({\\bf w} \\vert \\theta)} \\left[P( {\\mathbf w} \\vert \\mathcal D ) \\right]\n",
    "$$\n",
    "\n",
    "In practice we'll directly use the upper optimization form, as the one on the lower line is more interesting from a theoretical point of view. It shows the tradeoff between simplicity (approximate the prior with $q({\\bf w} \\vert \\mathcal \\theta)$) and a likelihood cost.\n",
    "\n",
    "We then employ **batch gradient descent** to find the optimal parameters. We can use it because of the following **Proposition**. When reading it, think of $q(\\epsilon)$ as a multivariate normal $\\mathcal N(0, I)$, think of $\\bf w$ as the n-dimensional weight vector of the neural network. Then, with $\\theta = (\\mu, \\rho) \\in \\mathbb R^n \\times \\mathbb R^n$, $\\bf w = \\mu + \\log(1+\\exp(\\rho)) \\epsilon = t(\\theta, \\epsilon)$, i.e. the weights follow a shifted and normal distribution with diagonal covariance matrix.\n",
    "\n",
    "> **Proposition**: Let $\\epsilon$ be a random variable with density $q(\\epsilon)$ and let $\\bf w = t(\\theta, \\epsilon)$ be a deterministic function. Furthermore, assume that $q(\\epsilon) d \\epsilon = q(\\theta \\vert \\omega) d \\theta$. Then for a function $f$ with continuous derivatives\n",
    "\n",
    "$$\n",
    "\\frac{\\partial}{\\partial \\theta} \\mathbb E_{q(\\bf w\\vert \\theta)} f({\\bf w}, \\theta) = \\mathbb E_{q(\\epsilon)} \\left( \\frac{\\partial f}{\\partial {\\bf w}} \\frac{\\partial {\\bf w}}{\\theta} + \\frac{\\partial f}{\\partial \\theta}\\right)\n",
    "$$\n",
    "\n",
    "In the optimization approach, we want to calculate the derivative of an expectation, and by the proposition we can use the expectation of the derivative instead. We approximate the expectation of the derivative via the law of large numbers and use a sample mean."
   ]
  },
  {
   "cell_type": "markdown",
   "metadata": {},
   "source": [
    "## Variational posterior\n",
    "\n",
    "We now describe the algorithm to calculate the variational posterior. Note that the form $\\sigma = \\log(1 + \\exp(\\rho))$ is used so that $\\rho \\in \\mathbb R$ always leads to a valid (i.e. positive) value of the standard deviation $\\sigma$. This is necessary so that we don't have to worry about going into \"forbidden\" regions in the gradient descent step. So, let's suppose we have an n-dimensional weight vector $\\bf w$ and let $(\\mu, \\rho) \\in \\mathbb R^n \\times \\mathbb R^n$. Then ${\\bf w} = \\mu + \\log(1 + \\exp \\rho) \\epsilon$.\n",
    "\n",
    "1. Sample $\\epsilon \\sim \\mathcal N(0, I)$, where $I$ is the n-dimensional unit matrix.\n",
    "2. Compute ${\\bf w} = \\mu + \\log(1 + \\exp \\rho) \\epsilon$\n",
    "3. Set $\\theta = (\\mu, \\rho)$\n",
    "4. Let $f({\\bf w}, \\theta) = \\log q({\\bf w} \\vert \\theta) - \\log P({\\bf w}) P(\\mathcal D \\vert {\\bf w})$\n",
    "5. Calculate the gradient $\\Delta_\\mu = \\frac{\\partial f}{\\partial {\\bf w}} + \\frac{\\partial f}{\\partial \\mu}$\n",
    "6. Calculate the gradient $\\Delta_{\\rho} = \\frac{\\partial f}{\\partial {\\bf w}}\\frac{\\epsilon}{1 + \\exp(-\\rho)} + \\frac{\\partial f}{\\partial \\rho}$\n",
    "7. Update the parameters $\\mu \\rightarrow \\mu + \\alpha \\Delta_\\mu$, $\\rho \\rightarrow \\rho + \\alpha \\Delta_\\rho$\n",
    "\n",
    "Note that with software libraries like TensoeFlow or PyTorch, the gradients of $f$ are easy to calculate.\n",
    "\n"
   ]
  },
  {
   "cell_type": "markdown",
   "metadata": {},
   "source": [
    "## Description of prior\n",
    "\n",
    "In principle we are now free to use **any prior** that we wish to use. The authors of [1] suggest to use a prior that is a **mixture of two diagonal Gaussians**,\n",
    "\n",
    "$$\n",
    "P({\\bf w}) = \\prod_j \\pi \\mathcal N({\\bf w}_j \\vert 0, \\sigma_1^2) + (1 - \\pi) N({\\bf w}_j \\vert 0, \\sigma_2^2)\n",
    "$$\n",
    "\n",
    "One of the two Gaussians has a relatively large variance $\\sigma_1 > \\sigma_2$, giving rise to a larger tail in the distribution. The second Gaussian should have a very small variance $\\sigma_2 \\ll 1$. Let's look at examples:"
   ]
  },
  {
   "cell_type": "code",
   "execution_count": 15,
   "metadata": {},
   "outputs": [
    {
     "data": {
      "text/plain": [
       "<seaborn.axisgrid.FacetGrid at 0x1c14e03390>"
      ]
     },
     "execution_count": 15,
     "metadata": {},
     "output_type": "execute_result"
    },
    {
     "data": {
      "image/png": "[encoded data removed]",
      "text/plain": [
       "<Figure size 718.625x648 with 9 Axes>"
      ]
     },
     "metadata": {},
     "output_type": "display_data"
    }
   ],
   "source": [
    "sigma1 = [3, 10, 20]\n",
    "sigma2 = [0.0001, 0.001, 0.01]\n",
    "pi = [0.25, 0.5, 0.75]\n",
    "n = 10000\n",
    "\n",
    "samples = pd.DataFrame()\n",
    "\n",
    "for _sigma1 in sigma1:\n",
    "    for _sigma2 in sigma2:\n",
    "        for _pi in pi:\n",
    "            n_cluster_1 = np.random.binomial(n=n, p=_pi)\n",
    "            c1 = np.random.normal(scale=_sigma1, size=n_cluster_1)\n",
    "            c2 = np.random.normal(scale=_sigma2, size=n-n_cluster_1)\n",
    "            sample = np.append(c1, c2)\n",
    "            sample_df = pd.DataFrame({'sigma1': _sigma1, 'sigma2': _sigma2, 'pi': _pi, 'data': sample})\n",
    "            samples = samples.append(sample_df)\n",
    "\n",
    "g = sns.FacetGrid(row='pi', col='sigma1', hue='sigma2', data=samples, sharey=False)\n",
    "g.map(sns.distplot, 'data', hist=False).add_legend()"
   ]
  },
  {
   "cell_type": "markdown",
   "metadata": {},
   "source": [
    "We see that $\\sigma_1$ controls how wide the tail of the distribution is. $\\pi$ controls how much mass goes into the tail distribution (the larger $\\pi$, the more weight goes in the tail). With the parameter range we set up here, varying $\\sigma_2$ does not have a big impact. The main point about this parameter is that it is close to zero.\n",
    "\n",
    "There's no particular reason to choose this prior except that it is convenient to work with and puts much mass at weights near zero."
   ]
  },
  {
   "cell_type": "markdown",
   "metadata": {},
   "source": [
    "## Minibatches and KL reweighting\n",
    "\n",
    "The authors of [1] introduce another hyperparameter that can be tuned. Note that the main point of using batch gradient descent is that it gives an unbiased estimate of the KL divergence. \n",
    "\n",
    "We can modify the standard batch gradient procedure to weight the complexity cost and the likelihood differently, depending on batch.\n",
    "\n",
    "Let us make this more precise. Suppose we have split the dataset $\\mathcal D$ into $M$ batches $\\mathcal D_i$. Pick $M$ weights $\\pi_i > 0$, such that $\\sum_i \\pi = 1$. Then we can give weight to the complexity cost and likelihood cost as follows:\n",
    "\n",
    "$$\n",
    "\\pi_i \\text{KL}(q({\\bf w}\\vert \\theta) \\Vert p({\\bf w})) - \\mathbb E_{q({\\bf w} \\vert \\theta)} \\left[P( {\\mathbf w} \\vert \\mathcal D ) \\right] \\:.\n",
    "$$\n",
    "\n",
    "In practice this means that in step 4. of the algorithm, we multiply the first term by $\\pi_i$. A schema that the authors propose to use is\n",
    "\n",
    "$$\n",
    "\\pi_i = \\frac{2 ^ {M - i}}{2 ^ M - 1} \\:.\n",
    "$$"
   ]
  },
  {
   "cell_type": "code",
   "execution_count": 16,
   "metadata": {},
   "outputs": [
    {
     "data": {
      "text/plain": [
       "Text(0.5, 1.0, 'Complexity weight and batch number')"
      ]
     },
     "execution_count": 16,
     "metadata": {},
     "output_type": "execute_result"
    },
    {
     "data": {
      "image/png": "[encoded data removed]",
      "text/plain": [
       "<Figure size 432x288 with 1 Axes>"
      ]
     },
     "metadata": {},
     "output_type": "display_data"
    }
   ],
   "source": [
    "M = 100\n",
    "_i = np.arange(1, M+1)\n",
    "_y = 1 / (2 ** _i)\n",
    "plt.plot(_i, _y)\n",
    "plt.xlabel(\"Batch number\")\n",
    "plt.ylabel(\"Complexity weight\")\n",
    "plt.title(\"Complexity weight and batch number\")"
   ]
  },
  {
   "cell_type": "markdown",
   "metadata": {},
   "source": [
    "The idea behind this weighting scheme is that, initially, we do not want to weight the data too much as this would lead to very volatile distributions, since we've probably not initialized the parameters very well. The higher the batch number, the more the influence of the data, when the initial conditions should not be important anymore."
   ]
  },
  {
   "cell_type": "markdown",
   "metadata": {},
   "source": [
    "# Application and Implementation\n",
    "\n",
    "In this section, we implement the \"Bayes By Backprop\" algorithm in TensorFlow. We then apply the algorithm to the simulated dataset from above and the classical MNIST dataset.\n",
    "\n",
    "## Implementation in TensorFlow\n",
    "\n",
    "For an implementation in MXNet, see [this tutorial](https://gluon.mxnet.io/chapter18_variational-methods-and-uncertainty/bayes-by-backprop.html).\n",
    "\n",
    "Here, we implement the Bayes By Backprop (`BBB`) algorithm. We did not manage to finish the implementation for iterating over batches. This would probably require us to use a data generator as input. Currently the batching should be done in a loop outside of the `BBB` class."
   ]
  },
  {
   "cell_type": "code",
   "execution_count": 19,
   "metadata": {},
   "outputs": [],
   "source": [
    "import tensorflow as tf\n",
    "import tensorflow_probability as tfp\n",
    "tfd = tfp.distributions\n",
    "\n",
    "class BBB:\n",
    "    \"\"\"\n",
    "    Implentation of Bayes by Backprop\n",
    "    \"\"\"\n",
    "    def __init__(self, n_input, n_output, n_hidden, batch_size=64, learn_rate=0.001,\n",
    "                 pi=None, sigma_p=1.0, sigma_p1=None, sigma_p2=None):\n",
    "        \n",
    "        \"\"\"\n",
    "        :param n_input: input dimension\n",
    "        :param n_output: output dimension\n",
    "        :param n_hidden: list with the number of hidden weights per layer\n",
    "        :param batch_size: not implemented\n",
    "        :param learn_rate: learning rate\n",
    "        :param pi: Gaussian mixture weight\n",
    "        :param sigma_p: if Gaussian prior, this is the standard deviation\n",
    "        :param sigma_p1: standard deviation of one Gaussian in scale mixture prior; if None, then single Gaussian prior\n",
    "        :param sigma_p2: standard deviation second Gaussian in scale mixture prior\n",
    "        \"\"\"\n",
    "        \n",
    "        self.n_output = n_output\n",
    "        ## Construct neural network\n",
    "        tf.reset_default_graph()\n",
    "        #### Variational parameters\n",
    "        mus = []\n",
    "        rhos = []\n",
    "        eps = []\n",
    "\n",
    "        temp_mu = tf.Variable(tf.random_normal(shape=(n_input, n_hidden[0])))\n",
    "        mus.append(temp_mu)\n",
    "\n",
    "        temp_rho = tf.Variable(tf.constant(0.3, shape=(n_input, n_hidden[0])))\n",
    "        rhos.append(temp_rho)\n",
    "\n",
    "        temp_eps = tf.random_normal(shape=(n_input, n_hidden[0]))\n",
    "        eps.append(temp_eps)\n",
    "\n",
    "        for i in range(len(n_hidden)-1):\n",
    "            temp_mu = tf.Variable(tf.random_normal(shape=(n_hidden[i], n_hidden[i+1])))\n",
    "            temp_rho = tf.Variable(tf.constant(0.3, shape=(n_hidden[i], n_hidden[i+1])))\n",
    "            temp_eps = tf.random_normal(shape=(n_hidden[i], n_hidden[i+1]))\n",
    "            mus.append(temp_mu)\n",
    "            rhos.append(temp_rho)\n",
    "            eps.append(temp_eps)\n",
    "\n",
    "        temp_mu = tf.Variable(tf.random_normal(shape=(n_hidden[-1], n_output)))\n",
    "        temp_rho = tf.Variable(tf.constant(0.3, shape=(n_hidden[-1], n_output)))\n",
    "        temp_eps = tf.random_normal(shape=(n_hidden[-1], n_output))\n",
    "\n",
    "        mus.append(temp_mu)\n",
    "        rhos.append(temp_rho)\n",
    "        eps.append(temp_eps)\n",
    "\n",
    "        ### Convert variational parameters to neural network weights (currently no bias terms)\n",
    "        ws = [mu + e * tf.log(1+tf.exp(rho)) for (mu, e, rho) in zip(mus, eps, rhos)]\n",
    "\n",
    "        ### Feed-forward\n",
    "        self.x_in = tf.placeholder(tf.float32, shape=(None, n_input))\n",
    "\n",
    "        for i in range(len(n_hidden)):\n",
    "            if i == 0:\n",
    "                x = tf.nn.relu(tf.matmul(self.x_in, ws[i]))\n",
    "            else:\n",
    "                x = tf.nn.relu(tf.matmul(x, ws[i]))\n",
    "\n",
    "        logits = tf.matmul(x, ws[-1])\n",
    "        self.y_out = tf.nn.softmax(logits)\n",
    "\n",
    "        ### Actual values\n",
    "        self.y_in = tf.placeholder(tf.int32, shape=(None))\n",
    "        self.y = tf.one_hot(self.y_in, depth=n_output)\n",
    "        #self.y = tf.placeholder(tf.float32, shape=(None, n_output))\n",
    "\n",
    "        ### Loss\n",
    "        #### Prior loss\n",
    "        var_pars = [tf.reshape(rho, [-1]) for rho in rhos] + [tf.reshape(mu, [-1]) for mu in mus]\n",
    "        self.var_pars = tf.concat(var_pars, axis=0)\n",
    "        \n",
    "        if sigma_p1 is None:\n",
    "            prior_gaussian = tfd.Normal(loc=0., scale=sigma_p)\n",
    "            #### Stack mus and rhos to obtain tensor of variational parameters, plug into prior \n",
    "            #### Gaussian and sum\n",
    "            self.prior_loss = tf.reduce_sum(prior_gaussian.log_prob(self.var_pars))\n",
    "        else:\n",
    "            prior_gaussian_1 = tfd.Normal(loc=0.0, scale=sigma_p1)\n",
    "            prior_gaussian_2 = tfd.Normal(loc=0.0, scale=sigma_p2)\n",
    "        \n",
    "            self.prior_loss = tf.reduce_sum(pi * prior_gaussian_1.log_prob(self.var_pars)) + \\\n",
    "                tf.reduce_sum((1 - pi) * prior_gaussian_2.log_prob(self.var_pars))\n",
    "            \n",
    "        tf.summary.scalar(\"prior_loss\", self.prior_loss)\n",
    "\n",
    "        \n",
    "        \n",
    "        #### Likelihood loss\n",
    "        self.xent = tf.reduce_sum(\n",
    "            tf.losses.softmax_cross_entropy(\n",
    "                logits=logits, onehot_labels=self.y, reduction=tf.losses.Reduction.SUM), name=\"xent\")\n",
    "        tf.summary.scalar(\"xent\", self.xent)\n",
    "\n",
    "        #### Variational posterior loss\n",
    "        posterior_loss = []\n",
    "        for (mu, rho, w) in zip(mus, rhos, ws):\n",
    "            #### Setup up loss distribution as Gaussian and append to posterior_loss\n",
    "            foo = tfd.Normal(mu, tf.log(1+tf.exp(rho)))\n",
    "            tmp_loss = tf.reduce_sum(tf.reshape(foo.log_prob(w), [-1]))\n",
    "            posterior_loss.append(tmp_loss)\n",
    "\n",
    "        self.posterior_loss = sum(posterior_loss)\n",
    "        tf.summary.scalar(\"posterior_loss\", self.posterior_loss)\n",
    "\n",
    "        #### Combine posterior_loss into single tensor and tf.reduce_sum it\n",
    "\n",
    "        #### Calculate total loss\n",
    "        self.loss = - self.prior_loss + self.xent + self.posterior_loss\n",
    "        tf.summary.scalar(\"loss\", self.loss)\n",
    "\n",
    "        #### Optimizer\n",
    "        self.train_step = tf.train.RMSPropOptimizer(learn_rate).minimize(self.loss)\n",
    "        \n",
    "        self.summary = tf.summary.merge_all()\n",
    "        self.writer = tf.summary.FileWriter(logdir='./logs')\n",
    "        self.sess = tf.Session()\n",
    "        \n",
    "    def init(self):\n",
    "        \"\"\"\n",
    "        Initialize session\n",
    "        \"\"\"\n",
    "        init = tf.global_variables_initializer()\n",
    "        self.sess.run(init)\n",
    "        \n",
    "    def train(self, X, y, epochs, silent=False, print_every=500):\n",
    "        \"\"\"\n",
    "        Train Bayes By Backprop\n",
    "        \n",
    "        :param X: features\n",
    "        :param y: target\n",
    "        :param epochs: number of epochs to train\n",
    "        \"\"\"\n",
    "        for i in range(epochs):\n",
    "            _ = self.sess.run(self.train_step, feed_dict={self.x_in: X, self.y_in: y})\n",
    "            if not silent and i % print_every == 0:\n",
    "                loss_ = self.sess.run([self.loss], feed_dict={self.x_in: X, self.y_in: y})\n",
    "                print(str(i) + \": Loss: \" + str(loss_) + \"\\r\")\n",
    "        \n",
    "    def predict(self, X_new, n_samples):\n",
    "        \"\"\"\n",
    "        Predict on new data\n",
    "        \n",
    "        :param X_new: new features on which to predict\n",
    "        :param n_samples: int how many samples to predict\n",
    "        \"\"\"\n",
    "        ys = np.zeros((n_samples, X_new.shape[0], self.n_output))\n",
    "        for i in range(n_samples):\n",
    "            foo = self.sess.run(self.y_out, feed_dict={self.x_in: X_new})\n",
    "            ys[i, :, :] = foo\n",
    "            \n",
    "        return ys\n"
   ]
  },
  {
   "cell_type": "markdown",
   "metadata": {},
   "source": [
    "## Concerete Dropout - An alternative to get uncertainties\n",
    "\n",
    "Concrete Dropout [4] was introduced recently as a computationally efficient way to get model uncertainty for neural network. It is well justified theoretically as an approximation to the Gaussian process corresponding to neural networks. It allows to separate the *epistemic* and *aleatoric* uncertainty. The former is the uncertainty in the model weights (i.e. the uncertainty that goes away in the limit of infinite data. The *aleatoric* uncertainty, on the other hand, is the uncertainty coming from the sampling process, measurement errors etc.\n",
    "\n",
    "Computationally, the fundamental idea is to leave *dropout \"on\"* at prediction time and thus obtain different Monte Carlo samples. The loss function is modified to a *heteroskedastic loss* so that we model the aleatoric uncertainty.\n",
    "\n",
    "Even more concretely, we make **predictions** by taking a number $N$ of samples and average them. A single MC samples consists of a pair $(\\mu_i, \\sigma_i)$. The *epistemic* uncertainty comes from the standard deviation of MC samples for the mean $sd(\\mu_i)$. The *aleatoric* uncertainty is the *mean of the prediction of the standard deviation* $\\frac{1}{N}\\sum_i\\sigma_i$.."
   ]
  },
  {
   "cell_type": "markdown",
   "metadata": {},
   "source": [
    "## Simulated dataset\n",
    "\n",
    "We continue using the same example of a simulated dataset we started with above. We apply both Bayes By Backprop and Concrete dropout to it."
   ]
  },
  {
   "cell_type": "markdown",
   "metadata": {},
   "source": [
    "### Bayes By Backprop\n",
    "\n",
    "We start with Bayes By Backprop. The algorithm converges relatively quickly.\n",
    "\n",
    "#### Gaussian prior\n",
    "\n",
    "We do it first with the Gaussian prior only. This can be controlled by not passing `sigma_p1` and `sigma_p2` and `pi` to the class constructor.\n",
    "\n",
    "We take 15'000 gradient steps over the entire dataset."
   ]
  },
  {
   "cell_type": "code",
   "execution_count": 20,
   "metadata": {},
   "outputs": [
    {
     "name": "stdout",
     "output_type": "stream",
     "text": [
      "0: Loss: [2258.7507]\n",
      "2000: Loss: [671.0139]\n",
      "4000: Loss: [560.7044]\n",
      "6000: Loss: [502.3176]\n",
      "8000: Loss: [504.52975]\n",
      "10000: Loss: [520.9947]\n",
      "12000: Loss: [548.76556]\n",
      "14000: Loss: [551.8842]\n"
     ]
    }
   ],
   "source": [
    "n_input = 2\n",
    "n_output = 2\n",
    "n_hidden = [10]\n",
    "n_samp = 1000\n",
    "\n",
    "X_train, y_train_ = make_classification(n_samples=n_samp, n_features=2, n_informative=2, n_redundant=0,\n",
    "                           class_sep=0.5, random_state=0)\n",
    "\n",
    "y_train = np.zeros((n_samp, 2))\n",
    "y_train[y_train_ == 0, 0] = 1\n",
    "y_train[y_train_ == 1, 1] = 1\n",
    "    \n",
    "    \n",
    "bbb = BBB(n_input, n_output, n_hidden)\n",
    "bbb.init()\n",
    "bbb.train(X_train, y_train_, 15000, print_every=2000)"
   ]
  },
  {
   "cell_type": "markdown",
   "metadata": {},
   "source": [
    "Let's plot the results on a new dataset. Looks very reasonable!"
   ]
  },
  {
   "cell_type": "code",
   "execution_count": 21,
   "metadata": {},
   "outputs": [
    {
     "data": {
      "text/plain": [
       "Text(0.5, 1.0, 'Posterior predictive ')"
      ]
     },
     "execution_count": 21,
     "metadata": {},
     "output_type": "execute_result"
    },
    {
     "data": {
      "image/png": "[encoded data removed]",
      "text/plain": [
       "<Figure size 432x288 with 1 Axes>"
      ]
     },
     "metadata": {},
     "output_type": "display_data"
    }
   ],
   "source": [
    "X_test, y_test = make_classification(n_samples=n_samp, n_features=2, n_informative=2, n_redundant=0,\n",
    "                           class_sep=0.5, random_state=0)\n",
    "\n",
    "pred = bbb.predict(X_test, 100).mean(axis=0)\n",
    "cmap = cm.get_cmap('RdBu')\n",
    "colors = [cmap(z) for z in pred[:, 0]]\n",
    "plt.scatter(X_train[:, 0], X_train[:, 1], s=1.5, c=colors)\n",
    "plt.title(\"Posterior predictive \")"
   ]
  },
  {
   "cell_type": "code",
   "execution_count": 22,
   "metadata": {},
   "outputs": [
    {
     "name": "stdout",
     "output_type": "stream",
     "text": [
      "Test accuracy: 0.822\n"
     ]
    }
   ],
   "source": [
    "pred = bbb.predict(X_test, 100).mean(axis=0)\n",
    "test_acc = np.mean(y_test == pred.argmax(axis=1))\n",
    "print(\"Test accuracy: {}\".format(test_acc))"
   ]
  },
  {
   "cell_type": "markdown",
   "metadata": {},
   "source": [
    "Another interesting plot is similar to one we saw above as well: we plot the predicted standard deviation in probabilities at every point. The results make sense: near the \"true decision boundary\", the standard deviation is a lot higher. The structure does not become as clear as with ADVI above."
   ]
  },
  {
   "cell_type": "code",
   "execution_count": 23,
   "metadata": {},
   "outputs": [
    {
     "data": {
      "text/plain": [
       "<matplotlib.colorbar.Colorbar at 0x1c23afb1d0>"
      ]
     },
     "execution_count": 23,
     "metadata": {},
     "output_type": "execute_result"
    },
    {
     "data": {
      "image/png": "[encoded data removed]",
      "text/plain": [
       "<Figure size 432x288 with 2 Axes>"
      ]
     },
     "metadata": {},
     "output_type": "display_data"
    }
   ],
   "source": [
    "xy = np.mgrid[-3:3:0.03, -3:3:0.03]\n",
    "X = xy.reshape(2, -1).T\n",
    "\n",
    "pred = bbb.predict(X, 100).std(axis=0)[:, 0].reshape(xy.shape[1], xy.shape[2])\n",
    "\n",
    "cmap = cm.get_cmap('RdBu')\n",
    "plt.contourf(xy[0], xy[1], pred, cmap=cmap)\n",
    "plt.title(\"Standard deviation of probability\")\n",
    "plt.colorbar()"
   ]
  },
  {
   "cell_type": "markdown",
   "metadata": {},
   "source": [
    "#### Scale mixture prior\n",
    "\n",
    "Now, we retrain with a scale mixture prior."
   ]
  },
  {
   "cell_type": "code",
   "execution_count": 24,
   "metadata": {},
   "outputs": [
    {
     "name": "stdout",
     "output_type": "stream",
     "text": [
      "0: Loss: [3937.1594]\n",
      "2000: Loss: [634.05743]\n",
      "4000: Loss: [617.72235]\n",
      "6000: Loss: [770.33704]\n",
      "8000: Loss: [877.43353]\n",
      "10000: Loss: [819.5408]\n",
      "12000: Loss: [566.1494]\n",
      "14000: Loss: [555.7466]\n"
     ]
    }
   ],
   "source": [
    "n_input = 2\n",
    "n_output = 2\n",
    "n_hidden = [10]\n",
    "n_samp = 1000\n",
    "\n",
    "X_train, y_train_ = make_classification(n_samples=n_samp, n_features=2, n_informative=2, n_redundant=0,\n",
    "                           class_sep=0.5, random_state=0)\n",
    "\n",
    "y_train = np.zeros((n_samp, 2))\n",
    "y_train[y_train_ == 0, 0] = 1\n",
    "y_train[y_train_ == 1, 1] = 1\n",
    "    \n",
    "    \n",
    "bbb = BBB(n_input, n_output, n_hidden, sigma_p1=1.0, sigma_p2=0.1, pi=0.25)\n",
    "bbb.init()\n",
    "bbb.train(X_train, y_train_, 15000, print_every=2000)"
   ]
  },
  {
   "cell_type": "code",
   "execution_count": 25,
   "metadata": {},
   "outputs": [
    {
     "name": "stdout",
     "output_type": "stream",
     "text": [
      "Test accuracy: 0.826\n"
     ]
    }
   ],
   "source": [
    "pred = bbb.predict(X_test, 100).mean(axis=0)\n",
    "test_acc = np.mean(y_test == pred.argmax(axis=1))\n",
    "print(\"Test accuracy: {}\".format(test_acc))"
   ]
  },
  {
   "cell_type": "markdown",
   "metadata": {},
   "source": [
    "The accuracy is roughly the same."
   ]
  },
  {
   "cell_type": "markdown",
   "metadata": {},
   "source": [
    "### Concrete Dropout\n",
    "\n",
    "We took the implementation for Concrete Dropout from [6]."
   ]
  },
  {
   "cell_type": "code",
   "execution_count": 26,
   "metadata": {},
   "outputs": [
    {
     "name": "stdout",
     "output_type": "stream",
     "text": [
      "step 0, loss 0.8689469695091248, accuracy 0.42800000309944153\n",
      "dropout rates: {'1_dropout/dropout_rate:0': 0.1, '2_dropout/dropout_rate:0': 0.1}\n",
      "step 500, loss 0.7362625598907471, accuracy 0.5559999942779541\n",
      "dropout rates: {'1_dropout/dropout_rate:0': 0.0969, '2_dropout/dropout_rate:0': 0.097}\n",
      "step 1000, loss 0.6220133304595947, accuracy 0.6890000104904175\n",
      "dropout rates: {'1_dropout/dropout_rate:0': 0.0934, '2_dropout/dropout_rate:0': 0.0935}\n",
      "step 1500, loss 0.5380987524986267, accuracy 0.828000009059906\n",
      "dropout rates: {'1_dropout/dropout_rate:0': 0.0898, '2_dropout/dropout_rate:0': 0.0899}\n",
      "step 2000, loss 0.48278188705444336, accuracy 0.8309999704360962\n",
      "dropout rates: {'1_dropout/dropout_rate:0': 0.0862, '2_dropout/dropout_rate:0': 0.0863}\n",
      "step 2500, loss 0.4456446170806885, accuracy 0.8370000123977661\n",
      "dropout rates: {'1_dropout/dropout_rate:0': 0.0827, '2_dropout/dropout_rate:0': 0.0829}\n",
      "step 3000, loss 0.42064791917800903, accuracy 0.8389999866485596\n",
      "dropout rates: {'1_dropout/dropout_rate:0': 0.0793, '2_dropout/dropout_rate:0': 0.0795}\n",
      "step 3500, loss 0.40338170528411865, accuracy 0.8370000123977661\n",
      "dropout rates: {'1_dropout/dropout_rate:0': 0.076, '2_dropout/dropout_rate:0': 0.0762}\n",
      "step 4000, loss 0.39130404591560364, accuracy 0.8399999737739563\n",
      "dropout rates: {'1_dropout/dropout_rate:0': 0.0729, '2_dropout/dropout_rate:0': 0.073}\n",
      "step 4500, loss 0.3822043240070343, accuracy 0.8420000076293945\n",
      "dropout rates: {'1_dropout/dropout_rate:0': 0.0698, '2_dropout/dropout_rate:0': 0.07}\n",
      "step 5000, loss 0.3745265007019043, accuracy 0.8399999737739563\n",
      "dropout rates: {'1_dropout/dropout_rate:0': 0.0669, '2_dropout/dropout_rate:0': 0.0671}\n",
      "step 5500, loss 0.3673052191734314, accuracy 0.8379999995231628\n",
      "dropout rates: {'1_dropout/dropout_rate:0': 0.0641, '2_dropout/dropout_rate:0': 0.0643}\n",
      "step 6000, loss 0.3608708679676056, accuracy 0.8429999947547913\n",
      "dropout rates: {'1_dropout/dropout_rate:0': 0.0614, '2_dropout/dropout_rate:0': 0.0616}\n",
      "step 6500, loss 0.3552502393722534, accuracy 0.8429999947547913\n",
      "dropout rates: {'1_dropout/dropout_rate:0': 0.0588, '2_dropout/dropout_rate:0': 0.059}\n",
      "step 7000, loss 0.35169053077697754, accuracy 0.8399999737739563\n",
      "dropout rates: {'1_dropout/dropout_rate:0': 0.0564, '2_dropout/dropout_rate:0': 0.0566}\n",
      "step 7500, loss 0.3487938940525055, accuracy 0.8420000076293945\n",
      "dropout rates: {'1_dropout/dropout_rate:0': 0.0541, '2_dropout/dropout_rate:0': 0.0542}\n",
      "step 8000, loss 0.34641268849372864, accuracy 0.8429999947547913\n",
      "dropout rates: {'1_dropout/dropout_rate:0': 0.0518, '2_dropout/dropout_rate:0': 0.052}\n",
      "step 8500, loss 0.344210147857666, accuracy 0.8460000157356262\n",
      "dropout rates: {'1_dropout/dropout_rate:0': 0.0497, '2_dropout/dropout_rate:0': 0.0499}\n",
      "step 9000, loss 0.3422773778438568, accuracy 0.8489999771118164\n",
      "dropout rates: {'1_dropout/dropout_rate:0': 0.0476, '2_dropout/dropout_rate:0': 0.0478}\n",
      "step 9500, loss 0.34014636278152466, accuracy 0.8479999899864197\n",
      "dropout rates: {'1_dropout/dropout_rate:0': 0.0457, '2_dropout/dropout_rate:0': 0.0458}\n",
      "test accuracy 0.8500000238418579\n",
      "final dropout rates: {'1_dropout/dropout_rate:0': 0.0438, '2_dropout/dropout_rate:0': 0.0439}\n"
     ]
    }
   ],
   "source": [
    "from concrete_dropout import concrete_dropout\n",
    "\n",
    "n_samples = 1000\n",
    "\n",
    "import tensorflow as tf\n",
    "from tensorflow import layers as tfl\n",
    "\n",
    "tf.reset_default_graph()\n",
    "\n",
    "def net(inputs, is_training):\n",
    "\n",
    "    x = inputs\n",
    "\n",
    "    dropout_params = {'init_min': 0.1, 'init_max': 0.1,\n",
    "                      'weight_regularizer': 1e-6, 'dropout_regularizer': 1e-5,\n",
    "                      'training': is_training}\n",
    "    x, reg = concrete_dropout(x, name='1_dropout', **dropout_params)\n",
    "    x, reg = concrete_dropout(x, name='2_dropout', **dropout_params)\n",
    "    x = tfl.dense(x, 10, activation=tf.nn.relu, name='fc1',\n",
    "                  kernel_regularizer=reg, bias_regularizer=reg)\n",
    "\n",
    "    outputs = tfl.dense(x, 2, name='fc2')\n",
    "    return outputs\n",
    "\n",
    "x_train, y_train = make_classification(n_samples=1000, n_features=2, n_informative=2, n_redundant=0,\n",
    "                           class_sep=0.5, random_state=0)\n",
    "\n",
    "\n",
    "x_test, y_test = make_classification(n_samples=1000, n_features=2, n_informative=2, n_redundant=0,\n",
    "                           class_sep=0.5, random_state=0)\n",
    "\n",
    "\n",
    "x = tf.placeholder(tf.float32, [None, 2])\n",
    "y = tf.placeholder(tf.int64, [None])\n",
    "is_training = tf.placeholder(tf.bool)\n",
    "\n",
    "y_out = net(x, is_training)\n",
    "\n",
    "with tf.name_scope('loss'):\n",
    "    loss = tf.reduce_mean(tf.losses.sparse_softmax_cross_entropy(\n",
    "            labels=y, logits=y_out))\n",
    "    loss += tf.reduce_sum(\n",
    "            tf.get_collection(tf.GraphKeys.REGULARIZATION_LOSSES))\n",
    "\n",
    "with tf.name_scope('adam_optimizer'):\n",
    "    train_step = tf.train.RMSPropOptimizer(1e-4).minimize(loss)\n",
    "\n",
    "with tf.name_scope('accuracy'):\n",
    "    correct_prediction = tf.equal(tf.argmax(y_out, 1), y)\n",
    "    correct_prediction = tf.cast(correct_prediction, tf.float32)\n",
    "    accuracy = tf.reduce_mean(correct_prediction)\n",
    "\n",
    "dropout_rates = tf.get_collection('DROPOUT_RATES')\n",
    "def rates_pretty_print(values):\n",
    "    return {str(t.name): round(r, 4)\n",
    "            for t, r in zip(dropout_rates, values)}\n",
    "\n",
    "with tf.Session() as sess:\n",
    "    sess.run(tf.global_variables_initializer())\n",
    "    for i in range(10000):\n",
    "        if i % 500 == 0:\n",
    "            training_loss, training_acc, rates = sess.run(\n",
    "                    [loss, accuracy, dropout_rates],\n",
    "                    feed_dict={\n",
    "                        x: x_train, y: y_train, is_training: False})\n",
    "            print('step {}, loss {}, accuracy {}'.format(\n",
    "                i, training_loss, training_acc))\n",
    "            print('dropout rates: {}'.format(rates_pretty_print(rates)))\n",
    "        train_step.run(feed_dict={\n",
    "            x: x_train, y: y_train, is_training: True})\n",
    "    accuracy, rates = sess.run([accuracy, dropout_rates],\n",
    "                               feed_dict={x: x_test,\n",
    "                                              y: y_test,\n",
    "                                              is_training: False})\n",
    "    \n",
    "    preds = np.zeros((n_samples, X.shape[0], 2))\n",
    "    for i in range(n_samples):\n",
    "        foo = scipy.special.expit(sess.run(y_out, feed_dict={x: X, is_training: True}))\n",
    "        preds[i, :, :] = foo\n",
    "\n",
    "print('test accuracy {}'.format(accuracy))\n",
    "print('final dropout rates: {}'.format(rates_pretty_print(rates)))"
   ]
  },
  {
   "cell_type": "markdown",
   "metadata": {},
   "source": [
    "We see the concrete dropout gets very good test results, slightly better than Bayes By Backprop."
   ]
  },
  {
   "cell_type": "markdown",
   "metadata": {},
   "source": [
    "## MNIST\n",
    "\n",
    "We now move on to apply both Bayes By Backprop and Concrete Dropout to the famous MNIST dataset."
   ]
  },
  {
   "cell_type": "markdown",
   "metadata": {},
   "source": [
    "### Bayes By Backprop\n",
    "\n",
    "#### Gaussian prior\n",
    "\n",
    "We start with Bayes By Backprop with a Gaussian prior."
   ]
  },
  {
   "cell_type": "code",
   "execution_count": 27,
   "metadata": {},
   "outputs": [
    {
     "name": "stdout",
     "output_type": "stream",
     "text": [
      "WARNING:tensorflow:From <ipython-input-27-8d42f1672a6c>:10: read_data_sets (from tensorflow.contrib.learn.python.learn.datasets.mnist) is deprecated and will be removed in a future version.\n",
      "Instructions for updating:\n",
      "Please use alternatives such as official/mnist/dataset.py from tensorflow/models.\n",
      "WARNING:tensorflow:From /Users/alex/anaconda3/lib/python3.6/site-packages/tensorflow/contrib/learn/python/learn/datasets/mnist.py:260: maybe_download (from tensorflow.contrib.learn.python.learn.datasets.base) is deprecated and will be removed in a future version.\n",
      "Instructions for updating:\n",
      "Please write your own downloading logic.\n",
      "WARNING:tensorflow:From /Users/alex/anaconda3/lib/python3.6/site-packages/tensorflow/contrib/learn/python/learn/datasets/mnist.py:262: extract_images (from tensorflow.contrib.learn.python.learn.datasets.mnist) is deprecated and will be removed in a future version.\n",
      "Instructions for updating:\n",
      "Please use tf.data to implement this functionality.\n",
      "Extracting MNIST_data/train-images-idx3-ubyte.gz\n",
      "WARNING:tensorflow:From /Users/alex/anaconda3/lib/python3.6/site-packages/tensorflow/contrib/learn/python/learn/datasets/mnist.py:267: extract_labels (from tensorflow.contrib.learn.python.learn.datasets.mnist) is deprecated and will be removed in a future version.\n",
      "Instructions for updating:\n",
      "Please use tf.data to implement this functionality.\n",
      "Extracting MNIST_data/train-labels-idx1-ubyte.gz\n",
      "Extracting MNIST_data/t10k-images-idx3-ubyte.gz\n",
      "Extracting MNIST_data/t10k-labels-idx1-ubyte.gz\n",
      "WARNING:tensorflow:From /Users/alex/anaconda3/lib/python3.6/site-packages/tensorflow/contrib/learn/python/learn/datasets/mnist.py:290: DataSet.__init__ (from tensorflow.contrib.learn.python.learn.datasets.mnist) is deprecated and will be removed in a future version.\n",
      "Instructions for updating:\n",
      "Please use alternatives such as official/mnist/dataset.py from tensorflow/models.\n",
      "Epoch number 0: Training accuracy: 0.1816 Test Accuracy: 0.1886\n",
      "Epoch number 10: Training accuracy: 0.7942 Test Accuracy: 0.7932\n",
      "Epoch number 20: Training accuracy: 0.855 Test Accuracy: 0.865\n",
      "Epoch number 30: Training accuracy: 0.8946 Test Accuracy: 0.8928\n",
      "Epoch number 40: Training accuracy: 0.9176 Test Accuracy: 0.9198\n",
      "Epoch number 50: Training accuracy: 0.9208 Test Accuracy: 0.9252\n",
      "Epoch number 60: Training accuracy: 0.935 Test Accuracy: 0.934\n",
      "Epoch number 70: Training accuracy: 0.9398 Test Accuracy: 0.937\n",
      "Epoch number 80: Training accuracy: 0.9386 Test Accuracy: 0.9362\n",
      "Epoch number 90: Training accuracy: 0.9442 Test Accuracy: 0.9438\n",
      "Epoch number 100: Training accuracy: 0.9364 Test Accuracy: 0.9382\n"
     ]
    }
   ],
   "source": [
    "from tensorflow.examples.tutorials.mnist import input_data\n",
    "\n",
    "n_input = 784\n",
    "n_output = 10\n",
    "n_hidden = [400, 400]\n",
    "\n",
    "batch_size = 1000\n",
    "n_epochs = 100\n",
    "\n",
    "mnist = input_data.read_data_sets('MNIST_data') \n",
    "\n",
    "bbb = BBB(n_input, n_output, n_hidden, learn_rate=0.001)\n",
    "bbb.init()\n",
    "    \n",
    "for i in range(n_epochs+1):\n",
    "    for j in range(60000 // batch_size):\n",
    "        X_train, y_train = mnist.train.next_batch(batch_size)\n",
    "        X_train = X_train.reshape(-1, 784)\n",
    "        bbb.train(X_train, y_train, 1, silent=True)\n",
    "    \n",
    "    if i % 10 == 0:\n",
    "        X_test, y_test = mnist.test.next_batch(5000)\n",
    "        X_test = X_test.reshape(-1, 784)\n",
    "\n",
    "        pred = bbb.predict(X_test, 10).mean(axis=0)\n",
    "        test_acc = np.mean(y_test == pred.argmax(axis=1))\n",
    "\n",
    "        X_train, y_train = mnist.train.next_batch(5000)\n",
    "        X_train = X_train.reshape(-1, 784)\n",
    "\n",
    "        pred = bbb.predict(X_train, 10).mean(axis=0)\n",
    "        train_acc = np.mean(y_train == pred.argmax(axis=1))\n",
    "\n",
    "        print(\"Epoch number {}: Training accuracy: {} Test Accuracy: {}\".format(i, train_acc, test_acc))"
   ]
  },
  {
   "cell_type": "markdown",
   "metadata": {},
   "source": [
    "We reached a test accuracy of around 94%. During our tuning runs, we found that Bayes By Backprop is very sensitive to hyperparameters, e.g. learning rate and number of hidden units."
   ]
  },
  {
   "cell_type": "markdown",
   "metadata": {},
   "source": [
    "#### Scale mixture prior\n",
    "\n",
    "We retrain with scale mixture prior."
   ]
  },
  {
   "cell_type": "code",
   "execution_count": 28,
   "metadata": {},
   "outputs": [
    {
     "name": "stdout",
     "output_type": "stream",
     "text": [
      "Extracting MNIST_data/train-images-idx3-ubyte.gz\n",
      "Extracting MNIST_data/train-labels-idx1-ubyte.gz\n",
      "Extracting MNIST_data/t10k-images-idx3-ubyte.gz\n",
      "Extracting MNIST_data/t10k-labels-idx1-ubyte.gz\n",
      "Epoch number 0: Training accuracy: 0.159 Test Accuracy: 0.175\n",
      "Epoch number 10: Training accuracy: 0.7814 Test Accuracy: 0.7906\n",
      "Epoch number 20: Training accuracy: 0.8316 Test Accuracy: 0.8524\n",
      "Epoch number 30: Training accuracy: 0.863 Test Accuracy: 0.8658\n",
      "Epoch number 40: Training accuracy: 0.857 Test Accuracy: 0.8598\n",
      "Epoch number 50: Training accuracy: 0.8516 Test Accuracy: 0.8496\n",
      "Epoch number 60: Training accuracy: 0.8352 Test Accuracy: 0.8486\n",
      "Epoch number 70: Training accuracy: 0.812 Test Accuracy: 0.8374\n",
      "Epoch number 80: Training accuracy: 0.8168 Test Accuracy: 0.8198\n",
      "Epoch number 90: Training accuracy: 0.8008 Test Accuracy: 0.818\n",
      "Epoch number 100: Training accuracy: 0.8016 Test Accuracy: 0.8256\n"
     ]
    }
   ],
   "source": [
    "batch_size = 1000\n",
    "n_epochs = 100\n",
    "\n",
    "mnist = input_data.read_data_sets('MNIST_data') \n",
    "\n",
    "bbb = BBB(n_input, n_output, n_hidden, learn_rate=0.001, pi=0.25, sigma_p1 = 0.75, sigma_p2=0.1)\n",
    "bbb.init()\n",
    "    \n",
    "for i in range(n_epochs+1):\n",
    "    for j in range(60000 // batch_size):\n",
    "        X_train, y_train = mnist.train.next_batch(batch_size)\n",
    "        X_train = X_train.reshape(-1, 784)\n",
    "        bbb.train(X_train, y_train, 1, silent=True)\n",
    "    \n",
    "    if i % 10 == 0:\n",
    "        X_test, y_test = mnist.test.next_batch(5000)\n",
    "        X_test = X_test.reshape(-1, 784)\n",
    "\n",
    "        pred = bbb.predict(X_test, 10).mean(axis=0)\n",
    "        test_acc = np.mean(y_test == pred.argmax(axis=1))\n",
    "\n",
    "        X_train, y_train = mnist.train.next_batch(5000)\n",
    "        X_train = X_train.reshape(-1, 784)\n",
    "\n",
    "        pred = bbb.predict(X_train, 10).mean(axis=0)\n",
    "        train_acc = np.mean(y_train == pred.argmax(axis=1))\n",
    "\n",
    "        print(\"Epoch number {}: Training accuracy: {} Test Accuracy: {}\".format(i, train_acc, test_acc))"
   ]
  },
  {
   "cell_type": "markdown",
   "metadata": {},
   "source": [
    "We see a slightly lower performance with around 85%."
   ]
  },
  {
   "cell_type": "markdown",
   "metadata": {},
   "source": [
    "### Concrete Dropout\n",
    "\n",
    "We run the concrete dropout algorithm with a three layer neural network. The hidden layers have size 256, 512 and 1024, respectively."
   ]
  },
  {
   "cell_type": "code",
   "execution_count": null,
   "metadata": {},
   "outputs": [
    {
     "name": "stdout",
     "output_type": "stream",
     "text": [
      "Extracting MNIST_data/train-images-idx3-ubyte.gz\n",
      "Extracting MNIST_data/train-labels-idx1-ubyte.gz\n",
      "Extracting MNIST_data/t10k-images-idx3-ubyte.gz\n",
      "Extracting MNIST_data/t10k-labels-idx1-ubyte.gz\n",
      "step 0, loss 2.2972252368927, accuracy 0.11999999731779099\n",
      "dropout rates: {'conv1_dropout/dropout_rate:0': 0.1, 'conv2_dropout/dropout_rate:0': 0.1, 'fc1_dropout/dropout_rate:0': 0.1}\n",
      "step 500, loss 0.3493221402168274, accuracy 0.9399999976158142\n",
      "dropout rates: {'conv1_dropout/dropout_rate:0': 0.0978, 'conv2_dropout/dropout_rate:0': 0.0976, 'fc1_dropout/dropout_rate:0': 0.098}\n",
      "step 1000, loss 0.34199532866477966, accuracy 0.9399999976158142\n",
      "dropout rates: {'conv1_dropout/dropout_rate:0': 0.0956, 'conv2_dropout/dropout_rate:0': 0.0956, 'fc1_dropout/dropout_rate:0': 0.0964}\n",
      "step 1500, loss 0.0569121316075325, accuracy 0.9800000190734863\n",
      "dropout rates: {'conv1_dropout/dropout_rate:0': 0.0936, 'conv2_dropout/dropout_rate:0': 0.0937, 'fc1_dropout/dropout_rate:0': 0.0952}\n",
      "step 2000, loss 0.23266296088695526, accuracy 0.9399999976158142\n",
      "dropout rates: {'conv1_dropout/dropout_rate:0': 0.0916, 'conv2_dropout/dropout_rate:0': 0.0919, 'fc1_dropout/dropout_rate:0': 0.0943}\n",
      "step 2500, loss 0.14863206446170807, accuracy 0.9399999976158142\n",
      "dropout rates: {'conv1_dropout/dropout_rate:0': 0.0899, 'conv2_dropout/dropout_rate:0': 0.0903, 'fc1_dropout/dropout_rate:0': 0.0937}\n",
      "step 3000, loss 0.06847280263900757, accuracy 0.9599999785423279\n",
      "dropout rates: {'conv1_dropout/dropout_rate:0': 0.0879, 'conv2_dropout/dropout_rate:0': 0.0888, 'fc1_dropout/dropout_rate:0': 0.0929}\n",
      "step 3500, loss 0.13069124519824982, accuracy 0.9399999976158142\n",
      "dropout rates: {'conv1_dropout/dropout_rate:0': 0.0866, 'conv2_dropout/dropout_rate:0': 0.0872, 'fc1_dropout/dropout_rate:0': 0.0921}\n",
      "step 4000, loss 0.14795051515102386, accuracy 0.9599999785423279\n",
      "dropout rates: {'conv1_dropout/dropout_rate:0': 0.0853, 'conv2_dropout/dropout_rate:0': 0.0858, 'fc1_dropout/dropout_rate:0': 0.0915}\n",
      "step 4500, loss 0.10346077382564545, accuracy 0.9800000190734863\n",
      "dropout rates: {'conv1_dropout/dropout_rate:0': 0.0839, 'conv2_dropout/dropout_rate:0': 0.0847, 'fc1_dropout/dropout_rate:0': 0.0909}\n",
      "step 5000, loss 0.10880086570978165, accuracy 0.9399999976158142\n",
      "dropout rates: {'conv1_dropout/dropout_rate:0': 0.0826, 'conv2_dropout/dropout_rate:0': 0.0834, 'fc1_dropout/dropout_rate:0': 0.0902}\n",
      "step 5500, loss 0.04188781604170799, accuracy 0.9800000190734863\n",
      "dropout rates: {'conv1_dropout/dropout_rate:0': 0.0813, 'conv2_dropout/dropout_rate:0': 0.0824, 'fc1_dropout/dropout_rate:0': 0.0897}\n",
      "step 6000, loss 0.04679058864712715, accuracy 0.9599999785423279\n",
      "dropout rates: {'conv1_dropout/dropout_rate:0': 0.0802, 'conv2_dropout/dropout_rate:0': 0.0812, 'fc1_dropout/dropout_rate:0': 0.0893}\n",
      "step 6500, loss 0.1313675493001938, accuracy 0.9599999785423279\n",
      "dropout rates: {'conv1_dropout/dropout_rate:0': 0.0791, 'conv2_dropout/dropout_rate:0': 0.0799, 'fc1_dropout/dropout_rate:0': 0.089}\n",
      "step 7000, loss 0.041329313069581985, accuracy 0.9800000190734863\n",
      "dropout rates: {'conv1_dropout/dropout_rate:0': 0.078, 'conv2_dropout/dropout_rate:0': 0.0786, 'fc1_dropout/dropout_rate:0': 0.0883}\n",
      "step 7500, loss 0.05664525553584099, accuracy 0.9599999785423279\n",
      "dropout rates: {'conv1_dropout/dropout_rate:0': 0.077, 'conv2_dropout/dropout_rate:0': 0.0774, 'fc1_dropout/dropout_rate:0': 0.0879}\n",
      "step 8000, loss 0.0680471807718277, accuracy 0.9800000190734863\n",
      "dropout rates: {'conv1_dropout/dropout_rate:0': 0.0758, 'conv2_dropout/dropout_rate:0': 0.0764, 'fc1_dropout/dropout_rate:0': 0.0875}\n",
      "step 8500, loss 0.08809692412614822, accuracy 0.9800000190734863\n",
      "dropout rates: {'conv1_dropout/dropout_rate:0': 0.0745, 'conv2_dropout/dropout_rate:0': 0.0753, 'fc1_dropout/dropout_rate:0': 0.0867}\n",
      "step 9000, loss 0.07277268171310425, accuracy 0.9800000190734863\n",
      "dropout rates: {'conv1_dropout/dropout_rate:0': 0.0735, 'conv2_dropout/dropout_rate:0': 0.0745, 'fc1_dropout/dropout_rate:0': 0.0863}\n",
      "step 9500, loss 0.03518775478005409, accuracy 0.9800000190734863\n",
      "dropout rates: {'conv1_dropout/dropout_rate:0': 0.0725, 'conv2_dropout/dropout_rate:0': 0.0736, 'fc1_dropout/dropout_rate:0': 0.086}\n",
      "step 10000, loss 0.002622945699840784, accuracy 1.0\n",
      "dropout rates: {'conv1_dropout/dropout_rate:0': 0.0714, 'conv2_dropout/dropout_rate:0': 0.0728, 'fc1_dropout/dropout_rate:0': 0.0854}\n",
      "step 10500, loss 0.00781337171792984, accuracy 1.0\n",
      "dropout rates: {'conv1_dropout/dropout_rate:0': 0.0705, 'conv2_dropout/dropout_rate:0': 0.0716, 'fc1_dropout/dropout_rate:0': 0.0847}\n",
      "step 11000, loss 0.07587714493274689, accuracy 0.9599999785423279\n",
      "dropout rates: {'conv1_dropout/dropout_rate:0': 0.0696, 'conv2_dropout/dropout_rate:0': 0.0709, 'fc1_dropout/dropout_rate:0': 0.0841}\n",
      "step 11500, loss 0.1228933036327362, accuracy 0.9800000190734863\n",
      "dropout rates: {'conv1_dropout/dropout_rate:0': 0.0688, 'conv2_dropout/dropout_rate:0': 0.0699, 'fc1_dropout/dropout_rate:0': 0.0835}\n",
      "step 12000, loss 0.0016216922085732222, accuracy 1.0\n",
      "dropout rates: {'conv1_dropout/dropout_rate:0': 0.0679, 'conv2_dropout/dropout_rate:0': 0.069, 'fc1_dropout/dropout_rate:0': 0.0828}\n",
      "step 12500, loss 0.05966981500387192, accuracy 0.9800000190734863\n",
      "dropout rates: {'conv1_dropout/dropout_rate:0': 0.0669, 'conv2_dropout/dropout_rate:0': 0.0683, 'fc1_dropout/dropout_rate:0': 0.0826}\n",
      "step 13000, loss -0.0003187904367223382, accuracy 1.0\n",
      "dropout rates: {'conv1_dropout/dropout_rate:0': 0.066, 'conv2_dropout/dropout_rate:0': 0.0675, 'fc1_dropout/dropout_rate:0': 0.0821}\n",
      "step 13500, loss -0.000692305970005691, accuracy 1.0\n",
      "dropout rates: {'conv1_dropout/dropout_rate:0': 0.0652, 'conv2_dropout/dropout_rate:0': 0.0665, 'fc1_dropout/dropout_rate:0': 0.0819}\n",
      "step 14000, loss 0.007316946052014828, accuracy 1.0\n",
      "dropout rates: {'conv1_dropout/dropout_rate:0': 0.0644, 'conv2_dropout/dropout_rate:0': 0.0658, 'fc1_dropout/dropout_rate:0': 0.0815}\n",
      "step 14500, loss 0.019140439108014107, accuracy 1.0\n",
      "dropout rates: {'conv1_dropout/dropout_rate:0': 0.0638, 'conv2_dropout/dropout_rate:0': 0.0651, 'fc1_dropout/dropout_rate:0': 0.0813}\n"
     ]
    }
   ],
   "source": [
    "tf.reset_default_graph()\n",
    "\n",
    "def net(inputs, is_training):\n",
    "\n",
    "    x = tf.reshape(inputs, [-1, 784], name='flatten')\n",
    "\n",
    "    dropout_params = {'init_min': 0.1, 'init_max': 0.1,\n",
    "                      'weight_regularizer': 1e-6, 'dropout_regularizer': 1e-5,\n",
    "                      'training': is_training}\n",
    "    \n",
    "    \n",
    "    x, reg = concrete_dropout(x, name='conv1_dropout', **dropout_params)\n",
    "    x = tfl.dense(x, 256, activation=tf.nn.relu, \n",
    "                   kernel_regularizer=reg, bias_regularizer=reg,\n",
    "                   name='conv1')\n",
    "\n",
    "    x, reg = concrete_dropout(x, name='conv2_dropout', **dropout_params)\n",
    "    x = tfl.dense(x, 512, activation=tf.nn.relu,\n",
    "                   kernel_regularizer=reg, bias_regularizer=reg,\n",
    "                   name='conv2')\n",
    "\n",
    "    x, reg = concrete_dropout(x, name='fc1_dropout', **dropout_params)\n",
    "    x = tfl.dense(x, 1024, activation=tf.nn.relu, name='fc1',\n",
    "                  kernel_regularizer=reg, bias_regularizer=reg)\n",
    "\n",
    "    outputs = tfl.dense(x, 10, name='fc2')\n",
    "    return outputs\n",
    "\n",
    "\n",
    "mnist = input_data.read_data_sets('MNIST_data')\n",
    "\n",
    "x = tf.placeholder(tf.float32, [None, 784])\n",
    "y = tf.placeholder(tf.int64, [None])\n",
    "is_training = tf.placeholder(tf.bool)\n",
    "\n",
    "y_out = net(x, is_training)\n",
    "\n",
    "with tf.name_scope('loss'):\n",
    "    loss = tf.reduce_mean(tf.losses.sparse_softmax_cross_entropy(\n",
    "            labels=y, logits=y_out))\n",
    "    loss += tf.reduce_sum(\n",
    "            tf.get_collection(tf.GraphKeys.REGULARIZATION_LOSSES))\n",
    "\n",
    "with tf.name_scope('adam_optimizer'):\n",
    "    train_step = tf.train.RMSPropOptimizer(1e-4).minimize(loss)\n",
    "\n",
    "with tf.name_scope('accuracy'):\n",
    "    correct_prediction = tf.equal(tf.argmax(y_out, 1), y)\n",
    "    correct_prediction = tf.cast(correct_prediction, tf.float32)\n",
    "    accuracy = tf.reduce_mean(correct_prediction)\n",
    "\n",
    "dropout_rates = tf.get_collection('DROPOUT_RATES')\n",
    "def rates_pretty_print(values):\n",
    "    return {str(t.name): round(r, 4)\n",
    "            for t, r in zip(dropout_rates, values)}\n",
    "\n",
    "with tf.Session() as sess:\n",
    "    sess.run(tf.global_variables_initializer())\n",
    "    for i in range(20000):\n",
    "        batch = mnist.train.next_batch(50)\n",
    "        if i % 500 == 0:\n",
    "            training_loss, training_acc, rates = sess.run(\n",
    "                    [loss, accuracy, dropout_rates],\n",
    "                    feed_dict={\n",
    "                        x: batch[0], y: batch[1], is_training: False})\n",
    "            print('step {}, loss {}, accuracy {}'.format(\n",
    "                i, training_loss, training_acc))\n",
    "            print('dropout rates: {}'.format(rates_pretty_print(rates)))\n",
    "        train_step.run(feed_dict={\n",
    "            x: batch[0], y: batch[1], is_training: True})\n",
    "    accuracy, rates = sess.run([accuracy, dropout_rates],\n",
    "                               feed_dict={x: mnist.test.images,\n",
    "                                              y: mnist.test.labels,\n",
    "                                              is_training: False})\n",
    "\n",
    "print('test accuracy {}'.format(accuracy))\n",
    "print('final dropout rates: {}'.format(rates_pretty_print(rates)))"
   ]
  },
  {
   "cell_type": "markdown",
   "metadata": {},
   "source": [
    "We reach an accuracy of around 98% with concrete dropout."
   ]
  },
  {
   "cell_type": "markdown",
   "metadata": {},
   "source": [
    "### Comparison\n",
    "\n",
    "We see that Concrete dropout has better performance on MNIST. Also we found that we didn't have to worry too much about tuning the hyperparameters."
   ]
  },
  {
   "cell_type": "markdown",
   "metadata": {},
   "source": [
    "# Connection to ADVI\n",
    "\n",
    "A very short time after [1] was published, the paper [\"Automatic Variational Inference in Stan\"](https://arxiv.org/pdf/1506.03431.pdf)[2], was published (for a good practical introduction to ADVI, see the [PyMC3 docs](https://docs.pymc.io/notebooks/bayesian_neural_network_advi.html)). We'll give a brief overview of ADVI and then explain how it compares to \"Bayes by Backprop\".\n",
    "\n",
    "## ADVI\n",
    "\n",
    "ADVI is an algorithm to do variational inference automatically, using the automatic computation of derivatives that is available in modern software packages like Stan, TensorFlow or pymc3. It is applicable to all variational problems except for purely discrete ones (like the Ising model).\n",
    "\n",
    "One of the key challenges of variational inference for a long time was that the optimization update step had to be derived for each and every problem. We were restricted to conditionally conjugate families and a custom approximation algorithm had to be found for every such specification. Applying standard optimization techniques like stochastic gradient descent was not easily possible, since the **support constraints** (the \"allowed values\" of the parameters) of the parameters had to be satisfied and gradients of the loss function had to be computed.\n",
    "\n",
    "ADVI solves this problem by applying a **coordinate tranformation** approach: we apply a coorindate transformation to every continuous parameter so that in the new coordinate system we have an **unconstrained optimization problem**. Then we impose a diagonal Gaussian prior in the new coordinate system. Note that this *does not impose a Gaussian prior on the original parameters*, since we have to multiply by the Jacobian of the transformation. Then, we can use software that implements automatic differentiation to perform the gradient update step.\n",
    "\n",
    "Let's copy down the algorithm from [2] so that we have a direct comparison to \"Bayes by backprop\":\n",
    "\n",
    ">>\n",
    "**ADVI**\n",
    "1. Draw samples from $\\mathcal N(0, {\\bf I})$.\n",
    "2. Invert standardization to obtain $\\zeta_m = \\mu + (\\exp \\rho) \\eta$\n",
    "3. Approximate $\\nabla_\\mu \\mathcal L$ and $\\nabla_\\rho \\mathcal L$ using MC integration.\n",
    "4. Update $\\mu \\rightarrow \\mu + \\alpha \\nabla_\\mu \\mathcal L$, $\\rho \\rightarrow \\rho + \\alpha \\nabla_\\rho \\mathcal L$.\n",
    ">>\n",
    "\n",
    "Here $\\alpha$ is the learning rate and we initialized the posterior parameters $\\mu, \\omega$ in some fashion, e.g. $\\mu = 0$, $\\rho = 0$.\n",
    "\n",
    "## ADVI and Bayes By Backprop\n",
    "\n",
    "In this section, we'll finally show that **Bayes By Backprop is a special case of ADVI applied to the weights of a neural network**.\n",
    "\n",
    "To start with, we see that both algorithms look very similar. Both start with sampling from a diagonal Gaussian. The samples from this Gaussian are then transformed from $(\\mu, \\rho) \\in \\mathbb R^n \\times \\mathbb R^n$ to $(\\mu, \\sigma) \\in \\mathbb R^n \\times \\mathbb R_+^n$ space, the space of posterior means and standard deviations. \n",
    "\n",
    "This tranformation is slightly different between ADVI and Bayes by Backprop. In [3] the sensitivity to these different transformations is examined and the transformation proposed in [1] is shown to yield very similar results to the ADVI given above.\n",
    "\n",
    "After this transformation, the next steps (weight computation, gradient computation and parameter update) are identical.\n",
    "\n",
    "In summary, we have shown here that Bayes by backprop is a special case of ADVI and thus we can use all the technology developed in packages like pymc3 to perform inference."
   ]
  },
  {
   "cell_type": "markdown",
   "metadata": {},
   "source": [
    "# Summary"
   ]
  },
  {
   "cell_type": "markdown",
   "metadata": {},
   "source": [
    "In this project we looked at Bayesian neural networks. We motivated a variational approach by seeing how naive MCMC fails even with small dataset sizes and showed the mathematics of a particular implementation of variational inference, namely **Bayes By Backprop** which applies gradient descent optimization to solve the variational inference problem.\n",
    "\n",
    "We implemented this algorithm in TensorFlow and applied it to a fake, standard dataset from scikit-learn, and then to MNIST. Finally, we showed that Bayes By Backprop fits into the more general idea of ADVI and compared its performance to Concrete Dropout. The results are summarized in the table below.\n",
    "\n",
    "Dataset  | BBB Gaussian      | BBB Scale mixture |  Concrete Dropout\n",
    "---------|-------------------|-------------------|---------------\n",
    "Simulated| 82%               |  82%              |84%\n",
    "MNIST    | 84%               |  85%              |98%\n",
    "\n",
    "In the process of this project, we realized that BBB is *sensitve to hyperparamteres* (including the choice of prior), more so than maximum likelihood methods or Concrete dropout.\n",
    "\n",
    "### Outlook\n",
    "\n",
    "+ To allow a fair comparison between different methods, we should use Bayesian Optimization [7] to automatically tune all hyperparameters, both for BBB and Concrete Dropout.\n",
    "+ It would be good to improve on the batch processing capabilities of our implementation of BBB.\n",
    "+ Furthermore, we could investigate different choices of priors."
   ]
  },
  {
   "cell_type": "markdown",
   "metadata": {},
   "source": [
    "# References"
   ]
  },
  {
   "cell_type": "markdown",
   "metadata": {},
   "source": [
    "+ 1: Blundell, Charles, et al. \"Weight uncertainty in neural networks.\" arXiv preprint arXiv:1505.05424 (2015).https://arxiv.org/pdf/1505.05424.pdf\n",
    "+ 2: Kucukelbir, Alp, et al. \"Automatic variational inference in Stan.\" Advances in neural information processing systems. 2015.\n",
    "+ 3: Kucukelbir, Alp, et al. \"Automatic differentiation variational inference.\" The Journal of Machine Learning Research 18.1 (2017): 430-474.\n",
    "+ 4: Gal, Yarin, Jiri Hron, and Alex Kendall. \"Concrete dropout.\" Advances in Neural Information Processing Systems. 2017.\n",
    "+ 5: https://gluon.mxnet.io/chapter18_variational-methods-and-uncertainty/bayes-by-backprop.html\n",
    "+ 6: https://github.com/Skydes\n",
    "+ 7: Snoek, Jasper, Hugo Larochelle, and Ryan P. Adams. \"Practical bayesian optimization of machine learning algorithms.\" Advances in neural information processing systems. 2012."
   ]
  },
  {
   "cell_type": "code",
   "execution_count": null,
   "metadata": {},
   "outputs": [],
   "source": []
  }
 ],
 "metadata": {
  "kernelspec": {
   "display_name": "Python 3",
   "language": "python",
   "name": "python3"
  },
  "language_info": {
   "codemirror_mode": {
    "name": "ipython",
    "version": 3
   },
   "file_extension": ".py",
   "mimetype": "text/x-python",
   "name": "python",
   "nbconvert_exporter": "python",
   "pygments_lexer": "ipython3",
   "version": "3.6.4"
  }
 },
 "nbformat": 4,
 "nbformat_minor": 2
}
