{
 "cells": [
  {
   "cell_type": "markdown",
   "metadata": {},
   "source": [
    "# AM207 Homework 2\n",
    "\n",
    "##### Data: wine_quality_missing.csv\n",
    "\n",
    "**Harvard University**<br>\n",
    "**Fall 2018**<br>\n",
    "**Instructors: Rahul Dave**<br>\n",
    "**Due Date: ** Saturday, September 22nd, 2018 at 11:59pm\n",
    "\n",
    "**Instructions:**\n",
    "\n",
    "- Upload your final answers in the form of a Jupyter notebook containing all work to Canvas.\n",
    "\n",
    "- Structure your notebook and your work to maximize readability."
   ]
  },
  {
   "cell_type": "code",
   "execution_count": 103,
   "metadata": {
    "collapsed": true
   },
   "outputs": [],
   "source": [
    "import numpy as np\n",
    "import scipy.stats\n",
    "import scipy.special\n",
    "\n",
    "import matplotlib\n",
    "import matplotlib.pyplot as plt\n",
    "import matplotlib.mlab as mlab\n",
    "from matplotlib import cm\n",
    "import pandas as pd\n",
    "import seaborn as sns\n",
    "%matplotlib inline\n",
    "\n",
    "sns.set(rc={'figure.figsize':(16, 12)})"
   ]
  },
  {
   "cell_type": "markdown",
   "metadata": {},
   "source": [
    "## Question 1: Give Me the Full Monte, Carlo Ancelotti\n",
    "\n",
    "**Coding required**\n",
    "\n",
    "In the quiet moments that transpire just before the sun rises that find us taking the walk of shame we can only send up quiet prayers to deities unknown that our path has not unknowingly taken us down the Boulevard of Broken Dreams (*Green Day*).  Along this road you'll find scattered the shattered hearts of formerly aspiring humorists -- the sorts of folk who might admire \"the giggle at a funeral\" (*Hozier*) distributed according to the function $\\heartsuit(\\theta) \\sim \\frac{ {\\rm sin^{24}}\\theta}{\\theta^2}$ from $0< \\theta< \\infty$ and otherwise.  As a current aspiring humorist, it is your job to try to integrate $\\heartsuit(\\theta)$ in order to size up the jar you'll take with you as you go heart collecting (*Christina Perri*).  Who do you think you are anyway?\n",
    "\n",
    "1.1. Visualize $\\heartsuit(\\theta)$.  Make sure your plot includes a title and axes labels.\n",
    "\n",
    "1.2. The domain of $\\heartsuit(\\theta)$ is unbounded.  The version of Monte Carlo that we've explored so far requires a bounded domain.  Make an argument that we can integrate this function over the bounded domain [0, M] and get an accurate result.  What value of M should you choose to get a result within 0.001 of the exact solution?\n",
    "\n",
    "1.3. Write a function `simulate_heart_collection` to estimate $\\int_{0}^{\\infty}\\heartsuit (\\theta) $ using the standard Monte Carlo method with $N=100000$.  Use the bounds you justified in 1.2.  What is your estimate?\n",
    "\n",
    "1.4. It turns out that integrals of the form $\\int_{0}^{\\infty} \\frac{ {\\rm sin}x^{2n}}{x^2} dx$ have the closed form solution $\\frac{\\pi}{2^{2n-1}} \\binom{2n-2}{n-1}$.  How accurate was your estimate?\n",
    "\n",
    "1.5. The teaching staff of AM 207 has gone on and on in class and lab about putting error bars on estimates and finding confidence intervals.  In order to do this you need to run your experiment a number of times. Repeat your estimation process 1000 times and plot a histogram of your results marking the exact answer and your estimate with a vertical line.  \n",
    "\n",
    "1.6. Based on your experiments, find the standard error of your estimate as well as a 95% confidence interval.  Was the true value of $\\int_{0}^{\\infty}\\heartsuit (\\theta)$ within the 95% confidence interval?\n",
    "\n",
    "1.7. It turns out that an appropriately chosen change of variables will allow you to estimate the integral on the part of the domain you truncated in 1.2 and 1.3.  Execute this change of variables and use monte carlo integration to evaluate $\\int_{M}^{\\infty}\\heartsuit (\\theta) $\n",
    "\n",
    "1.8. Based on your answer in 1.7 was your choice of M justified? "
   ]
  },
  {
   "cell_type": "markdown",
   "metadata": {},
   "source": [
    "### Answers"
   ]
  },
  {
   "cell_type": "markdown",
   "metadata": {},
   "source": [
    "<div class=\"answer-separator\">\n",
    "------------------------\n",
    "</div>"
   ]
  },
  {
   "cell_type": "markdown",
   "metadata": {},
   "source": [
    "<h4>1.1. Visualize $\\heartsuit(\\theta)$.  Make sure your plot includes a title and axes labels.</h4>"
   ]
  },
  {
   "cell_type": "markdown",
   "metadata": {},
   "source": [
    "<div class=\"answer\">\n",
    "\n",
    "<br>\n",
    "*Your Answer Here*\n",
    "<br>\n",
    "\n",
    "</div>"
   ]
  },
  {
   "cell_type": "code",
   "execution_count": 104,
   "metadata": {},
   "outputs": [
    {
     "name": "stderr",
     "output_type": "stream",
     "text": [
      "/anaconda/lib/python3.6/site-packages/ipykernel_launcher.py:1: RuntimeWarning: invalid value encountered in true_divide\n",
      "  \"\"\"Entry point for launching an IPython kernel.\n"
     ]
    },
    {
     "data": {
      "text/plain": [
       "Text(0.5,1,'$\\\\heartsuit(\\\\theta)$ as function of $\\\\theta$')"
      ]
     },
     "execution_count": 104,
     "metadata": {},
     "output_type": "execute_result"
    },
    {
     "data": {
      "image/png": "[encoded data removed]",
      "text/plain": [
       "<matplotlib.figure.Figure at 0x11463f128>"
      ]
     },
     "metadata": {},
     "output_type": "display_data"
    }
   ],
   "source": [
    "f = lambda theta: np.power(np.sin(theta), 24) / np.power(theta, 2)\n",
    "thetas = np.arange(0, 10, 0.1)\n",
    "plt.plot(thetas, f(thetas))\n",
    "plt.xlabel(r'$\\theta$')\n",
    "plt.ylabel(r'$\\heartsuit(\\theta)$')\n",
    "plt.title(r'$\\heartsuit(\\theta)$ as function of $\\theta$')"
   ]
  },
  {
   "cell_type": "markdown",
   "metadata": {},
   "source": [
    "<div class=\"answer-separator\">\n",
    "------------------------\n",
    "</div>"
   ]
  },
  {
   "cell_type": "markdown",
   "metadata": {},
   "source": [
    "<h4>1.2. The domain of $\\heartsuit(\\theta)$ is unbounded.  The version of Monte Carlo that we've explored so far requires a bounded domain.  Make an argument that we can integrate this function over a bounded domain and get an accurate result.  What bounds should you choose to get a result within 0.001 of the exact solution?</h4>"
   ]
  },
  {
   "cell_type": "markdown",
   "metadata": {},
   "source": [
    "<div class=\"answer\">\n",
    "\n",
    "<br>\n",
    "We can get a very crude estimate by using the general inequality $\\int f(x) dx \\leq \\int g(x) dx$ if $f(x) \\leq g(x) \\forall x$. Use $f(x) = \\heartsuit(x)$, $g(x) = \\frac{1}{x^2}$. Then\n",
    "\n",
    "$$\\int_M ^ \\infty \\heartsuit(x) dx \\leq \\int_M ^ \\infty \\frac{1}{x^2} dx = -\\frac{1}{3} x ^ 3 \\bigg\\rvert_M ^ \\infty = \\frac{1}{3M} \\:.$$\n",
    "\n",
    "We want $\\frac{1}{3M} = 0.001 \\Leftrightarrow M \\approx 333$. These bounds work since all functions involved are non-negative.\n",
    "<br>\n",
    "\n",
    "</div>"
   ]
  },
  {
   "cell_type": "markdown",
   "metadata": {},
   "source": [
    "<div class=\"answer-separator\">\n",
    "------------------------\n",
    "</div>"
   ]
  },
  {
   "cell_type": "markdown",
   "metadata": {},
   "source": [
    "<h4>1.3. Write a function `simulate_heart_collection` to estimate $\\int_{0}^{\\infty}\\heartsuit (\\theta) $ using the standard Monte Carlo method with $N=100000$.  Use the bounds you justified in 1.2.  What is your estimate?</h4>"
   ]
  },
  {
   "cell_type": "markdown",
   "metadata": {},
   "source": [
    "<div class=\"answer\">\n",
    "\n",
    "<br>\n",
    "<br>\n",
    "\n",
    "</div>"
   ]
  },
  {
   "cell_type": "code",
   "execution_count": 105,
   "metadata": {},
   "outputs": [
    {
     "data": {
      "text/plain": [
       "0.2582553621026845"
      ]
     },
     "execution_count": 105,
     "metadata": {},
     "output_type": "execute_result"
    }
   ],
   "source": [
    "def simulate_heart_collection(N, M=333, seed=1):\n",
    "    \"\"\"\n",
    "    Simulate \n",
    "    \"\"\"\n",
    "    np.random.seed(seed)\n",
    "    x = np.random.uniform(low=0, high=M, size=N)\n",
    "    y = f(x)\n",
    "    return y.mean() * M\n",
    "    \n",
    "simulate_heart_collection(100000)"
   ]
  },
  {
   "cell_type": "markdown",
   "metadata": {},
   "source": [
    "<div class=\"answer-separator\">\n",
    "------------------------\n",
    "</div>"
   ]
  },
  {
   "cell_type": "markdown",
   "metadata": {},
   "source": [
    "<h4>1.4. It turns out that integrals of the form $\\int_{0}^{\\infty} \\frac{ {\\rm sin}x^{2n}}{x^2} dx$ have the closed form solution $\\frac{\\pi}{2^{2n-1}} \\binom{2n-2}{n-1}$.  How accurate was your estimate?</h4>"
   ]
  },
  {
   "cell_type": "code",
   "execution_count": 106,
   "metadata": {},
   "outputs": [
    {
     "data": {
      "text/plain": [
       "0.26418924198235927"
      ]
     },
     "execution_count": 106,
     "metadata": {},
     "output_type": "execute_result"
    }
   ],
   "source": [
    "n = 12\n",
    "exact = np.pi / (np.power(2, 2 * n - 1)) * scipy.special.binom(2 * n - 2, n - 1)\n",
    "exact"
   ]
  },
  {
   "cell_type": "markdown",
   "metadata": {},
   "source": [
    "<div class=\"answer\">\n",
    "\n",
    "<br>\n",
    "We came close to around 0.5. By the computation above, this must come from sampling variation.\n",
    "<br>\n",
    "\n",
    "</div>"
   ]
  },
  {
   "cell_type": "markdown",
   "metadata": {},
   "source": [
    "<div class=\"answer-separator\">\n",
    "------------------------\n",
    "</div>"
   ]
  },
  {
   "cell_type": "markdown",
   "metadata": {},
   "source": [
    "<h4>1.5. The teaching staff of AM 207 has gone on and on in class and lab about putting error bars on estimates and finding confidence intervals.  In order to do this you need to run your experiment a number of times.  Repeat your estimation process 1000 times and plot a histogram of your results marking the exact answer and your estimate with a vertical line.</h4>"
   ]
  },
  {
   "cell_type": "markdown",
   "metadata": {},
   "source": [
    "<div class=\"answer\">\n",
    "\n",
    "<br>\n",
    "*Your Answer Here*\n",
    "<br>\n",
    "\n",
    "</div>"
   ]
  },
  {
   "cell_type": "code",
   "execution_count": 107,
   "metadata": {},
   "outputs": [],
   "source": [
    "repeated = [simulate_heart_collection(100000, seed=seed) for seed in range(1000)]\n"
   ]
  },
  {
   "cell_type": "code",
   "execution_count": 108,
   "metadata": {},
   "outputs": [
    {
     "data": {
      "text/plain": [
       "<matplotlib.legend.Legend at 0x1150df4a8>"
      ]
     },
     "execution_count": 108,
     "metadata": {},
     "output_type": "execute_result"
    },
    {
     "data": {
      "image/png": "[encoded data removed]",
      "text/plain": [
       "<matplotlib.figure.Figure at 0x1149285f8>"
      ]
     },
     "metadata": {},
     "output_type": "display_data"
    }
   ],
   "source": [
    "sns.distplot(repeated, label=\"Monte Carlo \\nestimate distribution\")\n",
    "plt.axvline([0.25], color='r', label=\"True value\")\n",
    "plt.title(\"True value falls well within the Monte Carlo distribution\")\n",
    "plt.xlabel(\"Value of integral\")\n",
    "plt.ylabel(\"Density\")\n",
    "plt.legend(loc='upper left')"
   ]
  },
  {
   "cell_type": "markdown",
   "metadata": {},
   "source": [
    "<div class=\"answer-separator\">\n",
    "------------------------\n",
    "</div>"
   ]
  },
  {
   "cell_type": "markdown",
   "metadata": {},
   "source": [
    "<h4>1.6. Based on your experiments, find the standard error of your estimate as well as a 95% confidence interval.  Was the true value of $\\int_{0}^{\\infty}\\heartsuit (\\theta)$ within the 95% confidence interval?</h4>"
   ]
  },
  {
   "cell_type": "markdown",
   "metadata": {},
   "source": [
    "<div class=\"answer\">\n",
    "\n",
    "<br>\n",
    "*Your Answer Here*\n",
    "<br>\n",
    "\n",
    "</div>"
   ]
  },
  {
   "cell_type": "code",
   "execution_count": 127,
   "metadata": {},
   "outputs": [
    {
     "name": "stdout",
     "output_type": "stream",
     "text": [
      "Standard error is 0.015\n",
      "95% confidence interval: [0.236 0.293]\n"
     ]
    }
   ],
   "source": [
    "print(\"Standard error is {:.3f}\".format(np.std(repeated)))\n",
    "print(\"95% confidence interval: {}\".format(np.round(np.percentile(repeated, [2.5, 97.5]), decimals=3)))"
   ]
  },
  {
   "cell_type": "markdown",
   "metadata": {},
   "source": [
    "The true value was well within the 95% confidence interval."
   ]
  },
  {
   "cell_type": "markdown",
   "metadata": {},
   "source": [
    "<div class=\"answer-separator\">\n",
    "------------------------\n",
    "</div>"
   ]
  },
  {
   "cell_type": "markdown",
   "metadata": {},
   "source": [
    "<h4>1.7. It turns out that an appropriately chosen change of variables will allow you to estimate the integral on the part of the domain you truncated in 1.2 and 1.3.  Execute this change of variables and use monte carlo integration to evaluate $\\int_{M}^{\\infty}\\heartsuit (\\theta) $\n",
    "</h4>"
   ]
  },
  {
   "cell_type": "markdown",
   "metadata": {},
   "source": [
    "<div class=\"answer\">\n",
    "\n",
    "<br>\n",
    "*Your Answer Here*\n",
    "<br>\n",
    "\n",
    "</div>"
   ]
  },
  {
   "cell_type": "markdown",
   "metadata": {},
   "source": [
    "<div class=\"answer-separator\">\n",
    "------------------------\n",
    "</div>"
   ]
  },
  {
   "cell_type": "markdown",
   "metadata": {},
   "source": [
    "<h4>1.8. Based on your answer in 1.7 was your choice of M justified?\n",
    "</h4>"
   ]
  },
  {
   "cell_type": "markdown",
   "metadata": {},
   "source": [
    "<div class=\"answer\">\n",
    "\n",
    "<br>\n",
    "*Your Answer Here*\n",
    "<br>\n",
    "\n",
    "</div>"
   ]
  },
  {
   "cell_type": "markdown",
   "metadata": {},
   "source": [
    "<div class=\"answer-separator\">\n",
    "------------------------\n",
    "</div>"
   ]
  },
  {
   "cell_type": "markdown",
   "metadata": {},
   "source": [
    "## Question 2: Rally to Me! \n",
    "\n",
    "**Some Coding required**\n",
    "\n",
    "Suppose you observe the following data set $\\mathbf{x}^{(0)} = (0.5, 2.5), \\mathbf{x}^{(1)} = (3.2, 1.3), \\mathbf{x}^{(2)} = (2.72, 5.84), \\mathbf{x}^{(3)}= (10.047, 0.354)$. By convention, for any vector $\\mathbf{x}$, we will denote the first component of $\\mathbf{x}$ by $x_{1}$ and the second component by $x_{2}$. Suppose that the data is drawn from the same two-dimensional probability distribution with pdf $f_X$, that is, $\\mathbf{x}^{(i)} \\overset{iid}{\\sim} f_X$, where\n",
    "$$\n",
    "f_X(\\mathbf{x}) =  4\\lambda_1^2 x_{1}x_{2} \\mathrm{exp} \\left\\{-\\lambda_0 (x^2_{1} + x^2_{2}) \\right\\}.\n",
    "$$\n",
    "You should assume that $\\lambda_1, \\lambda_0 > 0$ and that $f_X$ is supported on the nonnegative quandrant of $\\mathbb{R}^2$ (i.e. $f_X$ is zero when either component is negative). \n",
    "\n",
    "2.1. What are the values for $\\lambda_0$ and $\\lambda_1$ that maximize the likelihood of the observed data?  **Support your answer with full and rigorous analytic derivations.**\n",
    "\n",
    "2.2. Visualize the data along with the distribution you determined in 2.1 (in two dimensions or three).\n"
   ]
  },
  {
   "cell_type": "markdown",
   "metadata": {},
   "source": [
    "### Answers"
   ]
  },
  {
   "cell_type": "markdown",
   "metadata": {},
   "source": [
    "<div class=\"answer-separator\">\n",
    "------------------------\n",
    "</div>"
   ]
  },
  {
   "cell_type": "markdown",
   "metadata": {},
   "source": [
    "<h4>2.1. What are the values for $\\lambda_0$ and $\\lambda_1$ that maximize the likelihood of the observed data?</h4>"
   ]
  },
  {
   "cell_type": "markdown",
   "metadata": {},
   "source": [
    "<div class=\"answer\">\n",
    "\n",
    "<br>\n",
    "*Your Answer Here*\n",
    "<br>\n",
    "\n",
    "</div>"
   ]
  },
  {
   "cell_type": "markdown",
   "metadata": {},
   "source": [
    "<div class=\"answer-separator\">\n",
    "------------------------\n",
    "</div>"
   ]
  },
  {
   "cell_type": "markdown",
   "metadata": {},
   "source": [
    "<h4>2.2. Visualize the data along with the distribution you determined in 2.1 (in two dimensions or three).</h4>"
   ]
  },
  {
   "cell_type": "markdown",
   "metadata": {},
   "source": [
    "<div class=\"answer\">\n",
    "\n",
    "<br>\n",
    "*Your Answer Here*\n",
    "<br>\n",
    "\n",
    "</div>"
   ]
  },
  {
   "cell_type": "markdown",
   "metadata": {},
   "source": [
    "<div class=\"answer-separator\">\n",
    "------------------------\n",
    "</div>"
   ]
  },
  {
   "cell_type": "markdown",
   "metadata": {},
   "source": [
    "## Question 3: Still Missing! \n",
    "\n",
    "**Coding required**\n",
    "\n",
    "Recall from Homework 1 Question 2 that we explored working with missing data using the wine quality dataset from the UCI Machine Learning Repository.  Re-Read the data in the `wine_quality_missing.csv` into a pandas dataframe and store the dataframe in the variable `wine_df`. \n",
    "\n",
    "3.1. Drop impute `wine_df` and re-calculate estimates of the mean and standard deviation of the values of the Ash feature in the drop imputed dataset.\n",
    "\n",
    "3.2. Use non-parametric bootstrap on the drop imputed dataset to find the standard errors for both your mean and standard deviation estimates.\n",
    "\n",
    "3.3. Mean impute `wine_df` and re-calculate estimates of the mean and standard deviation of the values of the Ash feature in the mean imputed dataset.\n",
    "\n",
    "3.4. Use non-parametric bootstrap on the mean imputed dataset to find the standard errors for both your mean and standard deviation estimates.\n",
    "\n",
    "3.5. Compare the standard errors between the two different types of imputation.  Do they differ?  If so what might be the cause of the difference?\n"
   ]
  },
  {
   "cell_type": "markdown",
   "metadata": {},
   "source": [
    "### Answers"
   ]
  },
  {
   "cell_type": "markdown",
   "metadata": {},
   "source": [
    "<div class=\"answer-separator\">\n",
    "------------------------\n",
    "</div>"
   ]
  },
  {
   "cell_type": "markdown",
   "metadata": {},
   "source": [
    "<h4>3.1. Drop impute `wine_df` and re-calculate estimates of the mean and standard deviation of the values of the Ash feature in the drop imputed dataset.</h4>"
   ]
  },
  {
   "cell_type": "code",
   "execution_count": 132,
   "metadata": {},
   "outputs": [
    {
     "name": "stdout",
     "output_type": "stream",
     "text": [
      "Mean and standard deviation of drop imputed Ash dataset:\n"
     ]
    },
    {
     "data": {
      "text/plain": [
       "mean    2.369767\n",
       "std     0.303232\n",
       "Name: Ash, dtype: float64"
      ]
     },
     "execution_count": 132,
     "metadata": {},
     "output_type": "execute_result"
    }
   ],
   "source": [
    "wine_df = pd.read_csv(\"../data/wine_quality_missing.csv\")\n",
    "drop_imputed = wine_df.dropna()\n",
    "\n",
    "print(\"Mean and standard deviation of drop imputed Ash dataset:\")\n",
    "drop_imputed['Ash'].describe()[['mean', 'std']]"
   ]
  },
  {
   "cell_type": "markdown",
   "metadata": {},
   "source": [
    "<div class=\"answer\">\n",
    "\n",
    "<br>\n",
    "*Your Answer Here*\n",
    "<br>\n",
    "\n",
    "</div>"
   ]
  },
  {
   "cell_type": "markdown",
   "metadata": {},
   "source": [
    "<div class=\"answer-separator\">\n",
    "------------------------\n",
    "</div>"
   ]
  },
  {
   "cell_type": "markdown",
   "metadata": {},
   "source": [
    "<h4>3.2. Use non-parametric bootstrap on the drop imputed dataset to find the standard errors for both your mean and standard deviation estimates.</h4>"
   ]
  },
  {
   "cell_type": "code",
   "execution_count": 183,
   "metadata": {},
   "outputs": [
    {
     "name": "stdout",
     "output_type": "stream",
     "text": [
      "Standard error of mean is 0.046. Standard error of standard deviation is 0.037.\n"
     ]
    }
   ],
   "source": [
    "def bootstrap_mean_std(x, N=1000):\n",
    "    \"\"\"\n",
    "    Use non-parametric bootstrap to calculate mean and standard deviation\n",
    "    of vector x.\n",
    "    \n",
    "    :param x: numpy array to bootstrad\n",
    "    :param N: int number of boostrap iterations\n",
    "    \"\"\"\n",
    "    bootstrapped = np.random.choice(x, size=(N, ) + np.shape(x))\n",
    "    mean, std = np.std(np.mean(bootstrapped, axis=1)), np.std(np.std(bootstrapped, axis=1))\n",
    "    return mean, std\n",
    "\n",
    "bs_results = bootstrap_mean_std(drop_imputed['Ash'], 10000)\n",
    "print(\"Standard error of mean is {:.3f}. Standard error of standard deviation is {:.3f}.\".format(bs_results[0], bs_results[1]))"
   ]
  },
  {
   "cell_type": "markdown",
   "metadata": {},
   "source": [
    "<div class=\"answer\">\n",
    "\n",
    "<br>\n",
    "*Your Answer Here*\n",
    "<br>\n",
    "\n",
    "</div>"
   ]
  },
  {
   "cell_type": "markdown",
   "metadata": {},
   "source": [
    "<div class=\"answer-separator\">\n",
    "------------------------\n",
    "</div>"
   ]
  },
  {
   "cell_type": "markdown",
   "metadata": {},
   "source": [
    "<h4>3.3. Mean impute `wine_df` and re-calculate estimates of the mean and standard deviation of the values of the Ash feature in the mean imputed dataset.</h4>"
   ]
  },
  {
   "cell_type": "markdown",
   "metadata": {},
   "source": [
    "<div class=\"answer\">\n",
    "\n",
    "<br>\n",
    "*Your Answer Here*\n",
    "<br>\n",
    "\n",
    "</div>"
   ]
  },
  {
   "cell_type": "code",
   "execution_count": 204,
   "metadata": {},
   "outputs": [
    {
     "name": "stdout",
     "output_type": "stream",
     "text": [
      "Mean and standard deviation of mean imputed Ash dataset:\n"
     ]
    },
    {
     "data": {
      "text/plain": [
       "mean    2.366218\n",
       "std     0.265022\n",
       "Name: Ash, dtype: float64"
      ]
     },
     "execution_count": 204,
     "metadata": {},
     "output_type": "execute_result"
    }
   ],
   "source": [
    "mean_imputed = wine_df.fillna(wine_df.mean())\n",
    "\n",
    "print(\"Mean and standard deviation of mean imputed Ash dataset:\")\n",
    "mean_imputed['Ash'].describe()[['mean', 'std']]"
   ]
  },
  {
   "cell_type": "markdown",
   "metadata": {},
   "source": [
    "<div class=\"answer-separator\">\n",
    "------------------------\n",
    "</div>"
   ]
  },
  {
   "cell_type": "markdown",
   "metadata": {},
   "source": [
    "<h4>3.4. Use non-parametric bootstrap on the mean imputed dataset to find the standard errors for both your mean and standard deviation estimates.</h4>"
   ]
  },
  {
   "cell_type": "markdown",
   "metadata": {},
   "source": [
    "<div class=\"answer\">\n",
    "\n",
    "<br>\n",
    "*Your Answer Here*\n",
    "<br>\n",
    "\n",
    "</div>"
   ]
  },
  {
   "cell_type": "code",
   "execution_count": 205,
   "metadata": {},
   "outputs": [
    {
     "name": "stdout",
     "output_type": "stream",
     "text": [
      "Standard error of mean is 0.020. Standard error of standard deviation is 0.019.\n"
     ]
    }
   ],
   "source": [
    "bs_results = bootstrap_mean_std(mean_imputed['Ash'], 10000)\n",
    "print(\"Standard error of mean is {:.3f}. Standard error of standard deviation is {:.3f}.\".format(bs_results[0], bs_results[1]))"
   ]
  },
  {
   "cell_type": "markdown",
   "metadata": {},
   "source": [
    "<div class=\"answer-separator\">\n",
    "------------------------\n",
    "</div>"
   ]
  },
  {
   "cell_type": "markdown",
   "metadata": {},
   "source": [
    "<h4>3.5. Compare the standard errors between the two different types of imputation.  Do they differ?  If so what might be the cause of the difference?</h4>"
   ]
  },
  {
   "cell_type": "markdown",
   "metadata": {},
   "source": [
    "There's quite a big difference between the standard errors:\n",
    "\n",
    "Drop Imputed Mean  | Mean Imputed Mean | Drop Imputed Standard error | Mean imputed standard error\n",
    "-------------------|-------------------|-----------------------------|------------------------------\n",
    "0.046  | 0.020 |0.037 | 0.019\n",
    "\n",
    "The reason is that we substitute a **single value** that is **equal to the mean** of the \"Ash\" column. This means that the imputed values do not contribute any variance of this column."
   ]
  },
  {
   "cell_type": "markdown",
   "metadata": {},
   "source": [
    "<div class=\"answer-separator\">\n",
    "------------------------\n",
    "</div>"
   ]
  }
 ],
 "metadata": {
  "anaconda-cloud": {},
  "kernel_info": {
   "name": "python3"
  },
  "kernelspec": {
   "display_name": "Python 3",
   "language": "python",
   "name": "python3"
  },
  "language_info": {
   "codemirror_mode": {
    "name": "ipython",
    "version": 3
   },
   "file_extension": ".py",
   "mimetype": "text/x-python",
   "name": "python",
   "nbconvert_exporter": "python",
   "pygments_lexer": "ipython3",
   "version": "3.6.1"
  },
  "nteract": {
   "version": "0.11.7"
  }
 },
 "nbformat": 4,
 "nbformat_minor": 2
}
