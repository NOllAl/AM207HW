{
 "cells": [
  {
   "cell_type": "markdown",
   "metadata": {},
   "source": [
    "# Homework 7\n",
    "\n",
    "**Harvard University**<br>\n",
    "**Fall 2018**<br>\n",
    "**Instructors: Rahul Dave**<br>\n",
    "**Due Date: ** Saturday, October 27th, 2018 at 11:59pm\n",
    "\n",
    "**Instructions:**\n",
    "\n",
    "- Upload your final answers in the form of a Jupyter notebook containing all work to Canvas.\n",
    "\n",
    "- Structure your notebook and your work to maximize readability."
   ]
  },
  {
   "cell_type": "markdown",
   "metadata": {},
   "source": [
    "### Collaborators\n",
    "\n",
    "** Place the name of everyone who's submitting this assignment here**"
   ]
  },
  {
   "cell_type": "markdown",
   "metadata": {},
   "source": [
    "<div class=\"answer-separator\">\n",
    "------------------------\n",
    "</div>"
   ]
  },
  {
   "cell_type": "code",
   "execution_count": 1,
   "metadata": {
    "collapsed": true
   },
   "outputs": [],
   "source": [
    "import numpy as np\n",
    "import scipy.stats\n",
    "import scipy.special\n",
    "\n",
    "import matplotlib\n",
    "import matplotlib.pyplot as plt\n",
    "import matplotlib.mlab as mlab\n",
    "from matplotlib import cm\n",
    "import pandas as pd\n",
    "%matplotlib inline\n",
    "\n",
    "## Standard boilerplate to import torch and torch related modules\n",
    "import torch\n",
    "\n",
    "import torchvision.datasets as datasets\n",
    "import torchvision.transforms as transforms\n",
    "\n",
    "from torch.autograd import Variable\n",
    "import torch.nn"
   ]
  },
  {
   "cell_type": "markdown",
   "metadata": {},
   "source": [
    "## Question 1: Mon pays c'est l'MNIST. Mon cœur est brise de Logistic Regression."
   ]
  },
  {
   "cell_type": "markdown",
   "metadata": {},
   "source": [
    "The [*MNIST* dataset](https://en.wikipedia.org/wiki/MNIST_database) is one of the classic datasets in Machine Learning and is often one of the first datasets against which new classification algorithms test themselves.  It consists of 70,000 images of handwritten digits, each of which is 28x28 pixels. You will be using PyTorch to build a handwritten digit classifier that you will train, validate, and test with MNIST. \n",
    "\n",
    "Your classifier MUST implement a multinomial logistic regression model (using softmax). It will take as input an array of pixel values in an image and output the images most likely digit label (i.e. 0-9). You should think of the pixel values as features of the input vector.  \n",
    "\n",
    "Using the softmax formulation, your PyTorch model should computes the cost function using an L2 regularization approach (see `optim.SGD` in PyTorch or write your own cost function) and minimize the resulting cost function using mini-batch stochastic gradient descent.  We provided  extensive template code in lab.\n",
    "\n",
    "Construct and train your classifier using a batch size of 256 examples, a learning rate $\\eta$=0.1, and a regularization factor $\\lambda$=0.01.\n",
    "\n",
    "1.1. Plot 10 sample images from the MNIST dataset (to develop intuition for the feature space).\n",
    "\n",
    "1.2. Currently the MNIST dataset in Torchvision allows a Train/Test split.  Use PyTorch dataloader functionality to create a Train/Validate/Test split  of 50K/10K/10K samples.\n",
    "\n",
    "**Hint:** Lab described a way to do it keeping within the MNIST `DataLoader` workflow: the key is to pass a `SubsetRandomSampler` to `DataLoader`\n",
    "\n",
    "1.3. Construct a softmax formulation in PyTorch of multinomial logistic regression with Cross Entropy Loss.\n",
    "\n",
    "1.4. Train your model using SGD to minimize the cost function. Use as many epochs as you need to achive convergence.\n",
    "\n",
    "1.5. Plot the cross-entropy loss on the training set as a function of iteration.\n",
    "\n",
    "1.6. Using classification accuracy, evaluate how well your model is performing on the validation set at the end of each epoch. Plot this validation accuracy as the model trains.\n",
    "\n",
    "1.6. Duplicate this plot for some other values of the regularization parameter $\\lambda$. When should you stop the training for each of the different values of λ? Give an approximate answer supported by using the plots.\n",
    "\n",
    "1.7. Select what you consider the best regularization parameter and predict the labels of the test set. Compare your predictions with the given labels. What classification accuracy do you obtain on the training and test sets?\n",
    "\n",
    "1.8. What classes are most likely to be misclassified? Plot some misclassified training and test set images.\n",
    "\n",
    "**Gratuitous Titular Reference**:  The recently departed French rockstar Johnny Hallyday just posthumously released what looks to be his biggest album ever \"Mon pays c'est l'amour\".  The album sold 300,000 copies on its first day of release."
   ]
  },
  {
   "cell_type": "markdown",
   "metadata": {},
   "source": [
    "> 1.1. Plot 10 sample images from the MNIST dataset (to develop intuition for the feature space)."
   ]
  },
  {
   "cell_type": "markdown",
   "metadata": {},
   "source": [
    "We plot 10 samples from the training dataset."
   ]
  },
  {
   "cell_type": "code",
   "execution_count": 2,
   "metadata": {
    "collapsed": true
   },
   "outputs": [],
   "source": [
    "# download and transform train dataset\n",
    "train_loader = torch.utils.data.DataLoader(datasets.MNIST('../mnist_data', \n",
    "                                                          download=True, \n",
    "                                                          train=True,\n",
    "                                                          transform=transforms.Compose([\n",
    "                                                              transforms.ToTensor(), # first, convert image to PyTorch tensor\n",
    "                                                              transforms.Normalize((0.1307,), (0.3081,)) # normalize inputs\n",
    "                                                          ])), \n",
    "                                           batch_size=10, \n",
    "                                           shuffle=True)"
   ]
  },
  {
   "cell_type": "code",
   "execution_count": 3,
   "metadata": {},
   "outputs": [
    {
     "name": "stdout",
     "output_type": "stream",
     "text": [
      "tensor([2, 4, 5, 4, 1, 6, 4, 7, 2, 1])\n"
     ]
    }
   ],
   "source": [
    "images, labels = next(iter(train_loader))\n",
    "print(labels)"
   ]
  },
  {
   "cell_type": "code",
   "execution_count": 4,
   "metadata": {},
   "outputs": [
    {
     "data": {
      "image/png": "[encoded data removed]",
      "text/plain": [
       "<matplotlib.figure.Figure at 0x124eab198>"
      ]
     },
     "metadata": {},
     "output_type": "display_data"
    }
   ],
   "source": [
    "plt.figure(figsize=(24, 24))\n",
    "plt.tight_layout()\n",
    "\n",
    "for i in range(len(images)):\n",
    "    plt.subplot(1, len(images), i+1)\n",
    "    plt.imshow(images[i, 0, :, :], cmap='gray')"
   ]
  },
  {
   "cell_type": "markdown",
   "metadata": {},
   "source": [
    "> 1.2. Currently the MNIST dataset in Torchvision allows a Train/Test split.  Use PyTorch dataloader functionality to create a Train/Validate/Test split  of 50K/10K/10K samples.\n",
    "\n",
    "> **Hint:** Lab described a way to do it keeping within the MNIST `DataLoader` workflow: the key is to pass a `SubsetRandomSampler` to `DataLoader`"
   ]
  },
  {
   "cell_type": "markdown",
   "metadata": {},
   "source": [
    "We use `random_split` instead of `SubsetRandomSampler`."
   ]
  },
  {
   "cell_type": "code",
   "execution_count": 5,
   "metadata": {
    "collapsed": true
   },
   "outputs": [],
   "source": [
    "mnist_train = datasets.MNIST('../mnist_data',\n",
    "                             train=True,\n",
    "                             transform=transforms.Compose([\n",
    "                                 transforms.ToTensor(), # first, convert image to PyTorch tensor\n",
    "                                 transforms.Normalize((0.5,), (0.5,)) # normalize inputs\n",
    "                                 ]))\n",
    "\n",
    "train, valid = torch.utils.data.random_split(mnist_train, lengths=[50000, 10000])\n",
    "train_loader = torch.utils.data.DataLoader(train, batch_size=32)\n",
    "valid_loader = torch.utils.data.DataLoader(valid, batch_size=32)\n",
    "\n",
    "test_loader = torch.utils.data.DataLoader(\n",
    "    datasets.MNIST('../mnist_data',\n",
    "                   train=False,\n",
    "                   transform=transforms.Compose([\n",
    "                       transforms.ToTensor(), # first, convert image to PyTorch tensor\n",
    "                       transforms.Normalize((0.5,), (0.5,)) # normalize inputs\n",
    "                       ])))"
   ]
  },
  {
   "cell_type": "markdown",
   "metadata": {},
   "source": [
    "> 1.3. Construct a softmax formulation in PyTorch of multinomial logistic regression with Cross Entropy Loss."
   ]
  },
  {
   "cell_type": "code",
   "execution_count": 6,
   "metadata": {
    "collapsed": true
   },
   "outputs": [],
   "source": [
    "class Network(torch.nn.Module):\n",
    "    def __init__(self):\n",
    "        super().__init__()\n",
    "        # Output layer, 10 units - one for each digit\n",
    "        self.fc = torch.nn.Linear(28*28, 10)\n",
    "        \n",
    "    def forward(self, x):\n",
    "        ''' Forward pass through the network, returns the output logits '''\n",
    "        x = self.fc(x)\n",
    "        return x\n",
    "\n",
    "model = Network()\n",
    "\n",
    "criterion = torch.nn.CrossEntropyLoss()\n",
    "optimizer = torch.optim.SGD(model.parameters(), lr=0.01, weight_decay=0.1)"
   ]
  },
  {
   "cell_type": "markdown",
   "metadata": {},
   "source": [
    "> 1.4. Train your model using SGD to minimize the cost function. Use as many epochs as you need to achive convergence."
   ]
  },
  {
   "cell_type": "code",
   "execution_count": 7,
   "metadata": {
    "collapsed": true
   },
   "outputs": [],
   "source": [
    "def calc_stats(model, generator, criterion):\n",
    "    \"\"\"\n",
    "    Calculate loss and accuracy\n",
    "    \n",
    "    :param model: pytorch model\n",
    "    :param genertor: data generator\n",
    "    :param criterion: loss function\n",
    "    \"\"\"\n",
    "    running_loss = 0\n",
    "    running_acc = 0\n",
    "    n_samples = 0\n",
    "    \n",
    "    # For efficiency, don't calculate any gradients\n",
    "    with torch.no_grad():\n",
    "        for images, labels in iter(generator):\n",
    "            images.resize_(images.size()[0], 28*28)\n",
    "            output = model.forward(images)\n",
    "            loss = criterion(output, labels)\n",
    "            \n",
    "            # Bookkeeping\n",
    "            batch_predictions = output.argmax(dim=1)\n",
    "            batch_acc = (batch_predictions == labels).double().sum()\n",
    "            \n",
    "            running_loss += loss.item() * len(images)\n",
    "            running_acc += batch_acc\n",
    "            \n",
    "            n_samples += len(images)\n",
    "            \n",
    "        return running_loss / n_samples, running_acc / n_samples"
   ]
  },
  {
   "cell_type": "code",
   "execution_count": 8,
   "metadata": {
    "scrolled": true
   },
   "outputs": [
    {
     "name": "stdout",
     "output_type": "stream",
     "text": [
      "Epoch: 1/30...  Loss: 1.1266 Accuracy: 0.7442\n",
      "Epoch: 2/30...  Loss: 0.6263 Accuracy: 0.8533\n",
      "Epoch: 3/30...  Loss: 0.5234 Accuracy: 0.8682\n",
      "Epoch: 4/30...  Loss: 0.4740 Accuracy: 0.8771\n",
      "Epoch: 5/30...  Loss: 0.4438 Accuracy: 0.8822\n",
      "Epoch: 6/30...  Loss: 0.4229 Accuracy: 0.8863\n",
      "Epoch: 7/30...  Loss: 0.4074 Accuracy: 0.8892\n",
      "Epoch: 8/30...  Loss: 0.3952 Accuracy: 0.8921\n",
      "Epoch: 9/30...  Loss: 0.3854 Accuracy: 0.8942\n",
      "Epoch: 10/30...  Loss: 0.3772 Accuracy: 0.8960\n",
      "Epoch: 11/30...  Loss: 0.3703 Accuracy: 0.8974\n",
      "Epoch: 12/30...  Loss: 0.3643 Accuracy: 0.8988\n",
      "Epoch: 13/30...  Loss: 0.3591 Accuracy: 0.9001\n",
      "Epoch: 14/30...  Loss: 0.3544 Accuracy: 0.9015\n",
      "Epoch: 15/30...  Loss: 0.3503 Accuracy: 0.9025\n",
      "Epoch: 16/30...  Loss: 0.3466 Accuracy: 0.9033\n",
      "Epoch: 17/30...  Loss: 0.3432 Accuracy: 0.9041\n",
      "Epoch: 18/30...  Loss: 0.3401 Accuracy: 0.9049\n",
      "Epoch: 19/30...  Loss: 0.3373 Accuracy: 0.9058\n",
      "Epoch: 20/30...  Loss: 0.3346 Accuracy: 0.9064\n",
      "Epoch: 21/30...  Loss: 0.3322 Accuracy: 0.9070\n",
      "Epoch: 22/30...  Loss: 0.3300 Accuracy: 0.9078\n",
      "Epoch: 23/30...  Loss: 0.3279 Accuracy: 0.9085\n",
      "Epoch: 24/30...  Loss: 0.3259 Accuracy: 0.9090\n",
      "Epoch: 25/30...  Loss: 0.3241 Accuracy: 0.9094\n",
      "Epoch: 26/30...  Loss: 0.3223 Accuracy: 0.9098\n",
      "Epoch: 27/30...  Loss: 0.3207 Accuracy: 0.9100\n",
      "Epoch: 28/30...  Loss: 0.3192 Accuracy: 0.9107\n",
      "Epoch: 29/30...  Loss: 0.3177 Accuracy: 0.9110\n",
      "Epoch: 30/30...  Loss: 0.3163 Accuracy: 0.9113\n"
     ]
    }
   ],
   "source": [
    "epochs = 30\n",
    "print_every = 400\n",
    "steps = 0\n",
    "train_loss = np.empty(epochs)\n",
    "val_loss = np.empty(epochs)\n",
    "train_acc = np.empty(epochs)\n",
    "val_acc = np.empty(epochs)\n",
    "\n",
    "\n",
    "for e in range(epochs):\n",
    "    running_loss = 0\n",
    "    running_acc = 0\n",
    "    for images, labels in iter(train_loader):\n",
    "        # Flatten images to 28*28 vector\n",
    "        images.resize_(images.size()[0], 28*28)\n",
    "        \n",
    "        # Remove gradient\n",
    "        optimizer.zero_grad()\n",
    "        \n",
    "        # Forward and backward passes\n",
    "        output = model.forward(images)\n",
    "        loss = criterion(output, labels)\n",
    "        loss.backward()\n",
    "        optimizer.step()\n",
    "        \n",
    "        # Bookkeeping\n",
    "        predictions = output.argmax(dim=1)\n",
    "        batch_acc = (predictions == labels).double().sum()\n",
    "        \n",
    "        running_loss += loss.item() * len(images)\n",
    "        running_acc += batch_acc\n",
    "        \n",
    "        \n",
    "    print(\"Epoch: {}/{}... \".format(e+1, epochs),\n",
    "          \"Loss: {:.4f}\".format(running_loss/50000),\n",
    "          \"Accuracy: {:.4f}\".format(running_acc/50000))\n",
    "    train_loss[e] = running_loss / 50000\n",
    "    train_acc[e] = running_acc / 50000\n",
    "    running_loss = 0\n",
    "    running_acc = 0\n",
    "    \n",
    "    val_loss[e], val_acc[e] = calc_stats(model, valid_loader, criterion)\n"
   ]
  },
  {
   "cell_type": "markdown",
   "metadata": {},
   "source": [
    "> 1.5. Plot the cross-entropy loss on the training set as a function of iteration."
   ]
  },
  {
   "cell_type": "code",
   "execution_count": 11,
   "metadata": {},
   "outputs": [
    {
     "data": {
      "text/plain": [
       "Text(0.5,1,'Training loss vs epochs')"
      ]
     },
     "execution_count": 11,
     "metadata": {},
     "output_type": "execute_result"
    },
    {
     "data": {
      "image/png": "[encoded data removed]",
      "text/plain": [
       "<matplotlib.figure.Figure at 0x12cdf7fd0>"
      ]
     },
     "metadata": {},
     "output_type": "display_data"
    }
   ],
   "source": [
    "plt.plot(range(epochs), train_loss)\n",
    "plt.xlabel(\"Epoch\")\n",
    "plt.ylabel(\"Training loss\")\n",
    "plt.title(\"Training loss vs epochs\")"
   ]
  },
  {
   "cell_type": "markdown",
   "metadata": {},
   "source": [
    "> 1.6. Using classification accuracy, evaluate how well your model is performing on the validation set at the end of each epoch. Plot this validation accuracy as the model trains."
   ]
  },
  {
   "cell_type": "markdown",
   "metadata": {},
   "source": [
    "> 1.7. Duplicate this plot for some other values of the regularization parameter $\\lambda$. When should you stop the training for each of the different values of λ? Give an approximate answer supported by using the plots."
   ]
  },
  {
   "cell_type": "markdown",
   "metadata": {},
   "source": [
    "> 1.8. Select what you consider the best regularization parameter and predict the labels of the test set. Compare your predictions with the given labels. What classification accuracy do you obtain on the training and test sets?"
   ]
  },
  {
   "cell_type": "markdown",
   "metadata": {},
   "source": [
    "> 1.9. What classes are most likely to be misclassified? Plot some misclassified training and test set images."
   ]
  },
  {
   "cell_type": "markdown",
   "metadata": {},
   "source": [
    "<div class=\"answer-separator\">\n",
    "------------------------\n",
    "</div>"
   ]
  },
  {
   "cell_type": "markdown",
   "metadata": {},
   "source": [
    "## Question 2: MNIST MLP!  Find out what that means to me.  MNIST MLP!  Take care, TCB!"
   ]
  },
  {
   "cell_type": "markdown",
   "metadata": {},
   "source": [
    "The multilayer perceptron can be understood as a logistic regression classifier in which the input is first transformed using a learnt non-linear transformation. The non-linear transformation is often chosen to be either the logistic function or the $\\tanh$ function or the RELU function, and its purpose is to project the data into a space where it becomes linearly separable. The output of this so-called hidden layer is then passed to the logistic regression graph that we have constructed in the first problem. \n",
    "\n",
    "![](http://deeplearning.net/tutorial/_images/mlp.png)\n",
    "\n",
    "We'll construct a model with **1 hidden layer**. That is, you will have an input layer, then a hidden layer with the nonlinearity, and finally an output layer with cross-entropy loss (or equivalently log-softmax activation with a negative log likelihood loss).\n",
    "\n",
    "2.1. Using a similar architecture as in Question 1 and the same training, validation and test sets, build a PyTorch model for the multilayer perceptron. Use the $\\tanh$ function as the non-linear activation function. \n",
    "\n",
    "2.2. The initialization of the weights matrix for the hidden layer must assure that the units (neurons) of the perceptron operate in a regime where information gets propagated. For the $\\tanh$ function, you may find it advisable to initialize with the interval $\\left[-\\sqrt{\\frac{6}{fan_{in}+fan_{out}}},\\sqrt{\\frac{6}{fan_{in}+fan_{out}}}\\right]$, where $fan_{in}$ is the number of units in the $(i-1)$-th layer, and $fan_{out}$ is the number of units in the i-th layer.  This is known as **Xavier Initialization**.  Use Xavier Initialization to initialize your MLP.  Feel free to use PyTorch's in-built Xavier Initialization methods.\n",
    "\n",
    "2.3. Using $\\lambda = 0.01$ to compare with Question 1, experiment with the learning rate (try 0.1 and 0.01 for example), batch size (use 64, 128 and 256) and the number of units in your hidden layer (use between 25 and 200 units). For what combination of these parameters do you obtain the highest validation accuracy?  You may want to start with 20 epochs for running time and experiment a bit to make sure that your models reach convergence. \n",
    "\n",
    "2.4. For your best combination plot the cross-entropy loss on the training set as a function of iteration.\n",
    "\n",
    "2.5. For your best combination use classification accuracy to evaluate how well your model is performing on the validation set at the end of each epoch. Plot this validation accuracy as the model trains.\n",
    "\n",
    "2.6. Select what you consider the best set of parameters and predict the labels of the test set. Compare your predictions with the given labels. What classification accuracy do you obtain on the training and test sets?\n",
    "\n",
    "2.7. How does your test accuracy compare to that of the logistic regression classifier in Question 1?  Compare best parameters for both models.\n",
    "\n",
    "2.8. What classes are most likely to be misclassified? Plot some misclassified training and test set images.\n",
    "\n",
    "\n",
    "**Gratuitous Titular Reference**:  Respect, originally performed by Otis Redding, became a huge hit and an anthem for the recently departed \"Queen of Soul\" Aretha Franklin.  Respect is often credited with popularizing the word usages \"propers\" (a synonym for respect) and \"sock it to me\"."
   ]
  },
  {
   "cell_type": "markdown",
   "metadata": {},
   "source": [
    "<div class=\"answer-separator\">\n",
    "------------------------\n",
    "</div>"
   ]
  }
 ],
 "metadata": {
  "anaconda-cloud": {},
  "kernelspec": {
   "display_name": "Python 3",
   "language": "python",
   "name": "python3"
  },
  "language_info": {
   "codemirror_mode": {
    "name": "ipython",
    "version": 3
   },
   "file_extension": ".py",
   "mimetype": "text/x-python",
   "name": "python",
   "nbconvert_exporter": "python",
   "pygments_lexer": "ipython3",
   "version": "3.6.1"
  }
 },
 "nbformat": 4,
 "nbformat_minor": 2
}
